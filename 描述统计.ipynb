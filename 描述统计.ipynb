{
 "cells": [
  {
   "cell_type": "code",
   "execution_count": 16,
   "id": "9b642ba2",
   "metadata": {},
   "outputs": [],
   "source": [
    "import matplotlib.pyplot as plt\n",
    "import numpy as np\n",
    "import pandas as pd\n",
    "import statistics\n",
    "\n",
    "from pathlib import Path\n",
    "#设置数据文件夹路径\n",
    "DATA = Path().resolve()  / 'data'\n",
    "\n",
    "from scipy import stats\n",
    "from scipy.stats import trim_mean\n"
   ]
  },
  {
   "cell_type": "markdown",
   "id": "d769ae26",
   "metadata": {},
   "source": [
    "# 写在前面的话\n",
    "\n",
    "## \n",
    "\n",
    "\n",
    "## 阅读本文之前，你需要了解\n",
    "\n",
    "- 基本的 Python 知识\n",
    "- 九年义务教育范围内的数学知识\n",
    "- 一颗好奇心\n",
    "\n",
    "# 用频数分布表和直方图，刻画数据的特征\n",
    "\n",
    "我们在日常生活中多多少少都会使用数据。但是，光浏览原始数据，单纯列举数字，是没有任何意义的。\n",
    "\n",
    "“打眼一瞧什么都不明白”这一点上，数据也好，现实也罢，都是一样的。\n",
    "\n",
    "例如我们现在有一个数据，记录了 40 位完赛全程马拉松跑者的年龄。"
   ]
  },
  {
   "cell_type": "code",
   "execution_count": 20,
   "id": "b9113d2f",
   "metadata": {},
   "outputs": [
    {
     "data": {
      "text/html": [
       "<div>\n",
       "<style scoped>\n",
       "    .dataframe tbody tr th:only-of-type {\n",
       "        vertical-align: middle;\n",
       "    }\n",
       "\n",
       "    .dataframe tbody tr th {\n",
       "        vertical-align: top;\n",
       "    }\n",
       "\n",
       "    .dataframe thead th {\n",
       "        text-align: right;\n",
       "    }\n",
       "</style>\n",
       "<table border=\"1\" class=\"dataframe\">\n",
       "  <thead>\n",
       "    <tr style=\"text-align: right;\">\n",
       "      <th></th>\n",
       "      <th>Age</th>\n",
       "    </tr>\n",
       "  </thead>\n",
       "  <tbody>\n",
       "    <tr>\n",
       "      <th>1</th>\n",
       "      <td>49</td>\n",
       "    </tr>\n",
       "    <tr>\n",
       "      <th>2</th>\n",
       "      <td>44</td>\n",
       "    </tr>\n",
       "    <tr>\n",
       "      <th>3</th>\n",
       "      <td>50</td>\n",
       "    </tr>\n",
       "    <tr>\n",
       "      <th>4</th>\n",
       "      <td>46</td>\n",
       "    </tr>\n",
       "    <tr>\n",
       "      <th>5</th>\n",
       "      <td>31</td>\n",
       "    </tr>\n",
       "  </tbody>\n",
       "</table>\n",
       "</div>"
      ],
      "text/plain": [
       "   Age\n",
       "1   49\n",
       "2   44\n",
       "3   50\n",
       "4   46\n",
       "5   31"
      ]
     },
     "execution_count": 20,
     "metadata": {},
     "output_type": "execute_result"
    }
   ],
   "source": [
    "#marathon = pd.read_csv(DATA / 'Marathon.csv')\n",
    "marathon = pd.DataFrame({'Age': [49,44,50,46,31,27,52,72,33,46,52,24,43,44,43,26,40,57,43,30,50,35,66,59,37,55,64,37,36,31,31,21,56,32,40,43,61,43,50,47]})\n",
    "marathon.index += 1\n",
    "marathon.head(5)"
   ]
  },
  {
   "cell_type": "markdown",
   "id": "31ccf160",
   "metadata": {},
   "source": [
    "假设我们现在对数据一无所知，但是从常识出发，对于人类的年龄，我们应该有一些关于年龄的常识：\n",
    "- 年轻不可能是负数\n",
    "- 人类大概在 18-20 岁左右成年\n",
    "- 超过 60/65 岁时，人类进入老年\n",
    "- 人类平均寿命大概为 80 岁\n",
    "\n",
    "那我们从这 40 个数字中能得到什么呢？首先，最直观的感受就是：\n",
    "- 完赛跑者的年龄参差不齐\n",
    "\n",
    "这种“多种多样的数值”，就是所谓的“分布”。分布的产生，是决定数值背后的某种“不确定性”作用的结果。这个世界就是有很多不确定性的，因此才会有“参差不齐”的年龄。\n",
    "\n",
    "就和我们每个人都有不同的性格和特点，不同的分布，也有自己固有的“特征”和“特点”，这种固有的特征和特点，就是“分布的特性”。\n",
    "\n",
    "如果你已经有一定的统计学和数学基础，那你应该能借助各种工具来分析分布的特征，但如果你没有统计学的相关知识，那这个任务或许对你而言会比较困难。但是也没关系，因为不是所有人天生就是全知全能的。\n",
    "\n",
    "现在我们来学习，第一个用来分析分布特征的方法，就是**频数表**和**直方图**。\n",
    "\n",
    "利用 Python 我们可以轻松快捷地得出频数："
   ]
  },
  {
   "cell_type": "code",
   "execution_count": 5,
   "id": "c0d89834",
   "metadata": {},
   "outputs": [
    {
     "data": {
      "text/plain": [
       "Age\n",
       "43     5\n",
       "31     3\n",
       "50     3\n",
       "44     2\n",
       "37     2\n",
       "40     2\n",
       "52     2\n",
       "46     2\n",
       "49     1\n",
       "66     1\n",
       "dtype: int64"
      ]
     },
     "execution_count": 5,
     "metadata": {},
     "output_type": "execute_result"
    }
   ],
   "source": [
    "marathon.value_counts().head(10)"
   ]
  },
  {
   "cell_type": "markdown",
   "id": "f258ac32",
   "metadata": {},
   "source": [
    "虽然我们得出了每个具体年龄的频数表，但是频数表能提供的信息其实也很少：\n",
    "- 43 岁的跑者数量最多，有 5 人\n",
    "- 完赛选手的高频年龄（数量 > 2）大概在 30 - 50 岁之间。\n",
    "\n",
    "从第二个结论出发，我们对如何分析分布，大概有了一些思路：为什么我们不把所有年龄段选手，分成几个组呢？\n",
    "\n",
    "刚好，Pandas 的 [pd.cut](https://pandas.pydata.org/pandas-docs/stable/reference/api/pandas.cut.html) 函数可以帮我们完成这个工作。假设我们现在相按照年龄的分布，把所有完赛选手分为 5 组："
   ]
  },
  {
   "cell_type": "code",
   "execution_count": 6,
   "id": "26287ab5",
   "metadata": {},
   "outputs": [
    {
     "data": {
      "text/html": [
       "<div>\n",
       "<style scoped>\n",
       "    .dataframe tbody tr th:only-of-type {\n",
       "        vertical-align: middle;\n",
       "    }\n",
       "\n",
       "    .dataframe tbody tr th {\n",
       "        vertical-align: top;\n",
       "    }\n",
       "\n",
       "    .dataframe thead th {\n",
       "        text-align: right;\n",
       "    }\n",
       "</style>\n",
       "<table border=\"1\" class=\"dataframe\">\n",
       "  <thead>\n",
       "    <tr style=\"text-align: right;\">\n",
       "      <th>col_0</th>\n",
       "      <th>Counts</th>\n",
       "    </tr>\n",
       "    <tr>\n",
       "      <th>Age Group</th>\n",
       "      <th></th>\n",
       "    </tr>\n",
       "  </thead>\n",
       "  <tbody>\n",
       "    <tr>\n",
       "      <th>(20.949, 31.2]</th>\n",
       "      <td>8</td>\n",
       "    </tr>\n",
       "    <tr>\n",
       "      <th>(31.2, 41.4]</th>\n",
       "      <td>8</td>\n",
       "    </tr>\n",
       "    <tr>\n",
       "      <th>(41.4, 51.6]</th>\n",
       "      <td>14</td>\n",
       "    </tr>\n",
       "    <tr>\n",
       "      <th>(51.6, 61.8]</th>\n",
       "      <td>7</td>\n",
       "    </tr>\n",
       "    <tr>\n",
       "      <th>(61.8, 72.0]</th>\n",
       "      <td>3</td>\n",
       "    </tr>\n",
       "  </tbody>\n",
       "</table>\n",
       "</div>"
      ],
      "text/plain": [
       "col_0           Counts\n",
       "Age Group             \n",
       "(20.949, 31.2]       8\n",
       "(31.2, 41.4]         8\n",
       "(41.4, 51.6]        14\n",
       "(51.6, 61.8]         7\n",
       "(61.8, 72.0]         3"
      ]
     },
     "execution_count": 6,
     "metadata": {},
     "output_type": "execute_result"
    }
   ],
   "source": [
    "marathon['Age Group'] = pd.cut(marathon['Age'], 5)\n",
    "pd.crosstab(marathon['Age Group'], 'Counts')"
   ]
  },
  {
   "cell_type": "markdown",
   "id": "89fa094d",
   "metadata": {},
   "source": [
    "进一步分析之后，我们对分布的认识更深刻了：\n",
    "- 参赛选手最多的年龄段是 40-50 岁（有点出乎意料吧？）\n",
    "- 竟然还有 3 位 60 岁以上的老年人完赛全程马拉松！\n",
    "\n",
    "虽然这个结果比之前要精确很多，但是我们仍然不太满意，因为年龄区间是按照年龄分布直接切分的，并不是非常直观。我们能不能对按照我们自己规定的逻辑来切分呢？\n",
    "\n",
    "当然是可以的，但是切分之前，我们需要知道数据中的最大值和最小值，这两个值在统计学里面称为“极值”（不要和“极端值”弄混了哟）"
   ]
  },
  {
   "cell_type": "code",
   "execution_count": 7,
   "id": "09af6353",
   "metadata": {},
   "outputs": [
    {
     "name": "stdout",
     "output_type": "stream",
     "text": [
      "最年长选手的年龄：72\n",
      "最年长选手的年龄：21\n"
     ]
    }
   ],
   "source": [
    "print(\"最年长选手的年龄：%d\"%(marathon['Age'].max()))\n",
    "print(\"最年长选手的年龄：%d\"%(marathon['Age'].min()))"
   ]
  },
  {
   "cell_type": "markdown",
   "id": "7df4f4d9",
   "metadata": {},
   "source": [
    "现在我们已经知道了，所有选手的年龄都位于 20-75 岁之间，那我们能不能采用以这种分组逻辑：\n",
    "- 从 20 岁开始。每 10 岁为一组，在统计学里面，被称为“组距”\n",
    "- 60 岁及以上为老年组\n",
    "\n",
    "很简单，我们只需要指定年龄组参数，就可以实现了："
   ]
  },
  {
   "cell_type": "code",
   "execution_count": 8,
   "id": "67dc26c5",
   "metadata": {},
   "outputs": [
    {
     "data": {
      "text/html": [
       "<div>\n",
       "<style scoped>\n",
       "    .dataframe tbody tr th:only-of-type {\n",
       "        vertical-align: middle;\n",
       "    }\n",
       "\n",
       "    .dataframe tbody tr th {\n",
       "        vertical-align: top;\n",
       "    }\n",
       "\n",
       "    .dataframe thead th {\n",
       "        text-align: right;\n",
       "    }\n",
       "</style>\n",
       "<table border=\"1\" class=\"dataframe\">\n",
       "  <thead>\n",
       "    <tr style=\"text-align: right;\">\n",
       "      <th>col_0</th>\n",
       "      <th>Counts</th>\n",
       "    </tr>\n",
       "    <tr>\n",
       "      <th>Age Group</th>\n",
       "      <th></th>\n",
       "    </tr>\n",
       "  </thead>\n",
       "  <tbody>\n",
       "    <tr>\n",
       "      <th>20-30 years old</th>\n",
       "      <td>5</td>\n",
       "    </tr>\n",
       "    <tr>\n",
       "      <th>30-40 years old</th>\n",
       "      <td>11</td>\n",
       "    </tr>\n",
       "    <tr>\n",
       "      <th>40-50 years old</th>\n",
       "      <td>14</td>\n",
       "    </tr>\n",
       "    <tr>\n",
       "      <th>50-60 years old</th>\n",
       "      <td>6</td>\n",
       "    </tr>\n",
       "    <tr>\n",
       "      <th>60+ years old</th>\n",
       "      <td>4</td>\n",
       "    </tr>\n",
       "  </tbody>\n",
       "</table>\n",
       "</div>"
      ],
      "text/plain": [
       "col_0            Counts\n",
       "Age Group              \n",
       "20-30 years old       5\n",
       "30-40 years old      11\n",
       "40-50 years old      14\n",
       "50-60 years old       6\n",
       "60+ years old         4"
      ]
     },
     "execution_count": 8,
     "metadata": {},
     "output_type": "execute_result"
    }
   ],
   "source": [
    "ageGroup = [20, 30, 40, 50, 60, marathon['Age'].max()]\n",
    "ageGroupLabels=['20-30 years old', '30-40 years old','40-50 years old', '50-60 years old', '60+ years old']\n",
    "marathon['Age Group'] = pd.cut(marathon['Age'], ageGroup, labels = ageGroupLabels)\n",
    "marathon_crosstab = pd.crosstab(marathon['Age Group'], 'Counts')\n",
    "marathon_crosstab"
   ]
  },
  {
   "cell_type": "markdown",
   "id": "dcd2cd0b",
   "metadata": {},
   "source": [
    "除此之外，我们还可以计算累计频数，累计频数百分比、相对"
   ]
  },
  {
   "cell_type": "code",
   "execution_count": 9,
   "id": "1a44f85c",
   "metadata": {},
   "outputs": [
    {
     "data": {
      "text/html": [
       "<div>\n",
       "<style scoped>\n",
       "    .dataframe tbody tr th:only-of-type {\n",
       "        vertical-align: middle;\n",
       "    }\n",
       "\n",
       "    .dataframe tbody tr th {\n",
       "        vertical-align: top;\n",
       "    }\n",
       "\n",
       "    .dataframe thead th {\n",
       "        text-align: right;\n",
       "    }\n",
       "</style>\n",
       "<table border=\"1\" class=\"dataframe\">\n",
       "  <thead>\n",
       "    <tr style=\"text-align: right;\">\n",
       "      <th>col_0</th>\n",
       "      <th>Counts</th>\n",
       "      <th>Cumsum</th>\n",
       "      <th>Cumpercent</th>\n",
       "    </tr>\n",
       "    <tr>\n",
       "      <th>Age Group</th>\n",
       "      <th></th>\n",
       "      <th></th>\n",
       "      <th></th>\n",
       "    </tr>\n",
       "  </thead>\n",
       "  <tbody>\n",
       "    <tr>\n",
       "      <th>20-30 years old</th>\n",
       "      <td>5</td>\n",
       "      <td>5</td>\n",
       "      <td>12.5</td>\n",
       "    </tr>\n",
       "    <tr>\n",
       "      <th>30-40 years old</th>\n",
       "      <td>11</td>\n",
       "      <td>16</td>\n",
       "      <td>40.0</td>\n",
       "    </tr>\n",
       "    <tr>\n",
       "      <th>40-50 years old</th>\n",
       "      <td>14</td>\n",
       "      <td>30</td>\n",
       "      <td>75.0</td>\n",
       "    </tr>\n",
       "    <tr>\n",
       "      <th>50-60 years old</th>\n",
       "      <td>6</td>\n",
       "      <td>36</td>\n",
       "      <td>90.0</td>\n",
       "    </tr>\n",
       "    <tr>\n",
       "      <th>60+ years old</th>\n",
       "      <td>4</td>\n",
       "      <td>40</td>\n",
       "      <td>100.0</td>\n",
       "    </tr>\n",
       "  </tbody>\n",
       "</table>\n",
       "</div>"
      ],
      "text/plain": [
       "col_0            Counts  Cumsum  Cumpercent\n",
       "Age Group                                  \n",
       "20-30 years old       5       5        12.5\n",
       "30-40 years old      11      16        40.0\n",
       "40-50 years old      14      30        75.0\n",
       "50-60 years old       6      36        90.0\n",
       "60+ years old         4      40       100.0"
      ]
     },
     "execution_count": 9,
     "metadata": {},
     "output_type": "execute_result"
    }
   ],
   "source": [
    "marathon_crosstab['Cumsum'] = marathon_crosstab['Counts'].cumsum()\n",
    "marathon_crosstab['Cumpercent'] = 100*marathon_crosstab.Cumsum/marathon_crosstab['Counts'].sum()\n",
    "marathon_crosstab"
   ]
  },
  {
   "cell_type": "markdown",
   "id": "3d77c255",
   "metadata": {},
   "source": [
    "下面，我们可以基于频数表，绘制频数直方图了"
   ]
  },
  {
   "cell_type": "code",
   "execution_count": 30,
   "id": "fb069f26",
   "metadata": {},
   "outputs": [
    {
     "data": {
      "image/png": "[encoded data removed]",
      "text/plain": [
       "<Figure size 432x288 with 1 Axes>"
      ]
     },
     "metadata": {
      "needs_background": "light"
     },
     "output_type": "display_data"
    }
   ],
   "source": [
    "plt.hist(x=marathon['Age'], bins=ageGroup)\n",
    "plt.xlabel('Age')\n",
    "plt.ylabel('Frequency')\n",
    "plt.vlines(marathon['Age'].mean(), ymin=0, ymax=14, color='r', linestyles='-.')\n",
    "plt.show()"
   ]
  },
  {
   "cell_type": "code",
   "execution_count": 281,
   "id": "710d9c62",
   "metadata": {},
   "outputs": [
    {
     "data": {
      "image/png": "[encoded data removed]",
      "text/plain": [
       "<Figure size 432x288 with 1 Axes>"
      ]
     },
     "metadata": {
      "needs_background": "light"
     },
     "output_type": "display_data"
    }
   ],
   "source": [
    "plt.hist(x=marathon['Age'], bins=ageGroup, cumulative=True)\n",
    "plt.xlabel('Age')\n",
    "plt.ylabel('Cumulative Frequency')\n",
    "\n",
    "plt.show()"
   ]
  },
  {
   "cell_type": "markdown",
   "id": "11703a47",
   "metadata": {},
   "source": [
    "# 各种不同的均值\n",
    "\n",
    "说起平均值，或许大家最熟悉的就是：相加再乘以个数，计算公式如下：\n",
    "$$\\displaystyle \\bar{x}=\\frac{x_1+x_2+\\cdots+x_x}{n}  =\\frac{1}{n}\\displaystyle\\sum_{i=1}^n{x_i}$$\n",
    "\n",
    "这其实只是算术平均值，是众多均值的一种，其实均值有很多种计算方法，或许我们换个角度来理解均值，会比较形象：\n",
    "> 均值就是从数据的最大值和最小值之间，选取一个值，作为整组数据的代表\n",
    "\n",
    "虽然计算公式很简单，但实际上均值是统计学体系的基石，因为均值包含的信息量是所有统计量里面最多的，每一个数据都会对均值产生影响。\n",
    "\n",
    "虽然均值非常重要，但实际上均值能够提供的信息实际上非常少，因此均值一般作为计算其他统计指标的数据。\n",
    "\n",
    "就和选举一样，选择均值的方式也有很多种，区别在于一个点“你想通过全部数据知道什么”：\n",
    "- 算术平均值：在合计的意义上保持本质，相加再除以个数：$\\displaystyle \\frac{(x+y)}{2}$\n",
    "- 几何平均值：在乘法的意义上保持本质，相乘再开方：$\\displaystyle \\sqrt{x\\times y}$\n",
    "- 均方根值：先平方，再相加，最后除以个数：$\\displaystyle \\sqrt{\\frac{(x^2 + y^2)}{2}}$\n",
    "- 调和平均数：处理和“速度”相关的数据，个数除以倒数之和：$\\displaystyle \\frac{2}{\\frac{1}{x}+\\frac{1}{y}}$\n",
    "\n",
    "先不考虑均方根值，下面我们结合一个例子，加深对调和平均数的理解：如果我现在要开车从上海去北京再回来，去程的时速为 $10$，回程的时速为 $90$，平均的时速度是多少？使用调和平均数就可以轻松地算出平均时速为 $\\displaystyle \\frac{2}{\\frac{1}{10}+\\frac{1}{90}} = 18$。\n",
    "\n",
    "为什么我们不能直接使用其他均值计算速度的均值呢？因为“速度”的定义（单位时间内行驶的里程）本身就有一个计算，调和平均数只是还原了这个计算步骤。\n",
    "\n",
    "假设现在 10 分是大雄的考试分数，90 分是出木杉的考试分数，全班只有两名同学参加补考，那这次考试的四种“平均数”是？\n",
    "\n",
    "- 算术平均值：$\\displaystyle \\frac{(10+90)}{2} = 50$\n",
    "- 几何平均值：$\\displaystyle \\sqrt{10\\times 90} = 30$\n",
    "- 均方根值：$\\displaystyle \\sqrt{\\frac{(10^2 + 90^2)}{2}} = 64.03$\n",
    "- 调和平均数：$\\displaystyle \\frac{2}{\\frac{1}{10}+\\frac{1}{90}} = 18$\n",
    "\n",
    "你要是大雄，回家和妈妈汇报成绩的时候，你会用哪个平均数呢？（所以说，统计数字也是会撒谎的）\n",
    "\n",
    "# 其他特殊的分布数据\n",
    "\n",
    "## 截尾均值\n",
    "\n",
    "在一些场景中，为了避免极值对数据的影响，我们会计算**截尾均值**。\n",
    "\n",
    "截尾均值最常见的应用场景，就是计算跳水运动选手的分数了，一般我们会去掉一个最高分，去掉一个最低分："
   ]
  },
  {
   "cell_type": "code",
   "execution_count": 257,
   "id": "c605fdff",
   "metadata": {},
   "outputs": [
    {
     "data": {
      "text/plain": [
       "43.5"
      ]
     },
     "execution_count": 257,
     "metadata": {},
     "output_type": "execute_result"
    }
   ],
   "source": [
    "trim_mean(marathon['Age'],1/marathon['Age'].count())"
   ]
  },
  {
   "cell_type": "markdown",
   "id": "ca33dda6",
   "metadata": {},
   "source": [
    "## 加权均值\n",
    "在某些场景，我们会使用**加权均值**，结合两个维度：数值本身和权重两个维度。\n",
    "\n",
    "最常见的应用场景，大概就是我们计算加权平均分的时候，需要结合单科考试分数和该科学分。\n",
    "\n",
    "在使用加权平均数的时候，需要注意一个假设：每一个平均数的权重值，是人为设定的，如果设定不当，会对数据的计算造成很大的影响。"
   ]
  },
  {
   "cell_type": "code",
   "execution_count": 256,
   "id": "d3da6ffd",
   "metadata": {},
   "outputs": [
    {
     "data": {
      "text/plain": [
       "43.645121951219515"
      ]
     },
     "execution_count": 256,
     "metadata": {},
     "output_type": "execute_result"
    }
   ],
   "source": [
    "np.average(marathon['Age'], weights=marathon.index)"
   ]
  },
  {
   "cell_type": "markdown",
   "id": "7b0d9c29",
   "metadata": {},
   "source": [
    "## 中位数\n",
    "\n",
    "一组数据中间位置上的代表值. 其特点是不受数据极端值的影响. 对于具有偏态分布的数据, 中位数的代表性要比均值好。\n",
    "\n",
    "在一组排好序数据中，数据数量为奇数，则中值为中间的那个数。 如果数据数量为偶数，则中值为中间的那两个数值的平均值。"
   ]
  },
  {
   "cell_type": "code",
   "execution_count": 258,
   "id": "82ce0fdf",
   "metadata": {},
   "outputs": [
    {
     "data": {
      "text/plain": [
       "43.0"
      ]
     },
     "execution_count": 258,
     "metadata": {},
     "output_type": "execute_result"
    }
   ],
   "source": [
    "marathon['Age'].median()"
   ]
  },
  {
   "cell_type": "markdown",
   "id": "4b909b4e",
   "metadata": {},
   "source": [
    "## 众数\n",
    "\n",
    "一组数据分布的峰值，一组数据可能有一个众数，也可能有两个或多个众数，也可能没有众数。"
   ]
  },
  {
   "cell_type": "code",
   "execution_count": 259,
   "id": "0d815259",
   "metadata": {},
   "outputs": [
    {
     "data": {
      "text/plain": [
       "0    43\n",
       "Name: Age, dtype: int64"
      ]
     },
     "execution_count": 259,
     "metadata": {},
     "output_type": "execute_result"
    }
   ],
   "source": [
    "marathon['Age'].mode()"
   ]
  },
  {
   "cell_type": "markdown",
   "id": "fc1334ff",
   "metadata": {},
   "source": [
    "## 四分位距和异常值\n",
    "\n",
    "把所有数值由小到大排列，按照个数平分成四等份，处于三个分割点位置的数值就是四分位数。\n",
    "- Q1: 25%\n",
    "- Q2: 50%\n",
    "- Q3: 75%\n",
    "\n",
    "第三四分位数 (Q3) 与第一四分位数 (Q1) 的差距又称四分位距 (IQR)。\n",
    "\n",
    "异常值的判定和四分位距有关：如果一个值小于第一个四分位数减去 1.5 倍的 IQR 或者大于 Q3 加上 1.5 乘以 IQR，则这个数就被认为是异常值。\n",
    "\n",
    "- $< Q1 - 1.5 * IQR$\n",
    "- $> Q3 + 1.5 * IQR$\n",
    "\n",
    "下面我们获取四分位相关数据："
   ]
  },
  {
   "cell_type": "code",
   "execution_count": 260,
   "id": "bec832e0",
   "metadata": {},
   "outputs": [
    {
     "name": "stdout",
     "output_type": "stream",
     "text": [
      "5.0%     25.9\n",
      "25.0%    34.5\n",
      "50.0%    43.0\n",
      "75.0%    50.5\n",
      "95.0%    64.1\n",
      "Name: Age, dtype: float64\n",
      "IQR: 16.0\n"
     ]
    }
   ],
   "source": [
    "percentages = [0.05, 0.25, 0.5, 0.75, 0.95]\n",
    "df = marathon['Age'].quantile(percentages)\n",
    "df.index = [f'{p * 100}%' for p in percentages]\n",
    "print(df)\n",
    "print(\"IQR:\",marathon['Age'].quantile(.75) - marathon['Age'].quantile(.25))"
   ]
  },
  {
   "cell_type": "markdown",
   "id": "6ef3f239",
   "metadata": {},
   "source": [
    "我们可以使用箱线图来可视化四分位相关的数据："
   ]
  },
  {
   "cell_type": "code",
   "execution_count": 261,
   "id": "d23f7ac5",
   "metadata": {},
   "outputs": [
    {
     "data": {
      "image/png": "[encoded data removed]",
      "text/plain": [
       "<Figure size 216x288 with 1 Axes>"
      ]
     },
     "metadata": {
      "needs_background": "light"
     },
     "output_type": "display_data"
    }
   ],
   "source": [
    "#marathon.boxplot(['Age'])\n",
    "\n",
    "ax = (marathon['Age']).plot.box(figsize=(3, 4))\n",
    "ax.set_ylabel('Age')\n",
    "\n",
    "plt.show()"
   ]
  },
  {
   "cell_type": "markdown",
   "id": "c1d5c22f",
   "metadata": {},
   "source": [
    "# 方差和标准差\n",
    "\n",
    "前面的所有计算结果（各种均值、中位数、众数、四分位数等）在统计学上来说，其实都是“统计量”。这些统计量，其实都是在说明一件事：数据与均值的关系。\n",
    "\n",
    "我记得之前听过一首打油诗：\n",
    "\n",
    "> 张村有个张千万，隔壁九个穷光蛋，平均起来算一算，人人都是张百万。\n",
    "\n",
    "这首打油诗生动形象地展示了算术平均数的局限性。\n",
    "\n",
    "从上面这首诗出发，其实在日常生活中，除了想要知道数据与均值的关系之外，我们还想知道数据分散和波动的程度，最简单的例子就是：公交等候时间。\n",
    "\n",
    "如果我们已知过去几趟车次的等候时间如下，正在纠结应该买哪辆车的车票："
   ]
  },
  {
   "cell_type": "code",
   "execution_count": 23,
   "id": "4341b08a",
   "metadata": {},
   "outputs": [
    {
     "data": {
      "text/html": [
       "<div>\n",
       "<style scoped>\n",
       "    .dataframe tbody tr th:only-of-type {\n",
       "        vertical-align: middle;\n",
       "    }\n",
       "\n",
       "    .dataframe tbody tr th {\n",
       "        vertical-align: top;\n",
       "    }\n",
       "\n",
       "    .dataframe thead th {\n",
       "        text-align: right;\n",
       "    }\n",
       "</style>\n",
       "<table border=\"1\" class=\"dataframe\">\n",
       "  <thead>\n",
       "    <tr style=\"text-align: right;\">\n",
       "      <th></th>\n",
       "      <th>Bus A</th>\n",
       "      <th>Bus B</th>\n",
       "    </tr>\n",
       "  </thead>\n",
       "  <tbody>\n",
       "    <tr>\n",
       "      <th>1</th>\n",
       "      <td>40</td>\n",
       "      <td>1</td>\n",
       "    </tr>\n",
       "    <tr>\n",
       "      <th>2</th>\n",
       "      <td>40</td>\n",
       "      <td>2</td>\n",
       "    </tr>\n",
       "    <tr>\n",
       "      <th>3</th>\n",
       "      <td>50</td>\n",
       "      <td>60</td>\n",
       "    </tr>\n",
       "    <tr>\n",
       "      <th>4</th>\n",
       "      <td>60</td>\n",
       "      <td>88</td>\n",
       "    </tr>\n",
       "    <tr>\n",
       "      <th>5</th>\n",
       "      <td>60</td>\n",
       "      <td>99</td>\n",
       "    </tr>\n",
       "  </tbody>\n",
       "</table>\n",
       "</div>"
      ],
      "text/plain": [
       "   Bus A  Bus B\n",
       "1     40      1\n",
       "2     40      2\n",
       "3     50     60\n",
       "4     60     88\n",
       "5     60     99"
      ]
     },
     "execution_count": 23,
     "metadata": {},
     "output_type": "execute_result"
    }
   ],
   "source": [
    "#bus = pd.read_csv(DATA / 'Bus.csv')\n",
    "bus = pd.DataFrame({'Bus A': [40, 40, 50, 60, 60], 'Bus B': [1, 2, 60, 88, 99]})\n",
    "bus.index += 1\n",
    "bus"
   ]
  },
  {
   "cell_type": "markdown",
   "id": "2d44d02e",
   "metadata": {},
   "source": [
    "如果我们还是按照老套路，计算算术平均值的话，我们会发现，两组的算术平均值是相等的。"
   ]
  },
  {
   "cell_type": "code",
   "execution_count": 24,
   "id": "37061e3d",
   "metadata": {},
   "outputs": [
    {
     "data": {
      "text/plain": [
       "50.0"
      ]
     },
     "execution_count": 24,
     "metadata": {},
     "output_type": "execute_result"
    }
   ],
   "source": [
    "bus['Bus A'].mean()"
   ]
  },
  {
   "cell_type": "code",
   "execution_count": 25,
   "id": "4085679b",
   "metadata": {},
   "outputs": [
    {
     "data": {
      "text/plain": [
       "50.0"
      ]
     },
     "execution_count": 25,
     "metadata": {},
     "output_type": "execute_result"
    }
   ],
   "source": [
    "bus['Bus B'].mean()"
   ]
  },
  {
   "cell_type": "markdown",
   "id": "89379b60",
   "metadata": {},
   "source": [
    "虽然均值相等，但是我们可以很明显地感觉到，两组数据是有差别的。因此我们可以尝试计算这些统计量：\n",
    "\n",
    "- 离差（Deviation）样本值减去均值。$D_i = x_i-\\bar{x}$\n",
    "- 平均离差：$\\displaystyle \\sum{\\frac{D_i}{n}}=\\frac{1}{n}\\sum_{i=1}^n{x_i-\\bar{x}}$\n",
    "- 绝对离差：$|D_i|=|x_i-\\bar{x}|$\n",
    "- 平方离差（离差平方和/平方和）：$SS = {D_i}^2=(x_i-\\bar{x})^2$\n",
    "\n",
    "还记得之前有“一面之缘”的均方根值嘛？要不我们试试求两组数据的均方根值（也就是方差）？\n",
    "\n",
    "$$\\displaystyle Var=\\frac{\\sum(x_i-\\bar{x})^2}{n}$$"
   ]
  },
  {
   "cell_type": "code",
   "execution_count": 26,
   "id": "9d916e8f",
   "metadata": {},
   "outputs": [
    {
     "data": {
      "text/plain": [
       "80.0"
      ]
     },
     "execution_count": 26,
     "metadata": {},
     "output_type": "execute_result"
    }
   ],
   "source": [
    "bus['Bus A'].var(ddof=0)"
   ]
  },
  {
   "cell_type": "code",
   "execution_count": 27,
   "id": "f602c031",
   "metadata": {},
   "outputs": [
    {
     "data": {
      "text/plain": [
       "1730.0"
      ]
     },
     "execution_count": 27,
     "metadata": {},
     "output_type": "execute_result"
    }
   ],
   "source": [
    "bus['Bus B'].var(ddof=0)"
   ]
  },
  {
   "cell_type": "markdown",
   "id": "a19b1544",
   "metadata": {},
   "source": [
    "计算出两组的方差之后，我们会发现，B 组的方差明显大于 A 组的方差，那方差实际上意味着什么呢？\n",
    "\n",
    "不知道你们有没有冲浪，实际上方差和冲浪有相似之处。海水水位其实不是冲浪选手需要关心的问题，海浪高度变化，才是冲浪选手最关心的。\n",
    "\n",
    "实际上，我们可以将均值理解成海水水位，而方差理解成海浪高度，方差越大，潮起潮落之间的海浪高度差越大。\n",
    "\n",
    "在上面公交车等候时间的例子中，我们当然希望方差越小越好，因为我们希望每趟车的间隔差不多长，才能确保我们的等候时间是在合理范围内的。\n",
    "\n",
    "除了方差之外，标准差其实是统计学中更常用的概念。\n",
    "\n",
    "$$\\displaystyle SD = \\sqrt{Var} = \\sqrt{\\frac{\\sum(x_i-\\bar{x})^2}{n}}$$"
   ]
  },
  {
   "cell_type": "code",
   "execution_count": 267,
   "id": "9a85a490",
   "metadata": {},
   "outputs": [
    {
     "data": {
      "text/plain": [
       "8.94427190999916"
      ]
     },
     "execution_count": 267,
     "metadata": {},
     "output_type": "execute_result"
    }
   ],
   "source": [
    "bus['Bus A'].std(ddof=0)"
   ]
  },
  {
   "cell_type": "code",
   "execution_count": 268,
   "id": "f74ca3c0",
   "metadata": {},
   "outputs": [
    {
     "data": {
      "text/plain": [
       "41.593268686170845"
      ]
     },
     "execution_count": 268,
     "metadata": {},
     "output_type": "execute_result"
    }
   ],
   "source": [
    "bus['Bus B'].std(ddof=0)"
   ]
  },
  {
   "cell_type": "markdown",
   "id": "11daceda",
   "metadata": {},
   "source": [
    "那为什么我们有了方差之后，还需要标准差呢？很简单，我们可以用 B 组数据来做演示，分别计算 B 组数据分别加上 5 和乘以 5 的方差和标准差。"
   ]
  },
  {
   "cell_type": "code",
   "execution_count": 269,
   "id": "7b907b8f",
   "metadata": {},
   "outputs": [
    {
     "data": {
      "text/plain": [
       "1730.0"
      ]
     },
     "execution_count": 269,
     "metadata": {},
     "output_type": "execute_result"
    }
   ],
   "source": [
    "(bus['Bus B']+5).var(ddof=0)"
   ]
  },
  {
   "cell_type": "code",
   "execution_count": 270,
   "id": "06154283",
   "metadata": {},
   "outputs": [
    {
     "data": {
      "text/plain": [
       "41.593268686170845"
      ]
     },
     "execution_count": 270,
     "metadata": {},
     "output_type": "execute_result"
    }
   ],
   "source": [
    "(bus['Bus B']+5).std(ddof=0)"
   ]
  },
  {
   "cell_type": "code",
   "execution_count": 271,
   "id": "ea24f539",
   "metadata": {},
   "outputs": [
    {
     "data": {
      "text/plain": [
       "43250.0"
      ]
     },
     "execution_count": 271,
     "metadata": {},
     "output_type": "execute_result"
    }
   ],
   "source": [
    "(bus['Bus B']*5).var(ddof=0)"
   ]
  },
  {
   "cell_type": "code",
   "execution_count": 272,
   "id": "db9f2e91",
   "metadata": {},
   "outputs": [
    {
     "data": {
      "text/plain": [
       "207.9663434308542"
      ]
     },
     "execution_count": 272,
     "metadata": {},
     "output_type": "execute_result"
    }
   ],
   "source": [
    "(bus['Bus B']*5).std(ddof=0)"
   ]
  },
  {
   "cell_type": "markdown",
   "id": "90541f3d",
   "metadata": {},
   "source": [
    "细心的朋友会发现：\n",
    "- 加上 5 的方差和标准差没有变化\n",
    "- 乘以 5 的方差是原来方差的 $5^2 = 25$ 倍，标准差是原来的 5 倍\n",
    "\n",
    "由于方差计算过程中需要去平方，因此会放大数据原本的差异，在计算结果之后，我们需要开方，抹除被放大的差异。\n",
    "\n",
    "# 标准化\n",
    "\n",
    "## 偏差值\n",
    "\n",
    "中国的考试成绩计算方式，是算绝对数，而日本的考试成绩计算方式，计算的是“偏差值”，计算的过程中，就会用到标准差：\n",
    "\n",
    "$$ 偏差值 = 50 + 10 \\times \\frac{个人成绩-平均成绩}{标准差}$$\n",
    "\n",
    "如果你的个人成绩是 60 分，平均成绩是 50 分，标准差是 5 分，则偏差值为：\n",
    "\n",
    "$$ 偏差值 = 50 + 10 \\times \\frac{60-50}{5} = 70$$\n",
    "\n",
    "如果你的个人成绩是 70 分，平均成绩是 60 分，标准差是 5 分，则偏差值为：\n",
    "\n",
    "$$ 偏差值 = 50 + 10 \\times \\frac{70-60}{5} = 70$$\n",
    "\n",
    "实际上，日本考试成绩计算的过程，就是“标准化”的过程。\n",
    "\n",
    "\n",
    "首先，我们得先理解，什么叫**标准化**？统计学是这样定义**标准化**的：\n",
    "> 标准化就是将分布中的各个原始取值转换为具有标准差单位的 $z$ 分数的过程。\n",
    "\n",
    "下一节我们会提到 $z$ 分数，现在我们先不用纠结 $z$ 分数的定义，我们先理解**标准化**这个概念。\n",
    "\n",
    "下面我们用一个简单的例子来讲解**标准化**这个过程：\n",
    "\n",
    "## 标准化\n",
    "\n",
    "大雄有两门考试\n",
    "- 英语的成绩是 75 分，班级平均分是 70 分，标准差是 5\n",
    "- 体育的成绩是 10 个，班级平均个数是 9 个，标准差是 0.5\n",
    "\n",
    "问：哪门成绩考得比较好？\n",
    "\n",
    "由于两门考试的测度标准不一致，实际上是无法比较的（而且体育和英语也不应该互相比较）\n",
    "\n",
    "但统计学家发明了**标准化**这个概念，来对测度标准不一致的数据，根据其**位于分布的位置**进行对比。\n",
    "\n",
    "标准化的过程如下：\n",
    "\n",
    "$$\\displaystyle \\frac{原始取值 - 均值}{标准差}$$\n",
    "\n",
    "英语成绩标准化的结果是：\n",
    "\n",
    "$$\\displaystyle \\frac{75 - 70}{5} = 1$$\n",
    "\n",
    "体育成绩标准化的结果是：\n",
    "\n",
    "$$\\displaystyle \\frac{10 - 9}{0.5} = 2$$\n",
    "\n",
    "我们无法对 75 分和 10 个直接进行比较，但是我们却可以比较标准化之后的结果。体育的标准化结果比英语大，所以我们可以判定：体育这门课考得比较好。\n",
    "\n",
    "## $z$ 分数\n",
    "\n",
    "- $z$ 分数是以标准差为单位度量的分布中，一个给定取值与均值之间的距离数。\n",
    "- $z$ 分数有助于理解个别取值与分布中其他取值之间的位置关系。\n",
    "\n",
    "## $z$ 分数计算公式\n",
    "\n",
    "实际上，标准化的过程就是 $z$ 分数的计算公式\n",
    "\n",
    "$$\n",
    "\\begin{aligned}\n",
    "\\displaystyle\n",
    "z &= \\frac{原始取值 - 均值}{标准差} \\\\\n",
    "  &= \\frac{X - \\mu}{\\sigma} \\\\\n",
    "  &= \\frac{X - \\bar{X}}{s}\n",
    "\\end{aligned}\n",
    "$$\n",
    "\n",
    "其中\n",
    "- $X$：原始取值\n",
    "- $\\mu$：总体均值\n",
    "- $\\sigma$：总体标准差\n",
    "- $\\bar{X}$：样本均值\n",
    "- $s$：样本标准差\n",
    "\n",
    "- 如果原始值大于均值，则 $z$ 分数为正\n",
    "- 如果原始值小于均值，则 $z$ 分数为负\n",
    "\n",
    "我们可以用`statistics`库来计算 $z$ 分数"
   ]
  },
  {
   "cell_type": "code",
   "execution_count": 33,
   "id": "ccfa8365",
   "metadata": {},
   "outputs": [
    {
     "name": "stdout",
     "output_type": "stream",
     "text": [
      "z-score of  English: 1.0\n",
      "z-score of PE: 2.0\n"
     ]
    }
   ],
   "source": [
    "mean = 70\n",
    "standard_deviation = 5\n",
    "zscore = statistics.NormalDist(mean, standard_deviation).zscore(75)\n",
    "print(\"z-score of  English:\",zscore)\n",
    "\n",
    "mean = 9\n",
    "standard_deviation = 0.5\n",
    "zscore = statistics.NormalDist(mean, standard_deviation).zscore(10)\n",
    "print(\"z-score of PE:\",zscore)"
   ]
  },
  {
   "cell_type": "code",
   "execution_count": 34,
   "id": "24b881b6",
   "metadata": {},
   "outputs": [
    {
     "data": {
      "text/html": [
       "<div>\n",
       "<style scoped>\n",
       "    .dataframe tbody tr th:only-of-type {\n",
       "        vertical-align: middle;\n",
       "    }\n",
       "\n",
       "    .dataframe tbody tr th {\n",
       "        vertical-align: top;\n",
       "    }\n",
       "\n",
       "    .dataframe thead th {\n",
       "        text-align: right;\n",
       "    }\n",
       "</style>\n",
       "<table border=\"1\" class=\"dataframe\">\n",
       "  <thead>\n",
       "    <tr style=\"text-align: right;\">\n",
       "      <th></th>\n",
       "      <th>Age</th>\n",
       "      <th>Age zscore</th>\n",
       "    </tr>\n",
       "  </thead>\n",
       "  <tbody>\n",
       "    <tr>\n",
       "      <th>1</th>\n",
       "      <td>49</td>\n",
       "      <td>0.448998</td>\n",
       "    </tr>\n",
       "    <tr>\n",
       "      <th>2</th>\n",
       "      <td>44</td>\n",
       "      <td>0.029374</td>\n",
       "    </tr>\n",
       "    <tr>\n",
       "      <th>3</th>\n",
       "      <td>50</td>\n",
       "      <td>0.532922</td>\n",
       "    </tr>\n",
       "    <tr>\n",
       "      <th>4</th>\n",
       "      <td>46</td>\n",
       "      <td>0.197223</td>\n",
       "    </tr>\n",
       "    <tr>\n",
       "      <th>5</th>\n",
       "      <td>31</td>\n",
       "      <td>-1.061649</td>\n",
       "    </tr>\n",
       "  </tbody>\n",
       "</table>\n",
       "</div>"
      ],
      "text/plain": [
       "   Age  Age zscore\n",
       "1   49    0.448998\n",
       "2   44    0.029374\n",
       "3   50    0.532922\n",
       "4   46    0.197223\n",
       "5   31   -1.061649"
      ]
     },
     "execution_count": 34,
     "metadata": {},
     "output_type": "execute_result"
    }
   ],
   "source": [
    "marathon['Age zscore'] = stats.zscore(marathon['Age'])\n",
    "marathon.head()"
   ]
  },
  {
   "cell_type": "markdown",
   "id": "de6d5c2b",
   "metadata": {},
   "source": [
    "# 结尾\n",
    "\n",
    "偏差值与考试人数和考试难度都无关，和每一个考生的考试成绩汇总的平均成绩相关。\n",
    "\n",
    "我一直都认为，这种计算成绩的方法包含的信息量，以及背后的逻辑更深刻：\n",
    "- 每一个参加考试人，冥冥中和其他参与考试的人都有关\n",
    "- 偏差值的不同，也仅仅是你和别人不一样，偏差值高低，并不能决定你这个人就是没有用处或者价值的\n",
    "- 偏差值就是偏差值，比较“特殊（低）”也没关系，重新思考一下适合自己的人生道路就好了\n",
    "\n",
    "最后多唠叨两句：\n",
    "\n",
    "- 诸葛亮：出生于 181 年，在 207 年（26岁）对出《隆中对》\n",
    "- 牛顿：出生于 1643 年，在 1687 年（25岁）出版《自然哲学的数学原理》\n",
    "- 马克思：出生于 1818 年，在 1844 年（26岁）写就《1844年经济学哲学手稿》\n",
    "\n",
    "26 岁的你我，或许研究生刚毕业，或许刚工作两三年，他们的 26 岁已经建功立业了，你我该怎么办？\n",
    "\n",
    "很简答啊，这只能证明，你我的人生道路，和上面三位不一样嘛，他们走他们的路，我们走我们的路就好啦。"
   ]
  },
  {
   "cell_type": "code",
   "execution_count": null,
   "id": "a0a5eca6",
   "metadata": {},
   "outputs": [],
   "source": []
  }
 ],
 "metadata": {
  "kernelspec": {
   "display_name": "Python 3 (ipykernel)",
   "language": "python",
   "name": "python3"
  },
  "language_info": {
   "codemirror_mode": {
    "name": "ipython",
    "version": 3
   },
   "file_extension": ".py",
   "mimetype": "text/x-python",
   "name": "python",
   "nbconvert_exporter": "python",
   "pygments_lexer": "ipython3",
   "version": "3.9.12"
  },
  "toc": {
   "base_numbering": 1,
   "nav_menu": {},
   "number_sections": true,
   "sideBar": true,
   "skip_h1_title": false,
   "title_cell": "Table of Contents",
   "title_sidebar": "Contents",
   "toc_cell": false,
   "toc_position": {
    "height": "calc(100% - 180px)",
    "left": "10px",
    "top": "150px",
    "width": "256px"
   },
   "toc_section_display": true,
   "toc_window_display": false
  }
 },
 "nbformat": 4,
 "nbformat_minor": 5
}
