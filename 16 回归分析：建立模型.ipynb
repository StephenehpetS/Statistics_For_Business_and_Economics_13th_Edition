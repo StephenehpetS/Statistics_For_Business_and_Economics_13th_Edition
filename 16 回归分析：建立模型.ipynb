{
 "cells": [
  {
   "cell_type": "markdown",
   "id": "7a969025",
   "metadata": {},
   "source": [
    "# 一般线性模型\n",
    "\n",
    "$$ y = \\beta_0 + \\beta_1 z_1 + \\beta_2 z_2 + \\cdots + \\beta_p z_p + \\varepsilon$$\n",
    "\n",
    "## 模拟曲线关系\n",
    "\n",
    "$$ y = \\beta_0 + \\beta_1 x_1 + \\varepsilon$$"
   ]
  },
  {
   "cell_type": "code",
   "execution_count": 8,
   "id": "4f09815e",
   "metadata": {},
   "outputs": [
    {
     "data": {
      "text/html": [
       "<div>\n",
       "<style scoped>\n",
       "    .dataframe tbody tr th:only-of-type {\n",
       "        vertical-align: middle;\n",
       "    }\n",
       "\n",
       "    .dataframe tbody tr th {\n",
       "        vertical-align: top;\n",
       "    }\n",
       "\n",
       "    .dataframe thead th {\n",
       "        text-align: right;\n",
       "    }\n",
       "</style>\n",
       "<table border=\"1\" class=\"dataframe\">\n",
       "  <thead>\n",
       "    <tr style=\"text-align: right;\">\n",
       "      <th></th>\n",
       "      <th>Months</th>\n",
       "      <th>Sales</th>\n",
       "    </tr>\n",
       "  </thead>\n",
       "  <tbody>\n",
       "    <tr>\n",
       "      <th>0</th>\n",
       "      <td>41</td>\n",
       "      <td>275</td>\n",
       "    </tr>\n",
       "    <tr>\n",
       "      <th>1</th>\n",
       "      <td>106</td>\n",
       "      <td>296</td>\n",
       "    </tr>\n",
       "    <tr>\n",
       "      <th>2</th>\n",
       "      <td>76</td>\n",
       "      <td>317</td>\n",
       "    </tr>\n",
       "    <tr>\n",
       "      <th>3</th>\n",
       "      <td>104</td>\n",
       "      <td>376</td>\n",
       "    </tr>\n",
       "    <tr>\n",
       "      <th>4</th>\n",
       "      <td>22</td>\n",
       "      <td>162</td>\n",
       "    </tr>\n",
       "    <tr>\n",
       "      <th>5</th>\n",
       "      <td>12</td>\n",
       "      <td>150</td>\n",
       "    </tr>\n",
       "    <tr>\n",
       "      <th>6</th>\n",
       "      <td>85</td>\n",
       "      <td>367</td>\n",
       "    </tr>\n",
       "    <tr>\n",
       "      <th>7</th>\n",
       "      <td>111</td>\n",
       "      <td>308</td>\n",
       "    </tr>\n",
       "    <tr>\n",
       "      <th>8</th>\n",
       "      <td>40</td>\n",
       "      <td>189</td>\n",
       "    </tr>\n",
       "    <tr>\n",
       "      <th>9</th>\n",
       "      <td>51</td>\n",
       "      <td>235</td>\n",
       "    </tr>\n",
       "    <tr>\n",
       "      <th>10</th>\n",
       "      <td>9</td>\n",
       "      <td>83</td>\n",
       "    </tr>\n",
       "    <tr>\n",
       "      <th>11</th>\n",
       "      <td>12</td>\n",
       "      <td>112</td>\n",
       "    </tr>\n",
       "    <tr>\n",
       "      <th>12</th>\n",
       "      <td>6</td>\n",
       "      <td>67</td>\n",
       "    </tr>\n",
       "    <tr>\n",
       "      <th>13</th>\n",
       "      <td>56</td>\n",
       "      <td>325</td>\n",
       "    </tr>\n",
       "    <tr>\n",
       "      <th>14</th>\n",
       "      <td>19</td>\n",
       "      <td>189</td>\n",
       "    </tr>\n",
       "  </tbody>\n",
       "</table>\n",
       "</div>"
      ],
      "text/plain": [
       "    Months  Sales\n",
       "0       41    275\n",
       "1      106    296\n",
       "2       76    317\n",
       "3      104    376\n",
       "4       22    162\n",
       "5       12    150\n",
       "6       85    367\n",
       "7      111    308\n",
       "8       40    189\n",
       "9       51    235\n",
       "10       9     83\n",
       "11      12    112\n",
       "12       6     67\n",
       "13      56    325\n",
       "14      19    189"
      ]
     },
     "execution_count": 8,
     "metadata": {},
     "output_type": "execute_result"
    }
   ],
   "source": [
    "import pandas as pd\n",
    "import seaborn as sb\n",
    "import researchpy as rp\n",
    "import statsmodels.api as sm\n",
    "import statsmodels.formula.api as smf\n",
    "import matplotlib.pyplot as plt\n",
    "from sklearn import datasets, linear_model\n",
    "from sklearn.metrics import mean_squared_error, r2_score\n",
    "\n",
    "reynolds = pd.read_csv('ch16/Reynolds.csv')\n",
    "reynolds"
   ]
  },
  {
   "cell_type": "code",
   "execution_count": 7,
   "id": "4f424397",
   "metadata": {},
   "outputs": [
    {
     "name": "stdout",
     "output_type": "stream",
     "text": [
      "\n",
      "\n"
     ]
    },
    {
     "data": {
      "text/html": [
       "<div>\n",
       "<style scoped>\n",
       "    .dataframe tbody tr th:only-of-type {\n",
       "        vertical-align: middle;\n",
       "    }\n",
       "\n",
       "    .dataframe tbody tr th {\n",
       "        vertical-align: top;\n",
       "    }\n",
       "\n",
       "    .dataframe thead th {\n",
       "        text-align: right;\n",
       "    }\n",
       "</style>\n",
       "<table border=\"1\" class=\"dataframe\">\n",
       "  <thead>\n",
       "    <tr style=\"text-align: right;\">\n",
       "      <th></th>\n",
       "      <th>Variable</th>\n",
       "      <th>N</th>\n",
       "      <th>Mean</th>\n",
       "      <th>SD</th>\n",
       "      <th>SE</th>\n",
       "      <th>95% Conf.</th>\n",
       "      <th>Interval</th>\n",
       "    </tr>\n",
       "  </thead>\n",
       "  <tbody>\n",
       "    <tr>\n",
       "      <th>0</th>\n",
       "      <td>Months</td>\n",
       "      <td>15.0</td>\n",
       "      <td>50.0000</td>\n",
       "      <td>37.9304</td>\n",
       "      <td>9.7936</td>\n",
       "      <td>28.9949</td>\n",
       "      <td>71.0051</td>\n",
       "    </tr>\n",
       "    <tr>\n",
       "      <th>1</th>\n",
       "      <td>Sales</td>\n",
       "      <td>15.0</td>\n",
       "      <td>230.0667</td>\n",
       "      <td>102.0003</td>\n",
       "      <td>26.3364</td>\n",
       "      <td>173.5808</td>\n",
       "      <td>286.5526</td>\n",
       "    </tr>\n",
       "  </tbody>\n",
       "</table>\n",
       "</div>"
      ],
      "text/plain": [
       "  Variable     N      Mean        SD       SE  95% Conf.  Interval\n",
       "0   Months  15.0   50.0000   37.9304   9.7936    28.9949   71.0051\n",
       "1    Sales  15.0  230.0667  102.0003  26.3364   173.5808  286.5526"
      ]
     },
     "execution_count": 7,
     "metadata": {},
     "output_type": "execute_result"
    }
   ],
   "source": [
    "rp.summary_cont(reynolds[['Months', 'Sales']])"
   ]
  },
  {
   "cell_type": "code",
   "execution_count": 2,
   "id": "61d1d57d",
   "metadata": {},
   "outputs": [
    {
     "data": {
      "text/plain": [
       "<AxesSubplot:xlabel='Months', ylabel='Sales'>"
      ]
     },
     "execution_count": 2,
     "metadata": {},
     "output_type": "execute_result"
    },
    {
     "data": {
      "image/png": "[encoded data removed]",
      "text/plain": [
       "<Figure size 432x288 with 1 Axes>"
      ]
     },
     "metadata": {
      "needs_background": "light"
     },
     "output_type": "display_data"
    }
   ],
   "source": [
    "reynolds.plot(x = 'Months', y = 'Sales', kind = 'scatter')"
   ]
  },
  {
   "cell_type": "code",
   "execution_count": 52,
   "id": "be6241b4",
   "metadata": {},
   "outputs": [
    {
     "name": "stderr",
     "output_type": "stream",
     "text": [
      "/Users/stephenyan/miniconda/lib/python3.9/site-packages/scipy/stats/stats.py:1541: UserWarning: kurtosistest only valid for n>=20 ... continuing anyway, n=15\n",
      "  warnings.warn(\"kurtosistest only valid for n>=20 ... continuing \"\n"
     ]
    },
    {
     "data": {
      "text/html": [
       "<table class=\"simpletable\">\n",
       "<caption>OLS Regression Results</caption>\n",
       "<tr>\n",
       "  <th>Dep. Variable:</th>          <td>Sales</td>      <th>  R-squared:         </th> <td>   0.781</td>\n",
       "</tr>\n",
       "<tr>\n",
       "  <th>Model:</th>                   <td>OLS</td>       <th>  Adj. R-squared:    </th> <td>   0.764</td>\n",
       "</tr>\n",
       "<tr>\n",
       "  <th>Method:</th>             <td>Least Squares</td>  <th>  F-statistic:       </th> <td>   46.41</td>\n",
       "</tr>\n",
       "<tr>\n",
       "  <th>Date:</th>             <td>Thu, 14 Apr 2022</td> <th>  Prob (F-statistic):</th> <td>1.24e-05</td>\n",
       "</tr>\n",
       "<tr>\n",
       "  <th>Time:</th>                 <td>13:23:06</td>     <th>  Log-Likelihood:    </th> <td> -78.745</td>\n",
       "</tr>\n",
       "<tr>\n",
       "  <th>No. Observations:</th>      <td>    15</td>      <th>  AIC:               </th> <td>   161.5</td>\n",
       "</tr>\n",
       "<tr>\n",
       "  <th>Df Residuals:</th>          <td>    13</td>      <th>  BIC:               </th> <td>   162.9</td>\n",
       "</tr>\n",
       "<tr>\n",
       "  <th>Df Model:</th>              <td>     1</td>      <th>                     </th>     <td> </td>   \n",
       "</tr>\n",
       "<tr>\n",
       "  <th>Covariance Type:</th>      <td>nonrobust</td>    <th>                     </th>     <td> </td>   \n",
       "</tr>\n",
       "</table>\n",
       "<table class=\"simpletable\">\n",
       "<tr>\n",
       "      <td></td>         <th>coef</th>     <th>std err</th>      <th>t</th>      <th>P>|t|</th>  <th>[0.025</th>    <th>0.975]</th>  \n",
       "</tr>\n",
       "<tr>\n",
       "  <th>Intercept</th> <td>  111.2279</td> <td>   21.628</td> <td>    5.143</td> <td> 0.000</td> <td>   64.503</td> <td>  157.952</td>\n",
       "</tr>\n",
       "<tr>\n",
       "  <th>Months</th>    <td>    2.3768</td> <td>    0.349</td> <td>    6.812</td> <td> 0.000</td> <td>    1.623</td> <td>    3.131</td>\n",
       "</tr>\n",
       "</table>\n",
       "<table class=\"simpletable\">\n",
       "<tr>\n",
       "  <th>Omnibus:</th>       <td> 1.043</td> <th>  Durbin-Watson:     </th> <td>   2.261</td>\n",
       "</tr>\n",
       "<tr>\n",
       "  <th>Prob(Omnibus):</th> <td> 0.594</td> <th>  Jarque-Bera (JB):  </th> <td>   0.723</td>\n",
       "</tr>\n",
       "<tr>\n",
       "  <th>Skew:</th>          <td> 0.052</td> <th>  Prob(JB):          </th> <td>   0.697</td>\n",
       "</tr>\n",
       "<tr>\n",
       "  <th>Kurtosis:</th>      <td> 1.930</td> <th>  Cond. No.          </th> <td>    105.</td>\n",
       "</tr>\n",
       "</table><br/><br/>Notes:<br/>[1] Standard Errors assume that the covariance matrix of the errors is correctly specified."
      ],
      "text/plain": [
       "<class 'statsmodels.iolib.summary.Summary'>\n",
       "\"\"\"\n",
       "                            OLS Regression Results                            \n",
       "==============================================================================\n",
       "Dep. Variable:                  Sales   R-squared:                       0.781\n",
       "Model:                            OLS   Adj. R-squared:                  0.764\n",
       "Method:                 Least Squares   F-statistic:                     46.41\n",
       "Date:                Thu, 14 Apr 2022   Prob (F-statistic):           1.24e-05\n",
       "Time:                        13:23:06   Log-Likelihood:                -78.745\n",
       "No. Observations:                  15   AIC:                             161.5\n",
       "Df Residuals:                      13   BIC:                             162.9\n",
       "Df Model:                           1                                         \n",
       "Covariance Type:            nonrobust                                         \n",
       "==============================================================================\n",
       "                 coef    std err          t      P>|t|      [0.025      0.975]\n",
       "------------------------------------------------------------------------------\n",
       "Intercept    111.2279     21.628      5.143      0.000      64.503     157.952\n",
       "Months         2.3768      0.349      6.812      0.000       1.623       3.131\n",
       "==============================================================================\n",
       "Omnibus:                        1.043   Durbin-Watson:                   2.261\n",
       "Prob(Omnibus):                  0.594   Jarque-Bera (JB):                0.723\n",
       "Skew:                           0.052   Prob(JB):                        0.697\n",
       "Kurtosis:                       1.930   Cond. No.                         105.\n",
       "==============================================================================\n",
       "\n",
       "Notes:\n",
       "[1] Standard Errors assume that the covariance matrix of the errors is correctly specified.\n",
       "\"\"\""
      ]
     },
     "execution_count": 52,
     "metadata": {},
     "output_type": "execute_result"
    }
   ],
   "source": [
    "model = smf.ols(\"Sales ~ Months\", reynolds).fit()\n",
    "model.summary()"
   ]
  },
  {
   "cell_type": "code",
   "execution_count": 66,
   "id": "bfc30c79",
   "metadata": {},
   "outputs": [
    {
     "data": {
      "text/plain": [
       "[<matplotlib.lines.Line2D at 0x12d536850>]"
      ]
     },
     "execution_count": 66,
     "metadata": {},
     "output_type": "execute_result"
    },
    {
     "data": {
      "image/png": "[encoded data removed]",
      "text/plain": [
       "<Figure size 432x288 with 1 Axes>"
      ]
     },
     "metadata": {
      "needs_background": "light"
     },
     "output_type": "display_data"
    }
   ],
   "source": [
    "plt.scatter(reynolds.Months,reynolds.Sales)\n",
    "plt.plot(reynolds.Months, model.predict(reynolds), 'g-', label='Poly n=2 $R^2$=%.2f' % model.rsquared,alpha=0.9)"
   ]
  },
  {
   "cell_type": "markdown",
   "id": "8300db2a",
   "metadata": {},
   "source": [
    "上图估计的回归直线方程是：\n",
    "\n",
    "$$Sales = 111.2 + 2.377 Months$$\n",
    "\n",
    "尽管普通线性回归计算出来 $R^2$ 的结果是 0.781，已经是显著的线性相关了，而且线性关系解释了销售数量中大部分变异性，然而标准化的残差图其它我们，仍然需要一个曲线关系。\n",
    "\n",
    "$$ y = \\beta_0 + \\beta_1 x_1 + \\beta_2 x_1^2 + \\varepsilon$$"
   ]
  },
  {
   "cell_type": "code",
   "execution_count": 69,
   "id": "90608e63",
   "metadata": {},
   "outputs": [
    {
     "name": "stderr",
     "output_type": "stream",
     "text": [
      "/Users/stephenyan/miniconda/lib/python3.9/site-packages/scipy/stats/stats.py:1541: UserWarning: kurtosistest only valid for n>=20 ... continuing anyway, n=15\n",
      "  warnings.warn(\"kurtosistest only valid for n>=20 ... continuing \"\n"
     ]
    },
    {
     "data": {
      "text/html": [
       "<table class=\"simpletable\">\n",
       "<caption>OLS Regression Results</caption>\n",
       "<tr>\n",
       "  <th>Dep. Variable:</th>          <td>Sales</td>      <th>  R-squared:         </th> <td>   0.902</td>\n",
       "</tr>\n",
       "<tr>\n",
       "  <th>Model:</th>                   <td>OLS</td>       <th>  Adj. R-squared:    </th> <td>   0.886</td>\n",
       "</tr>\n",
       "<tr>\n",
       "  <th>Method:</th>             <td>Least Squares</td>  <th>  F-statistic:       </th> <td>   55.36</td>\n",
       "</tr>\n",
       "<tr>\n",
       "  <th>Date:</th>             <td>Thu, 14 Apr 2022</td> <th>  Prob (F-statistic):</th> <td>8.75e-07</td>\n",
       "</tr>\n",
       "<tr>\n",
       "  <th>Time:</th>                 <td>13:44:28</td>     <th>  Log-Likelihood:    </th> <td> -72.704</td>\n",
       "</tr>\n",
       "<tr>\n",
       "  <th>No. Observations:</th>      <td>    15</td>      <th>  AIC:               </th> <td>   151.4</td>\n",
       "</tr>\n",
       "<tr>\n",
       "  <th>Df Residuals:</th>          <td>    12</td>      <th>  BIC:               </th> <td>   153.5</td>\n",
       "</tr>\n",
       "<tr>\n",
       "  <th>Df Model:</th>              <td>     2</td>      <th>                     </th>     <td> </td>   \n",
       "</tr>\n",
       "<tr>\n",
       "  <th>Covariance Type:</th>      <td>nonrobust</td>    <th>                     </th>     <td> </td>   \n",
       "</tr>\n",
       "</table>\n",
       "<table class=\"simpletable\">\n",
       "<tr>\n",
       "         <td></td>           <th>coef</th>     <th>std err</th>      <th>t</th>      <th>P>|t|</th>  <th>[0.025</th>    <th>0.975]</th>  \n",
       "</tr>\n",
       "<tr>\n",
       "  <th>Intercept</th>      <td>   45.3476</td> <td>   22.775</td> <td>    1.991</td> <td> 0.070</td> <td>   -4.274</td> <td>   94.969</td>\n",
       "</tr>\n",
       "<tr>\n",
       "  <th>Months</th>         <td>    6.3448</td> <td>    1.058</td> <td>    5.998</td> <td> 0.000</td> <td>    4.040</td> <td>    8.650</td>\n",
       "</tr>\n",
       "<tr>\n",
       "  <th>I(Months ** 2)</th> <td>   -0.0345</td> <td>    0.009</td> <td>   -3.854</td> <td> 0.002</td> <td>   -0.054</td> <td>   -0.015</td>\n",
       "</tr>\n",
       "</table>\n",
       "<table class=\"simpletable\">\n",
       "<tr>\n",
       "  <th>Omnibus:</th>       <td> 2.162</td> <th>  Durbin-Watson:     </th> <td>   1.313</td>\n",
       "</tr>\n",
       "<tr>\n",
       "  <th>Prob(Omnibus):</th> <td> 0.339</td> <th>  Jarque-Bera (JB):  </th> <td>   1.003</td>\n",
       "</tr>\n",
       "<tr>\n",
       "  <th>Skew:</th>          <td>-0.126</td> <th>  Prob(JB):          </th> <td>   0.606</td>\n",
       "</tr>\n",
       "<tr>\n",
       "  <th>Kurtosis:</th>      <td> 1.758</td> <th>  Cond. No.          </th> <td>1.48e+04</td>\n",
       "</tr>\n",
       "</table><br/><br/>Notes:<br/>[1] Standard Errors assume that the covariance matrix of the errors is correctly specified.<br/>[2] The condition number is large, 1.48e+04. This might indicate that there are<br/>strong multicollinearity or other numerical problems."
      ],
      "text/plain": [
       "<class 'statsmodels.iolib.summary.Summary'>\n",
       "\"\"\"\n",
       "                            OLS Regression Results                            \n",
       "==============================================================================\n",
       "Dep. Variable:                  Sales   R-squared:                       0.902\n",
       "Model:                            OLS   Adj. R-squared:                  0.886\n",
       "Method:                 Least Squares   F-statistic:                     55.36\n",
       "Date:                Thu, 14 Apr 2022   Prob (F-statistic):           8.75e-07\n",
       "Time:                        13:44:28   Log-Likelihood:                -72.704\n",
       "No. Observations:                  15   AIC:                             151.4\n",
       "Df Residuals:                      12   BIC:                             153.5\n",
       "Df Model:                           2                                         \n",
       "Covariance Type:            nonrobust                                         \n",
       "==================================================================================\n",
       "                     coef    std err          t      P>|t|      [0.025      0.975]\n",
       "----------------------------------------------------------------------------------\n",
       "Intercept         45.3476     22.775      1.991      0.070      -4.274      94.969\n",
       "Months             6.3448      1.058      5.998      0.000       4.040       8.650\n",
       "I(Months ** 2)    -0.0345      0.009     -3.854      0.002      -0.054      -0.015\n",
       "==============================================================================\n",
       "Omnibus:                        2.162   Durbin-Watson:                   1.313\n",
       "Prob(Omnibus):                  0.339   Jarque-Bera (JB):                1.003\n",
       "Skew:                          -0.126   Prob(JB):                        0.606\n",
       "Kurtosis:                       1.758   Cond. No.                     1.48e+04\n",
       "==============================================================================\n",
       "\n",
       "Notes:\n",
       "[1] Standard Errors assume that the covariance matrix of the errors is correctly specified.\n",
       "[2] The condition number is large, 1.48e+04. This might indicate that there are\n",
       "strong multicollinearity or other numerical problems.\n",
       "\"\"\""
      ]
     },
     "execution_count": 69,
     "metadata": {},
     "output_type": "execute_result"
    }
   ],
   "source": [
    "model2 = smf.ols(formula = 'Sales ~ Months + I(Months**2)', data = reynolds).fit()\n",
    "model2.summary()\n",
    "#plt.scatter(reynolds.Months,reynolds.Sales)\n",
    "#plt.plot(reynolds.Months, model2.predict(reynolds), 'g-', label='Poly n=2 $R^2$=%.2f' % model.rsquared, alpha=0.9)"
   ]
  },
  {
   "cell_type": "code",
   "execution_count": 70,
   "id": "f68524bb",
   "metadata": {},
   "outputs": [
    {
     "data": {
      "text/plain": [
       "<AxesSubplot:xlabel='Months', ylabel='Sales'>"
      ]
     },
     "execution_count": 70,
     "metadata": {},
     "output_type": "execute_result"
    },
    {
     "data": {
      "image/png": "[encoded data removed]",
      "text/plain": [
       "<Figure size 432x288 with 1 Axes>"
      ]
     },
     "metadata": {
      "needs_background": "light"
     },
     "output_type": "display_data"
    }
   ],
   "source": [
    "sb.regplot(x='Months', y='Sales', order=2, ci = None, data = reynolds)"
   ]
  },
  {
   "cell_type": "markdown",
   "id": "b4ae83e1",
   "metadata": {},
   "source": [
    "此时，估计的回归方程是：\n",
    "$$Sales = 45.3 + 6.34 Months - 0.0344 Month^2$$\n",
    "\n",
    "而且 $R^2(adj.) = 0.886$\n",
    "\n",
    "## 交互作用\n",
    "\n",
    "如果原始数据集由应变量 $y$ 和两个自变量 $x_1$、$x_2$ 的观测值组成，我们可以建立一个含有两个预测变量的二阶模型：\n",
    "\n",
    "$$ y = \\beta_0 + \\beta_1 x_1 + \\beta_2 x_2 + \\beta_3 x_1^2 + \\beta_4 x_2^2 + \\beta_5 x_1 x_2 + \\varepsilon$$\n",
    "\n",
    "为了说明两个变量共同作用产生的潜在影响，增加了一个变量 $x_1 x_2$，这种类型的影响被称为交互作用。"
   ]
  },
  {
   "cell_type": "code",
   "execution_count": 79,
   "id": "66e323c4",
   "metadata": {},
   "outputs": [
    {
     "data": {
      "text/html": [
       "<div>\n",
       "<style scoped>\n",
       "    .dataframe tbody tr th:only-of-type {\n",
       "        vertical-align: middle;\n",
       "    }\n",
       "\n",
       "    .dataframe tbody tr th {\n",
       "        vertical-align: top;\n",
       "    }\n",
       "\n",
       "    .dataframe thead th {\n",
       "        text-align: right;\n",
       "    }\n",
       "</style>\n",
       "<table border=\"1\" class=\"dataframe\">\n",
       "  <thead>\n",
       "    <tr style=\"text-align: right;\">\n",
       "      <th></th>\n",
       "      <th>Price</th>\n",
       "      <th>Advertising</th>\n",
       "      <th>Sales</th>\n",
       "    </tr>\n",
       "  </thead>\n",
       "  <tbody>\n",
       "    <tr>\n",
       "      <th>0</th>\n",
       "      <td>2.0</td>\n",
       "      <td>50</td>\n",
       "      <td>478</td>\n",
       "    </tr>\n",
       "    <tr>\n",
       "      <th>1</th>\n",
       "      <td>2.5</td>\n",
       "      <td>50</td>\n",
       "      <td>373</td>\n",
       "    </tr>\n",
       "    <tr>\n",
       "      <th>2</th>\n",
       "      <td>3.0</td>\n",
       "      <td>50</td>\n",
       "      <td>335</td>\n",
       "    </tr>\n",
       "    <tr>\n",
       "      <th>3</th>\n",
       "      <td>2.0</td>\n",
       "      <td>50</td>\n",
       "      <td>473</td>\n",
       "    </tr>\n",
       "    <tr>\n",
       "      <th>4</th>\n",
       "      <td>2.5</td>\n",
       "      <td>50</td>\n",
       "      <td>358</td>\n",
       "    </tr>\n",
       "  </tbody>\n",
       "</table>\n",
       "</div>"
      ],
      "text/plain": [
       "   Price  Advertising  Sales\n",
       "0    2.0           50    478\n",
       "1    2.5           50    373\n",
       "2    3.0           50    335\n",
       "3    2.0           50    473\n",
       "4    2.5           50    358"
      ]
     },
     "execution_count": 79,
     "metadata": {},
     "output_type": "execute_result"
    }
   ],
   "source": [
    "tyler = pd.read_csv('ch16/Tyler.csv')\n",
    "tyler = tyler.rename(columns={\"Advertising\\nExpenditure\\n($1000s)\":\"Advertising\"})\n",
    "tyler = tyler.rename(columns={\"Sales\\n(1000s)\":\"Sales\"})\n",
    "tyler.head()"
   ]
  },
  {
   "cell_type": "code",
   "execution_count": 80,
   "id": "2ebf8722",
   "metadata": {},
   "outputs": [
    {
     "name": "stdout",
     "output_type": "stream",
     "text": [
      "\n",
      "\n"
     ]
    },
    {
     "data": {
      "text/html": [
       "<div>\n",
       "<style scoped>\n",
       "    .dataframe tbody tr th:only-of-type {\n",
       "        vertical-align: middle;\n",
       "    }\n",
       "\n",
       "    .dataframe tbody tr th {\n",
       "        vertical-align: top;\n",
       "    }\n",
       "\n",
       "    .dataframe thead th {\n",
       "        text-align: right;\n",
       "    }\n",
       "</style>\n",
       "<table border=\"1\" class=\"dataframe\">\n",
       "  <thead>\n",
       "    <tr style=\"text-align: right;\">\n",
       "      <th></th>\n",
       "      <th>Variable</th>\n",
       "      <th>N</th>\n",
       "      <th>Mean</th>\n",
       "      <th>SD</th>\n",
       "      <th>SE</th>\n",
       "      <th>95% Conf.</th>\n",
       "      <th>Interval</th>\n",
       "    </tr>\n",
       "  </thead>\n",
       "  <tbody>\n",
       "    <tr>\n",
       "      <th>0</th>\n",
       "      <td>Advertising</td>\n",
       "      <td>24.0</td>\n",
       "      <td>75.0000</td>\n",
       "      <td>25.5377</td>\n",
       "      <td>5.2129</td>\n",
       "      <td>64.2164</td>\n",
       "      <td>85.7836</td>\n",
       "    </tr>\n",
       "    <tr>\n",
       "      <th>1</th>\n",
       "      <td>Sales</td>\n",
       "      <td>24.0</td>\n",
       "      <td>497.6667</td>\n",
       "      <td>177.5671</td>\n",
       "      <td>36.2457</td>\n",
       "      <td>422.6867</td>\n",
       "      <td>572.6467</td>\n",
       "    </tr>\n",
       "  </tbody>\n",
       "</table>\n",
       "</div>"
      ],
      "text/plain": [
       "      Variable     N      Mean        SD       SE  95% Conf.  Interval\n",
       "0  Advertising  24.0   75.0000   25.5377   5.2129    64.2164   85.7836\n",
       "1        Sales  24.0  497.6667  177.5671  36.2457   422.6867  572.6467"
      ]
     },
     "execution_count": 80,
     "metadata": {},
     "output_type": "execute_result"
    }
   ],
   "source": [
    "rp.summary_cont(tyler[['Advertising', 'Sales']])"
   ]
  },
  {
   "cell_type": "code",
   "execution_count": 64,
   "id": "fd7a6250",
   "metadata": {},
   "outputs": [
    {
     "name": "stdout",
     "output_type": "stream",
     "text": [
      "\n",
      "\n"
     ]
    },
    {
     "data": {
      "text/html": [
       "<div>\n",
       "<style scoped>\n",
       "    .dataframe tbody tr th:only-of-type {\n",
       "        vertical-align: middle;\n",
       "    }\n",
       "\n",
       "    .dataframe tbody tr th {\n",
       "        vertical-align: top;\n",
       "    }\n",
       "\n",
       "    .dataframe thead th {\n",
       "        text-align: right;\n",
       "    }\n",
       "</style>\n",
       "<table border=\"1\" class=\"dataframe\">\n",
       "  <thead>\n",
       "    <tr style=\"text-align: right;\">\n",
       "      <th></th>\n",
       "      <th>N</th>\n",
       "      <th>Mean</th>\n",
       "      <th>SD</th>\n",
       "      <th>SE</th>\n",
       "      <th>95% Conf.</th>\n",
       "      <th>Interval</th>\n",
       "    </tr>\n",
       "    <tr>\n",
       "      <th>Price</th>\n",
       "      <th></th>\n",
       "      <th></th>\n",
       "      <th></th>\n",
       "      <th></th>\n",
       "      <th></th>\n",
       "      <th></th>\n",
       "    </tr>\n",
       "  </thead>\n",
       "  <tbody>\n",
       "    <tr>\n",
       "      <th>2.0</th>\n",
       "      <td>8</td>\n",
       "      <td>75.0</td>\n",
       "      <td>26.7261</td>\n",
       "      <td>9.4491</td>\n",
       "      <td>52.6564</td>\n",
       "      <td>97.3436</td>\n",
       "    </tr>\n",
       "    <tr>\n",
       "      <th>2.5</th>\n",
       "      <td>8</td>\n",
       "      <td>75.0</td>\n",
       "      <td>26.7261</td>\n",
       "      <td>9.4491</td>\n",
       "      <td>52.6564</td>\n",
       "      <td>97.3436</td>\n",
       "    </tr>\n",
       "    <tr>\n",
       "      <th>3.0</th>\n",
       "      <td>8</td>\n",
       "      <td>75.0</td>\n",
       "      <td>26.7261</td>\n",
       "      <td>9.4491</td>\n",
       "      <td>52.6564</td>\n",
       "      <td>97.3436</td>\n",
       "    </tr>\n",
       "  </tbody>\n",
       "</table>\n",
       "</div>"
      ],
      "text/plain": [
       "       N  Mean       SD      SE  95% Conf.  Interval\n",
       "Price                                               \n",
       "2.0    8  75.0  26.7261  9.4491    52.6564   97.3436\n",
       "2.5    8  75.0  26.7261  9.4491    52.6564   97.3436\n",
       "3.0    8  75.0  26.7261  9.4491    52.6564   97.3436"
      ]
     },
     "execution_count": 64,
     "metadata": {},
     "output_type": "execute_result"
    }
   ],
   "source": [
    "rp.summary_cont(tyler.groupby([\"Price\"])[\"Advertising\"])"
   ]
  },
  {
   "cell_type": "code",
   "execution_count": 81,
   "id": "b5520f12",
   "metadata": {},
   "outputs": [
    {
     "name": "stdout",
     "output_type": "stream",
     "text": [
      "\n",
      "\n"
     ]
    },
    {
     "data": {
      "text/html": [
       "<div>\n",
       "<style scoped>\n",
       "    .dataframe tbody tr th:only-of-type {\n",
       "        vertical-align: middle;\n",
       "    }\n",
       "\n",
       "    .dataframe tbody tr th {\n",
       "        vertical-align: top;\n",
       "    }\n",
       "\n",
       "    .dataframe thead th {\n",
       "        text-align: right;\n",
       "    }\n",
       "</style>\n",
       "<table border=\"1\" class=\"dataframe\">\n",
       "  <thead>\n",
       "    <tr style=\"text-align: right;\">\n",
       "      <th></th>\n",
       "      <th>N</th>\n",
       "      <th>Mean</th>\n",
       "      <th>SD</th>\n",
       "      <th>SE</th>\n",
       "      <th>95% Conf.</th>\n",
       "      <th>Interval</th>\n",
       "    </tr>\n",
       "    <tr>\n",
       "      <th>Price</th>\n",
       "      <th></th>\n",
       "      <th></th>\n",
       "      <th></th>\n",
       "      <th></th>\n",
       "      <th></th>\n",
       "      <th></th>\n",
       "    </tr>\n",
       "  </thead>\n",
       "  <tbody>\n",
       "    <tr>\n",
       "      <th>2.0</th>\n",
       "      <td>8</td>\n",
       "      <td>634.5</td>\n",
       "      <td>186.2487</td>\n",
       "      <td>65.8489</td>\n",
       "      <td>478.7922</td>\n",
       "      <td>790.2078</td>\n",
       "    </tr>\n",
       "    <tr>\n",
       "      <th>2.5</th>\n",
       "      <td>8</td>\n",
       "      <td>505.0</td>\n",
       "      <td>151.4256</td>\n",
       "      <td>53.5370</td>\n",
       "      <td>378.4050</td>\n",
       "      <td>631.5950</td>\n",
       "    </tr>\n",
       "    <tr>\n",
       "      <th>3.0</th>\n",
       "      <td>8</td>\n",
       "      <td>353.5</td>\n",
       "      <td>27.7077</td>\n",
       "      <td>9.7961</td>\n",
       "      <td>330.3358</td>\n",
       "      <td>376.6642</td>\n",
       "    </tr>\n",
       "  </tbody>\n",
       "</table>\n",
       "</div>"
      ],
      "text/plain": [
       "       N   Mean        SD       SE  95% Conf.  Interval\n",
       "Price                                                  \n",
       "2.0    8  634.5  186.2487  65.8489   478.7922  790.2078\n",
       "2.5    8  505.0  151.4256  53.5370   378.4050  631.5950\n",
       "3.0    8  353.5   27.7077   9.7961   330.3358  376.6642"
      ]
     },
     "execution_count": 81,
     "metadata": {},
     "output_type": "execute_result"
    }
   ],
   "source": [
    "rp.summary_cont(tyler.groupby([\"Price\"])[\"Sales\"])"
   ]
  },
  {
   "cell_type": "code",
   "execution_count": 91,
   "id": "ef7086f0",
   "metadata": {},
   "outputs": [
    {
     "data": {
      "text/html": [
       "<table class=\"simpletable\">\n",
       "<caption>OLS Regression Results</caption>\n",
       "<tr>\n",
       "  <th>Dep. Variable:</th>          <td>Sales</td>      <th>  R-squared:         </th> <td>   0.852</td>\n",
       "</tr>\n",
       "<tr>\n",
       "  <th>Model:</th>                   <td>OLS</td>       <th>  Adj. R-squared:    </th> <td>   0.829</td>\n",
       "</tr>\n",
       "<tr>\n",
       "  <th>Method:</th>             <td>Least Squares</td>  <th>  F-statistic:       </th> <td>   38.25</td>\n",
       "</tr>\n",
       "<tr>\n",
       "  <th>Date:</th>             <td>Thu, 14 Apr 2022</td> <th>  Prob (F-statistic):</th> <td>1.79e-08</td>\n",
       "</tr>\n",
       "<tr>\n",
       "  <th>Time:</th>                 <td>14:31:31</td>     <th>  Log-Likelihood:    </th> <td> -134.96</td>\n",
       "</tr>\n",
       "<tr>\n",
       "  <th>No. Observations:</th>      <td>    24</td>      <th>  AIC:               </th> <td>   277.9</td>\n",
       "</tr>\n",
       "<tr>\n",
       "  <th>Df Residuals:</th>          <td>    20</td>      <th>  BIC:               </th> <td>   282.6</td>\n",
       "</tr>\n",
       "<tr>\n",
       "  <th>Df Model:</th>              <td>     3</td>      <th>                     </th>     <td> </td>   \n",
       "</tr>\n",
       "<tr>\n",
       "  <th>Covariance Type:</th>      <td>nonrobust</td>    <th>                     </th>     <td> </td>   \n",
       "</tr>\n",
       "</table>\n",
       "<table class=\"simpletable\">\n",
       "<tr>\n",
       "         <td></td>            <th>coef</th>     <th>std err</th>      <th>t</th>      <th>P>|t|</th>  <th>[0.025</th>    <th>0.975]</th>  \n",
       "</tr>\n",
       "<tr>\n",
       "  <th>Intercept</th>       <td>  298.5000</td> <td>   51.876</td> <td>    5.754</td> <td> 0.000</td> <td>  190.288</td> <td>  406.712</td>\n",
       "</tr>\n",
       "<tr>\n",
       "  <th>C(Price)[T.2.5]</th> <td> -129.5000</td> <td>   36.682</td> <td>   -3.530</td> <td> 0.002</td> <td> -206.017</td> <td>  -52.983</td>\n",
       "</tr>\n",
       "<tr>\n",
       "  <th>C(Price)[T.3.0]</th> <td> -281.0000</td> <td>   36.682</td> <td>   -7.660</td> <td> 0.000</td> <td> -357.517</td> <td> -204.483</td>\n",
       "</tr>\n",
       "<tr>\n",
       "  <th>Advertising</th>     <td>    4.4800</td> <td>    0.599</td> <td>    7.479</td> <td> 0.000</td> <td>    3.230</td> <td>    5.730</td>\n",
       "</tr>\n",
       "</table>\n",
       "<table class=\"simpletable\">\n",
       "<tr>\n",
       "  <th>Omnibus:</th>       <td> 6.165</td> <th>  Durbin-Watson:     </th> <td>   2.612</td>\n",
       "</tr>\n",
       "<tr>\n",
       "  <th>Prob(Omnibus):</th> <td> 0.046</td> <th>  Jarque-Bera (JB):  </th> <td>   1.786</td>\n",
       "</tr>\n",
       "<tr>\n",
       "  <th>Skew:</th>          <td>-0.037</td> <th>  Prob(JB):          </th> <td>   0.409</td>\n",
       "</tr>\n",
       "<tr>\n",
       "  <th>Kurtosis:</th>      <td> 1.666</td> <th>  Cond. No.          </th> <td>    306.</td>\n",
       "</tr>\n",
       "</table><br/><br/>Notes:<br/>[1] Standard Errors assume that the covariance matrix of the errors is correctly specified."
      ],
      "text/plain": [
       "<class 'statsmodels.iolib.summary.Summary'>\n",
       "\"\"\"\n",
       "                            OLS Regression Results                            \n",
       "==============================================================================\n",
       "Dep. Variable:                  Sales   R-squared:                       0.852\n",
       "Model:                            OLS   Adj. R-squared:                  0.829\n",
       "Method:                 Least Squares   F-statistic:                     38.25\n",
       "Date:                Thu, 14 Apr 2022   Prob (F-statistic):           1.79e-08\n",
       "Time:                        14:31:31   Log-Likelihood:                -134.96\n",
       "No. Observations:                  24   AIC:                             277.9\n",
       "Df Residuals:                      20   BIC:                             282.6\n",
       "Df Model:                           3                                         \n",
       "Covariance Type:            nonrobust                                         \n",
       "===================================================================================\n",
       "                      coef    std err          t      P>|t|      [0.025      0.975]\n",
       "-----------------------------------------------------------------------------------\n",
       "Intercept         298.5000     51.876      5.754      0.000     190.288     406.712\n",
       "C(Price)[T.2.5]  -129.5000     36.682     -3.530      0.002    -206.017     -52.983\n",
       "C(Price)[T.3.0]  -281.0000     36.682     -7.660      0.000    -357.517    -204.483\n",
       "Advertising         4.4800      0.599      7.479      0.000       3.230       5.730\n",
       "==============================================================================\n",
       "Omnibus:                        6.165   Durbin-Watson:                   2.612\n",
       "Prob(Omnibus):                  0.046   Jarque-Bera (JB):                1.786\n",
       "Skew:                          -0.037   Prob(JB):                        0.409\n",
       "Kurtosis:                       1.666   Cond. No.                         306.\n",
       "==============================================================================\n",
       "\n",
       "Notes:\n",
       "[1] Standard Errors assume that the covariance matrix of the errors is correctly specified.\n",
       "\"\"\""
      ]
     },
     "execution_count": 91,
     "metadata": {},
     "output_type": "execute_result"
    }
   ],
   "source": [
    "# 无交互作用的模型\n",
    "model = smf.ols(formula = 'Sales ~ Advertising + C(Price)', data = tyler).fit()\n",
    "model.summary()"
   ]
  },
  {
   "cell_type": "code",
   "execution_count": 92,
   "id": "015c54d2",
   "metadata": {},
   "outputs": [
    {
     "data": {
      "text/html": [
       "<table class=\"simpletable\">\n",
       "<caption>OLS Regression Results</caption>\n",
       "<tr>\n",
       "  <th>Dep. Variable:</th>          <td>Sales</td>      <th>  R-squared:         </th> <td>   0.993</td>\n",
       "</tr>\n",
       "<tr>\n",
       "  <th>Model:</th>                   <td>OLS</td>       <th>  Adj. R-squared:    </th> <td>   0.991</td>\n",
       "</tr>\n",
       "<tr>\n",
       "  <th>Method:</th>             <td>Least Squares</td>  <th>  F-statistic:       </th> <td>   504.5</td>\n",
       "</tr>\n",
       "<tr>\n",
       "  <th>Date:</th>             <td>Thu, 14 Apr 2022</td> <th>  Prob (F-statistic):</th> <td>1.10e-18</td>\n",
       "</tr>\n",
       "<tr>\n",
       "  <th>Time:</th>                 <td>14:31:37</td>     <th>  Log-Likelihood:    </th> <td> -98.451</td>\n",
       "</tr>\n",
       "<tr>\n",
       "  <th>No. Observations:</th>      <td>    24</td>      <th>  AIC:               </th> <td>   208.9</td>\n",
       "</tr>\n",
       "<tr>\n",
       "  <th>Df Residuals:</th>          <td>    18</td>      <th>  BIC:               </th> <td>   216.0</td>\n",
       "</tr>\n",
       "<tr>\n",
       "  <th>Df Model:</th>              <td>     5</td>      <th>                     </th>     <td> </td>   \n",
       "</tr>\n",
       "<tr>\n",
       "  <th>Covariance Type:</th>      <td>nonrobust</td>    <th>                     </th>     <td> </td>   \n",
       "</tr>\n",
       "</table>\n",
       "<table class=\"simpletable\">\n",
       "<tr>\n",
       "               <td></td>                  <th>coef</th>     <th>std err</th>      <th>t</th>      <th>P>|t|</th>  <th>[0.025</th>    <th>0.975]</th>  \n",
       "</tr>\n",
       "<tr>\n",
       "  <th>Intercept</th>                   <td>  114.0000</td> <td>   18.889</td> <td>    6.035</td> <td> 0.000</td> <td>   74.315</td> <td>  153.685</td>\n",
       "</tr>\n",
       "<tr>\n",
       "  <th>C(Price)[T.2.5]</th>             <td>  -32.0000</td> <td>   26.714</td> <td>   -1.198</td> <td> 0.246</td> <td>  -88.123</td> <td>   24.123</td>\n",
       "</tr>\n",
       "<tr>\n",
       "  <th>C(Price)[T.3.0]</th>             <td>  175.0000</td> <td>   26.714</td> <td>    6.551</td> <td> 0.000</td> <td>  118.877</td> <td>  231.123</td>\n",
       "</tr>\n",
       "<tr>\n",
       "  <th>Advertising</th>                 <td>    6.9400</td> <td>    0.239</td> <td>   29.046</td> <td> 0.000</td> <td>    6.438</td> <td>    7.442</td>\n",
       "</tr>\n",
       "<tr>\n",
       "  <th>C(Price)[T.2.5]:Advertising</th> <td>   -1.3000</td> <td>    0.338</td> <td>   -3.847</td> <td> 0.001</td> <td>   -2.010</td> <td>   -0.590</td>\n",
       "</tr>\n",
       "<tr>\n",
       "  <th>C(Price)[T.3.0]:Advertising</th> <td>   -6.0800</td> <td>    0.338</td> <td>  -17.993</td> <td> 0.000</td> <td>   -6.790</td> <td>   -5.370</td>\n",
       "</tr>\n",
       "</table>\n",
       "<table class=\"simpletable\">\n",
       "<tr>\n",
       "  <th>Omnibus:</th>       <td> 0.543</td> <th>  Durbin-Watson:     </th> <td>   2.257</td>\n",
       "</tr>\n",
       "<tr>\n",
       "  <th>Prob(Omnibus):</th> <td> 0.762</td> <th>  Jarque-Bera (JB):  </th> <td>   0.639</td>\n",
       "</tr>\n",
       "<tr>\n",
       "  <th>Skew:</th>          <td>-0.276</td> <th>  Prob(JB):          </th> <td>   0.727</td>\n",
       "</tr>\n",
       "<tr>\n",
       "  <th>Kurtosis:</th>      <td> 2.421</td> <th>  Cond. No.          </th> <td>    933.</td>\n",
       "</tr>\n",
       "</table><br/><br/>Notes:<br/>[1] Standard Errors assume that the covariance matrix of the errors is correctly specified."
      ],
      "text/plain": [
       "<class 'statsmodels.iolib.summary.Summary'>\n",
       "\"\"\"\n",
       "                            OLS Regression Results                            \n",
       "==============================================================================\n",
       "Dep. Variable:                  Sales   R-squared:                       0.993\n",
       "Model:                            OLS   Adj. R-squared:                  0.991\n",
       "Method:                 Least Squares   F-statistic:                     504.5\n",
       "Date:                Thu, 14 Apr 2022   Prob (F-statistic):           1.10e-18\n",
       "Time:                        14:31:37   Log-Likelihood:                -98.451\n",
       "No. Observations:                  24   AIC:                             208.9\n",
       "Df Residuals:                      18   BIC:                             216.0\n",
       "Df Model:                           5                                         \n",
       "Covariance Type:            nonrobust                                         \n",
       "===============================================================================================\n",
       "                                  coef    std err          t      P>|t|      [0.025      0.975]\n",
       "-----------------------------------------------------------------------------------------------\n",
       "Intercept                     114.0000     18.889      6.035      0.000      74.315     153.685\n",
       "C(Price)[T.2.5]               -32.0000     26.714     -1.198      0.246     -88.123      24.123\n",
       "C(Price)[T.3.0]               175.0000     26.714      6.551      0.000     118.877     231.123\n",
       "Advertising                     6.9400      0.239     29.046      0.000       6.438       7.442\n",
       "C(Price)[T.2.5]:Advertising    -1.3000      0.338     -3.847      0.001      -2.010      -0.590\n",
       "C(Price)[T.3.0]:Advertising    -6.0800      0.338    -17.993      0.000      -6.790      -5.370\n",
       "==============================================================================\n",
       "Omnibus:                        0.543   Durbin-Watson:                   2.257\n",
       "Prob(Omnibus):                  0.762   Jarque-Bera (JB):                0.639\n",
       "Skew:                          -0.276   Prob(JB):                        0.727\n",
       "Kurtosis:                       2.421   Cond. No.                         933.\n",
       "==============================================================================\n",
       "\n",
       "Notes:\n",
       "[1] Standard Errors assume that the covariance matrix of the errors is correctly specified.\n",
       "\"\"\""
      ]
     },
     "execution_count": 92,
     "metadata": {},
     "output_type": "execute_result"
    }
   ],
   "source": [
    "# 有交互作用的模型\n",
    "model = smf.ols(formula = 'Sales ~ Advertising + C(Price) + C(Price) * Advertising', data = tyler).fit()\n",
    "model.summary()"
   ]
  },
  {
   "cell_type": "markdown",
   "id": "d8fadf12",
   "metadata": {},
   "source": [
    "对比两个结果，无交互作用的 $R^2(adj.) = 0.829$，有交互作用的 $R^2(adj.) = 0.991$。"
   ]
  },
  {
   "cell_type": "code",
   "execution_count": null,
   "id": "aabcb258",
   "metadata": {},
   "outputs": [],
   "source": []
  }
 ],
 "metadata": {
  "kernelspec": {
   "display_name": "Python 3 (ipykernel)",
   "language": "python",
   "name": "python3"
  },
  "language_info": {
   "codemirror_mode": {
    "name": "ipython",
    "version": 3
   },
   "file_extension": ".py",
   "mimetype": "text/x-python",
   "name": "python",
   "nbconvert_exporter": "python",
   "pygments_lexer": "ipython3",
   "version": "3.9.12"
  },
  "toc": {
   "base_numbering": 1,
   "nav_menu": {},
   "number_sections": true,
   "sideBar": true,
   "skip_h1_title": false,
   "title_cell": "Table of Contents",
   "title_sidebar": "Contents",
   "toc_cell": false,
   "toc_position": {},
   "toc_section_display": true,
   "toc_window_display": false
  }
 },
 "nbformat": 4,
 "nbformat_minor": 5
}
