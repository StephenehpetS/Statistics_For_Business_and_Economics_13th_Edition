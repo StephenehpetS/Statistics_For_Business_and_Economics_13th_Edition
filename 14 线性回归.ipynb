{
 "cells": [
  {
   "cell_type": "markdown",
   "id": "419b4f32",
   "metadata": {},
   "source": [
    "在回归术语中，我们把被预测的变量称为因变量（dependent variable），把用来预测因变量值的一个或多个变量称为自变量（independent variable）。\n",
    "\n",
    "例如，在分析广告费用对销售收人的影响时，市场销售经理想要预测销售收入的愿望使我们想到，应该用销售收入作为因变量，而用来帮助预测销售收入的广告费用应作为自变量。\n",
    "\n",
    "在统计符号上，$y$ 代表因变量，$x$ 代表自变量。\n",
    "\n",
    "在本章中，我们仅仅讨论最简单类型的回归分析，它只包括一个自变量和一个因变量，二者之间的关\n",
    "系可以用一条直线近似表示。这种回归分析被称为简单线性回归（simple linear regression）。\n",
    "\n",
    "包括两个或两个以上自变量的回归分析被称为多元回归分析。多元回归和涉及曲线关系的情形，将在第 15 章和第 16 章中介绍。\n",
    "\n",
    "# 简单线性回归模型\n",
    "\n",
    "推荐教程：[Univariate Regression](http://web.vu.lt/mif/a.buteikis/wp-content/uploads/PE_Book/3-univariate-reg.html)\n",
    "\n",
    "描述 $y$ 如何依赖于 $x$ 和误差项的方程称为回归模型（regression model）。\n",
    "\n",
    "$$y = \\beta_0 + \\beta_1 x + \\varepsilon$$\n",
    "\n",
    "其中\n",
    "- $\\beta_0$ 和 $\\beta_1$ 被称为模型的参数，不是一个随机变量，而是客观存在的，在现实中一定有的具体的量，正是因为有这两个参数，才使得 $x$ 可以影响 $y$。\n",
    "- $\\varepsilon$ 是一个随机变量，被称为模型的误差项。误差项说明了包含在 $y$ 里，但不能被 $x$ 和 $y$ 之间的线性关系解释的变异性。如果线性回归模型能够很好地描述 $y$ 的变动，那 $\\varepsilon$ 一定是一个随机变动项，且均值为 0。\n",
    "\n",
    "简单线性回归方程\n",
    "\n",
    "$$E(y) = \\beta_0 + \\beta_1 x$$\n",
    "\n",
    "- $\\beta_0$ 是回归直线的 $y$ 轴截距\n",
    "- $\\beta_1$ 是斜率\n",
    "\n",
    "## 样本估计的回归方程\n",
    "\n",
    "$$\\hat{y} = b_0 + b_1 x$$\n",
    "\n",
    "- $b_0$ 和 $b_1$ 是总体参数 $\\beta_0$ 和 $\\beta_1$ 的样本估计量\n",
    "\n",
    "总体回归直线只有一条，而样本回归直线，根据抽样结果的不同，会有很多条。"
   ]
  },
  {
   "cell_type": "markdown",
   "id": "06ef1726",
   "metadata": {},
   "source": [
    "# 模型的假定\n",
    "\n",
    "关于回归模型 $y=\\beta_0 + \\beta_1 x + \\varepsilon$ 的误差项 $\\varepsilon$ 的假定\n",
    "1. 误差项 $\\varepsilon$ 是一个平均值或期望值为 0 的随机变量，即 $E(\\varepsilon) = 0$。\n",
    "\n",
    "    这就意味着因为 $\\beta_0$ 和 $\\beta_1$ 都是常数，所以有 $E(\\beta_0) = \\beta_0$ 和 $E(\\beta_1) = \\beta_1$。对于一个给定的 $x$ 值，$y$ 的期望值是：\n",
    "\n",
    "    $$E(y) = \\beta_0 + \\beta_1 x$$\n",
    "\n",
    "\n",
    "2. 对所有的 $x$ 值，$\\varepsilon$ 的方差都是相同的。我们用 $\\sigma^2$ 表示 $\\varepsilon$ 的方差。\n",
    "\n",
    "    这就意味着 $y$ 关于回归直线的方差等于 $\\sigma^2$ ，也就是说对所有的 $x$ 值，$y$ 的方差都是相等的。\n",
    "\n",
    "\n",
    "3. $\\varepsilon$ 的值是相互独立的。\n",
    "\n",
    "    这就意味着对于一个特定的 $x$ 值，它所对应的值与任何其他的 $x$ 值所对应的值不相关。\n",
    "\n",
    "    于是，对于一个特定的 $x$ 值，它所对应的 $y$ 值与任何其他的 $x$ 值所对应的 $y$ 值也不相关。\n",
    "\n",
    "\n",
    "4. 对所有的 $x$ 值，误差项 $\\varepsilon$ 是一个正态分布的随机变量。\n",
    "\n",
    "    这就意味着因为 $y$ 是 $\\varepsilon$ 的一个线性函数，所以对所有的 $x$ 值，$y$ 也是一个正态分布的随机变量。如果不是随机的，那就会产生内生性问题。"
   ]
  },
  {
   "cell_type": "markdown",
   "id": "1909eb87",
   "metadata": {},
   "source": [
    "# 最小二乘法\n",
    "\n",
    "最小二乘法是利用样本数据建立估计的回归方程的一种方法。（其中，二乘就是平方的意思）\n",
    "\n",
    "假定由位于大学校园附近的 10 家 Armand 比萨饼连锁店组成了一个样本，并对这个样本采集有关数据。\n",
    "\n",
    "对于样本中的第个观测值或第 i 家连锁店，$x_i$ 表示学生人数（单位：1000人），$y_i$ 表示季度销售收人（单位：1000美元）。\n",
    "\n",
    "样本中 10 家 Armand 比萨饼连锁店的 $x_i$ 和 $y_i$ 的数值如下列所示。\n",
    "\n",
    "我们看到对于第 1 家连锁店，$x_1=2$，$y_1=58$，表示这家连锁店位于有 2000 名学生的校园附近，它的季度销售收入为 58000 美元。"
   ]
  },
  {
   "cell_type": "code",
   "execution_count": 2,
   "id": "611bf947",
   "metadata": {},
   "outputs": [],
   "source": [
    "import pandas as pd\n",
    "import seaborn as sb\n",
    "import numpy as np\n",
    "import matplotlib.pyplot as plt\n",
    "from matplotlib.lines import Line2D\n",
    "\n",
    "from pathlib import Path\n",
    "#设置数据文件夹路径\n",
    "DATA = Path().resolve()  / 'data'"
   ]
  },
  {
   "cell_type": "code",
   "execution_count": 3,
   "id": "2562ed1b",
   "metadata": {},
   "outputs": [],
   "source": [
    "df = pd.read_csv(DATA / 'Armand\\'s.csv')\n",
    "df = df.set_index('Restaurant')\n",
    "armand = df.iloc[:,0:2]\n",
    "x = armand['Population']\n",
    "y = armand['Sales']"
   ]
  },
  {
   "cell_type": "code",
   "execution_count": 4,
   "id": "bcdd42e7",
   "metadata": {},
   "outputs": [
    {
     "data": {
      "image/png": "[encoded data removed]",
      "text/plain": [
       "<Figure size 432x288 with 1 Axes>"
      ]
     },
     "metadata": {
      "needs_background": "light"
     },
     "output_type": "display_data"
    }
   ],
   "source": [
    "_ = plt.figure(0)\n",
    "_ = plt.plot(x, y, linestyle = \"None\", marker = \"o\", markerfacecolor='none');\n",
    "#_ = plt.legend(handles = legend_lines, loc = 'upper left')\n",
    "plt.show()"
   ]
  },
  {
   "cell_type": "markdown",
   "id": "3d313e1b",
   "metadata": {},
   "source": [
    "最小二乘法准则\n",
    "\n",
    "$$min\\sum{(y_i - \\hat{y}_i)^2}$$\n",
    "\n",
    "其中：\n",
    "- $y_i$ 为对于第 $i$ 次观测因变量的**观测**值；$\\hat{y}_i$ 为对第 $i$ 次观测因变量的**预测**值，二者之差就是残差。残差是样本点与样本回归直线的**纵向距离**。实际上残差是样本回归直线不能够解释的，因变量方向的信息。\n",
    "\n",
    "- 最小二乘法的目标，就是使得残差平方和最小。为什么要平方呢？因为方向有是正负，残差的原始值有可能是正的，也有可能是负的。平方是为了消除方向对计算的影响。\n",
    "\n",
    "估计的回归方程的斜率和 $y$ 轴截距\n",
    "\n",
    "$$b_1 = \\frac{\\sum{(x_i - \\bar{x})(y_i - \\bar{y})}}{\\sum{(x_i - \\bar{x})^2}}$$\n",
    "\n",
    "$$b_0 = \\bar{y} - b_1\\bar{x}$$\n",
    "\n",
    "下面我们展示一下，最小二乘法的运算过程："
   ]
  },
  {
   "cell_type": "code",
   "execution_count": 8,
   "id": "a3ed0247",
   "metadata": {},
   "outputs": [],
   "source": [
    "armand['x_i - bar x'] = armand['Population'] - armand['Population'].mean()\n",
    "armand['y_i - bar y'] = armand['Sales'] - armand['Sales'].mean()\n",
    "armand['(x_i - bar x)(y_i - bar y)'] = armand['x_i - bar x'] * armand['y_i - bar y']\n",
    "armand['(x_i - bar x)^2'] = pow(armand['x_i - bar x'],2)\n",
    "armand['(x_i - bar x)^2'].sum()\n",
    "b_1 = armand['(x_i - bar x)(y_i - bar y)'].sum() / armand['(x_i - bar x)^2'].sum()\n",
    "bar_y = armand['Sales'].mean()\n",
    "bar_x = armand['Population'].mean()"
   ]
  },
  {
   "cell_type": "code",
   "execution_count": 9,
   "id": "b8e50a81",
   "metadata": {},
   "outputs": [
    {
     "data": {
      "image/png": "[encoded data removed]",
      "text/plain": [
       "<Figure size 432x288 with 1 Axes>"
      ]
     },
     "metadata": {
      "needs_background": "light"
     },
     "output_type": "display_data"
    }
   ],
   "source": [
    "armand['y_ce'] = 60 + 5 * x\n",
    "y_ce = armand['y_ce']\n",
    "\n",
    "_ = plt.figure(0)\n",
    "_ = plt.plot(x, y, linestyle = \"None\", marker = \"o\", markerfacecolor='none');\n",
    "_ = plt.plot(x, y_ce, linestyle = \"-\", color = \"red\");\n",
    "legend_lines = [Line2D([0], [0], color = \"red\", \n",
    "                        label='$E(Y|X) = \\\\beta_0 + \\\\beta_1 X$'),\n",
    "                Line2D([0], [0], linestyle = \"None\", markerfacecolor = \"None\",\n",
    "                      marker = \"o\", label='sample data')]\n",
    "_ = plt.legend(handles = legend_lines, loc = 'upper left')\n",
    "plt.show()"
   ]
  },
  {
   "cell_type": "markdown",
   "id": "58ae4236",
   "metadata": {},
   "source": [
    "结合上面的结算结果可得：\n",
    "- $b_1 = 5$\n",
    "- $\\bar{x} = 14$\n",
    "- $\\bar{y} = 130$\n",
    "- $b_0 = \\bar{y} - b_1 \\bar{x} = 130 - 5 \\times 14 = 60$\n",
    "\n",
    "估计的回归方程是：\n",
    "\n",
    "$$\\hat{y} = 60 + 5x$$\n",
    "\n",
    "我们再看一下，估计的回归方程的斜率和 $y$ 轴截距\n",
    "\n",
    "$$b_1 = \\frac{\\sum{(x_i - \\bar{x})(y_i - \\bar{y})}}{\\sum{(x_i - \\bar{x})^2}}$$\n",
    "\n",
    "可以将其转化成\n",
    "\n",
    "$$b_1 = \\frac{Cov\\left(x, y\\right)}{Var\\left(x\\right)}$$\n",
    "\n",
    "$$b_0 = \\bar{y} - b_1\\bar{x}$$\n",
    "\n",
    "下面我们用一个随机生成的数据集来进行演示"
   ]
  },
  {
   "cell_type": "code",
   "execution_count": 10,
   "id": "8322d09d",
   "metadata": {},
   "outputs": [
    {
     "data": {
      "image/png": "[encoded data removed]",
      "text/plain": [
       "<Figure size 720x576 with 1 Axes>"
      ]
     },
     "metadata": {
      "needs_background": "light"
     },
     "output_type": "display_data"
    }
   ],
   "source": [
    "import numpy as np\n",
    "import pandas as pd\n",
    "import matplotlib.pyplot as plt\n",
    "#\n",
    "np.random.seed(234)\n",
    "# Set the coefficients:\n",
    "N = 50\n",
    "beta_0 = 1\n",
    "beta_1 = 0.5\n",
    "# Generate sample data:\n",
    "x = np.arange(start = 0, stop = N + 1, step = 1)\n",
    "#x = list(range(0, N + 1)) # not np.ndarray \n",
    "e = np.random.normal(loc = 0, scale = 1, size = len(x))\n",
    "y = beta_0 + beta_1 * x + e\n",
    "# Plot the data\n",
    "_ = plt.figure(num = 0, figsize = (10, 8))\n",
    "_ = plt.plot(x, y, linestyle = \"None\", marker = \"o\", markerfacecolor = 'none')\n",
    "plt.show()"
   ]
  },
  {
   "cell_type": "code",
   "execution_count": 11,
   "id": "86de5f0c",
   "metadata": {},
   "outputs": [
    {
     "name": "stdout",
     "output_type": "stream",
     "text": [
      "Estimated beta_0 = 0.8385362094098401. True beta_0 = 1\n",
      "Estimated beta_1 = 0.5099221954865624. True beta_1 = 0.5\n",
      "With bias = False (default) the estimate of beta_1 is biased: 0.5201206393962936\n",
      "With sample variance the estimate of beta_1 is unbiased: 0.5099221954865624\n"
     ]
    }
   ],
   "source": [
    "beta_1_est = np.cov(x, y, bias = True)[0][1] / np.var(x)\n",
    "beta_0_est = np.mean(y) - beta_1_est * np.mean(x)\n",
    "print(\"Estimated beta_0 = \" + str(beta_0_est) + \". True beta_0 = \" + str(beta_0))\n",
    "print(\"Estimated beta_1 = \" + str(beta_1_est) + \". True beta_1 = \" + str(beta_1))\n",
    "print(\"With bias = False (default) the estimate of beta_1 is biased: \" + str(np.cov(x, y)[0][1] / np.var(x)))\n",
    "print(\"With sample variance the estimate of beta_1 is unbiased: \" +  str(np.cov(x, y)[0][1] / np.var(x, ddof = 1)))"
   ]
  },
  {
   "cell_type": "markdown",
   "id": "2a76c40c",
   "metadata": {},
   "source": [
    "除了使用协方差，我们也可以使用矩阵计算出两个参数"
   ]
  },
  {
   "cell_type": "code",
   "execution_count": 12,
   "id": "1ddc5668",
   "metadata": {},
   "outputs": [
    {
     "name": "stdout",
     "output_type": "stream",
     "text": [
      "[0.83853621 0.5099222 ]\n",
      "[0.83853621 0.5099222 ]\n"
     ]
    }
   ],
   "source": [
    "x_mat = np.column_stack((np.ones(len(x)), x))\n",
    "beta_mat = np.dot(np.linalg.inv(np.dot(np.transpose(x_mat), x_mat)), np.dot(np.transpose(x_mat), y))\n",
    "print(beta_mat)\n",
    "print(np.linalg.inv(x_mat.T @ x_mat) @ x_mat.T @ y)"
   ]
  },
  {
   "cell_type": "code",
   "execution_count": 13,
   "id": "f18f0516",
   "metadata": {},
   "outputs": [
    {
     "name": "stdout",
     "output_type": "stream",
     "text": [
      "[0.83853621 0.5099222 ]\n"
     ]
    }
   ],
   "source": [
    "import statsmodels.api as sm\n",
    "#\n",
    "x_mat = sm.add_constant(x)  # Add a constant column - not optional!\n",
    "lm_model = sm.OLS(y, x_mat) # Create the OLS regression object\n",
    "lm_fit = lm_model.fit()     # Estimate the parameters\n",
    "print(lm_fit.params)        # Extract the parameter estimates"
   ]
  },
  {
   "cell_type": "code",
   "execution_count": 14,
   "id": "036def84",
   "metadata": {},
   "outputs": [
    {
     "data": {
      "image/png": "[encoded data removed]",
      "text/plain": [
       "<Figure size 720x576 with 1 Axes>"
      ]
     },
     "metadata": {
      "needs_background": "light"
     },
     "output_type": "display_data"
    }
   ],
   "source": [
    "# The unknown DGP:\n",
    "y_dgp = beta_0 + beta_1 * x\n",
    "# The fitted values:\n",
    "y_fit = beta_mat[0] + beta_mat[1] * x\n",
    "# Plot the sample data\n",
    "_ = plt.figure(num = 0, figsize = (10, 8))\n",
    "_ = plt.plot(x, y, linestyle = \"None\", marker = \"o\", markerfacecolor = 'green')\n",
    "_ = plt.title(\"Scatter diagram of (X,Y) sample data and the regression line\")\n",
    "# Plot the Unknown Population regression:\n",
    "_ = plt.plot(x, y_dgp, linestyle = \"--\", color = \"green\", \n",
    "              label='$E(Y|X) = \\\\beta_0 + \\\\beta_1 X$')\n",
    "# Plot the fitted regression line:\n",
    "_ = plt.plot(x, y_fit, linestyle = \"-\", color = \"blue\",\n",
    "              label='$\\widehat{Y} = \\widehat{\\\\beta}_0 + \\widehat{\\\\beta}_1 X$')\n",
    "_ = plt.legend()\n",
    "plt.show()"
   ]
  },
  {
   "cell_type": "code",
   "execution_count": 15,
   "id": "10c3431f",
   "metadata": {},
   "outputs": [
    {
     "data": {
      "image/png": "[encoded data removed]",
      "text/plain": [
       "<Figure size 720x576 with 1 Axes>"
      ]
     },
     "metadata": {
      "needs_background": "light"
     },
     "output_type": "display_data"
    }
   ],
   "source": [
    "_ = plt.figure(num = 1, figsize=(10, 8))\n",
    "_ = plt.plot(x, y, linestyle = \"None\", marker = \"o\", markerfacecolor = 'black')\n",
    "_ = plt.ylim(ymin = 0, ymax = 12)\n",
    "_ = plt.xlim(xmin = 10, xmax = 20)\n",
    "_ = plt.title(\"Scatter diagram of (X,Y) sample data and the regression line\")\n",
    "_ = plt.plot(x, y_dgp, linestyle = \"--\", color = \"green\")\n",
    "# Add Axis labels and ticks at specific positions:\n",
    "_ = plt.xticks([x[12], x[16]], [\"$X_{13}$\", \"$X_{17}$\"])\n",
    "# Add vertical lines:\n",
    "_ = plt.plot([x[12], x[12]], [0, y_fit[12]], '--', color = \"black\")\n",
    "_ = plt.plot([x[12], x[12]], [0, y[12]], '-', color = \"black\")\n",
    "_ = plt.plot([x[16], x[16]], [0, y[16]], '-', color = \"black\")\n",
    "# Add some brackets:\n",
    "_ = plt.annotate(\"\", xy = (x[12]*0.955, y[12] / 2), \n",
    "             xytext = (x[12]*0.975, y[12] / 2),\n",
    "             arrowprops = dict(arrowstyle = \"]-, widthA=10.3,lengthA=1\",\n",
    "                               connectionstyle = \"arc\", color='blue'))\n",
    "_ = plt.annotate(\"\", xy = (x[12]*1.015, y_fit[12] / 2),\n",
    "             xytext = (x[12]*1.035, y_fit[12] / 2),\n",
    "             arrowprops = dict(arrowstyle = \"-[, widthB=12.5,lengthB=1\",\n",
    "                               connectionstyle = \"arc\", color='red'))\n",
    "_ = plt.annotate(\"\", xy = (x[16]*1.015, y_fit[16] / 2), \n",
    "             xytext = (x[16]*1.035, y_fit[16] / 2),\n",
    "             arrowprops = dict(arrowstyle = \"-[, widthB=16.2,lengthB=1.2\",\n",
    "                               connectionstyle = \"arc\", color='red'))\n",
    "_ = plt.annotate(\"\", xy = (x[16]*1.015, (y[16] + y_fit[16]) / 2),\n",
    "             xytext = (x[16]*1.035, (y[16] + y_fit[16]) / 2),\n",
    "             arrowprops = dict(arrowstyle = \"-[, widthB=2.5,lengthB=1.2\",\n",
    "                               connectionstyle = \"arc\", color='blue'))\n",
    "# Add Actual, Fitted and Residual indicator text:\n",
    "_ = plt.text(x[12]*0.93, y[12] / 2.1, r'$Y_{13}$', fontsize = 10)\n",
    "_ = plt.text(x[12]*1.04, y_fit[12] / 2.1, r'$\\widehat{Y}_{13}$', fontsize = 10)\n",
    "_ = plt.text(x[16]*1.04, y_fit[16] / 2.1, \n",
    "  r'$\\widehat{Y}_6$ = fitted value', fontsize = 10)\n",
    "_ = plt.text(x[16]*1.04, (y[16] + y_fit[16]) / 2.02, \n",
    "  r'$\\widehat{\\epsilon}_6$ = residual', fontsize = 10)\n",
    "# Add Regression line\n",
    "_ = plt.text(x[17] - 0.2, y[20], \n",
    "  r'$\\widehat{Y} = \\widehat{\\beta}_0 + \\widehat{\\beta}_1 X$', fontsize = 10)\n",
    "_ = plt.annotate(\"\", xy = (x[19], y_fit[19]), xytext = (x[18]*0.99, y[20]),\n",
    "            arrowprops = dict(arrowstyle = \"->\", \n",
    "                              connectionstyle = \"arc\", color='red'))\n",
    "plt.show()"
   ]
  },
  {
   "cell_type": "code",
   "execution_count": 17,
   "id": "ccc770f8",
   "metadata": {},
   "outputs": [
    {
     "name": "stdout",
     "output_type": "stream",
     "text": [
      "Sum of the residuals: 2.2160051571518125e-13\n",
      "Sum of X*resid: 9.563905223330949e-12\n",
      "Sample covariance of X and residuals: 8.054223954445661e-14\n",
      "Predicted value with mean(X): 13.586591096573896\n",
      "Sample mean of Y: 13.5865910965739\n",
      "[0.26999713 0.00930656]\n",
      "[0.26999713 0.00930656]\n"
     ]
    }
   ],
   "source": [
    "resid = y - y_fit\n",
    "print(\"Sum of the residuals: \" + str(sum(resid)))\n",
    "print(\"Sum of X*resid: \" + str(sum(np.array(resid) * np.array(x))))\n",
    "print(\"Sample covariance of X and residuals: \" + str(np.cov(resid, x)[0][1]))\n",
    "print(\"Predicted value with mean(X): \" + str(beta_mat[0] + beta_mat[1] * np.mean(x)))\n",
    "print(\"Sample mean of Y: \" + str(np.mean(y)))\n",
    "\n",
    "sigma2_est = sum(resid**2) / (len(x) - 2)\n",
    "var_beta = sigma2_est * np.linalg.inv(np.dot(np.transpose(x_mat), x_mat))\n",
    "print(np.sqrt(np.diag(var_beta)))\n",
    "print(lm_fit.bse)"
   ]
  },
  {
   "cell_type": "code",
   "execution_count": 18,
   "id": "a77e425e",
   "metadata": {},
   "outputs": [],
   "source": [
    "np.random.seed(1)\n",
    "# Set the sample size:\n",
    "N = [10, 100, 1000]\n",
    "#\n",
    "beta_0_est = []\n",
    "beta_1_est = []\n",
    "# Generate samples of different sizes:\n",
    "for n in N:\n",
    "    x = np.arange(start = 0, stop = n + 1, step = 1)\n",
    "    x_mat = np.column_stack((np.ones(len(x)), x))\n",
    "    xtx = np.dot(np.transpose(x_mat), x_mat)\n",
    "    # Repeatedly generate a random sample and estimate the parameters\n",
    "    beta_0_temp = []\n",
    "    beta_1_temp = []\n",
    "    for smpl in range(0, 5000):\n",
    "        # Generate Y:\n",
    "        e = np.random.normal(loc = 0, scale = 1, size = len(x))\n",
    "        y = beta_0 + beta_1 * x + e\n",
    "        # Estimate the parameters:\n",
    "        xty = np.dot(np.transpose(x_mat), y)\n",
    "        beta_mat = np.dot(np.linalg.inv(xtx), xty)\n",
    "        # Save the estimated parameters:\n",
    "        beta_0_temp = np.append(beta_0_temp, [beta_mat[0]])\n",
    "        beta_1_temp = np.append(beta_1_temp, [beta_mat[1]])\n",
    "    # Save all the estimated parameters to one parameter matrix\n",
    "    # each column represents the different sample size from N:\n",
    "    if len(beta_0_est) == 0 and len(beta_1_est) == 0:\n",
    "        beta_0_est = beta_0_temp\n",
    "        beta_1_est = beta_1_temp\n",
    "    else:\n",
    "        beta_0_est = np.vstack((beta_0_est, beta_0_temp))\n",
    "        beta_1_est = np.vstack((beta_1_est, beta_1_temp))"
   ]
  },
  {
   "cell_type": "code",
   "execution_count": 19,
   "id": "9d64ef6e",
   "metadata": {},
   "outputs": [
    {
     "name": "stdout",
     "output_type": "stream",
     "text": [
      "True beta_0 = 1. True beta_1 = 0.5\n",
      "With N = 10: the AVERAGE of the estimated parameters:\n",
      "\t beta_0: 1.00437\n",
      "\t beta_1: 0.49984\n",
      "With N = 10: the VARIANCE of the estimated parameters:\n",
      "\t beta_0: 0.3178\n",
      "\t beta_1: 0.00904\n",
      "\n",
      "\n",
      "With N = 100: the AVERAGE of the estimated parameters:\n",
      "\t beta_0: 0.99789\n",
      "\t beta_1: 0.50006\n",
      "With N = 100: the VARIANCE of the estimated parameters:\n",
      "\t beta_0: 0.03896\n",
      "\t beta_1: 1e-05\n",
      "\n",
      "\n",
      "With N = 1000: the AVERAGE of the estimated parameters:\n",
      "\t beta_0: 0.99957\n",
      "\t beta_1: 0.5\n",
      "With N = 1000: the VARIANCE of the estimated parameters:\n",
      "\t beta_0: 0.00394\n",
      "\t beta_1: 0.0\n",
      "\n",
      "\n"
     ]
    }
   ],
   "source": [
    "print(\"True beta_0 = \" + str(beta_0) + \". True beta_1 = \" + str(beta_1))\n",
    "for i in range(0, len(N)):\n",
    "    print(\"With N = \" + str(N[i]) + \":\" +\n",
    "          \" the AVERAGE of the estimated parameters:\" +\n",
    "          \"\\n\\t beta_0: \" + str(np.round(np.mean(beta_0_est[i]), 5)) +\n",
    "          \"\\n\\t beta_1: \" + str(np.round(np.mean(beta_1_est[i]), 5)))\n",
    "    print(\"With N = \" + str(N[i]) + \":\" +\n",
    "          \" the VARIANCE of the estimated parameters:\" +\n",
    "          \"\\n\\t beta_0: \" + str(np.round(np.var(beta_0_est[i]), 5)) + \n",
    "          \"\\n\\t beta_1: \" + str(np.round(np.var(beta_1_est[i]), 5)))\n",
    "    print(\"\\n\")"
   ]
  },
  {
   "cell_type": "code",
   "execution_count": 20,
   "id": "72c13e62",
   "metadata": {},
   "outputs": [
    {
     "data": {
      "image/png": "[encoded data removed]",
      "text/plain": [
       "<Figure size 720x720 with 6 Axes>"
      ]
     },
     "metadata": {
      "needs_background": "light"
     },
     "output_type": "display_data"
    }
   ],
   "source": [
    "fig = plt.figure(figsize = (10, 10))\n",
    "for i in range(0, len(N)):\n",
    "    _ = fig.add_subplot(int('32' + str(i*2+1))).hist(beta_0_est[i], \n",
    "                    bins = 20, histtype = 'bar', \n",
    "                    color = \"cornflowerblue\", ec = 'black')\n",
    "    _ = plt.title(\"Histogram of $\\\\widehat{\\\\beta}_0$ with N = \" + str(N[i]))\n",
    "    _ = fig.add_subplot(int('32' + str((i+1)*2))).hist(beta_1_est[i], \n",
    "                    bins = 20, histtype = 'bar', \n",
    "                    color = \"cornflowerblue\", ec = 'black')\n",
    "    _ = plt.title(\"Histogram of $\\\\widehat{\\\\beta}_1$ with N = \" + str(N[i]))\n",
    "plt.tight_layout()\n",
    "plt.show()"
   ]
  },
  {
   "cell_type": "markdown",
   "id": "d552382a",
   "metadata": {},
   "source": [
    "$\\beta_0$ 和 $\\beta_1$ 的几何意义：\n",
    "- $\\beta_0$：纵截距\n",
    "- $\\beta_1$：自变量 $x$：变动 a 个单位时，因变量 y 的变动幅度为 $\\beta_1 \\times x$ "
   ]
  },
  {
   "cell_type": "code",
   "execution_count": 21,
   "id": "04b87fb0",
   "metadata": {},
   "outputs": [
    {
     "data": {
      "image/png": "[encoded data removed]",
      "text/plain": [
       "<Figure size 720x576 with 1 Axes>"
      ]
     },
     "metadata": {
      "needs_background": "light"
     },
     "output_type": "display_data"
    }
   ],
   "source": [
    "np.random.seed(123)\n",
    "#\n",
    "N = 100\n",
    "beta_0 = 10\n",
    "beta_1 = 5\n",
    "x = np.linspace(start = 0, stop = 10, num = N)\n",
    "e = np.random.normal(loc = 0, scale = 5, size = len(x))\n",
    "y = beta_0 + beta_1 * x + e\n",
    "# Conditional expectation of Y, given X\n",
    "E_y = beta_0 + beta_1 * x\n",
    "# Plot the data\n",
    "_ = plt.figure(num = 1, figsize = (10, 8))\n",
    "_ = plt.plot(x, y, linestyle = \"None\", marker = \"o\", \n",
    "            label = \"$Y = \\\\beta_0 + \\\\beta_1 X + \\\\epsilon$\",\n",
    "            markerfacecolor = 'None', markeredgecolor = \"darkgreen\")\n",
    "_ = plt.margins(x = 0)\n",
    "_ = plt.ylim([0, max(y)])\n",
    "# Plot the conditional expectation E(Y|X)\n",
    "_ = plt.plot(x, E_y, linestyle = \"-\", color = \"blue\", \n",
    "            label='$E(Y|X) = \\\\beta_0 + \\\\beta_1 X$')\n",
    "# plot beta_0\n",
    "_ = plt.annotate(\"\", xy = (0.5, E_y[0] / 2), \n",
    "             xytext = (0.2, E_y[0] / 2),\n",
    "             arrowprops = dict(arrowstyle = \"]-, widthA=3.5,lengthA=1\",\n",
    "                               connectionstyle = \"arc\", color='red'))\n",
    "_ = plt.text(0.5, E_y[0] / 2, '$\\\\beta_0$, intercept', fontsize = 10)\n",
    "# plot beta_1\n",
    "_ = plt.plot([4, 5], [beta_0 + beta_1 * 4]*2, \n",
    "            linestyle = \"--\", color = \"red\")\n",
    "_ = plt.plot([5, 5], beta_0 + beta_1 * np.array([4, 5]), \n",
    "            linestyle = \"--\", color = \"red\")\n",
    "_ = plt.annotate(\"\", xy = (5.5, beta_0 + beta_1 * 4.5), \n",
    "             xytext = (5.2, beta_0 + beta_1 * 4.5),\n",
    "             arrowprops = dict(arrowstyle = \"]-, widthA=1.8,lengthA=1\",\n",
    "                               connectionstyle = \"arc\", color='red'))\n",
    "_ = plt.text(4, beta_0 + beta_1 * 3.3, 'unit increase in $X$', fontsize = 10)\n",
    "_ = plt.annotate(\"\", xy = (4.5, beta_0 + beta_1 * 3.5), \n",
    "             xytext = (4.5, beta_0 + beta_1 * 3.8),\n",
    "             arrowprops = dict(arrowstyle = \"]-, widthA=2.8,lengthA=1\",\n",
    "                               connectionstyle = \"arc\", color='red'))\n",
    "_ = plt.text(5.5, beta_0 + beta_1 * 4.5, '$\\\\beta_1$, slope', fontsize = 10)\n",
    "_ = plt.legend()\n",
    "plt.show()"
   ]
  },
  {
   "cell_type": "markdown",
   "id": "e3d6a379",
   "metadata": {},
   "source": [
    "# 判定系数\n",
    "\n",
    "判定系数由三个部分组成：\n",
    "\n",
    "- 总平方和：代表全部数据的离散程度\n",
    "\n",
    "$$ SST = \\sum{(y_i - \\bar{y})^2} $$\n",
    "\n",
    "- 回归平方和：具体的样本回归方程 $\\hat{y}$ 和整体的回归直线 $\\bar{y}$ 之间的距离。SSR 实际上就是回归方程能够解释的那部分离散程度。\n",
    "\n",
    "$$ SSR = \\sum{(\\hat{y} - \\bar{y})^2} $$\n",
    "\n",
    "- 误差平方和：\n",
    "\n",
    "$$ SSE = \\sum{(y_i - \\hat{y}_i)^2} $$\n",
    "\n",
    "- $y_i$：因变量的观测值\n",
    "- $\\hat{y}_i$：因变量的预测值\n",
    "- $\\bar{y}$：因变量的均值\n",
    "\n",
    "$$ SST = SSR + SSE $$\n",
    "\n",
    "$$ r^2 = \\frac{SSR}{SST} $$\n",
    "\n",
    "实际的意义就是：回归方程，整体而言，在多大程度上能够解释全部的数据离散程度（离散程度 = 数据蕴含的的信息）。\n",
    "\n",
    "决定系数：现有的方程能够诠释多少原始的统计信息。\n",
    "\n",
    "我们来看看，案例数据的这几个统计量："
   ]
  },
  {
   "cell_type": "code",
   "execution_count": 22,
   "id": "fdc48a98",
   "metadata": {},
   "outputs": [
    {
     "data": {
      "text/html": [
       "<div>\n",
       "<style scoped>\n",
       "    .dataframe tbody tr th:only-of-type {\n",
       "        vertical-align: middle;\n",
       "    }\n",
       "\n",
       "    .dataframe tbody tr th {\n",
       "        vertical-align: top;\n",
       "    }\n",
       "\n",
       "    .dataframe thead th {\n",
       "        text-align: right;\n",
       "    }\n",
       "</style>\n",
       "<table border=\"1\" class=\"dataframe\">\n",
       "  <thead>\n",
       "    <tr style=\"text-align: right;\">\n",
       "      <th></th>\n",
       "      <th>Population</th>\n",
       "      <th>Sales</th>\n",
       "    </tr>\n",
       "    <tr>\n",
       "      <th>Restaurant</th>\n",
       "      <th></th>\n",
       "      <th></th>\n",
       "    </tr>\n",
       "  </thead>\n",
       "  <tbody>\n",
       "    <tr>\n",
       "      <th>1</th>\n",
       "      <td>2</td>\n",
       "      <td>58</td>\n",
       "    </tr>\n",
       "    <tr>\n",
       "      <th>2</th>\n",
       "      <td>6</td>\n",
       "      <td>105</td>\n",
       "    </tr>\n",
       "    <tr>\n",
       "      <th>3</th>\n",
       "      <td>8</td>\n",
       "      <td>88</td>\n",
       "    </tr>\n",
       "    <tr>\n",
       "      <th>4</th>\n",
       "      <td>8</td>\n",
       "      <td>118</td>\n",
       "    </tr>\n",
       "    <tr>\n",
       "      <th>5</th>\n",
       "      <td>12</td>\n",
       "      <td>117</td>\n",
       "    </tr>\n",
       "  </tbody>\n",
       "</table>\n",
       "</div>"
      ],
      "text/plain": [
       "            Population  Sales\n",
       "Restaurant                   \n",
       "1                    2     58\n",
       "2                    6    105\n",
       "3                    8     88\n",
       "4                    8    118\n",
       "5                   12    117"
      ]
     },
     "execution_count": 22,
     "metadata": {},
     "output_type": "execute_result"
    }
   ],
   "source": [
    "df = pd.read_csv(DATA / 'Armand\\'s.csv')\n",
    "df = df.set_index('Restaurant')\n",
    "armand = df.iloc[:,0:2]\n",
    "armand.head()"
   ]
  },
  {
   "cell_type": "code",
   "execution_count": 23,
   "id": "e100d02a",
   "metadata": {},
   "outputs": [
    {
     "data": {
      "text/html": [
       "<div>\n",
       "<style scoped>\n",
       "    .dataframe tbody tr th:only-of-type {\n",
       "        vertical-align: middle;\n",
       "    }\n",
       "\n",
       "    .dataframe tbody tr th {\n",
       "        vertical-align: top;\n",
       "    }\n",
       "\n",
       "    .dataframe thead th {\n",
       "        text-align: right;\n",
       "    }\n",
       "</style>\n",
       "<table border=\"1\" class=\"dataframe\">\n",
       "  <thead>\n",
       "    <tr style=\"text-align: right;\">\n",
       "      <th></th>\n",
       "      <th>Population</th>\n",
       "      <th>Sales</th>\n",
       "      <th>hat y</th>\n",
       "      <th>y_i - hat y</th>\n",
       "      <th>SSE</th>\n",
       "      <th>y_i - bar y</th>\n",
       "      <th>SST</th>\n",
       "      <th>hat y - bar y</th>\n",
       "      <th>SSR</th>\n",
       "    </tr>\n",
       "    <tr>\n",
       "      <th>Restaurant</th>\n",
       "      <th></th>\n",
       "      <th></th>\n",
       "      <th></th>\n",
       "      <th></th>\n",
       "      <th></th>\n",
       "      <th></th>\n",
       "      <th></th>\n",
       "      <th></th>\n",
       "      <th></th>\n",
       "    </tr>\n",
       "  </thead>\n",
       "  <tbody>\n",
       "    <tr>\n",
       "      <th>1</th>\n",
       "      <td>2</td>\n",
       "      <td>58</td>\n",
       "      <td>70</td>\n",
       "      <td>-12</td>\n",
       "      <td>144</td>\n",
       "      <td>-72.0</td>\n",
       "      <td>5184.0</td>\n",
       "      <td>-60.0</td>\n",
       "      <td>3600.0</td>\n",
       "    </tr>\n",
       "    <tr>\n",
       "      <th>2</th>\n",
       "      <td>6</td>\n",
       "      <td>105</td>\n",
       "      <td>90</td>\n",
       "      <td>15</td>\n",
       "      <td>225</td>\n",
       "      <td>-25.0</td>\n",
       "      <td>625.0</td>\n",
       "      <td>-40.0</td>\n",
       "      <td>1600.0</td>\n",
       "    </tr>\n",
       "    <tr>\n",
       "      <th>3</th>\n",
       "      <td>8</td>\n",
       "      <td>88</td>\n",
       "      <td>100</td>\n",
       "      <td>-12</td>\n",
       "      <td>144</td>\n",
       "      <td>-42.0</td>\n",
       "      <td>1764.0</td>\n",
       "      <td>-30.0</td>\n",
       "      <td>900.0</td>\n",
       "    </tr>\n",
       "    <tr>\n",
       "      <th>4</th>\n",
       "      <td>8</td>\n",
       "      <td>118</td>\n",
       "      <td>100</td>\n",
       "      <td>18</td>\n",
       "      <td>324</td>\n",
       "      <td>-12.0</td>\n",
       "      <td>144.0</td>\n",
       "      <td>-30.0</td>\n",
       "      <td>900.0</td>\n",
       "    </tr>\n",
       "    <tr>\n",
       "      <th>5</th>\n",
       "      <td>12</td>\n",
       "      <td>117</td>\n",
       "      <td>120</td>\n",
       "      <td>-3</td>\n",
       "      <td>9</td>\n",
       "      <td>-13.0</td>\n",
       "      <td>169.0</td>\n",
       "      <td>-10.0</td>\n",
       "      <td>100.0</td>\n",
       "    </tr>\n",
       "    <tr>\n",
       "      <th>6</th>\n",
       "      <td>16</td>\n",
       "      <td>137</td>\n",
       "      <td>140</td>\n",
       "      <td>-3</td>\n",
       "      <td>9</td>\n",
       "      <td>7.0</td>\n",
       "      <td>49.0</td>\n",
       "      <td>10.0</td>\n",
       "      <td>100.0</td>\n",
       "    </tr>\n",
       "    <tr>\n",
       "      <th>7</th>\n",
       "      <td>20</td>\n",
       "      <td>157</td>\n",
       "      <td>160</td>\n",
       "      <td>-3</td>\n",
       "      <td>9</td>\n",
       "      <td>27.0</td>\n",
       "      <td>729.0</td>\n",
       "      <td>30.0</td>\n",
       "      <td>900.0</td>\n",
       "    </tr>\n",
       "    <tr>\n",
       "      <th>8</th>\n",
       "      <td>20</td>\n",
       "      <td>169</td>\n",
       "      <td>160</td>\n",
       "      <td>9</td>\n",
       "      <td>81</td>\n",
       "      <td>39.0</td>\n",
       "      <td>1521.0</td>\n",
       "      <td>30.0</td>\n",
       "      <td>900.0</td>\n",
       "    </tr>\n",
       "    <tr>\n",
       "      <th>9</th>\n",
       "      <td>22</td>\n",
       "      <td>149</td>\n",
       "      <td>170</td>\n",
       "      <td>-21</td>\n",
       "      <td>441</td>\n",
       "      <td>19.0</td>\n",
       "      <td>361.0</td>\n",
       "      <td>40.0</td>\n",
       "      <td>1600.0</td>\n",
       "    </tr>\n",
       "    <tr>\n",
       "      <th>10</th>\n",
       "      <td>26</td>\n",
       "      <td>202</td>\n",
       "      <td>190</td>\n",
       "      <td>12</td>\n",
       "      <td>144</td>\n",
       "      <td>72.0</td>\n",
       "      <td>5184.0</td>\n",
       "      <td>60.0</td>\n",
       "      <td>3600.0</td>\n",
       "    </tr>\n",
       "  </tbody>\n",
       "</table>\n",
       "</div>"
      ],
      "text/plain": [
       "            Population  Sales  hat y  y_i - hat y  SSE  y_i - bar y     SST  \\\n",
       "Restaurant                                                                    \n",
       "1                    2     58     70          -12  144        -72.0  5184.0   \n",
       "2                    6    105     90           15  225        -25.0   625.0   \n",
       "3                    8     88    100          -12  144        -42.0  1764.0   \n",
       "4                    8    118    100           18  324        -12.0   144.0   \n",
       "5                   12    117    120           -3    9        -13.0   169.0   \n",
       "6                   16    137    140           -3    9          7.0    49.0   \n",
       "7                   20    157    160           -3    9         27.0   729.0   \n",
       "8                   20    169    160            9   81         39.0  1521.0   \n",
       "9                   22    149    170          -21  441         19.0   361.0   \n",
       "10                  26    202    190           12  144         72.0  5184.0   \n",
       "\n",
       "            hat y - bar y     SSR  \n",
       "Restaurant                         \n",
       "1                   -60.0  3600.0  \n",
       "2                   -40.0  1600.0  \n",
       "3                   -30.0   900.0  \n",
       "4                   -30.0   900.0  \n",
       "5                   -10.0   100.0  \n",
       "6                    10.0   100.0  \n",
       "7                    30.0   900.0  \n",
       "8                    30.0   900.0  \n",
       "9                    40.0  1600.0  \n",
       "10                   60.0  3600.0  "
      ]
     },
     "execution_count": 23,
     "metadata": {},
     "output_type": "execute_result"
    }
   ],
   "source": [
    "armand['hat y'] = 60 + 5 * armand['Population']\n",
    "armand['y_i - hat y'] = armand['Sales'] - armand['hat y']\n",
    "armand['SSE'] = pow(armand['y_i - hat y'], 2)\n",
    "armand['y_i - bar y'] = armand['Sales'] - armand['Sales'].mean()\n",
    "armand['SST'] = pow(armand['y_i - bar y'], 2)\n",
    "armand['hat y - bar y'] = armand['hat y'] - armand['Sales'].mean()\n",
    "armand['SSR'] = pow(armand['hat y - bar y'], 2)\n",
    "armand"
   ]
  },
  {
   "cell_type": "code",
   "execution_count": 26,
   "id": "3ee8073e",
   "metadata": {},
   "outputs": [
    {
     "data": {
      "text/plain": [
       "1530"
      ]
     },
     "execution_count": 26,
     "metadata": {},
     "output_type": "execute_result"
    }
   ],
   "source": [
    "armand['SSE'].sum()"
   ]
  },
  {
   "cell_type": "code",
   "execution_count": 27,
   "id": "5bef1be9",
   "metadata": {},
   "outputs": [
    {
     "data": {
      "text/plain": [
       "14200.0"
      ]
     },
     "execution_count": 27,
     "metadata": {},
     "output_type": "execute_result"
    }
   ],
   "source": [
    "armand['SSR'].sum()"
   ]
  },
  {
   "cell_type": "code",
   "execution_count": 28,
   "id": "ad0e3b10",
   "metadata": {},
   "outputs": [
    {
     "data": {
      "text/plain": [
       "15730.0"
      ]
     },
     "execution_count": 28,
     "metadata": {},
     "output_type": "execute_result"
    }
   ],
   "source": [
    "armand['SST'].sum()"
   ]
  },
  {
   "cell_type": "code",
   "execution_count": 29,
   "id": "bc8ef2c0",
   "metadata": {},
   "outputs": [
    {
     "data": {
      "text/plain": [
       "0.9027336300063573"
      ]
     },
     "execution_count": 29,
     "metadata": {},
     "output_type": "execute_result"
    }
   ],
   "source": [
    "r_square = armand['SSR'].sum()/armand['SST'].sum()\n",
    "r_square"
   ]
  },
  {
   "cell_type": "markdown",
   "id": "105de252",
   "metadata": {},
   "source": [
    "# 显著性检验\n",
    "\n",
    "在一个简单线性回归方程里，$y$ 的平均值或期望值是 $x$ 的一个线性函数，即 $E(y)=\\beta_0 + \\beta_1 x$。如果 $\\beta_1$ 的值是 0，$E(y)=\\beta_0 + 0x =\\beta_0$。在这种情况下，$y$ 的平均值或期望值不依赖于 $x$ 的值，因此我们的结论是两变量 $x$ 和 $y$ 之间不存在线性关系。\n",
    "\n",
    "换一种说法，如果 $\\beta_1$ 的值不等于 0，我们的结论是两变量 $x$ 和 $y$ 之间存在线性关系。于是，为了检验两变量之间是否存在一个显著的回归关系，我们必须进行一个假设检验，用来判定 $\\beta_1$ 的值是否等于0。\n",
    "\n",
    "通常使用的检验方法有两种，这两种方法都需要知道回归模型误差项 $\\varepsilon$ 的方差 $\\sigma^2$ 的估计值。\n",
    "\n",
    "## $\\sigma^2$ 的估计\n",
    "从回归模型和它的假定中，我们可以得出结论，$\\varepsilon$ 的方差 $\\sigma^2$ 也是因变量 $y$ 的值关于回归直线的方差。\n",
    "\n",
    "回想一下，我们曾经将 $y$ 的值关于估计的回归直线的离差 $y_i - \\hat{y}_i$ 称为残差。所以，残差平方和 SSE 是实际观测值关于估计的回归直线变异性的度量。我们用 SSE 除以它自己的自由度，得到均方误差（mean square error，MSE）。均方误差给出了 $\\sigma^2$ 的一个估计量。\n",
    "\n",
    "因为 $\\hat{y} = b_0 + b_1 x$，所以 SSE 可以写成：\n",
    "\n",
    "$$ SSE = \\sum{(y_i - \\hat{y}_i)^2} = \\sum{(y_i - b_0 -b_1 x_i)^2} $$\n",
    "\n",
    "回顾一下方差的计算公式：\n",
    "\n",
    "$$\\displaystyle Var=\\frac{\\sum(离差)^2}{样本数}=\\frac{\\sum(y_i-\\bar{y})^2}{n}$$\n",
    "\n",
    "由于我们估计 $y_i$ 的均值 $\\bar{y} = \\hat{y}_i$，所以我们可以用 $\\hat{y}_i$ 替换 $\\bar{y}$。\n",
    "\n",
    "总体均方误差（$\\sigma^2$ 的估计量）又称估计的方差\n",
    "\n",
    "$$s^2 = MSE = \\frac{SSE}{n-2}$$\n",
    "\n",
    "为什么这里的自由度是 $n-2$ 呢？因为我们之前计算 SSE 的时候，必须估计两个参数 $\\beta_0$ 和 $\\beta_1$，所以自由度是  $n-2$ \n",
    "\n",
    "由于我们之前已经得到 SSE = 1530，于是 $\\sigma^2$ 的一个无偏估计是：\n",
    "\n",
    "$$s^2 = MSE = \\frac{SSE}{n-2} = \\frac{1530}{10-2} = 191.25$$\n",
    "\n",
    "$$s = \\sqrt{MSE} = 13.829$$\n",
    "\n",
    "实际上，最小二乘的估计量 $b_0$ 和 $b_1$ 是一个样本统计量，有自己的抽样分布（服从正态分布），$b_1$ 抽样分布的性质如下：\n",
    "- 期望值：$E(b_1) = \\beta_1$\n",
    "- 标准差：\n",
    "$$\\sigma_{b_1} = \\frac{\\sigma}{\\sqrt{\\sum{(x_i - \\bar{x})^2}}}$$\n",
    "\n",
    "如果我们此时想对简单线性回归模型 $y = \\beta_0 + \\beta_1 x + \\varepsilon$，进行检验，如果 $x$ 和 $y$ 之间存在一个线性关系，必须有 $\\beta_1 \\ne 0$。$t$ 检验的目的是我们能否断定 $\\beta_1 \\ne 0$。因此需要利用样本来检验下面关于参数 $\\beta_1$ 的假设：\n",
    "\n",
    "\\$$H_0: \\beta_1 = 0 \\ \\ \\ \\ \\ H_{\\alpha}: \\beta_1 \\ne 0$$\n",
    "\n",
    "回顾一下，根据总体标准差估计样本标准差的方式：\n",
    "\n",
    "$$s_\\bar{X} = \\frac{总体标准差}{\\sqrt{样本数量}} = \\frac{s}{\\sqrt{n}}$$\n",
    "\n",
    "根据总体的均方误差（$\\sigma^2$ 的估计量），我们可以计算出样本回归方程 $\\hat{y} = b_0 + b_1 x$ 的 $b_1$ 标准差：\n",
    "\n",
    "$$s_{b_1} = \\frac{s}{\\sqrt{\\sum{(x_i - \\bar{x})^2}}}$$\n",
    "\n",
    ">为什么这里能把样本数量，换成 $\\sum{(x_i - \\bar{x})^2}$ 呢？我在学的时候也没有搞明白。\n",
    "\n",
    "由于我们已知 $s = 13.829$，$\\sum{(x_i - \\bar{x})^2} = 568$，则我们可以知道 $b_1$ 的估计的标准差为：\n",
    "\n",
    "$$s_{b_1} = \\frac{13.829}{\\sqrt{568}} = 0.5803$$\n",
    "\n",
    "对于两个变量之间是否存在一个显著关系的 $t$ 检验的依据是检验统计量\n",
    "\n",
    "$$t = \\frac{b_1 - \\beta_1}{s_{b_1}}$$\n",
    "\n",
    "如果零假设成立，则 $\\beta_1 = 0$，此时\n",
    "\n",
    "$$t = \\frac{b_1 - \\beta_1}{s_{b_1}} = \\frac{b_1}{s_{b_1}} = \\frac{5}{0.5803} = 8.62$$\n",
    "\n",
    "显然我们可以拒绝零假设。"
   ]
  },
  {
   "cell_type": "markdown",
   "id": "1d8f5384",
   "metadata": {},
   "source": [
    "这里计算的方差，实际上是每个样本点的 $y_i$ 值，与回归方程 $\\hat{y}_i$ 的偏差，也就是前文提到的误差项 $\\varepsilon$，误差项 $\\varepsilon$ 是一个平均值或期望值为 0 的随机变量，即 $E(\\varepsilon) = 0$。\n",
    "\n",
    "估计的标准误差 $s_y$ 是对各观测数据在回归直线周围分散程度的一个度量值，可以证明 $s_y$ 是对误差项 $\\varepsilon$ 的标准差  $\\sigma$ 的无偏估计。\n",
    "\n",
    "$$s_y = \\sqrt{\\frac{SSE}{n-2}} = \\sqrt{MSE}$$\n",
    "\n",
    "估计的标准误差 $s_y$ 反映了用估计的回归方程拟合因变量 $y$ 时平均误差的大小：\n",
    "- 观测数据越靠近回归直线，$s_y$ 就越小，回归直线对各观测数据的代表性就越好\n",
    "- 与 $r^2$ 不同，估计标准误差是一个有单位的绝对数"
   ]
  },
  {
   "cell_type": "markdown",
   "id": "0ff560e7",
   "metadata": {},
   "source": [
    "# 线性回归：贝叶斯视角\n",
    "\n",
    "上面的简单线性回归的推导和原理，其实是频率学派的观点，贝叶斯学派对线性回归算法的理解是不一样的。\n",
    "\n",
    "相关内容参考《用Python动手学统计学》第四章内容，下面的代码也是参考该书"
   ]
  },
  {
   "cell_type": "code",
   "execution_count": 39,
   "id": "388448cb",
   "metadata": {},
   "outputs": [],
   "source": [
    "# 用于数值计算的库\n",
    "import numpy as np\n",
    "import pandas as pd\n",
    "import scipy as sp\n",
    "from scipy import stats\n",
    "\n",
    "# 用于绘图的库\n",
    "from matplotlib import pyplot as plt\n",
    "import seaborn as sns\n",
    "sns.set()\n",
    "\n",
    "# 用于估计统计模型的库 (部分版本会报出警告信息)\n",
    "import statsmodels.formula.api as smf\n",
    "import statsmodels.api as sm\n",
    "\n",
    "# 设置浮点数打印精度\n",
    "%precision 3\n",
    "# 在 Jupyter Notebook 里显示图形\n",
    "%matplotlib inline"
   ]
  },
  {
   "cell_type": "code",
   "execution_count": 45,
   "id": "d364054b",
   "metadata": {},
   "outputs": [
    {
     "data": {
      "text/html": [
       "<div>\n",
       "<style scoped>\n",
       "    .dataframe tbody tr th:only-of-type {\n",
       "        vertical-align: middle;\n",
       "    }\n",
       "\n",
       "    .dataframe tbody tr th {\n",
       "        vertical-align: top;\n",
       "    }\n",
       "\n",
       "    .dataframe thead th {\n",
       "        text-align: right;\n",
       "    }\n",
       "</style>\n",
       "<table border=\"1\" class=\"dataframe\">\n",
       "  <thead>\n",
       "    <tr style=\"text-align: right;\">\n",
       "      <th></th>\n",
       "      <th>beer</th>\n",
       "      <th>temperature</th>\n",
       "    </tr>\n",
       "  </thead>\n",
       "  <tbody>\n",
       "    <tr>\n",
       "      <th>0</th>\n",
       "      <td>45.3</td>\n",
       "      <td>20.5</td>\n",
       "    </tr>\n",
       "    <tr>\n",
       "      <th>1</th>\n",
       "      <td>59.3</td>\n",
       "      <td>25.0</td>\n",
       "    </tr>\n",
       "    <tr>\n",
       "      <th>2</th>\n",
       "      <td>40.4</td>\n",
       "      <td>10.0</td>\n",
       "    </tr>\n",
       "    <tr>\n",
       "      <th>3</th>\n",
       "      <td>38.0</td>\n",
       "      <td>26.9</td>\n",
       "    </tr>\n",
       "    <tr>\n",
       "      <th>4</th>\n",
       "      <td>37.0</td>\n",
       "      <td>15.8</td>\n",
       "    </tr>\n",
       "  </tbody>\n",
       "</table>\n",
       "</div>"
      ],
      "text/plain": [
       "   beer  temperature\n",
       "0  45.3         20.5\n",
       "1  59.3         25.0\n",
       "2  40.4         10.0\n",
       "3  38.0         26.9\n",
       "4  37.0         15.8"
      ]
     },
     "execution_count": 45,
     "metadata": {},
     "output_type": "execute_result"
    }
   ],
   "source": [
    "# 读入数据\n",
    "beer = pd.read_csv(DATA /\"beer.csv\")\n",
    "beer.head()"
   ]
  },
  {
   "cell_type": "code",
   "execution_count": 41,
   "id": "38f20f9f",
   "metadata": {},
   "outputs": [
    {
     "data": {
      "text/plain": [
       "<seaborn.axisgrid.JointGrid at 0x11bd40490>"
      ]
     },
     "execution_count": 41,
     "metadata": {},
     "output_type": "execute_result"
    },
    {
     "data": {
      "image/png": "[encoded data removed]",
      "text/plain": [
       "<Figure size 432x432 with 3 Axes>"
      ]
     },
     "metadata": {
      "needs_background": "light"
     },
     "output_type": "display_data"
    }
   ],
   "source": [
    "# 绘制图像\n",
    "sns.jointplot(x = \"temperature\", y = \"beer\", data = beer)"
   ]
  },
  {
   "cell_type": "markdown",
   "id": "f85e9691",
   "metadata": {},
   "source": [
    "以上是以横轴为气温、纵轴为啤酒销售额绘制出的二者关系的散点图。从图中可以看出，气温越高，啤酒销售额也越高。\n",
    "\n",
    "建立如下的啤酒销售额模型：\n",
    "\n",
    "啤酒销售额 $N \\sim \\left(\\beta_0 + \\beta_1 \\times 气温, \\sigma^2\\right)$\n",
    "\n",
    "这是正态线性模型，其中，响应变量为啤酒销售额，解释变量只有气温这一个。要完成这个模型，只需确定它是否需要包含气温即可。在估计参数时只估计式中的 $\\beta_0$ 和 $\\beta_1$，忽略多余参数 $\\sigma^2$。\n",
    "\n",
    "进行建模的作用有以下几个：\n",
    "\n",
    "- 如果通过检验确认了系数 $\\beta_1$ 不为 0，就可以认为“气温会影响啤酒销售额”。\n",
    "- 也可以使用 AIC 代替假设检验来进行模型选择。如果通过 AIC 确认系数 $\\beta_1$ 不为 0，则可以理解为“要预测啤酒销售额，气温是必需的”。\n",
    "- 根据系数 $\\beta_1$ 的正负，可以确认随着气温的升高，啤酒销售额是升高还是降低。\n",
    "- 可以进行预测根据系数 $\\beta_0$、$\\beta_1$ 和气温可以预测啤酒销售额的期望值。我们可以根据模型公式预测当气温为 n °C时啤酒销售额在 $\\beta_0 + \\beta_1 \\times 气温$ 日元左右。\n",
    "\n",
    "接下来建立正态线性模型。为了估计统计模型，我们通过 `import statsmodels.formula.api as smf` 语句导入了 `statsmodels`。这个包可以让我们轻松地建模。\n",
    "\n",
    "代码中用到了 `smf.ols` 函数。OLS 是普通最小二乘法的英文 Ordinary LeastSquares 的缩写。它与假设总体服从正态分布时的最大似然法的结果相等。\n",
    "\n",
    "定义模型结构的参数是 `formula`。`\"beer ~ temperature\"` 代表模型的响应变量为 `beer`，解释变量为 `temperature`。\n",
    "\n",
    "通过改变 `formula` 的值，我们可以定义多种多样的模型，相关功能将在估计更复杂的模型时进行说明。\n",
    "\n",
    "在设置 `formula` 的同时，还要给出与之对应的数据帧，才算完成了模型的定义。\n",
    "\n",
    "在写代码时不要忘了最后的 `.fit()` 方法，它的功能是自动完成直到参数估计的所有过程。"
   ]
  },
  {
   "cell_type": "code",
   "execution_count": null,
   "id": "52d3e1a4",
   "metadata": {},
   "outputs": [],
   "source": [
    "# 使用 statsmodels 建模\n",
    "lm_model = smf.ols(formula = \"beer ~ temperature\", data = beer).fit()"
   ]
  },
  {
   "cell_type": "markdown",
   "id": "d17eb5ad",
   "metadata": {},
   "source": [
    "## 评估模型\n",
    "\n",
    "原则上我们应该在预测之前评估模型。模型的评估以分析残差为主。\n",
    "\n",
    "正态线性模型的残差应该服从均值为 0 的正态分布，所以这里我们要检查残差是否满足这个条件。获取残差的方式如下。"
   ]
  },
  {
   "cell_type": "code",
   "execution_count": 73,
   "id": "014b3ba1",
   "metadata": {},
   "outputs": [
    {
     "data": {
      "text/plain": [
       "0    -5.001481\n",
       "1     5.554095\n",
       "2    -1.864491\n",
       "3   -17.200217\n",
       "4    -9.703971\n",
       "dtype: float64"
      ]
     },
     "execution_count": 73,
     "metadata": {},
     "output_type": "execute_result"
    }
   ],
   "source": [
    "# 获得残差\n",
    "resid = lm_model.resid\n",
    "resid.head()"
   ]
  },
  {
   "cell_type": "markdown",
   "id": "0a59f0e2",
   "metadata": {},
   "source": [
    "在实践上只需做到这一步即可，但为了加深印象，我们手动计算一下残差。"
   ]
  },
  {
   "cell_type": "code",
   "execution_count": 76,
   "id": "e8f33e29",
   "metadata": {},
   "outputs": [],
   "source": [
    "# 计算拟合值\n",
    "y_hat = beta0 + beta1 * beer.temperature"
   ]
  },
  {
   "cell_type": "code",
   "execution_count": 77,
   "id": "28ffc66a",
   "metadata": {},
   "outputs": [
    {
     "data": {
      "text/plain": [
       "0    50.301481\n",
       "1    53.745905\n",
       "2    42.264491\n",
       "3    55.200217\n",
       "4    46.703971\n",
       "dtype: float64"
      ]
     },
     "execution_count": 77,
     "metadata": {},
     "output_type": "execute_result"
    }
   ],
   "source": [
    "# 获得拟合值\n",
    "lm_model.fittedvalues.head()"
   ]
  },
  {
   "cell_type": "code",
   "execution_count": 86,
   "id": "afafbb4e",
   "metadata": {},
   "outputs": [
    {
     "data": {
      "text/plain": [
       "0    -5.001481\n",
       "1     5.554095\n",
       "2    -1.864491\n",
       "3   -17.200217\n",
       "4    -9.703971\n",
       "dtype: float64"
      ]
     },
     "execution_count": 86,
     "metadata": {},
     "output_type": "execute_result"
    }
   ],
   "source": [
    "# 手动计算残差\n",
    "(beer.beer - y_hat).head()"
   ]
  },
  {
   "cell_type": "markdown",
   "id": "b318e371",
   "metadata": {},
   "source": [
    "要观察残差的特征，最简单的方法就是绘制出它的直方图。根据下面的残差的直方图，我们可以判断它是否服从正态分布"
   ]
  },
  {
   "cell_type": "code",
   "execution_count": 87,
   "id": "ab2b2ff0",
   "metadata": {},
   "outputs": [
    {
     "data": {
      "text/plain": [
       "<AxesSubplot:ylabel='Count'>"
      ]
     },
     "execution_count": 87,
     "metadata": {},
     "output_type": "execute_result"
    },
    {
     "data": {
      "image/png": "[encoded data removed]",
      "text/plain": [
       "<Figure size 432x288 with 1 Axes>"
      ]
     },
     "metadata": {
      "needs_background": "light"
     },
     "output_type": "display_data"
    }
   ],
   "source": [
    "# 残差的直方图\n",
    "sns.histplot(resid, kde=True)"
   ]
  },
  {
   "cell_type": "markdown",
   "id": "51e2f319",
   "metadata": {},
   "source": [
    "可见残差大致左右对称，形状也接近正态分布。\n",
    "\n",
    "下面绘制横轴为拟合值、纵轴为残差的散点图。该图看起来是随机的，各数据都不相关，也没有出现极端值"
   ]
  },
  {
   "cell_type": "code",
   "execution_count": 88,
   "id": "4c3a9c88",
   "metadata": {},
   "outputs": [
    {
     "data": {
      "text/plain": [
       "<seaborn.axisgrid.JointGrid at 0x11c6d74c0>"
      ]
     },
     "execution_count": 88,
     "metadata": {},
     "output_type": "execute_result"
    },
    {
     "data": {
      "image/png": "[encoded data removed]",
      "text/plain": [
       "<Figure size 432x432 with 3 Axes>"
      ]
     },
     "metadata": {
      "needs_background": "light"
     },
     "output_type": "display_data"
    }
   ],
   "source": [
    "# 残差的散点图\n",
    "sns.jointplot(x = lm_model.fittedvalues, y = resid, \n",
    "              joint_kws={\"color\": \"red\"}, \n",
    "              marginal_kws={\"color\": \"blue\"})"
   ]
  },
  {
   "cell_type": "markdown",
   "id": "9f34c285",
   "metadata": {},
   "source": [
    "分位图是用来比较理论分位数（theoretical quantiles）与实际分位数（sample quantiles）的散点图，也叫 Q-Q 图。\n",
    "\n",
    "Q 是 Quantile 的缩写。我们在 3-1 节计算过四分位数，即把数据按升序排列后位于第 25% 和第 75% 位置上的数据。\n",
    "\n",
    "本节将计算数据的所有分位数，如果数据有 100 个，那么每 1% 取 1个位置，就能得到 100 个分位数。\n",
    "\n",
    "正态分布的百分位数就是理论分位数，通过图形对比理论分位数与真实数据的分位数，可以直观地判断残差是否服从正态分布。"
   ]
  },
  {
   "cell_type": "code",
   "execution_count": 89,
   "id": "008b0879",
   "metadata": {},
   "outputs": [
    {
     "data": {
      "image/png": "[encoded data removed]",
      "text/plain": [
       "<Figure size 432x288 with 1 Axes>"
      ]
     },
     "metadata": {
      "needs_background": "light"
     },
     "output_type": "display_data"
    }
   ],
   "source": [
    "# 分位图\n",
    "fig = sm.qqplot(resid, line = \"s\")"
   ]
  },
  {
   "cell_type": "markdown",
   "id": "9d204aeb",
   "metadata": {},
   "source": [
    "为了理解分位图的原理，我们可以尝试绘制一下。\n",
    "\n",
    "首先，将数据按升序排列。"
   ]
  },
  {
   "cell_type": "code",
   "execution_count": 91,
   "id": "7a42f6ee",
   "metadata": {},
   "outputs": [],
   "source": [
    "# 递增排列\n",
    "resid_sort = resid.sort_values()"
   ]
  },
  {
   "cell_type": "code",
   "execution_count": 94,
   "id": "80d570f1",
   "metadata": {},
   "outputs": [
    {
     "data": {
      "text/plain": [
       "30"
      ]
     },
     "execution_count": 94,
     "metadata": {},
     "output_type": "execute_result"
    }
   ],
   "source": [
    "# 样本个数\n",
    "len(resid_sort)"
   ]
  },
  {
   "cell_type": "markdown",
   "id": "216014ae",
   "metadata": {},
   "source": [
    "对 30 个数据全部执行上述计算，得到理论上的累积概率。"
   ]
  },
  {
   "cell_type": "code",
   "execution_count": 95,
   "id": "4f57cbf8",
   "metadata": {},
   "outputs": [],
   "source": [
    "# 按样本容量变换为 0 到 1 的范围, 得到理论累积概率\n",
    "nobs = len(resid_sort)\n",
    "cdf = np.arange(1, nobs + 1) / (nobs + 1)\n",
    "\n",
    "# 累积概率对应的百分位数\n",
    "ppf = stats.norm.ppf(cdf)"
   ]
  },
  {
   "cell_type": "code",
   "execution_count": 96,
   "id": "98b47587",
   "metadata": {},
   "outputs": [
    {
     "data": {
      "text/plain": [
       "[<matplotlib.lines.Line2D at 0x1198250d0>]"
      ]
     },
     "execution_count": 96,
     "metadata": {},
     "output_type": "execute_result"
    },
    {
     "data": {
      "image/png": "[encoded data removed]",
      "text/plain": [
       "<Figure size 432x288 with 1 Axes>"
      ]
     },
     "metadata": {
      "needs_background": "light"
     },
     "output_type": "display_data"
    }
   ],
   "source": [
    "# 参考: 横轴为理论分位数, 纵轴为已排序的实际数据, 绘出的散点图就是分位图\n",
    "fig = sm.qqplot(resid, line = \"s\")\n",
    "\n",
    "plt.plot(stats.norm.ppf(cdf), resid_sort, \"o\", color = \"black\")"
   ]
  },
  {
   "cell_type": "code",
   "execution_count": 97,
   "id": "64c17c8a",
   "metadata": {},
   "outputs": [
    {
     "data": {
      "text/html": [
       "<table class=\"simpletable\">\n",
       "<caption>OLS Regression Results</caption>\n",
       "<tr>\n",
       "  <th>Dep. Variable:</th>          <td>beer</td>       <th>  R-squared:         </th> <td>   0.504</td>\n",
       "</tr>\n",
       "<tr>\n",
       "  <th>Model:</th>                   <td>OLS</td>       <th>  Adj. R-squared:    </th> <td>   0.486</td>\n",
       "</tr>\n",
       "<tr>\n",
       "  <th>Method:</th>             <td>Least Squares</td>  <th>  F-statistic:       </th> <td>   28.45</td>\n",
       "</tr>\n",
       "<tr>\n",
       "  <th>Date:</th>             <td>Fri, 29 Apr 2022</td> <th>  Prob (F-statistic):</th> <td>1.11e-05</td>\n",
       "</tr>\n",
       "<tr>\n",
       "  <th>Time:</th>                 <td>11:55:39</td>     <th>  Log-Likelihood:    </th> <td> -102.45</td>\n",
       "</tr>\n",
       "<tr>\n",
       "  <th>No. Observations:</th>      <td>    30</td>      <th>  AIC:               </th> <td>   208.9</td>\n",
       "</tr>\n",
       "<tr>\n",
       "  <th>Df Residuals:</th>          <td>    28</td>      <th>  BIC:               </th> <td>   211.7</td>\n",
       "</tr>\n",
       "<tr>\n",
       "  <th>Df Model:</th>              <td>     1</td>      <th>                     </th>     <td> </td>   \n",
       "</tr>\n",
       "<tr>\n",
       "  <th>Covariance Type:</th>      <td>nonrobust</td>    <th>                     </th>     <td> </td>   \n",
       "</tr>\n",
       "</table>\n",
       "<table class=\"simpletable\">\n",
       "<tr>\n",
       "       <td></td>          <th>coef</th>     <th>std err</th>      <th>t</th>      <th>P>|t|</th>  <th>[0.025</th>    <th>0.975]</th>  \n",
       "</tr>\n",
       "<tr>\n",
       "  <th>Intercept</th>   <td>   34.6102</td> <td>    3.235</td> <td>   10.699</td> <td> 0.000</td> <td>   27.984</td> <td>   41.237</td>\n",
       "</tr>\n",
       "<tr>\n",
       "  <th>temperature</th> <td>    0.7654</td> <td>    0.144</td> <td>    5.334</td> <td> 0.000</td> <td>    0.471</td> <td>    1.059</td>\n",
       "</tr>\n",
       "</table>\n",
       "<table class=\"simpletable\">\n",
       "<tr>\n",
       "  <th>Omnibus:</th>       <td> 0.587</td> <th>  Durbin-Watson:     </th> <td>   1.960</td>\n",
       "</tr>\n",
       "<tr>\n",
       "  <th>Prob(Omnibus):</th> <td> 0.746</td> <th>  Jarque-Bera (JB):  </th> <td>   0.290</td>\n",
       "</tr>\n",
       "<tr>\n",
       "  <th>Skew:</th>          <td>-0.240</td> <th>  Prob(JB):          </th> <td>   0.865</td>\n",
       "</tr>\n",
       "<tr>\n",
       "  <th>Kurtosis:</th>      <td> 2.951</td> <th>  Cond. No.          </th> <td>    52.5</td>\n",
       "</tr>\n",
       "</table><br/><br/>Notes:<br/>[1] Standard Errors assume that the covariance matrix of the errors is correctly specified."
      ],
      "text/plain": [
       "<class 'statsmodels.iolib.summary.Summary'>\n",
       "\"\"\"\n",
       "                            OLS Regression Results                            \n",
       "==============================================================================\n",
       "Dep. Variable:                   beer   R-squared:                       0.504\n",
       "Model:                            OLS   Adj. R-squared:                  0.486\n",
       "Method:                 Least Squares   F-statistic:                     28.45\n",
       "Date:                Fri, 29 Apr 2022   Prob (F-statistic):           1.11e-05\n",
       "Time:                        11:55:39   Log-Likelihood:                -102.45\n",
       "No. Observations:                  30   AIC:                             208.9\n",
       "Df Residuals:                      28   BIC:                             211.7\n",
       "Df Model:                           1                                         \n",
       "Covariance Type:            nonrobust                                         \n",
       "===============================================================================\n",
       "                  coef    std err          t      P>|t|      [0.025      0.975]\n",
       "-------------------------------------------------------------------------------\n",
       "Intercept      34.6102      3.235     10.699      0.000      27.984      41.237\n",
       "temperature     0.7654      0.144      5.334      0.000       0.471       1.059\n",
       "==============================================================================\n",
       "Omnibus:                        0.587   Durbin-Watson:                   1.960\n",
       "Prob(Omnibus):                  0.746   Jarque-Bera (JB):                0.290\n",
       "Skew:                          -0.240   Prob(JB):                        0.865\n",
       "Kurtosis:                       2.951   Cond. No.                         52.5\n",
       "==============================================================================\n",
       "\n",
       "Notes:\n",
       "[1] Standard Errors assume that the covariance matrix of the errors is correctly specified.\n",
       "\"\"\""
      ]
     },
     "execution_count": 97,
     "metadata": {},
     "output_type": "execute_result"
    }
   ],
   "source": [
    "# 估计的结果\n",
    "lm_model.summary()"
   ]
  },
  {
   "cell_type": "markdown",
   "id": "cda831c3",
   "metadata": {},
   "source": [
    "根据 summary 函数的输出分析残差残差的分析结果是 summary 输出的第 3 个表，输出的信息比较丰富，下面简单讲解一下。\n",
    "\n",
    "- Prob(Omnibus) 和 Prob(JB) 是残差的正态性检验结果。\n",
    "    - 零假设：残差服从正态分布。\n",
    "    - 备择假设：残差不服从正态分布。\n",
    "    - 这里的 $p$ 值大于 0.05。由检验的非对称性可知，$p$ 值大于 0.05 不代表残差确实服从正态分布。\n",
    "\n",
    "此处的检验只能用来判断结果是否存在明显的问题。要判断残差是否服从正态分布，还要观察 Skew（偏度）和 Kurtosis（峰度）的值。\n",
    "- 偏度表示直方图左右非对称性的方向和程度。偏度大于 0，则图形的右侧更宽。正态分布左右对称，所以它的偏度为 0。\n",
    "- 峰度表示直方图中心附近的尖锐程度。峰度越高，图形显得越尖锐。正态分布的峰度为 3。\n",
    "\n",
    "Durbin-Watson 表示残差的自相关程度，如果它的值在 2 附近，就说明没什么问题。在分析时间序列的数据时必须判断它是否在 2 附近。\n",
    "\n",
    "如果残差自相关，系数的 $t$ 检验结果便不可信，这个现象叫作伪回归。如果Durbin-Watson 统计量远大于 2，就需要使用广义最小二乘法进一步讨论了。"
   ]
  },
  {
   "cell_type": "markdown",
   "id": "ee0ca3d2",
   "metadata": {},
   "source": [
    "## 解读模型结果\n",
    "\n",
    "输出的信息包含以上 3 个表格，首先来看一下第 2 个表中的 Intercept 和 Temperature。\n",
    "\n",
    "Intercept 和 Temperature 对应以下模型中的 $\\beta_0$ 和 $\\beta_1$：\n",
    "\n",
    "啤酒销售额 $N \\sim \\left(\\beta_0 + \\beta_1 \\times 气温, \\sigma^2\\right)$\n",
    "\n",
    "- Coef 列是系数的值，右边的列依次为系数的标准误差、$p$ 值、零假设为“系数为 0”时的 $p$ 值、95% 置信区间的下置信界限与上置信界限。\n",
    "- $p$ 值很小，在 3 位小数内显示为 0，此时认为气温的系数与 0 之间存在显著性差异。\n",
    "- 通过上表可知，气温会影响啤酒销售额。系数的值 0.7654 为正数，说明气温越高啤酒销售额越高。上述解读可以从散点图中直接看出来。但如果解释变量更多，模型更复杂，建模并求出系数可以简化对现象的解读。"
   ]
  },
  {
   "cell_type": "markdown",
   "id": "adabd952",
   "metadata": {},
   "source": [
    "本节介绍一下上一节中第 1 个表（即上表）的含义（第 3 个表将在评估模型时使用）。\n",
    "- Dep.Variable：响应变量的名称，Dep 为 Depended 的缩写。\n",
    "- Model/Method：表示这里使用了普通最小二乘法（OLS）。\n",
    "- Date/Time：对模型进行估计的日期和时间。\n",
    "- No.Observations：样本容量。\n",
    "- Df Residuals：样本容量减去参与估计的参数个数。\n",
    "- Df Model：用到的解释变量的个数（不是参数个数）。\n",
    "- Covariance Type：协方差类型，默认为 nonrobust。\n",
    "- R-Squared/Adj.R-Squared：决定系数与修正决定系数（见后文）。\n",
    "- F-statistic/Prob(F-statistic)：方差分析的结果（见 5-2 节）。\n",
    "- Log-Likelihood：最大对数似然。\n",
    "- AIC：赤池信息量准则。\n",
    "- BIC：贝叶斯信息量准则，属于信息量准则的一种，本书不进行介绍。\n",
    "\n",
    "不同版本的库在细节上可能有所差异。对于上表，我们只需关注样本容量、决定系数及 AIC 即可。"
   ]
  },
  {
   "cell_type": "markdown",
   "id": "7a38a2e5",
   "metadata": {},
   "source": [
    "## 使用 AIC 进行模型选择\n",
    "\n",
    "### 背景\n",
    "AIC 是赤池信息量准则（Akaike information criterion）的缩写，是衡量统计模型拟合优良性的一种标准，是由日本统计学家赤池弘次创立和发展的。赤池信息量准则建立在熵的概念基础上，可以权衡所估计模型的复杂度和此模型拟合数据的优良性。\n",
    "\n",
    "Akaike 信息准则是由统计学家Hirotugu Akaike制定的。它最初被命名为“信息标准”。Akaike 在 1971 年的一次研讨会上首次用英文宣布；研讨会论文集于 1973 年出版。然而，1973 年的出版物只是对这些概念的非正式介绍。第一个正式出版物是 1974 年 Akaike 的一篇论文。截至 2014年10 月，这篇 1974 年的论文在Web of Science 上的引用次数超过 14,000 次：使其成为有史以来被引用次数最多的研究论文第 73 位。\n",
    "\n",
    "如今，AIC 已经变得足够普遍，以至于经常在不引用 Akaike 1974 年论文的情况下使用它。事实上，有超过 150,000 篇学术文章/书籍使用 AIC（由Google Scholar评估）。\n",
    "\n",
    "AIC 的初始推导依赖于一些强有力的假设。Takeuchi (1976) 表明假设可以变得更弱。然而，竹内的作品是用日语写的，多年来在日本以外的地方并不广为人知。\n",
    "\n",
    "AICc 最初由Sugiura (1978) 提出（仅）用于线性回归。这激发了Hurvich & Tsai (1989) 的工作，以及同一作者的几篇进一步的论文，这些论文扩展了 AICc 可以应用的情况。\n",
    "\n",
    "Burnham & Anderson (2002) 的著作是对信息论方法的第一次一般性阐述。它包括竹内工作的英文介绍。这本书让 AIC 的使用量大大增加，现在它在Google Scholar上的引用次数超过 48,000 次。\n",
    "\n",
    "赤池称他的方法为“熵最大化原理”，因为该方法建立在信息论中的熵概念之上。事实上，在统计模型中最小化 AIC 等效于最大化热力学系统中的熵。换句话说，统计学中的信息论方法本质上是应用热力学第二定律。因此，AIC 源于路德维希·玻尔兹曼 (Ludwig Boltzmann) 关于熵的工作 。有关这些问题的更多信息，请参见Akaike (1985)和Burnham & Anderson (2002，第 2 章)。\n",
    "\n",
    "### 公式\n",
    "\n",
    "在一般的情况下，AIC可以表示为：\n",
    "\n",
    "AIC=(2k-2L)/n\n",
    "\n",
    "其中：k是所拟合模型中参数的数量，L是对数似然值,n是观测值数目。\n",
    "\n",
    "AIC的大小取决于L和k。\n",
    "\n",
    "参数越少，k取值越小（意味着模型简洁），L取值越大（意味着模型精确），样本数越多，AIC 值越小，模型越好\n",
    "\n",
    "因此AIC和修正的决定系数类似，即对变量多的模型加重惩罚力度，在评价模型是兼顾了简洁性和精确性。\n",
    "\n",
    "它的假设条件是模型的误差服从独立正态分布。\n",
    "\n",
    "具体到，L=-(n/2)*ln(2*pi)-(n/2)*ln(sse/n)-n/2\n",
    "\n",
    "其中n为样本量，sse为残差平方和\n",
    "\n",
    "表明增加自由参数的数目提高了拟合的优良性，AIC 鼓励数据拟合的优良性但是尽量避免出现过度拟合 (Overfitting) 的情况。\n",
    "\n",
    "所以优先考虑的模型应是 AIC 值最小的那一个。赤池信息准则的方法是寻找可以最好地解释数据但包含最少自由参数的模型。"
   ]
  },
  {
   "cell_type": "markdown",
   "id": "07c1ce29",
   "metadata": {},
   "source": [
    "模型里只有气温这一个解释变量，我们不妨对比一下它和空模型的 AIC。建立一个空模型。当没有解释变量时，定义为 \"beer ~ 1\"。"
   ]
  },
  {
   "cell_type": "code",
   "execution_count": 63,
   "id": "cc6137fb",
   "metadata": {},
   "outputs": [],
   "source": [
    "# 空模型\n",
    "null_model = smf.ols(\"beer ~ 1\", data = beer).fit()"
   ]
  },
  {
   "cell_type": "code",
   "execution_count": 64,
   "id": "1857df64",
   "metadata": {},
   "outputs": [
    {
     "data": {
      "text/plain": [
       "227.942"
      ]
     },
     "execution_count": 64,
     "metadata": {},
     "output_type": "execute_result"
    }
   ],
   "source": [
    "# 空模型的 AIC\n",
    "null_model.aic"
   ]
  },
  {
   "cell_type": "code",
   "execution_count": 65,
   "id": "192ef830",
   "metadata": {},
   "outputs": [
    {
     "data": {
      "text/plain": [
       "208.909"
      ]
     },
     "execution_count": 65,
     "metadata": {},
     "output_type": "execute_result"
    }
   ],
   "source": [
    "# 含有解释变量的模型的 AIC\n",
    "lm_model.aic"
   ]
  },
  {
   "cell_type": "markdown",
   "id": "e7af9074",
   "metadata": {},
   "source": [
    "含有解释变量的模型的 AIC 更小，所以认为“包含解释变量（气温）的模型预测精度更高”，即用来预测啤酒销售额的模型应该考虑气温因素。\n",
    "\n",
    "下面分步计算 AIC 的值，以加深印象。回顾一下 AIC 的计算式：\n",
    "\n",
    "AIC = -2 × ( 最大对数似然 - 参与估计的参数个数 )"
   ]
  },
  {
   "cell_type": "code",
   "execution_count": 51,
   "id": "42f3184b",
   "metadata": {},
   "outputs": [
    {
     "data": {
      "text/plain": [
       "-102.455"
      ]
     },
     "execution_count": 51,
     "metadata": {},
     "output_type": "execute_result"
    }
   ],
   "source": [
    "# 对数似然度\n",
    "lm_model.llf"
   ]
  },
  {
   "cell_type": "markdown",
   "id": "66b11171",
   "metadata": {},
   "source": [
    "接下来只要知道参与估计的参数个数即可。这个值没有包含在模型里，我们可以先找出解释变量的个数，代码如下。"
   ]
  },
  {
   "cell_type": "code",
   "execution_count": null,
   "id": "748303f9",
   "metadata": {},
   "outputs": [],
   "source": [
    "# 解释变量的个数\n",
    "lm_model.df_model"
   ]
  },
  {
   "cell_type": "markdown",
   "id": "29a5e333",
   "metadata": {},
   "source": [
    "事实上，截距（$\\beta_0$）也参与了估计，所以上面的结果加上 1 就是参与估计的参数个数。最终，AIC 计算如下。"
   ]
  },
  {
   "cell_type": "code",
   "execution_count": 52,
   "id": "0cd2d4f7",
   "metadata": {},
   "outputs": [
    {
     "data": {
      "text/plain": [
       "208.909"
      ]
     },
     "execution_count": 52,
     "metadata": {},
     "output_type": "execute_result"
    }
   ],
   "source": [
    "# AIC\n",
    "-2*(lm_model.llf - (lm_model.df_model + 1))"
   ]
  },
  {
   "cell_type": "markdown",
   "id": "a79c1327",
   "metadata": {},
   "source": [
    "在确定参与估计的参数个数方面也有多种做法。本书中没有把多余参数包含在内，但其实有时也会算上多余参数（这种情况下 AIC 就是 210.909）。R 语言等工具中有时也会给出多余参数的个数。\n",
    "\n",
    "AIC 的核心是**各个 AIC 之间的对比**，其**绝对值并不重要**。通过相同做法计算出来的AIC 的大小关系是不变的，只要不更换做法，就不会影响模型选择，这就意味着我们要避免跨工具计算 AIC。"
   ]
  },
  {
   "cell_type": "markdown",
   "id": "3bba03a3",
   "metadata": {},
   "source": [
    "### 用 seaborn 绘制回归直线\n",
    "模型预测的响应变量的图形就是回归直线。当响应变量为连续变量时，它的图形叫作回归，这也是回归直线的名称来源。非线性模型预测的响应变量的图形叫作回归曲线。"
   ]
  },
  {
   "cell_type": "code",
   "execution_count": 57,
   "id": "6cce0d1d",
   "metadata": {},
   "outputs": [
    {
     "data": {
      "text/plain": [
       "<seaborn.axisgrid.FacetGrid at 0x11bf84d30>"
      ]
     },
     "execution_count": 57,
     "metadata": {},
     "output_type": "execute_result"
    },
    {
     "data": {
      "image/png": "[encoded data removed]",
      "text/plain": [
       "<Figure size 360x360 with 1 Axes>"
      ]
     },
     "metadata": {
      "needs_background": "light"
     },
     "output_type": "display_data"
    }
   ],
   "source": [
    "sns.lmplot(x = \"temperature\", y = \"beer\", data = beer,\n",
    "           scatter_kws = {\"color\": \"blue\"}, line_kws    = {\"color\": \"black\"})"
   ]
  },
  {
   "cell_type": "markdown",
   "id": "9709dab6",
   "metadata": {},
   "source": [
    "## 使用模型进行预测\n",
    "\n",
    "模型的系数已经估计出来了，我们可以用它进行预测。估计完毕的模型可以用 predict 函数进行预测。当参数为空时，输出训练集对应的拟合值。"
   ]
  },
  {
   "cell_type": "code",
   "execution_count": 58,
   "id": "f66bf908",
   "metadata": {},
   "outputs": [
    {
     "data": {
      "text/plain": [
       "array([50.301, 53.746, 42.264, 55.2  , 46.704, 37.825, 44.943, 54.511,\n",
       "       52.445, 41.116, 54.664, 49.23 , 53.21 , 52.445, 41.04 , 52.598,\n",
       "       45.25 , 61.783, 55.43 , 50.301, 42.418, 50.301, 51.143, 40.657,\n",
       "       66.911, 52.904, 62.854, 41.423, 62.472, 39.509])"
      ]
     },
     "execution_count": 58,
     "metadata": {},
     "output_type": "execute_result"
    }
   ],
   "source": [
    "# 拟合值\n",
    "lm_model.predict()"
   ]
  },
  {
   "cell_type": "markdown",
   "id": "721c1746",
   "metadata": {},
   "source": [
    "在预测时可以指定气温的值，参数为数据帧。首先，计算当气温为 26 度时啤酒销售额的期望值"
   ]
  },
  {
   "cell_type": "code",
   "execution_count": 62,
   "id": "6147f5b7",
   "metadata": {},
   "outputs": [
    {
     "data": {
      "text/plain": [
       "0    54.511333\n",
       "dtype: float64"
      ]
     },
     "execution_count": 62,
     "metadata": {},
     "output_type": "execute_result"
    }
   ],
   "source": [
    "# 预测\n",
    "lm_model.predict(pd.DataFrame({\"temperature\":[26]}))"
   ]
  },
  {
   "cell_type": "markdown",
   "id": "a7b6dfec",
   "metadata": {},
   "source": [
    "我们可以用 lm_model.params 查看模型的参数，确认一下上述结果。"
   ]
  },
  {
   "cell_type": "code",
   "execution_count": 68,
   "id": "723fde4f",
   "metadata": {},
   "outputs": [
    {
     "data": {
      "text/plain": [
       "Intercept      34.610215\n",
       "temperature     0.765428\n",
       "dtype: float64"
      ]
     },
     "execution_count": 68,
     "metadata": {},
     "output_type": "execute_result"
    }
   ],
   "source": [
    "lm_model.params"
   ]
  },
  {
   "cell_type": "code",
   "execution_count": 72,
   "id": "9580a82b",
   "metadata": {},
   "outputs": [
    {
     "data": {
      "text/plain": [
       "54.511"
      ]
     },
     "execution_count": 72,
     "metadata": {},
     "output_type": "execute_result"
    }
   ],
   "source": [
    "# 不使用 predict 函数进行预测，气温为 26 度时的预测值\n",
    "beta0 = lm_model.params[0]\n",
    "beta1 = lm_model.params[1]\n",
    "temperature = 26\n",
    "\n",
    "beta0 + beta1 * temperature"
   ]
  }
 ],
 "metadata": {
  "kernelspec": {
   "display_name": "Python 3 (ipykernel)",
   "language": "python",
   "name": "python3"
  },
  "language_info": {
   "codemirror_mode": {
    "name": "ipython",
    "version": 3
   },
   "file_extension": ".py",
   "mimetype": "text/x-python",
   "name": "python",
   "nbconvert_exporter": "python",
   "pygments_lexer": "ipython3",
   "version": "3.9.12"
  },
  "toc": {
   "base_numbering": 1,
   "nav_menu": {},
   "number_sections": true,
   "sideBar": true,
   "skip_h1_title": false,
   "title_cell": "Table of Contents",
   "title_sidebar": "Contents",
   "toc_cell": false,
   "toc_position": {
    "height": "calc(100% - 180px)",
    "left": "10px",
    "top": "150px",
    "width": "190px"
   },
   "toc_section_display": true,
   "toc_window_display": true
  }
 },
 "nbformat": 4,
 "nbformat_minor": 5
}
