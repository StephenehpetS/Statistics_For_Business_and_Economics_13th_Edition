{
 "cells": [
  {
   "cell_type": "code",
   "execution_count": null,
   "metadata": {},
   "outputs": [],
   "source": [
    "import numpy as np\n",
    "import matplotlib.pyplot as plt\n",
    "import scipy.stats as stats\n",
    "\n",
    "from scipy.stats import norm\n",
    "# Python 3.9 支持 NormalDist\n",
    "from statistics import NormalDist\n",
    "\n",
    "# 设置浮点数打印精度\n",
    "%precision 3\n",
    "# 在 Jupyter Notebook 里显示图形\n",
    "%matplotlib inline"
   ]
  },
  {
   "cell_type": "markdown",
   "metadata": {},
   "source": [
    "## 概率密度"
   ]
  },
  {
   "cell_type": "code",
   "execution_count": 42,
   "metadata": {},
   "outputs": [
    {
     "data": {
      "text/plain": [
       "0.228"
      ]
     },
     "execution_count": 42,
     "metadata": {},
     "output_type": "execute_result"
    }
   ],
   "source": [
    "# 均值为 4 标准差为 0.8 的正态分布在随机变量为 3 时的概率密度\n",
    "x = 3\n",
    "mu = 4\n",
    "sigma = 0.8\n",
    "\n",
    "1 / (np.sqrt(2 * np.pi * sigma**2)) * np.exp(- ((x - mu)**2) / (2 * sigma**2))"
   ]
  },
  {
   "cell_type": "code",
   "execution_count": 43,
   "metadata": {},
   "outputs": [
    {
     "data": {
      "text/plain": [
       "0.228"
      ]
     },
     "execution_count": 43,
     "metadata": {},
     "output_type": "execute_result"
    }
   ],
   "source": [
    "norm.pdf(loc = mu, scale = sigma, x = x)"
   ]
  },
  {
   "cell_type": "code",
   "execution_count": 12,
   "metadata": {},
   "outputs": [
    {
     "data": {
      "text/plain": [
       "0.228"
      ]
     },
     "execution_count": 12,
     "metadata": {},
     "output_type": "execute_result"
    }
   ],
   "source": [
    "# 均值为 4 标准差为 0.8 的正态分布在随机变量为 3 时的概率密度\n",
    "x = 3\n",
    "mu = 4\n",
    "sigma = 0.8\n",
    "\n",
    "1 / (np.sqrt(2 * np.pi * sigma**2)) * \\\n",
    "    np.exp(- ((x - mu)**2) / (2 * sigma**2))"
   ]
  },
  {
   "cell_type": "code",
   "execution_count": 27,
   "metadata": {},
   "outputs": [
    {
     "data": {
      "text/plain": [
       "array([1.858e-06, 5.000e-06, 1.291e-05, 3.202e-05, 7.622e-05, 1.742e-04,\n",
       "       3.821e-04, 8.047e-04, 1.627e-03, 3.158e-03, 5.885e-03, 1.053e-02,\n",
       "       1.808e-02, 2.980e-02, 4.717e-02, 7.167e-02, 1.045e-01, 1.464e-01,\n",
       "       1.968e-01, 2.540e-01, 3.147e-01, 3.743e-01, 4.274e-01, 4.685e-01,\n",
       "       4.930e-01, 4.980e-01, 4.830e-01, 4.497e-01, 4.020e-01, 3.449e-01,\n",
       "       2.842e-01, 2.247e-01, 1.706e-01, 1.243e-01, 8.700e-02, 5.844e-02,\n",
       "       3.769e-02, 2.333e-02, 1.387e-02, 7.911e-03, 4.333e-03, 2.278e-03,\n",
       "       1.150e-03, 5.574e-04, 2.593e-04, 1.158e-04, 4.965e-05, 2.044e-05,\n",
       "       8.076e-06, 3.064e-06, 1.116e-06, 3.901e-07, 1.309e-07, 4.219e-08,\n",
       "       1.305e-08, 3.875e-09, 1.105e-09, 3.024e-10, 7.944e-11, 2.004e-11,\n",
       "       4.852e-12, 1.128e-12, 2.517e-13, 5.393e-14, 1.109e-14, 2.190e-15,\n",
       "       4.151e-16, 7.554e-17, 1.320e-17, 2.213e-18, 3.563e-19, 5.507e-20,\n",
       "       8.171e-21, 1.164e-21, 1.592e-22, 2.090e-23, 2.634e-24, 3.187e-25,\n",
       "       3.701e-26, 4.127e-27, 4.418e-28, 4.541e-29, 4.480e-30, 4.243e-31,\n",
       "       3.858e-32, 3.367e-33, 2.822e-34, 2.270e-35, 1.753e-36, 1.300e-37,\n",
       "       9.252e-39, 6.322e-40, 4.147e-41, 2.612e-42, 1.579e-43, 9.164e-45,\n",
       "       5.106e-46, 2.731e-47, 1.402e-48, 6.913e-50])"
      ]
     },
     "execution_count": 27,
     "metadata": {},
     "output_type": "execute_result"
    }
   ],
   "source": [
    "norm_dist = stats.norm(loc = mu, scale = sigma)\n",
    "norm_dist.pdf(x = x)"
   ]
  },
  {
   "cell_type": "code",
   "execution_count": 28,
   "metadata": {},
   "outputs": [
    {
     "data": {
      "text/plain": [
       "[<matplotlib.lines.Line2D at 0x127e8a4f0>]"
      ]
     },
     "execution_count": 28,
     "metadata": {},
     "output_type": "execute_result"
    },
    {
     "data": {
      "image/png": "[encoded data removed]",
      "text/plain": [
       "<Figure size 432x288 with 1 Axes>"
      ]
     },
     "metadata": {
      "needs_background": "light"
     },
     "output_type": "display_data"
    }
   ],
   "source": [
    "x_plot = np.arange(start = 1, stop = 7.1, step = 0.1)\n",
    "plt.plot(\n",
    "    x_plot, \n",
    "    stats.norm.pdf(x = x_plot, loc = mu, scale = sigma)\n",
    ")"
   ]
  },
  {
   "cell_type": "code",
   "execution_count": null,
   "metadata": {},
   "outputs": [],
   "source": [
    "mean = 8.0 \n",
    "std = 3.0\n",
    "\n",
    "x_min = mean - std * 3\n",
    "x_max = mean + std * 3\n",
    "\n",
    "x = np.linspace(x_min, x_max, 100)\n",
    "y = stats.norm.pdf(x,mean,std)\n",
    "\n",
    "plt.plot(x,y, color='black')\n",
    "\n",
    "#----------------------------------------------------------------------------------------#\n",
    "# fill area 1\n",
    "\n",
    "pt1 = mean + std\n",
    "plt.plot([pt1 ,pt1 ],[0.0,stats.norm.pdf(pt1 ,mean, std)], color='black')\n",
    "\n",
    "pt2 = mean - std\n",
    "plt.plot([pt2 ,pt2 ],[0.0,stats.norm.pdf(pt2 ,mean, std)], color='black')\n",
    "\n",
    "ptx = np.linspace(pt1, pt2, 10)\n",
    "pty = stats.norm.pdf(ptx,mean,std)\n",
    "\n",
    "plt.fill_between(ptx, pty, color='#0b559f', alpha=1)\n",
    "\n",
    "#----------------------------------------------------------------------------------------#\n",
    "# fill area 2\n",
    "\n",
    "pt1 = mean + std\n",
    "plt.plot([pt1 ,pt1 ],[0.0,stats.norm.pdf(pt1 ,mean, std)], color='black')\n",
    "\n",
    "pt2 = mean + 2.0 * std\n",
    "plt.plot([pt2 ,pt2 ],[0.0,stats.norm.pdf(pt2 ,mean, std)], color='black')\n",
    "\n",
    "ptx = np.linspace(pt1, pt2, 10)\n",
    "pty = stats.norm.pdf(ptx,mean,std)\n",
    "\n",
    "plt.fill_between(ptx, pty, color='#2b7bba', alpha=1)\n",
    "\n",
    "#----------------------------------------------------------------------------------------#\n",
    "# fill area 3\n",
    "\n",
    "pt1 = mean - std\n",
    "plt.plot([pt1 ,pt1 ],[0.0,norm.pdf(pt1 ,mean, std)], color='black')\n",
    "\n",
    "pt2 = mean - 2.0 * std\n",
    "plt.plot([pt2 ,pt2 ],[0.0,norm.pdf(pt2 ,mean, std)], color='black')\n",
    "\n",
    "ptx = np.linspace(pt1, pt2, 10)\n",
    "pty = stats.norm.pdf(ptx,mean,std)\n",
    "\n",
    "plt.fill_between(ptx, pty, color='#2b7bba', alpha=1)\n",
    "\n",
    "#----------------------------------------------------------------------------------------#\n",
    "# fill area 4\n",
    "\n",
    "pt1 = mean + 2.0 * std\n",
    "plt.plot([pt1 ,pt1 ],[0.0,stats.norm.pdf(pt1 ,mean, std)], color='black')\n",
    "\n",
    "pt2 = mean + 3.0 * std\n",
    "plt.plot([pt2 ,pt2 ],[0.0,stats.norm.pdf(pt2 ,mean, std)], color='black')\n",
    "\n",
    "ptx = np.linspace(pt1, pt2, 10)\n",
    "pty = stats.norm.pdf(ptx,mean,std)\n",
    "\n",
    "plt.fill_between(ptx, pty, color='#539ecd', alpha=1)\n",
    "\n",
    "#----------------------------------------------------------------------------------------#\n",
    "# fill area 5\n",
    "\n",
    "pt1 = mean - 2.0 * std\n",
    "plt.plot([pt1 ,pt1 ],[0.0,stats.norm.pdf(pt1 ,mean, std)], color='black')\n",
    "\n",
    "pt2 = mean - 3.0 * std\n",
    "plt.plot([pt2 ,pt2 ],[0.0,stats.norm.pdf(pt2 ,mean, std)], color='black')\n",
    "\n",
    "ptx = np.linspace(pt1, pt2, 10)\n",
    "pty = stats.norm.pdf(ptx,mean,std)\n",
    "\n",
    "plt.fill_between(ptx, pty, color='#539ecd', alpha=1)\n",
    "\n",
    "#----------------------------------------------------------------------------------------#\n",
    "# fill area 6\n",
    "\n",
    "pt1 = mean + 3.0 * std\n",
    "plt.plot([pt1 ,pt1 ],[0.0,stats.norm.pdf(pt1 ,mean, std)], color='black')\n",
    "\n",
    "pt2 = mean + 10.0 *std\n",
    "plt.plot([pt2 ,pt2 ],[0.0,stats.norm.pdf(pt2 ,mean, std)], color='black')\n",
    "\n",
    "ptx = np.linspace(pt1, pt2, 10)\n",
    "pty = stats.norm.pdf(ptx,mean,std)\n",
    "\n",
    "plt.fill_between(ptx, pty, color='#89bedc', alpha=1)\n",
    "\n",
    "#----------------------------------------------------------------------------------------#\n",
    "# fill area 7\n",
    "\n",
    "pt1 = mean - 3.0 * std\n",
    "plt.plot([pt1 ,pt1 ],[0.0,stats.norm.pdf(pt1 ,mean, std)], color='black')\n",
    "\n",
    "pt2 = mean - 10.0 * std\n",
    "plt.plot([pt2 ,pt2 ],[0.0,stats.norm.pdf(pt2 ,mean, std)], color='black')\n",
    "\n",
    "ptx = np.linspace(pt1, pt2, 10)\n",
    "pty = stats.norm.pdf(ptx,mean,std)\n",
    "\n",
    "plt.fill_between(ptx, pty, color='#89bedc', alpha=1)\n",
    "\n",
    "#----------------------------------------------------------------------------------------#\n",
    "\n",
    "plt.xlim(x_min,x_max)\n",
    "plt.ylim(0, norm.pdf(loc = mean, scale = std, x = mean)*1.0618)\n",
    "\n",
    "plt.title('How to plot a normal distribution in python with matplotlib',fontsize=10)\n",
    "\n",
    "plt.xlabel('x')\n",
    "plt.ylabel('Normal Distribution')\n",
    "plt.show()"
   ]
  },
  {
   "cell_type": "markdown",
   "metadata": {},
   "source": [
    "我们先讲一个和我们每个人都有关系的数据：身高。\n",
    "\n",
    "- 根据国家卫健委发布的《[中国居民营养与慢性病状况报告（2020年）](http://www.nhc.gov.cn/xcs/s3574/202012/bc4379ddf4324e7f86f05d31cc1c4982.shtml)》，18~44岁男性和女性的平均身高分别为169.7厘米和158.0厘米。\n",
    "- 根据国家标准计划《[中国成年人人体尺寸](http://openstd.samr.gov.cn/bzgk/gb/newGbInfo?hcno=A78583489235BF9BF9EE253E74DC76B9)》，男性身高标准差为 5.7，女性身高标准差为 5.2（虽然这是 88 年公布的数据，但是我实在是找不到其他官方数据了，只能勉强用这个数据进行计算了）。\n",
    "\n",
    "我们已知身高是服从正态分布的，如果要使用正态分布的性质估计一下，身高 179cm 的男生，比多少男生都要高？\n",
    "\n",
    "要计算出这个结果，我们先要计算身高所在区间的 $z$ 分数"
   ]
  },
  {
   "cell_type": "code",
   "execution_count": 10,
   "metadata": {},
   "outputs": [
    {
     "name": "stdout",
     "output_type": "stream",
     "text": [
      "The z-score for 179 corresonding to 169.7 mean and 5.7 std deviation is: 1.632\n"
     ]
    }
   ],
   "source": [
    "xcritical = 179\n",
    "mean = 169.7\n",
    "stdev = 5.7\n",
    "\n",
    "z_score = NormalDist(mu = mean, sigma = stdev).zscore(xcritical)\n",
    "print('The z-score for {} corresonding to {} mean and {} std deviation is: {:.3f}'\n",
    "      .format(xcritical, mean, stdev, z_score))"
   ]
  },
  {
   "cell_type": "markdown",
   "metadata": {},
   "source": [
    "根据 $z$ 分数，查阅 $z$ 表格，获取  $p$ 值："
   ]
  },
  {
   "cell_type": "code",
   "execution_count": 11,
   "metadata": {},
   "outputs": [
    {
     "name": "stdout",
     "output_type": "stream",
     "text": [
      "The p-value for 179 corresonding to 169.7 mean and 5.7 std deviation is: 94.862%\n"
     ]
    }
   ],
   "source": [
    "pvalue = NormalDist(mu = mean, sigma = stdev).cdf(xcritical)\n",
    "print('The p-value for {} corresonding to {} mean and {} std deviation is: {:.3f}%'\n",
    "      .format(xcritical, mean, stdev, pvalue*100))"
   ]
  },
  {
   "cell_type": "code",
   "execution_count": 12,
   "metadata": {},
   "outputs": [
    {
     "name": "stdout",
     "output_type": "stream",
     "text": [
      "The z-score for 179 corresonding to 169.7 mean and 5.7 std deviation is: 1.632\n",
      "The p-value for 179 corresonding to 169.7 mean and 5.7 std deviation is: 94.862%\n"
     ]
    },
    {
     "data": {
      "text/plain": [
       "1.6315789473684226"
      ]
     },
     "execution_count": 12,
     "metadata": {},
     "output_type": "execute_result"
    }
   ],
   "source": [
    "p = norm.cdf(x = xcritical, loc = mean, scale = stdev)\n",
    "z_score = norm.ppf(p)\n",
    "print('The z-score for {} corresonding to {} mean and {} std deviation is: {:.3f}'\n",
    "      .format(xcritical, mean, stdev, z_score))\n",
    "print('The p-value for {} corresonding to {} mean and {} std deviation is: {:.3f}%'\n",
    "      .format(xcritical, mean, stdev, p*100))\n",
    "NormalDist().inv_cdf(p)"
   ]
  },
  {
   "cell_type": "markdown",
   "metadata": {},
   "source": [
    "given [historical data for SAT exams](https://nces.ed.gov/programs/digest/d17/tables/dt17_226.40.asp) showing that scores are normally distributed with \n",
    "- a mean of 1060 and \n",
    "- a standard deviation of 195\n",
    "\n",
    "determine the percentage of students with test scores between 1100 and 1200, after rounding to the nearest whole number:"
   ]
  },
  {
   "cell_type": "code",
   "execution_count": 13,
   "metadata": {},
   "outputs": [
    {
     "data": {
      "text/plain": [
       "18.23"
      ]
     },
     "execution_count": 13,
     "metadata": {},
     "output_type": "execute_result"
    }
   ],
   "source": [
    "sat = NormalDist(1060, 195)\n",
    "fraction = sat.cdf(1200) - sat.cdf(1100)\n",
    "round(fraction * 100, 2)"
   ]
  },
  {
   "cell_type": "markdown",
   "metadata": {},
   "source": [
    "点估计量是用于估计总体参数的样本统计量，不可能是总体参数的精确值，所以经常在点估计上加减边际误差的值来计算区间估计，形式如下：\n",
    "\n",
    "点估计 $\\pm$ 边际误差\n",
    "\n",
    "# 总体均值的区间估计：$\\sigma$ 已知情形\n",
    "\n",
    "对总体均值进行区间估计，**必须**利用**总体标准差** $\\sigma$ 或**样本标准差** $s$ 计算边际误差。\n",
    "\n",
    "总体均值的区间估计：$\\sigma$已知情形\n",
    "\n",
    "$$\\displaystyle \\bar{x} \\pm z_{\\alpha/2}\\frac{\\sigma}{\\sqrt n}$$\n",
    "\n",
    "其中\n",
    "- $ 1-\\alpha$ 为置信系数\n",
    "- $z_{\\alpha/2}$ 表示标准正态概率分布上侧面积为 $\\displaystyle \\frac{\\alpha}{2}$ 时的 $z$ 值\n",
    "\n",
    "下面的例子来自[3.5 Confidence Intervals](http://web.vu.lt/mif/a.buteikis/wp-content/uploads/PE_Book/3-5-UnivarConfInt.html)"
   ]
  },
  {
   "cell_type": "code",
   "execution_count": 14,
   "metadata": {},
   "outputs": [
    {
     "data": {
      "image/png": "[encoded data removed]",
      "text/plain": [
       "<Figure size 720x576 with 1 Axes>"
      ]
     },
     "metadata": {
      "needs_background": "light"
     },
     "output_type": "display_data"
    }
   ],
   "source": [
    "N = 10\n",
    "alpha = 0.05\n",
    "x = np.linspace(start = -4, stop = 4, num = int(1e5))\n",
    "hx = norm.pdf(x)\n",
    "# Get the critical values for the specified probability:\n",
    "crit_vals = norm.ppf(q = alpha / 2)\n",
    "\n",
    "# Plot the density\n",
    "_ = plt.figure(num = 1, figsize=(10, 8))\n",
    "_ = plt.plot(x, hx, color = \"black\")\n",
    "_ = plt.margins(y = 0)\n",
    "_ = plt.ylim((0, 0.41))\n",
    "\n",
    "# Shade in the relevant parts of the density\n",
    "_ = plt.fill_between(x[np.logical_and(x >= crit_vals, x <= -crit_vals)], \n",
    "                 hx[np.logical_and(x >= crit_vals, x <= -crit_vals)], \n",
    "                 color = \"oldlace\")\n",
    "_ = plt.fill_between(x[x <= crit_vals], hx[x <= crit_vals], color = \"cornflowerblue\")\n",
    "_ = plt.fill_between(x[x >= -crit_vals], hx[x >= -crit_vals], color = \"cornflowerblue\")\n",
    "#\n",
    "_ = plt.title(\"normal distribution density with $\\\\alpha = 0.05$, $N=10$\")\n",
    "#\n",
    "_ = plt.text(0, alpha, '$1-\\\\alpha$', fontsize = 12, ha = \"center\")\n",
    "_ = plt.text(-3, alpha, '$\\\\alpha/2$', fontsize = 12, ha = \"center\")\n",
    "_ = plt.text(3, alpha, '$\\\\alpha/2$', fontsize = 12, ha = \"center\")\n",
    "_ = plt.arrow(-3, alpha*0.8, -2.5-(-3), 0.01 - 0.04, color = \"black\", \n",
    "          head_width=0.01, head_length=0.1, overhang = 1)\n",
    "_ = plt.arrow(3, alpha*0.8, 2.5-3, 0.01 - 0.04, color = \"black\", \n",
    "          head_width=0.01, head_length=0.1, overhang = 1)\n",
    "plt.show()"
   ]
  },
  {
   "cell_type": "markdown",
   "metadata": {},
   "source": [
    "已知身高是服从正态分布的，但是现实生活中，我们是没有办法统计所有人的身高的，如果我们恰好知道身高的总体标准差为 5.7，现在我们有一个样本数量为 100 的样本，平均身高为 172 cm：\n",
    "- 总体标准差 $\\sigma = 5.7$\n",
    "- 样本均值 $\\bar{x} = 172$\n",
    "- 样本数 $n = 100$\n",
    "\n",
    "假设我们不打算准确估算总体均值是多少，只希望有 95% 的把握，估算出总体均值所在的区间。\n",
    "\n",
    "根据正态分布的性质，正态分布中 95% 的数据，是位于均值 $\\mu$ 附近 $\\pm 1.96$ 个标准差附近。\n",
    "\n",
    "边际误差 = $\\pm 1.96 \\times \\sigma_\\bar{x}$"
   ]
  },
  {
   "cell_type": "code",
   "execution_count": 17,
   "metadata": {},
   "outputs": [
    {
     "data": {
      "text/plain": [
       "1.959963984540054"
      ]
     },
     "execution_count": 17,
     "metadata": {},
     "output_type": "execute_result"
    }
   ],
   "source": [
    "alpha = 0.05\n",
    "sample = 100\n",
    "sampleMean = 172\n",
    "sampleStdev = stdev / sample**0.5\n",
    "\n",
    "# 累计密度转换为 z score\n",
    "zscore = norm.ppf(1-alpha/2)\n",
    "zscore"
   ]
  },
  {
   "cell_type": "code",
   "execution_count": 18,
   "metadata": {},
   "outputs": [
    {
     "data": {
      "text/plain": [
       "0.975"
      ]
     },
     "execution_count": 18,
     "metadata": {},
     "output_type": "execute_result"
    }
   ],
   "source": [
    "# z score 转换为累计密度\n",
    "norm.cdf(zscore)"
   ]
  },
  {
   "cell_type": "code",
   "execution_count": 19,
   "metadata": {},
   "outputs": [
    {
     "data": {
      "text/plain": [
       "1.9599639845400536"
      ]
     },
     "execution_count": 19,
     "metadata": {},
     "output_type": "execute_result"
    }
   ],
   "source": [
    "# 累计密度转换为 z score\n",
    "NormalDist().inv_cdf(norm.cdf(zscore))"
   ]
  },
  {
   "cell_type": "code",
   "execution_count": 20,
   "metadata": {},
   "outputs": [
    {
     "data": {
      "text/plain": [
       "0.975"
      ]
     },
     "execution_count": 20,
     "metadata": {},
     "output_type": "execute_result"
    }
   ],
   "source": [
    "# z score 转换为累计密度\n",
    "NormalDist().cdf(NormalDist().inv_cdf(norm.cdf(zscore)))"
   ]
  },
  {
   "cell_type": "markdown",
   "metadata": {},
   "source": [
    "我们可以通过样本均值估算：\n",
    "- 样本标准差 $\\sigma_\\bar{x} = \\frac{\\sigma}{\\sqrt{n}} = \\frac{5.7}{\\sqrt{100}} = 0.57$\n",
    "- 边际误差 = $\\pm 1.96 \\times \\sigma_\\bar{x} =\\pm  1.96 \\times 0.57 = \\pm 1.12$\n",
    "\n",
    "根据计算结果，我们有 95% 的把握确定，总体均值位于 $[172-1.12, 172+1.12]$ 也就是 $[170.88, 173.12]$ 这个区间之内。\n",
    "\n",
    "- 置信水平为 95%\n",
    "- 置信系数为 0.95\n",
    "- 置信区间 $[170.88, 173.12]$ "
   ]
  },
  {
   "cell_type": "code",
   "execution_count": 21,
   "metadata": {},
   "outputs": [
    {
     "data": {
      "text/plain": [
       "173.11717947118782"
      ]
     },
     "execution_count": 21,
     "metadata": {},
     "output_type": "execute_result"
    }
   ],
   "source": [
    "upper_of_interval = norm.ppf(1-alpha/2, loc=sampleMean, scale=sampleStdev)\n",
    "upper_of_interval"
   ]
  },
  {
   "cell_type": "code",
   "execution_count": 22,
   "metadata": {},
   "outputs": [
    {
     "name": "stdout",
     "output_type": "stream",
     "text": [
      "The MOE for Confidence level 95% is: [170.88, 173.12]\n"
     ]
    }
   ],
   "source": [
    "lower_of_interval = norm.ppf(alpha/2, loc=sampleMean, scale=sampleStdev)\n",
    "print('The MOE for Confidence level {:.0f}% is: [{:.2f}, {:.2f}]'\n",
    "      .format((1-alpha)*100, lower_of_interval,upper_of_interval))"
   ]
  },
  {
   "cell_type": "markdown",
   "metadata": {},
   "source": [
    "# 总体均值的区间估计：$\\sigma$未知情形\n",
    "\n",
    "在建立总体均值的区间估计时，我们通常并没有关于总体标准差的一个好的估计。\n",
    "\n",
    "在这种情形下，我们必须利用同一样本估计 $\\mu$ 和 $\\sigma$ 两个未知参数。这属于 $\\sigma$ 未知（ $\\sigma$ unknown）的情形。\n",
    "\n",
    "当利用 $s$ 估计 $\\sigma$ 时，边际误差和总体均值额区间估计都是以 $t$ 分布（ $t$ distribution）的概率分布为依据进行的。\n",
    "\n",
    "虽然 $t$ 分布的数学推导以假设抽样总体服从正态分布为依据，但是研究表明在许多总体分布显著偏离正态分布的情形下，利用 $t$ 分布的效果还是相当不错的。\n",
    "\n",
    "当总体分布不是正态分布时，在本节稍后我们给出应用分布的建议。\n",
    "\n",
    "$t$ 分布是由一类相似的概率分布组成的分布族，某个特定的 $t$ 分布依赖于称为自由度（degrees of freedom）的参数。"
   ]
  },
  {
   "cell_type": "code",
   "execution_count": 23,
   "metadata": {},
   "outputs": [
    {
     "data": {
      "image/png": "[encoded data removed]",
      "text/plain": [
       "<Figure size 720x576 with 1 Axes>"
      ]
     },
     "metadata": {
      "needs_background": "light"
     },
     "output_type": "display_data"
    }
   ],
   "source": [
    "from scipy.stats import t\n",
    "# Calculate the probability density function for values of x in [-5;5]\n",
    "x = np.linspace(start = -5, stop = 5, num = 200)\n",
    "#\n",
    "_ = plt.figure(num = 2, figsize = (10, 8))\n",
    "for i in range(0, 5):\n",
    "    _ = plt.plot(x, t.pdf(x, df = [1, 2, 3, 5, 100][i]), \n",
    "              label = \"k = \" + str([1, 2, 3, 5, 100][i]))\n",
    "_ = plt.ylim((0, 0.4))    \n",
    "_ = plt.title(\"Probability density function of $t_k$\")\n",
    "_ = plt.ylabel(\"Density\")\n",
    "_ = plt.legend()\n",
    "plt.show()"
   ]
  },
  {
   "cell_type": "markdown",
   "metadata": {},
   "source": [
    "随着自由度的增大，$t$ 分布与标准正态分布之间的差别会变小。\n",
    "\n",
    "前面我们知道，$\\sigma$ **已知**的时候，总体均值的区间估计是：\n",
    "\n",
    "$$\\displaystyle \\bar{x} \\pm z_{\\alpha/2}\\frac{\\sigma}{\\sqrt n}$$\n",
    "\n",
    "如果 $\\sigma$ **未知**，为了计算 $\\mu$ 的区间估计：\n",
    "- 用样本标准差 $s$ 估计 $\\mu$\n",
    "- 用 $t$ 分布中的 $t_{\\alpha/2}$ 代替 $z_{\\alpha/2}$\n",
    "\n",
    "此时总体均值的区间估计是：\n",
    "\n",
    "$$\\displaystyle \\bar{x} \\pm t_{\\alpha/2}\\frac{s}{\\sqrt n}$$\n",
    "\n",
    "- $s$ 为样本标准差\n",
    "- $1-\\alpha$ 为置信系数\n",
    "- 自由度为 $n-1$ 的 $t$ 分布中，$t_{\\alpha/2}$ 上侧面积恰好等于 $\\alpha/2$\n",
    "\n",
    "样本标准差的公式为：\n",
    "$$s = \\sqrt{\\frac{\\sum{(x_i - \\bar{x})^2}}{n-1}}$$"
   ]
  },
  {
   "cell_type": "code",
   "execution_count": 24,
   "metadata": {},
   "outputs": [
    {
     "data": {
      "image/png": "[encoded data removed]",
      "text/plain": [
       "<Figure size 720x576 with 1 Axes>"
      ]
     },
     "metadata": {
      "needs_background": "light"
     },
     "output_type": "display_data"
    }
   ],
   "source": [
    "N = 10\n",
    "alpha = 0.05\n",
    "x = np.linspace(start = -4, stop = 4, num = int(1e5))\n",
    "hx = stats.t.pdf(x, df = N - 2)\n",
    "# Get the critical values for the specified probability:\n",
    "crit_vals = stats.t.ppf(q = alpha / 2, df = N-2)\n",
    "# Plot the density\n",
    "_ = plt.figure(num = 1, figsize=(10, 8))\n",
    "_ = plt.plot(x, hx, color = \"black\")\n",
    "_ = plt.margins(y = 0)\n",
    "_ = plt.ylim((0, 0.41))\n",
    "# Shade in the relevant parts of the density\n",
    "_ = plt.fill_between(x[np.logical_and(x >= crit_vals, x <= -crit_vals)], \n",
    "                 hx[np.logical_and(x >= crit_vals, x <= -crit_vals)], \n",
    "                 color = \"oldlace\")\n",
    "_ = plt.fill_between(x[x <= crit_vals], hx[x <= crit_vals], color = \"cornflowerblue\")\n",
    "_ = plt.fill_between(x[x >= -crit_vals], hx[x >= -crit_vals], color = \"cornflowerblue\")\n",
    "#\n",
    "_ = plt.title(\"t-distribution density with $\\\\alpha = 0.05$, $N=10$\")\n",
    "#\n",
    "_ = plt.text(0, alpha, '$1-\\\\alpha$', fontsize = 12, ha = \"center\")\n",
    "_ = plt.text(-3, alpha, '$\\\\alpha/2$', fontsize = 12, ha = \"center\")\n",
    "_ = plt.text(3, alpha, '$\\\\alpha/2$', fontsize = 12, ha = \"center\")\n",
    "_ = plt.arrow(-3, alpha*0.8, -2.5-(-3), 0.01 - 0.04, color = \"black\", \n",
    "          head_width=0.01, head_length=0.1, overhang = 1)\n",
    "_ = plt.arrow(3, alpha*0.8, 2.5-3, 0.01 - 0.04, color = \"black\", \n",
    "          head_width=0.01, head_length=0.1, overhang = 1)\n",
    "plt.show()"
   ]
  },
  {
   "cell_type": "markdown",
   "metadata": {},
   "source": [
    "现在我们有一个样本数量为 100 的样本，平均身高为 172 cm，样本的标准差为 5 cm：\n",
    "- 样本标准差 $\\sigma = 5$\n",
    "- 样本均值 $\\bar{x} = 172$\n",
    "- 样本数 $n = 100$"
   ]
  },
  {
   "cell_type": "code",
   "execution_count": 25,
   "metadata": {},
   "outputs": [
    {
     "data": {
      "text/plain": [
       "12.706204736432095"
      ]
     },
     "execution_count": 25,
     "metadata": {},
     "output_type": "execute_result"
    }
   ],
   "source": [
    "from scipy.stats import t\n",
    "alpha = 0.05\n",
    "sample = 100\n",
    "sampleMean = 172\n",
    "stdev = 5\n",
    "sampleStdev = stdev / sample**0.5\n",
    "\n",
    "# zscore\n",
    "t.ppf(1-alpha/2, df = 1)"
   ]
  },
  {
   "cell_type": "code",
   "execution_count": 26,
   "metadata": {},
   "outputs": [
    {
     "data": {
      "text/plain": [
       "0.8498261862492719"
      ]
     },
     "execution_count": 26,
     "metadata": {},
     "output_type": "execute_result"
    }
   ],
   "source": [
    "# 1-alpha/2\n",
    "t.cdf(zscore, df = 1)"
   ]
  },
  {
   "cell_type": "code",
   "execution_count": 27,
   "metadata": {},
   "outputs": [
    {
     "name": "stdout",
     "output_type": "stream",
     "text": [
      "The MOE for Confidence level 95% is: [165.65, 178.35]\n"
     ]
    }
   ],
   "source": [
    "upper_of_interval = t.ppf(1-alpha/2, loc=sampleMean, scale=sampleStdev, df = 1)\n",
    "lower_of_interval = t.ppf(alpha/2, loc=sampleMean, scale=sampleStdev, df = 1)\n",
    "print('The MOE for Confidence level {:.0f}% is: [{:.2f}, {:.2f}]'\n",
    "      .format((1-alpha)*100, lower_of_interval,upper_of_interval))"
   ]
  },
  {
   "cell_type": "markdown",
   "metadata": {},
   "source": [
    "## 样本容量的确定\n",
    "\n",
    "总体均值区间估计 $\\sigma$ 已知，区间估计为：\n",
    "\n",
    "$$\\displaystyle \\bar{x} \\pm z_{\\alpha/2}\\frac{\\sigma}{\\sqrt n}$$\n",
    "\n",
    "其中 $\\displaystyle z_{\\alpha/2} \\times \\frac{\\sigma}{\\sqrt n}$ 是边际误差。\n",
    "\n",
    "选择了置信系数 $1-\\alpha$ 之后，$z_{\\alpha/2}$ 就可以确定了。\n",
    "\n",
    "如果 $\\sigma$ 的值已知，我们就可以确定达到希望的编辑误差所需的样本容量 $n$。\n",
    "\n",
    "令 $E$ 代表希望达到的边际误差：\n",
    "\n",
    "$$\\displaystyle E = z_{\\alpha/2}\\frac{\\sigma}{\\sqrt n}$$\n",
    "\n",
    "解出\n",
    "\n",
    "$$\\displaystyle \\sqrt{n} = \\frac{z_{\\alpha/2} \\cdot \\sigma}{E}$$\n",
    "\n",
    "可得总体均值区间估计中的样本容量：\n",
    "\n",
    "$$\\displaystyle n = \\frac{(z_{\\alpha/2})^2 \\cdot (\\sigma)^2}{E^2}$$\n",
    "\n",
    "下面我们举例说明如何利用上面的方法来确定样本容量。\n",
    "\n",
    "对美国汽车租赁成本的已有调查研究发现，租赁一辆中型汽车的平均费用大约为每天 55 美元。\n",
    "\n",
    "假定该项研究的组织者想要进行一项新的调查，对在美国一辆中型汽车的租赁费用的总体均值进行估计。\n",
    "\n",
    "在新研究的设计中，当项目负责人估计每天租赁费用的总体均值时，设定置信水平为 95%，边际误差为2美元。\n",
    "\n",
    "该负责人已设定边际误差 E=2，在 95% 的置信水平下，$z_{0.025}=1.96$，\n",
    "\n",
    "因此在计算所需的样本容量时，仅需要已知总体标准差 $\\sigma$ 的计划值。\n",
    "\n",
    "此时，分析人员回顾先前研究中的样本数据发现，每天租赁费用的样本标准差为 9.65 美元。\n",
    "\n",
    "梳理一下已知变量：\n",
    "- $z_{\\alpha/2} = 1.96$\n",
    "- $\\sigma = 9.65$\n",
    "- $E = 2$\n",
    "\n",
    "$$\\displaystyle n = \\frac{(1.96)^2 \\cdot (9.65)^2}{2^2} = 89.43$$\n",
    "\n",
    "因此，在新研究中为达到项目负责人所指定的边际误差 2 美元，样本至少应该选取 89.43 笔中型汽车租赁业务。当计算得到的样本容量不是整数时，建议取下一位整数为样本容量。因此，建议样本容量为 90 笔中型汽车租赁业务。"
   ]
  },
  {
   "cell_type": "markdown",
   "metadata": {},
   "source": [
    "# 总体比率\n",
    "\n",
    "已知在 $np \\geq 5$ 和 $n(1-p) \\geq 5$ 的情况下，正态分布是对二项分布的一个简便易行的近似。\n",
    "\n",
    "$\\bar{p}$ 的抽样分布的均值是总体比率 $p$，$\\bar{p}$ 的标准差为：\n",
    "\n",
    "$$\\sigma_\\bar{p} = \\sqrt{\\frac{p(1-p)}{n}}$$\n",
    "\n",
    "总体比率的区间估计\n",
    "\n",
    "$$\\bar{p} \\pm z_{\\alpha/2}\\sqrt{\\frac{\\bar p(1-\\bar p)}{n}}$$\n",
    "\n",
    "下面的例子说明了如何计算总体比率的边际误差和区间估计。\n",
    "\n",
    "美国对 900 名女子高尔夫运动员进行了一项全国性调查，以便掌握女子高尔夫运动员如何看待她们在高尔夫球场所受到的待遇。\n",
    "\n",
    "调查显示，有 396 名女子高尔天运动员对开球时间的合理性感到满意。\n",
    "\n",
    "于是，女子高尔夫运动员中对开球时间的合理性感到满意的总体比率的点估计为 396/900=0.44。\n",
    "\n",
    "根据总体比率的区间估计，并取置信水平为95%，可得：\n",
    "\n",
    "$$\\bar{p} \\pm z_{0.025}\\sqrt{\\frac{\\bar p(1-\\bar p)}{n}}$$\n",
    "\n",
    "$$0.44 \\pm 1.96\\sqrt{\\frac{\\bar 0.44(1-0.44)}{900}}$$\n",
    "\n",
    "$$0.44 \\pm 0.0324$$\n",
    "\n",
    "因此，边际误差为 0.0324，总体比率的 95% 置信水平的区间估计为（0.4076，0.4724）。\n",
    "\n",
    "若用百分数来表示，调查结果使我们可以认为在 95% 的置信水平下，全部女子高尔夫运动员中对开球时间的合理性感到满意的比率在 40.76%~47.24%。"
   ]
  },
  {
   "cell_type": "markdown",
   "metadata": {},
   "source": [
    "## 样本容量的确定\n",
    "\n",
    "与总体比率的区间估计相联系的边际误差为：\n",
    "\n",
    "$$z_{\\alpha/2}\\sqrt{\\frac{\\bar p(1-\\bar p)}{n}}$$\n",
    "\n",
    "令 $E$ 代表希望达到的边际误差：\n",
    "\n",
    "$$\\displaystyle E = z_{\\alpha/2}\\sqrt{\\frac{\\bar p(1-\\bar p)}{n}}$$\n",
    "\n",
    "可得边际误差为 $E$ 时所需样本容量的公式：\n",
    "\n",
    "$$\\displaystyle n = \\frac{(z_{\\alpha/2})^2\\bar{p}(1-\\bar{p})^2}{E^2}$$\n",
    "\n",
    "由于抽样前 $\\bar{p}$ 是未知的因此我们不能直接使用上面的公式，我们需要一个 $\\bar{p}$ 的计划值，令 $p^\\ast$ 表示 $\\bar{p}$ 的计划值，\n",
    "\n",
    "总体均值区间估计中的样本容量：\n",
    "\n",
    "$$\\displaystyle n = \\frac{(z_{\\alpha/2})^2p^\\ast(1-p^\\ast)^2}{E^2}$$\n",
    "\n",
    "实践中，可选择如下方法来确定计划值 $p^\\ast$\n",
    "1. 用以前相同或类似样本的样本比率来代替。\n",
    "2. 利用实验性的研究，选取一个初始样本，以该样本的样本比率作为计划值p\n",
    "3. 使用判断或最优猜测作为 $p$ 值。\n",
    "4. 如果上述方法均不适用，则取计划值 $p=0.5$。\n",
    "\n",
    "我们仍回到对女子高尔夫运动员的调查中去。假设公司想通过一项新的调查，来估计目前女子高尔夫运动员中对开球时间的合理性感到满意的总体比率。\n",
    "\n",
    "在 95% 的置信水平和边际误差为 0.025 的条件下，调查组织者对总体比率进行估计时应选取多大的样本容量？\n",
    "\n",
    "由 $E=0.025$ 和 $z_{\\alpha/2}=1.96$，我们还需要计划值 $p^\\ast$ 方能回答所需样本容\n",
    "量的问题。\n",
    "\n",
    "将上一次的调查结果 $\\bar{p}=0.44$ 作为计划值 $p^\\ast$，有：\n",
    "\n",
    "$$\\displaystyle n = \\frac{(z_{\\alpha/2})^2p^\\ast(1-p^\\ast)^2}{E^2} = \\frac{(1.96)^2 \\times 0.44 \\times (1-0.44)^2}{0.025^2} = 1514.5$$\n",
    "\n",
    "因此，为达到所要求的边际误差，样本容量至少应为 1514.5 人。我们取下一个整数，则为达到所要求的边际误差，建议由 1515 名女子高尔夫运动员组成一个样本。\n",
    "\n",
    "当我们无法确定计划值 $p^\\ast$ 的时候，取 $p^\\ast = 0.5$：\n",
    "\n",
    "$$\\displaystyle n = \\frac{(z_{\\alpha/2})^2p^\\ast(1-p^\\ast)^2}{E^2} = \\frac{(1.96)^2 \\times 0.5 \\times (1-0.5)^2}{0.025^2} = 1536.6$$"
   ]
  }
 ],
 "metadata": {
  "kernelspec": {
   "display_name": "Python 3 (ipykernel)",
   "language": "python",
   "name": "python3"
  },
  "language_info": {
   "codemirror_mode": {
    "name": "ipython",
    "version": 3
   },
   "file_extension": ".py",
   "mimetype": "text/x-python",
   "name": "python",
   "nbconvert_exporter": "python",
   "pygments_lexer": "ipython3",
   "version": "3.9.12"
  },
  "toc": {
   "base_numbering": 1,
   "nav_menu": {},
   "number_sections": true,
   "sideBar": true,
   "skip_h1_title": false,
   "title_cell": "Table of Contents",
   "title_sidebar": "Contents",
   "toc_cell": false,
   "toc_position": {
    "height": "calc(100% - 180px)",
    "left": "10px",
    "top": "150px",
    "width": "245px"
   },
   "toc_section_display": true,
   "toc_window_display": true
  }
 },
 "nbformat": 4,
 "nbformat_minor": 2
}
