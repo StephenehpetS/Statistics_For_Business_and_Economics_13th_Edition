{
 "cells": [
  {
   "cell_type": "markdown",
   "id": "fde9d09d",
   "metadata": {},
   "source": [
    "到目前为止，本书的统计推断中所介绍的方法都是通常所知的参数方法（parametric method）。\n",
    "\n",
    "这些方法通常始于假定总体的概率分布服从正态分布，基于这个假定，统计学家可以得到用于推断一个或多个总体参数（例如\n",
    "总体均值 $\\mu$、总体标准差 $\\sigma$）的抽样分布。\n",
    "\n",
    "例如，在第9章，我们介绍了假定总体服从正态概率分布，其参数和未知情况下对总体均值进行统计推断的方法。用样本标准差 $s$ 来估计总体标准差 $\\sigma$，对总体均值进行推断的统计量服从 $t$ 分布。\n",
    "\n",
    "因此，对正态总体均值可以用分布确定置信区间和进行检验。\n",
    "\n",
    "在本章中，我们将介绍用于对总体进行推断的非参数方法（nonparametric method）。\n",
    "\n",
    "非参数方法对总体概率分布形式的假定没有要求，因此非参数方法也被称为无分布方法（distribution-free method）\n",
    "\n",
    "绝大多数的参数统计方法要求定量数据，而非参数方法则允许定类数据进行推断。\n",
    "\n",
    "用于非参数方法的计算一般与定类数据有关。即使数据是定量数据，为进行非参数检验，我们也要将其转化为定类数据。\n",
    "\n",
    "在本章，我们将演示如何用二项分布对两类数据以及总体中位数进行推断。\n",
    "\n",
    "并演示如何用秩-顺序数据对两个或多个总体进行非参数检验。用秩-顺序数据对两个变量计算等级相关系数。\n",
    "\n",
    "# 符号检验\n",
    "\n",
    "符号检验（sign test）是假设检验中一种多用途的非参数方法，利用 $p=0.5$ 的二项分布作为抽样分布。\n",
    "\n",
    "它对总体分布没有假定的要求。在本节我们将介绍符号检验的两个应用：一个是关于总体中位数的检验；另一个是两个匹配总体之差的检验。\n",
    "\n",
    "现在我们来进行一个假设检验：\n",
    "- $H_0: 中位数 = 450$\n",
    "- $H_{\\alpha}: 中位数 \\neq 450$\n",
    "\n",
    "利用符号检验，可以将其转化为：\n",
    "- $H_0: p = 0.5$\n",
    "- $H_{\\alpha}: p \\neq 0.5$"
   ]
  },
  {
   "cell_type": "code",
   "execution_count": 3,
   "id": "cbf14453",
   "metadata": {},
   "outputs": [],
   "source": [
    "import pandas as pd\n",
    "\n",
    "from pathlib import Path\n",
    "#设置数据文件夹路径\n",
    "DATA = Path().resolve()  / 'data'"
   ]
  },
  {
   "cell_type": "code",
   "execution_count": 4,
   "id": "9ba05f1f",
   "metadata": {},
   "outputs": [
    {
     "data": {
      "text/html": [
       "<div>\n",
       "<style scoped>\n",
       "    .dataframe tbody tr th:only-of-type {\n",
       "        vertical-align: middle;\n",
       "    }\n",
       "\n",
       "    .dataframe tbody tr th {\n",
       "        vertical-align: top;\n",
       "    }\n",
       "\n",
       "    .dataframe thead th {\n",
       "        text-align: right;\n",
       "    }\n",
       "</style>\n",
       "<table border=\"1\" class=\"dataframe\">\n",
       "  <thead>\n",
       "    <tr style=\"text-align: right;\">\n",
       "      <th></th>\n",
       "      <th>Shop</th>\n",
       "      <th>Sales</th>\n",
       "      <th>Sign</th>\n",
       "    </tr>\n",
       "  </thead>\n",
       "  <tbody>\n",
       "    <tr>\n",
       "      <th>0</th>\n",
       "      <td>56</td>\n",
       "      <td>485</td>\n",
       "      <td>1</td>\n",
       "    </tr>\n",
       "    <tr>\n",
       "      <th>1</th>\n",
       "      <td>19</td>\n",
       "      <td>562</td>\n",
       "      <td>1</td>\n",
       "    </tr>\n",
       "    <tr>\n",
       "      <th>2</th>\n",
       "      <td>36</td>\n",
       "      <td>415</td>\n",
       "      <td>0</td>\n",
       "    </tr>\n",
       "    <tr>\n",
       "      <th>3</th>\n",
       "      <td>128</td>\n",
       "      <td>860</td>\n",
       "      <td>1</td>\n",
       "    </tr>\n",
       "    <tr>\n",
       "      <th>4</th>\n",
       "      <td>12</td>\n",
       "      <td>426</td>\n",
       "      <td>0</td>\n",
       "    </tr>\n",
       "    <tr>\n",
       "      <th>5</th>\n",
       "      <td>63</td>\n",
       "      <td>474</td>\n",
       "      <td>1</td>\n",
       "    </tr>\n",
       "    <tr>\n",
       "      <th>6</th>\n",
       "      <td>39</td>\n",
       "      <td>662</td>\n",
       "      <td>1</td>\n",
       "    </tr>\n",
       "    <tr>\n",
       "      <th>7</th>\n",
       "      <td>84</td>\n",
       "      <td>380</td>\n",
       "      <td>0</td>\n",
       "    </tr>\n",
       "    <tr>\n",
       "      <th>8</th>\n",
       "      <td>102</td>\n",
       "      <td>515</td>\n",
       "      <td>1</td>\n",
       "    </tr>\n",
       "    <tr>\n",
       "      <th>9</th>\n",
       "      <td>44</td>\n",
       "      <td>721</td>\n",
       "      <td>1</td>\n",
       "    </tr>\n",
       "  </tbody>\n",
       "</table>\n",
       "</div>"
      ],
      "text/plain": [
       "   Shop  Sales  Sign\n",
       "0    56    485     1\n",
       "1    19    562     1\n",
       "2    36    415     0\n",
       "3   128    860     1\n",
       "4    12    426     0\n",
       "5    63    474     1\n",
       "6    39    662     1\n",
       "7    84    380     0\n",
       "8   102    515     1\n",
       "9    44    721     1"
      ]
     },
     "execution_count": 4,
     "metadata": {},
     "output_type": "execute_result"
    }
   ],
   "source": [
    "lawler = pd.read_csv(DATA / 'Lawler.csv')\n",
    "lawler['Sign'] = lawler['Sales'].apply(lambda x: 1 if x>= 450 else 0)\n",
    "lawler"
   ]
  },
  {
   "cell_type": "code",
   "execution_count": 5,
   "id": "bd894525",
   "metadata": {},
   "outputs": [
    {
     "name": "stdout",
     "output_type": "stream",
     "text": [
      "r\tp(r)\n",
      "0\t0.0009765625\n",
      "1\t0.009765625000000002\n",
      "2\t0.04394531250000004\n",
      "3\t0.1171875\n",
      "4\t0.2050781249999999\n",
      "5\t0.24609375000000003\n",
      "6\t0.2050781249999999\n",
      "7\t0.11718749999999999\n",
      "8\t0.04394531249999997\n",
      "9\t0.009765625000000002\n",
      "10\t0.0009765625\n",
      "mean = 5.0\n",
      "variance = 2.5\n"
     ]
    },
    {
     "data": {
      "image/png": "[encoded data removed]",
      "text/plain": [
       "<Figure size 432x288 with 1 Axes>"
      ]
     },
     "metadata": {
      "needs_background": "light"
     },
     "output_type": "display_data"
    }
   ],
   "source": [
    "from scipy.stats import binom\n",
    "import matplotlib.pyplot as plt\n",
    "\n",
    "# setting the values of n and p\n",
    "n = 10\n",
    "p = 0.5\n",
    "# defining the list of r values\n",
    "r_values = list(range(n + 1))\n",
    "# obtaining the mean and variance \n",
    "mean, var = binom.stats(n, p)\n",
    "# list of pmf values\n",
    "dist = [binom.pmf(r, n, p) for r in r_values ]\n",
    "# printing the table\n",
    "print(\"r\\tp(r)\")\n",
    "for i in range(n + 1):\n",
    "    print(str(r_values[i]) + \"\\t\" + str(dist[i]))\n",
    "# printing mean and variance\n",
    "print(\"mean = \"+str(mean))\n",
    "print(\"variance = \"+str(var))\n",
    "\n",
    "plt.bar(r_values, dist)\n",
    "plt.show()"
   ]
  },
  {
   "cell_type": "code",
   "execution_count": 6,
   "id": "d881159e",
   "metadata": {},
   "outputs": [
    {
     "data": {
      "text/plain": [
       "0.1719"
      ]
     },
     "execution_count": 6,
     "metadata": {},
     "output_type": "execute_result"
    }
   ],
   "source": [
    "prob = 0\n",
    "signcount = lawler['Sign'].sum()\n",
    "for i in range(signcount ,n + 1):\n",
    "    prob = prob + dist[i]\n",
    "round(prob,4)"
   ]
  },
  {
   "cell_type": "markdown",
   "id": "15ba3aec",
   "metadata": {},
   "source": [
    "由于我们已知，大于估计均值的个数是 7 个，通过查阅 $n=10$、$p=0.5$ 的二项分布概率，计算出大于等于 7 的概率 $p = 0.1719$，由于是双侧检验，因此 P 值还要乘以 2，由于 $p-> \\alpha = 0.05$，所以我们不能拒绝零假设。\n",
    "\n",
    "刚才的这个例子，样本容量少于 20 个，如果样本容量超过 20 个，我们可以根据二项分布的正态分布近似来计算 $p-$ 值。"
   ]
  },
  {
   "cell_type": "code",
   "execution_count": 17,
   "id": "7fd5bebd",
   "metadata": {},
   "outputs": [
    {
     "data": {
      "text/html": [
       "<div>\n",
       "<style scoped>\n",
       "    .dataframe tbody tr th:only-of-type {\n",
       "        vertical-align: middle;\n",
       "    }\n",
       "\n",
       "    .dataframe tbody tr th {\n",
       "        vertical-align: top;\n",
       "    }\n",
       "\n",
       "    .dataframe thead th {\n",
       "        text-align: right;\n",
       "    }\n",
       "</style>\n",
       "<table border=\"1\" class=\"dataframe\">\n",
       "  <thead>\n",
       "    <tr style=\"text-align: right;\">\n",
       "      <th></th>\n",
       "      <th>Sales Price</th>\n",
       "      <th>Sign</th>\n",
       "    </tr>\n",
       "  </thead>\n",
       "  <tbody>\n",
       "    <tr>\n",
       "      <th>0</th>\n",
       "      <td>245500</td>\n",
       "      <td>1</td>\n",
       "    </tr>\n",
       "    <tr>\n",
       "      <th>1</th>\n",
       "      <td>221600</td>\n",
       "      <td>0</td>\n",
       "    </tr>\n",
       "    <tr>\n",
       "      <th>2</th>\n",
       "      <td>214000</td>\n",
       "      <td>0</td>\n",
       "    </tr>\n",
       "    <tr>\n",
       "      <th>3</th>\n",
       "      <td>171200</td>\n",
       "      <td>0</td>\n",
       "    </tr>\n",
       "    <tr>\n",
       "      <th>4</th>\n",
       "      <td>278100</td>\n",
       "      <td>1</td>\n",
       "    </tr>\n",
       "  </tbody>\n",
       "</table>\n",
       "</div>"
      ],
      "text/plain": [
       "   Sales Price  Sign\n",
       "0       245500     1\n",
       "1       221600     0\n",
       "2       214000     0\n",
       "3       171200     0\n",
       "4       278100     1"
      ]
     },
     "execution_count": 17,
     "metadata": {},
     "output_type": "execute_result"
    }
   ],
   "source": [
    "homeSales = pd.read_csv(DATA / 'HomeSales.csv')\n",
    "homeSales['Sales Price'] = homeSales['Sales Price'].replace('[\\$,]', '', regex=True).astype(int)\n",
    "\n",
    "homeSales['Sign'] = homeSales['Sales Price'].apply(lambda x: 1 if x> 236000 else 0)\n",
    "homeSales.head()"
   ]
  },
  {
   "cell_type": "markdown",
   "id": "f2ab60d1",
   "metadata": {},
   "source": [
    "现在我们来进行一个假设检验：\n",
    "- $H_0: 中位数 \\ge 236000$\n",
    "- $H_{\\alpha}: 中位数 < 236000$\n",
    "\n",
    "利用符号检验，可以将其转化为：\n",
    "- $H_0: p \\ge 0.5$\n",
    "- $H_{\\alpha}: p < 0.5$"
   ]
  },
  {
   "cell_type": "code",
   "execution_count": 18,
   "id": "62859dc8",
   "metadata": {},
   "outputs": [
    {
     "data": {
      "text/plain": [
       "22"
      ]
     },
     "execution_count": 18,
     "metadata": {},
     "output_type": "execute_result"
    }
   ],
   "source": [
    "homeSales['Sign'].sum()"
   ]
  },
  {
   "cell_type": "code",
   "execution_count": 19,
   "id": "5135b051",
   "metadata": {},
   "outputs": [
    {
     "data": {
      "text/plain": [
       "61"
      ]
     },
     "execution_count": 19,
     "metadata": {},
     "output_type": "execute_result"
    }
   ],
   "source": [
    "homeSales['Sign'].count()"
   ]
  },
  {
   "cell_type": "markdown",
   "id": "fd0efd61",
   "metadata": {},
   "source": [
    "当 $H_0: p = 0.5$ 且 $n > 20$ 时，二项分布的正态分布近似：\n",
    "$$ \\mu = 0.5 n$$\n",
    "$$ \\sigma = \\sqrt{0.25n}$$\n",
    "\n",
    "已知 $n = 60$，则\n",
    "$$ \\mu = 0.5 n = 0.5 \\times 60 = 30$$\n",
    "$$ \\sigma = \\sqrt{0.25n} = \\sqrt{0.25 \\times 60} = 3.873$$"
   ]
  },
  {
   "cell_type": "code",
   "execution_count": 20,
   "id": "45bfb4b2",
   "metadata": {},
   "outputs": [
    {
     "data": {
      "image/png": "[encoded data removed]",
      "text/plain": [
       "<Figure size 432x288 with 1 Axes>"
      ]
     },
     "metadata": {
      "needs_background": "light"
     },
     "output_type": "display_data"
    }
   ],
   "source": [
    "from scipy.stats import norm\n",
    "import numpy as np\n",
    "import statistics\n",
    "\n",
    "x_axis = np.arange(20, 40, 0.01)\n",
    "\n",
    "plt.plot(x_axis, norm.pdf(x_axis, 30, 3.873))\n",
    "plt.show()"
   ]
  },
  {
   "cell_type": "code",
   "execution_count": 21,
   "id": "993fd3ed",
   "metadata": {},
   "outputs": [
    {
     "data": {
      "text/plain": [
       "0.026404265147658285"
      ]
     },
     "execution_count": 21,
     "metadata": {},
     "output_type": "execute_result"
    }
   ],
   "source": [
    "norm.cdf(22.5, 30, 3.873)"
   ]
  },
  {
   "cell_type": "markdown",
   "id": "fe5ea308",
   "metadata": {},
   "source": [
    "由于 $\\mu = 30$、$\\sigma = 3.872$ 的正态分布中，$x\\le 22.5$ 的 $p- = 0.026 < \\alpha = 0.05$，因此我们可以拒绝零假设。"
   ]
  },
  {
   "cell_type": "markdown",
   "id": "8df66f74",
   "metadata": {},
   "source": [
    "# 威尔科克森符号秩检验\n",
    "\n",
    "在第10章中，我们介绍了匹配样本实验设计，n个实验单位中的每一个提供一对观测值，其中一个来自总体1，另一个来自总体2。该实验的参数检验要求数量型数据，而且假定配对观测值之差服从正态分布，则可以利用t分布对两个总体均值之差进行推断。\n",
    "\n",
    "威尔科克森符号秩检验（Wilcoxon signed-rank test）是分析匹配样本实验数据的非参数方法。\n",
    "\n",
    "检验使用数量型数据，但不要求假定配对观测值之差服从正态分布，只需要假定配对观测值之差具有对称分布。\n",
    "\n",
    "即使两个总体的形态相同，关注点是确定两个总体的中位数是否有差异。用下面的例子来说明威尔科克森符号秩检验。\n",
    "\n",
    "考虑某个制造企业正在尝试确定两种生产方法在完成任务时间上是否存在差异。使用匹配样本实验设计，随机选择11个工人的2次完成任务时间，1次使用方法A，1次使用方法B。\n",
    "\n",
    "工人首先使用的生产方法是随机挑选的。两种方法的完成任务时间以及完成时间的差异数据如下面所示。\n",
    "\n",
    "正的差异表明方法A需要更多的时间，而负的差异则表明方法B需要更多的时间。这些数据是否表明两种方法在完成任务时间上存在显著差异呢？如果我\n",
    "们假设数据的差异具有对称分布，但不需要正态分布，可以应用威尔科克森符号秩检验。"
   ]
  },
  {
   "cell_type": "code",
   "execution_count": 22,
   "id": "12eefe65",
   "metadata": {},
   "outputs": [
    {
     "data": {
      "text/html": [
       "<div>\n",
       "<style scoped>\n",
       "    .dataframe tbody tr th:only-of-type {\n",
       "        vertical-align: middle;\n",
       "    }\n",
       "\n",
       "    .dataframe tbody tr th {\n",
       "        vertical-align: top;\n",
       "    }\n",
       "\n",
       "    .dataframe thead th {\n",
       "        text-align: right;\n",
       "    }\n",
       "</style>\n",
       "<table border=\"1\" class=\"dataframe\">\n",
       "  <thead>\n",
       "    <tr style=\"text-align: right;\">\n",
       "      <th></th>\n",
       "      <th>Method A</th>\n",
       "      <th>Method B</th>\n",
       "      <th>Difference</th>\n",
       "    </tr>\n",
       "  </thead>\n",
       "  <tbody>\n",
       "    <tr>\n",
       "      <th>0</th>\n",
       "      <td>10.2</td>\n",
       "      <td>9.5</td>\n",
       "      <td>0.7</td>\n",
       "    </tr>\n",
       "    <tr>\n",
       "      <th>1</th>\n",
       "      <td>9.6</td>\n",
       "      <td>9.8</td>\n",
       "      <td>-0.2</td>\n",
       "    </tr>\n",
       "    <tr>\n",
       "      <th>2</th>\n",
       "      <td>9.2</td>\n",
       "      <td>8.8</td>\n",
       "      <td>0.4</td>\n",
       "    </tr>\n",
       "    <tr>\n",
       "      <th>3</th>\n",
       "      <td>10.6</td>\n",
       "      <td>10.1</td>\n",
       "      <td>0.5</td>\n",
       "    </tr>\n",
       "    <tr>\n",
       "      <th>4</th>\n",
       "      <td>9.9</td>\n",
       "      <td>10.3</td>\n",
       "      <td>-0.4</td>\n",
       "    </tr>\n",
       "    <tr>\n",
       "      <th>5</th>\n",
       "      <td>10.2</td>\n",
       "      <td>9.3</td>\n",
       "      <td>0.9</td>\n",
       "    </tr>\n",
       "    <tr>\n",
       "      <th>6</th>\n",
       "      <td>10.6</td>\n",
       "      <td>10.5</td>\n",
       "      <td>0.1</td>\n",
       "    </tr>\n",
       "    <tr>\n",
       "      <th>7</th>\n",
       "      <td>10.0</td>\n",
       "      <td>10.0</td>\n",
       "      <td>0.0</td>\n",
       "    </tr>\n",
       "    <tr>\n",
       "      <th>8</th>\n",
       "      <td>11.2</td>\n",
       "      <td>10.6</td>\n",
       "      <td>0.6</td>\n",
       "    </tr>\n",
       "    <tr>\n",
       "      <th>9</th>\n",
       "      <td>10.7</td>\n",
       "      <td>10.2</td>\n",
       "      <td>0.5</td>\n",
       "    </tr>\n",
       "    <tr>\n",
       "      <th>10</th>\n",
       "      <td>10.6</td>\n",
       "      <td>9.8</td>\n",
       "      <td>0.8</td>\n",
       "    </tr>\n",
       "  </tbody>\n",
       "</table>\n",
       "</div>"
      ],
      "text/plain": [
       "    Method A  Method B  Difference\n",
       "0       10.2       9.5         0.7\n",
       "1        9.6       9.8        -0.2\n",
       "2        9.2       8.8         0.4\n",
       "3       10.6      10.1         0.5\n",
       "4        9.9      10.3        -0.4\n",
       "5       10.2       9.3         0.9\n",
       "6       10.6      10.5         0.1\n",
       "7       10.0      10.0         0.0\n",
       "8       11.2      10.6         0.6\n",
       "9       10.7      10.2         0.5\n",
       "10      10.6       9.8         0.8"
      ]
     },
     "execution_count": 22,
     "metadata": {},
     "output_type": "execute_result"
    }
   ],
   "source": [
    "matchedSample = pd.read_csv(DATA / 'MatchedSample.csv')\n",
    "matchedSample"
   ]
  },
  {
   "cell_type": "code",
   "execution_count": 23,
   "id": "d618abc4",
   "metadata": {},
   "outputs": [
    {
     "name": "stderr",
     "output_type": "stream",
     "text": [
      "/Users/stephenyan/miniconda/lib/python3.9/site-packages/scipy/stats/morestats.py:3141: UserWarning: Exact p-value calculation does not work if there are ties. Switching to normal approximation.\n",
      "  warnings.warn(\"Exact p-value calculation does not work if there are \"\n"
     ]
    },
    {
     "data": {
      "text/plain": [
       "WilcoxonResult(statistic=5.5, pvalue=0.024744672046398936)"
      ]
     },
     "execution_count": 23,
     "metadata": {},
     "output_type": "execute_result"
    }
   ],
   "source": [
    "import scipy.stats as stats\n",
    "\n",
    "#perform the Wilcoxon-Signed Rank Test\n",
    "stats.wilcoxon(matchedSample['Difference'], alternative = 'two-sided')"
   ]
  },
  {
   "cell_type": "code",
   "execution_count": 24,
   "id": "21673ff9",
   "metadata": {},
   "outputs": [
    {
     "data": {
      "text/plain": [
       "WilcoxonResult(statistic=6.0, pvalue=0.028314054945765665)"
      ]
     },
     "execution_count": 24,
     "metadata": {},
     "output_type": "execute_result"
    }
   ],
   "source": [
    "stats.wilcoxon(matchedSample['Method A'], matchedSample['Method B'], alternative = 'two-sided')"
   ]
  },
  {
   "cell_type": "markdown",
   "id": "02e2fc4a",
   "metadata": {},
   "source": [
    "# 曼一惠特尼－威尔科克森检验\n",
    "\n",
    "在第10章中，我们介绍了利用两个独立样本进行两个总体均值之差的假设检验方法，其中一个样本来自总体1，另一个来自总体2。参数检验要求数量型数据，且假定总体都服从正态分布。\n",
    "\n",
    "当总体标准差 $\\sigma_1$ 和 $\\sigma_2$ 未知时，用样本标准差 $s_1$ 和 $s_2$ 作为 $\\sigma_1$ 和 $\\sigma_2$ 的估计量，并且利用 $t$ 分布对两个总体均值之差进行推断。\n",
    "\n",
    "在本节我们介绍一种基于两个独立样本的两总体之间差异的非参数方法。非参数方法的优点是它既可以使用顺序型数据也可以使用数量型数据，而且不需要假定总体服从正态分布。\n",
    "\n",
    "检验的形式由曼、惠特尼和威尔科克森联合提出，因而它被称为曼－惠特尼检验和威尔科克森秩和检验。这些检验是等价的，并且提供同样的结论。\n",
    "\n",
    "在本节我们将这个非参数检验称为曼-惠特尼－威尔科克森检验（Mann-Whitney-Wilcoxon test，MWW）。我们以陈述原假设和备择假设的最一般形式开始MWW检验，假设如下。\n",
    "- $H_0$：两个总体相同\n",
    "- $H_{\\alpha}$：两个总体不相同"
   ]
  },
  {
   "cell_type": "code",
   "execution_count": 25,
   "id": "e1ab3c90",
   "metadata": {},
   "outputs": [
    {
     "data": {
      "text/html": [
       "<div>\n",
       "<style scoped>\n",
       "    .dataframe tbody tr th:only-of-type {\n",
       "        vertical-align: middle;\n",
       "    }\n",
       "\n",
       "    .dataframe tbody tr th {\n",
       "        vertical-align: top;\n",
       "    }\n",
       "\n",
       "    .dataframe thead th {\n",
       "        text-align: right;\n",
       "    }\n",
       "</style>\n",
       "<table border=\"1\" class=\"dataframe\">\n",
       "  <thead>\n",
       "    <tr style=\"text-align: right;\">\n",
       "      <th></th>\n",
       "      <th>Branch 1</th>\n",
       "      <th>Branch 2</th>\n",
       "    </tr>\n",
       "  </thead>\n",
       "  <tbody>\n",
       "    <tr>\n",
       "      <th>0</th>\n",
       "      <td>1095</td>\n",
       "      <td>885.0</td>\n",
       "    </tr>\n",
       "    <tr>\n",
       "      <th>1</th>\n",
       "      <td>955</td>\n",
       "      <td>850.0</td>\n",
       "    </tr>\n",
       "    <tr>\n",
       "      <th>2</th>\n",
       "      <td>1200</td>\n",
       "      <td>915.0</td>\n",
       "    </tr>\n",
       "    <tr>\n",
       "      <th>3</th>\n",
       "      <td>1195</td>\n",
       "      <td>950.0</td>\n",
       "    </tr>\n",
       "    <tr>\n",
       "      <th>4</th>\n",
       "      <td>925</td>\n",
       "      <td>800.0</td>\n",
       "    </tr>\n",
       "    <tr>\n",
       "      <th>5</th>\n",
       "      <td>950</td>\n",
       "      <td>750.0</td>\n",
       "    </tr>\n",
       "    <tr>\n",
       "      <th>6</th>\n",
       "      <td>805</td>\n",
       "      <td>865.0</td>\n",
       "    </tr>\n",
       "    <tr>\n",
       "      <th>7</th>\n",
       "      <td>945</td>\n",
       "      <td>1000.0</td>\n",
       "    </tr>\n",
       "    <tr>\n",
       "      <th>8</th>\n",
       "      <td>875</td>\n",
       "      <td>1050.0</td>\n",
       "    </tr>\n",
       "    <tr>\n",
       "      <th>9</th>\n",
       "      <td>1055</td>\n",
       "      <td>935.0</td>\n",
       "    </tr>\n",
       "    <tr>\n",
       "      <th>10</th>\n",
       "      <td>1025</td>\n",
       "      <td>NaN</td>\n",
       "    </tr>\n",
       "    <tr>\n",
       "      <th>11</th>\n",
       "      <td>975</td>\n",
       "      <td>NaN</td>\n",
       "    </tr>\n",
       "  </tbody>\n",
       "</table>\n",
       "</div>"
      ],
      "text/plain": [
       "    Branch 1  Branch 2\n",
       "0       1095     885.0\n",
       "1        955     850.0\n",
       "2       1200     915.0\n",
       "3       1195     950.0\n",
       "4        925     800.0\n",
       "5        950     750.0\n",
       "6        805     865.0\n",
       "7        945    1000.0\n",
       "8        875    1050.0\n",
       "9       1055     935.0\n",
       "10      1025       NaN\n",
       "11       975       NaN"
      ]
     },
     "execution_count": 25,
     "metadata": {},
     "output_type": "execute_result"
    }
   ],
   "source": [
    "thirdNational = pd.read_csv(DATA / 'ThirdNational.csv')\n",
    "thirdNational"
   ]
  },
  {
   "cell_type": "code",
   "execution_count": 26,
   "id": "63da9eb4",
   "metadata": {},
   "outputs": [
    {
     "data": {
      "text/plain": [
       "MannwhitneyuResult(statistic=91.5, pvalue=0.04088870450160243)"
      ]
     },
     "execution_count": 26,
     "metadata": {},
     "output_type": "execute_result"
    }
   ],
   "source": [
    "import scipy.stats as stats\n",
    "\n",
    "#perform the Mann-Whitney U test\n",
    "stats.mannwhitneyu(thirdNational['Branch 1'].dropna(), thirdNational['Branch 2'].dropna(), alternative='two-sided')"
   ]
  },
  {
   "cell_type": "markdown",
   "id": "ccd4b178",
   "metadata": {},
   "source": [
    "# 克鲁斯卡尔-沃利斯检验\n",
    "\n",
    "在本节我们将假设检验的非参数方法扩展到3个或3个以上总体的情形。当我们使用数量型数据并假定总体服从标准差相等的正态分布时，我们考虑第13章的参数检验。以每个总体的独立随机样本为依据，我们用 $F$ 分布来检验各总体之间的差异。\n",
    "\n",
    "非参数的克鲁斯卡尔-沃利斯检验（Kruskal-Wallistest）的依据是对来自k个总体的k个独立随机样本的分析。这个方法既可使用顺序型数据，也可使用数量型数据，并且不需要假定总体服从正态分布。原假设和备择假设的一般形式如下。\n",
    "\n",
    "- $H_0$：所有总体是相同的\n",
    "- $H_{\\alpha}$：并非所有总体都是相同的\n",
    "\n",
    "如果 $H_0$ 被拒绝，我们将得出总体之间存在差异，与其他总体相比较，一个或多个总体提供较小或较大的数值。我们用下面的例子来阐述克鲁斯卡尔－沃利斯检验。"
   ]
  },
  {
   "cell_type": "code",
   "execution_count": 27,
   "id": "866ee983",
   "metadata": {},
   "outputs": [
    {
     "data": {
      "text/html": [
       "<div>\n",
       "<style scoped>\n",
       "    .dataframe tbody tr th:only-of-type {\n",
       "        vertical-align: middle;\n",
       "    }\n",
       "\n",
       "    .dataframe tbody tr th {\n",
       "        vertical-align: top;\n",
       "    }\n",
       "\n",
       "    .dataframe thead th {\n",
       "        text-align: right;\n",
       "    }\n",
       "</style>\n",
       "<table border=\"1\" class=\"dataframe\">\n",
       "  <thead>\n",
       "    <tr style=\"text-align: right;\">\n",
       "      <th></th>\n",
       "      <th>College A</th>\n",
       "      <th>College B</th>\n",
       "      <th>College C</th>\n",
       "    </tr>\n",
       "  </thead>\n",
       "  <tbody>\n",
       "    <tr>\n",
       "      <th>0</th>\n",
       "      <td>25</td>\n",
       "      <td>60.0</td>\n",
       "      <td>50</td>\n",
       "    </tr>\n",
       "    <tr>\n",
       "      <th>1</th>\n",
       "      <td>70</td>\n",
       "      <td>20.0</td>\n",
       "      <td>70</td>\n",
       "    </tr>\n",
       "    <tr>\n",
       "      <th>2</th>\n",
       "      <td>60</td>\n",
       "      <td>30.0</td>\n",
       "      <td>60</td>\n",
       "    </tr>\n",
       "    <tr>\n",
       "      <th>3</th>\n",
       "      <td>85</td>\n",
       "      <td>15.0</td>\n",
       "      <td>80</td>\n",
       "    </tr>\n",
       "    <tr>\n",
       "      <th>4</th>\n",
       "      <td>95</td>\n",
       "      <td>40.0</td>\n",
       "      <td>90</td>\n",
       "    </tr>\n",
       "    <tr>\n",
       "      <th>5</th>\n",
       "      <td>90</td>\n",
       "      <td>35.0</td>\n",
       "      <td>70</td>\n",
       "    </tr>\n",
       "    <tr>\n",
       "      <th>6</th>\n",
       "      <td>80</td>\n",
       "      <td>NaN</td>\n",
       "      <td>75</td>\n",
       "    </tr>\n",
       "  </tbody>\n",
       "</table>\n",
       "</div>"
      ],
      "text/plain": [
       "   College A  College B  College C\n",
       "0         25       60.0         50\n",
       "1         70       20.0         70\n",
       "2         60       30.0         60\n",
       "3         85       15.0         80\n",
       "4         95       40.0         90\n",
       "5         90       35.0         70\n",
       "6         80        NaN         75"
      ]
     },
     "execution_count": 27,
     "metadata": {},
     "output_type": "execute_result"
    }
   ],
   "source": [
    "williams = pd.read_csv(DATA / 'Williams.csv')\n",
    "williams"
   ]
  },
  {
   "cell_type": "code",
   "execution_count": 28,
   "id": "47f71705",
   "metadata": {},
   "outputs": [
    {
     "data": {
      "text/plain": [
       "KruskalResult(statistic=8.983874458874453, pvalue=0.011198927889247982)"
      ]
     },
     "execution_count": 28,
     "metadata": {},
     "output_type": "execute_result"
    }
   ],
   "source": [
    "from scipy import stats\n",
    "\n",
    "#perform Kruskal-Wallis Test \n",
    "stats.kruskal(williams['College A'].dropna(), williams['College B'].dropna(), williams['College C'].dropna())"
   ]
  }
 ],
 "metadata": {
  "kernelspec": {
   "display_name": "Python 3 (ipykernel)",
   "language": "python",
   "name": "python3"
  },
  "language_info": {
   "codemirror_mode": {
    "name": "ipython",
    "version": 3
   },
   "file_extension": ".py",
   "mimetype": "text/x-python",
   "name": "python",
   "nbconvert_exporter": "python",
   "pygments_lexer": "ipython3",
   "version": "3.9.12"
  },
  "toc": {
   "base_numbering": 1,
   "nav_menu": {},
   "number_sections": true,
   "sideBar": true,
   "skip_h1_title": false,
   "title_cell": "Table of Contents",
   "title_sidebar": "Contents",
   "toc_cell": false,
   "toc_position": {},
   "toc_section_display": true,
   "toc_window_display": false
  }
 },
 "nbformat": 4,
 "nbformat_minor": 5
}
