{
 "cells": [
  {
   "cell_type": "markdown",
   "metadata": {},
   "source": [
    "随机变量和概率分布是关于总体数据的模型 随机变量的值表示的是数据值\n",
    "\n",
    "概率分布给出的是去数据值时所对应的概率或者一种用于计算数据各种取值的概率准则\n",
    "\n",
    "离散型概率分布的两类表达形式 \n",
    "\n",
    "1. 表格形式：其中一列是随机变量的值 第二列是随机变量取这些值时相应的概率 可用于分布分配概率   \n",
    "2. 数学函数 计算随机变量取每种值的概率——二项分布 泊松分布 超几何分布\n",
    "\n",
    "# 随机变量\n",
    "\n",
    "随机变量：是对一个试验结果的数值描述，随机变量将每一个可能出现的试验结果赋予一个数值。根据取值可分为离散型或连续型：\n",
    "\n",
    "- 离散型随机变量：可以取有限多个或无限可数多个值的随机变量\n",
    "- 连续型随机变量：可以取某一区间或多个区间内任意值的随机变量\n",
    "\n",
    "## 离散型概率分布\n",
    "\n",
    "对于离散型随机变量 $x$，概率函数给出随机变量取每种值得概率，记作 $f(x)$。\n",
    "\n",
    "建立离散型概率分布时 可以采用分配概率的方法：古典法、主观法、相对频率法。\n",
    "\n",
    "离散型概率函数的基本条件：\n",
    "\n",
    "$$f(x) \\ge 0$$\n",
    "\n",
    "$$\\sum f(x) = 1$$\n",
    "\n",
    "## 离散型均匀概率函数\n",
    "\n",
    "$$\\displaystyle f(x) = \\frac{1}{n}$$\n",
    "\n",
    "- 其中 $n$ 代表随机变量可能取值的个数\n",
    "\n",
    "例如我们现在有一枚正常的六面骰子：\n",
    "- 随机变量有 $n = 6$ 个可能值：$x = 1, 2, 3, 4, 5, 6$\n",
    "- 离散型均匀概率函数 $\\displaystyle f(x) = \\frac{1}{6},\\ x = 1, 2, 3, 4, 5, 6$"
   ]
  },
  {
   "cell_type": "code",
   "execution_count": 30,
   "metadata": {},
   "outputs": [],
   "source": [
    "import numpy as np\n",
    "import matplotlib.pyplot as plt\n",
    "from scipy.stats import randint"
   ]
  },
  {
   "cell_type": "code",
   "execution_count": 31,
   "metadata": {},
   "outputs": [
    {
     "data": {
      "image/png": "[encoded data removed]",
      "text/plain": [
       "<Figure size 432x288 with 1 Axes>"
      ]
     },
     "metadata": {
      "needs_background": "light"
     },
     "output_type": "display_data"
    }
   ],
   "source": [
    "a, b=1, 6\n",
    "x = np.arange(a, b+1)\n",
    "\n",
    "discrete_uniform_distribution = randint(a, b+1)\n",
    "discrete_uniform_pmf = discrete_uniform_distribution.pmf(x)\n",
    "\n",
    "plt.plot(x, discrete_uniform_pmf, 'ro', ms=8)\n",
    "plt.vlines(x, 0, discrete_uniform_pmf, lw=5, alpha=0.5)\n",
    "plt.xlabel('X')\n",
    "plt.ylabel('Probability')\n",
    "plt.show()"
   ]
  },
  {
   "cell_type": "code",
   "execution_count": 5,
   "metadata": {},
   "outputs": [
    {
     "data": {
      "image/png": "[encoded data removed]",
      "text/plain": [
       "<Figure size 432x288 with 1 Axes>"
      ]
     },
     "metadata": {
      "needs_background": "light"
     },
     "output_type": "display_data"
    }
   ],
   "source": [
    "discrete_uniform_cdf = discrete_uniform_distribution.cdf(x)\n",
    "plt.plot(x, discrete_uniform_cdf, 'ro')\n",
    "plt.plot(x, discrete_uniform_cdf)\n",
    "plt.xlabel('X')\n",
    "plt.ylabel('Cumulative Probability')\n",
    "plt.show()"
   ]
  },
  {
   "cell_type": "markdown",
   "metadata": {},
   "source": [
    "# 数学期望与方差\n",
    "\n",
    "## 数学期望\n",
    "\n",
    "随机变量的数学期望或均值是对随机变量中心位置的一种度量。离散型随机变量的数学期望：\n",
    "\n",
    "$$E(x) = \\mu = \\sum{xf(x)}$$\n",
    "\n",
    "数学期望是随机变量取值的**加权平均** 其中**权数是概率**。\n",
    "\n",
    "假设我们现在有两列数据，第一列表示当天销售汽车的数量 ，第二列表示销售 $x$ 辆车的概率。\n",
    "- 卖出 0 辆车的概率是 0.18\n",
    "- 卖出 1 辆车的概率是 0.39\n",
    "- $\\cdots$"
   ]
  },
  {
   "cell_type": "code",
   "execution_count": 7,
   "metadata": {},
   "outputs": [
    {
     "data": {
      "text/html": [
       "<div>\n",
       "<style scoped>\n",
       "    .dataframe tbody tr th:only-of-type {\n",
       "        vertical-align: middle;\n",
       "    }\n",
       "\n",
       "    .dataframe tbody tr th {\n",
       "        vertical-align: top;\n",
       "    }\n",
       "\n",
       "    .dataframe thead th {\n",
       "        text-align: right;\n",
       "    }\n",
       "</style>\n",
       "<table border=\"1\" class=\"dataframe\">\n",
       "  <thead>\n",
       "    <tr style=\"text-align: right;\">\n",
       "      <th></th>\n",
       "      <th>Sales</th>\n",
       "      <th>Prob</th>\n",
       "    </tr>\n",
       "  </thead>\n",
       "  <tbody>\n",
       "    <tr>\n",
       "      <th>0</th>\n",
       "      <td>0</td>\n",
       "      <td>0.18</td>\n",
       "    </tr>\n",
       "    <tr>\n",
       "      <th>1</th>\n",
       "      <td>1</td>\n",
       "      <td>0.39</td>\n",
       "    </tr>\n",
       "    <tr>\n",
       "      <th>2</th>\n",
       "      <td>2</td>\n",
       "      <td>0.24</td>\n",
       "    </tr>\n",
       "    <tr>\n",
       "      <th>3</th>\n",
       "      <td>3</td>\n",
       "      <td>0.14</td>\n",
       "    </tr>\n",
       "    <tr>\n",
       "      <th>4</th>\n",
       "      <td>4</td>\n",
       "      <td>0.04</td>\n",
       "    </tr>\n",
       "    <tr>\n",
       "      <th>5</th>\n",
       "      <td>5</td>\n",
       "      <td>0.01</td>\n",
       "    </tr>\n",
       "  </tbody>\n",
       "</table>\n",
       "</div>"
      ],
      "text/plain": [
       "   Sales  Prob\n",
       "0      0  0.18\n",
       "1      1  0.39\n",
       "2      2  0.24\n",
       "3      3  0.14\n",
       "4      4  0.04\n",
       "5      5  0.01"
      ]
     },
     "execution_count": 7,
     "metadata": {},
     "output_type": "execute_result"
    }
   ],
   "source": [
    "import pandas as pd\n",
    "import numpy as np\n",
    "import matplotlib.pyplot as plt\n",
    "from scipy.stats import binom, bernoulli, binomtest, poisson\n",
    "from math import e, factorial\n",
    "\n",
    "data = {'Sales':[0, 1, 2, 3, 4, 5], 'Prob':[0.18, 0.39, 0.24, 0.14, 0.04, 0.01]}\n",
    "diCarlo = pd.DataFrame(data)\n",
    "diCarlo"
   ]
  },
  {
   "cell_type": "code",
   "execution_count": 17,
   "metadata": {},
   "outputs": [],
   "source": [
    "salesExp = np.average(diCarlo['Sales'], weights=diCarlo['Prob'])"
   ]
  },
  {
   "cell_type": "code",
   "execution_count": 18,
   "metadata": {},
   "outputs": [
    {
     "data": {
      "image/png": "[encoded data removed]",
      "text/plain": [
       "<Figure size 432x288 with 1 Axes>"
      ]
     },
     "metadata": {
      "needs_background": "light"
     },
     "output_type": "display_data"
    }
   ],
   "source": [
    "plt.plot(diCarlo['Sales'], diCarlo['Prob'], 'ro')\n",
    "plt.plot(diCarlo['Sales'], diCarlo['Prob'])\n",
    "plt.vlines(salesExp, 0, diCarlo['Prob'].max(), linestyles='-.', lw=2)\n",
    "plt.xlabel('Sales')\n",
    "plt.ylabel('Probability')\n",
    "plt.show()"
   ]
  },
  {
   "cell_type": "markdown",
   "metadata": {},
   "source": [
    "## 方差\n",
    "\n",
    "数学期望是对于随机变量中心位置的度量，方差是对于随机变量的变异性或分散程度的描述。\n",
    "\n",
    "随机变量的数学期望不一定是随机变量的某个值，方差是随机变量离差平方的加权算术平均，其中权数 $f(x)$ 是概率。\n",
    "\n",
    "离散型随机变量的方差：\n",
    "\n",
    "$$Var(x) = \\sigma^2 = \\sum{(x-\\mu)^2f(x)}$$\n",
    "\n",
    "标准差：\n",
    "\n",
    "$$\\sigma = \\sqrt {Var(x)}$$\n",
    "\n",
    "我们之前计算均值（期望值）的方法，不能直接用来计算离散型随机变量的均值。"
   ]
  },
  {
   "cell_type": "code",
   "execution_count": 20,
   "metadata": {},
   "outputs": [
    {
     "data": {
      "text/plain": [
       "1.25"
      ]
     },
     "execution_count": 20,
     "metadata": {},
     "output_type": "execute_result"
    }
   ],
   "source": [
    "diCarlo['SS'] = (diCarlo['Sales'] - salesExp)**2\n",
    "np.average(diCarlo['SS'], weights=diCarlo['Prob'])"
   ]
  },
  {
   "cell_type": "code",
   "execution_count": 21,
   "metadata": {},
   "outputs": [
    {
     "data": {
      "text/plain": [
       "1.118033988749895"
      ]
     },
     "execution_count": 21,
     "metadata": {},
     "output_type": "execute_result"
    }
   ],
   "source": [
    "np.average(diCarlo['SS'], weights=diCarlo['Prob'])**0.5"
   ]
  },
  {
   "cell_type": "markdown",
   "metadata": {},
   "source": [
    "# （暂时没想到好办法展示）二元分布 协方差和金融资产组合\n",
    "\n",
    "二元分布：两个随机变量的概率分布。考虑二元分布概率分布的时候，构建一个二元试验是非常有用的。\n",
    "\n",
    "在一个二元试验中， 每种试验结果由两个值构成 其中每个值与一个随机变量相对应\n",
    "- 在一个抛掷一对色子的二元试验中，试验结果由两个值构成:其中一个是第一枚骰子的点数,另一个是第二枚骰子的点数\n",
    "- 再比如观察金融市场上 一只股票基金和一只债券基金\n",
    "\n",
    "## 二元经验离散型概率分布\n",
    "\n",
    "随机变量$x$和$y$的协方差：\n",
    "\n",
    "$$\\sigma_{xy} = \\frac {[Var(x+y) - Var(x) - Var(y)]} {2}$$\n",
    "\n",
    "随机变量$x$和$y$的相关系数：\n",
    "\n",
    "$$\\rho_{xy} = \\frac {\\sigma_{xy}}{\\sigma_x\\sigma_y}$$\n",
    "\n",
    "## 金融上的应用\n",
    "\n",
    "随机变量 $x$ 和 $y$ 的线性组合的数学期望：\n",
    "\n",
    "$$E(ax + by) = aE(x) + bE(y)$$\n",
    "\n",
    "两个随机随机变量的线性组合的方差：\n",
    "\n",
    "$$Var(ax+by) = a^2Var(x) + b^2Var(y) + 2ab\\sigma_{xy}$$\n",
    "\n",
    "收益与风险中寻求平衡 投资于资产组合优于单独投资于债券基金\n",
    "\n",
    "## 小结\n",
    "\n",
    "二元离散概率分布   协方差和相关系数这两种度量方法\n",
    "\n",
    "如何计算随机变量的线性组合的数学期望和方差\n",
    "\n",
    "金融资产组合是随机变量的线性组合  这是一种我们称为加权平均的特殊的线性组合\n",
    "\n",
    "各个随机变量之间的协方差为负 减小了资产组合的方差 大部分降低资产组合风险的理论正是基于此而提出分散投资的"
   ]
  },
  {
   "cell_type": "markdown",
   "metadata": {},
   "source": [
    "# 二项概率分布\n",
    "\n",
    "## 伯努利过程\n",
    "\n",
    "1. 每次试验有两种可能的结果 我们把其中一个称为成功 另一个称为失败\n",
    "2. 每次试验成功的概率都是相同的，用 $p$ 来表示 失败的概率也是相同的 有 $1-p$ 来表示\n",
    "3. 试验是相互独立的\n",
    "\n",
    "最简单的伯努利过程就是抛硬币。下面我们可以模拟一个抛硬币的分布。假设这枚硬币的质地是不均匀的，有 30% 的概率是正面（记作 0），70% 的概率是反面（记作 1），分布是这样的："
   ]
  },
  {
   "cell_type": "code",
   "execution_count": 23,
   "metadata": {},
   "outputs": [
    {
     "data": {
      "image/png": "[encoded data removed]",
      "text/plain": [
       "<Figure size 432x288 with 1 Axes>"
      ]
     },
     "metadata": {
      "needs_background": "light"
     },
     "output_type": "display_data"
    }
   ],
   "source": [
    "p = 0.7\n",
    "x = np.arange(0, 2)\n",
    "\n",
    "bernoulli_pmf = bernoulli.pmf(x, p)\n",
    "plt.plot(x, bernoulli_pmf, 'ro')\n",
    "plt.vlines(x, 0, bernoulli_pmf, linestyles='-', lw=5)\n",
    "plt.title(f\"Bernoulli Distribution (p={p})\")\n",
    "plt.show()"
   ]
  },
  {
   "cell_type": "markdown",
   "metadata": {},
   "source": [
    "## 二项试验\n",
    "\n",
    "二项试验具有以下四个性质：\n",
    "1. 试验由一系列相同的 $n$ 个试验组成\n",
    "2. 每次试验有两种可能的结果 我们把其中一个称为成功 另一个称为失败\n",
    "3. 每次试验成功的概率都是相同的，用 $p$ 来表示 失败的概率也是相同的 有 $1-p$ 来表示\n",
    "4. 试验是相互独立的\n",
    "\n",
    "## 二项概率分布的简单应用\n",
    "\n",
    "$n$ 次试验中恰有 $x$ 次成功的试验结果的个数：\n",
    "\n",
    "$$\\binom {n}{x} = \\frac {n!}{x!(n-x)!}$$\n",
    "\n",
    "在 $n$ 次试验中有 $x$ 次成功的特定试验结果的概率：\n",
    "\n",
    "$$p^x(1-p)^{(n-x)}$$\n",
    "\n",
    "二项概率函数\n",
    "\n",
    "$$f(x) = \\binom {n}{x} p^x(1-p)^{(n-x)}$$\n",
    "\n",
    "其中：\n",
    "- $x$ 为成功的次数\n",
    "- $p$ 为一次试验中成功的概率\n",
    "- $n$ 为试验的次数\n",
    "- $f(x)$ 为 $n$ 次试验中有 $x$ 次成功的概率  \n",
    "\n",
    "假设有 10 个顾客到店，每个顾客购物的概率都是 0.3，恰好有 4 名顾客购物的概率是？\n",
    "- $x = 4$\n",
    "- $p = 0.3$\n",
    "- $n = 10$\n",
    "\n",
    "$$$$\n",
    "\n",
    "$$\n",
    "\\begin{aligned}\n",
    "f(4) \n",
    "&= \\binom {10}{4} \\times 0.3^4 \\times (1-0.3)^{(10-4)} \\\\\n",
    "&= \\frac {10!}{4!(10-4)!} \\times 0.3^4 \\times (0.7)^{(6)} \\\\\n",
    "&= \\frac {10!}{4!6!} \\times 0.3^4 \\times 0.7^{6} \\\\\n",
    "&= 0.2001\n",
    "\\end{aligned}\n",
    "$$"
   ]
  },
  {
   "cell_type": "code",
   "execution_count": 255,
   "metadata": {},
   "outputs": [
    {
     "data": {
      "image/png": "[encoded data removed]",
      "text/plain": [
       "<Figure size 432x288 with 1 Axes>"
      ]
     },
     "metadata": {
      "needs_background": "light"
     },
     "output_type": "display_data"
    },
    {
     "name": "stdout",
     "output_type": "stream",
     "text": [
      "0.2001209489999999\n"
     ]
    }
   ],
   "source": [
    "n, p, k = 10, 0.3, 4\n",
    "\n",
    "# 随机生成数组\n",
    "x = np.arange(0, binom.ppf(0.999, n, p))\n",
    "# x = np.arange(0, n+1)\n",
    "\n",
    "binomial_pmf = binom.pmf(x, n, p)\n",
    "plt.plot(x, binomial_pmf, 'ro')\n",
    "plt.vlines(x, 0, binomial_pmf, linestyles='-', lw=5)\n",
    "plt.title(f\"Binomial Distribution (n={n}, p={p})\")\n",
    "plt.show()\n",
    "print(binomial_pmf[k])\n",
    "#print(binomtest(k, n, p).pvalue)\n",
    "#binomial_cdf = binom.cdf(x, n, p)\n",
    "#plt.plot(x, binomial_cdf, marker='o')"
   ]
  },
  {
   "cell_type": "markdown",
   "metadata": {},
   "source": [
    "## 二项分布的数学期望和方差\n",
    "\n",
    "数学期望：\n",
    "$$E(x) = \\mu = np$$\n",
    "\n",
    "假设有 1000 个顾客到店，每个顾客购物的概率都是 0.3，购物人数的数学期望值是：\n",
    "\n",
    "$$E(x) = \\mu = np = 1000 \\times 0.3 = 300$$\n",
    "\n",
    "方差：\n",
    "$$Var(x) = \\sigma ^2 = np(1-p)$$\n",
    "\n",
    "购物人数的方差和标准差是：\n",
    "\n",
    "$$Var(x) = \\sigma ^2 = np(1-p) = 1000 \\times 0.3 \\times 0.7 = 210$$\n",
    "\n",
    "$$SD = \\sigma = \\sqrt{np(1-p)} = \\sqrt{1000 \\times 0.3 \\times 0.7} = 14.49$$"
   ]
  },
  {
   "cell_type": "code",
   "execution_count": 25,
   "metadata": {},
   "outputs": [
    {
     "data": {
      "image/png": "[encoded data removed]",
      "text/plain": [
       "<Figure size 432x288 with 1 Axes>"
      ]
     },
     "metadata": {
      "needs_background": "light"
     },
     "output_type": "display_data"
    }
   ],
   "source": [
    "n, p = 1000, 0.3\n",
    "# 随机生成数组\n",
    "x = np.arange(binom.ppf(0.01, n, p), binom.ppf(0.99, n, p))\n",
    "# x = np.arange(0, n+1)\n",
    "\n",
    "binomial_pmf = binom.pmf(x, n, p)\n",
    "plt.plot(x, binomial_pmf, 'ro')\n",
    "plt.title(f\"Binomial Distribution (n={n}, p={p})\")\n",
    "plt.show()"
   ]
  },
  {
   "cell_type": "code",
   "execution_count": 26,
   "metadata": {},
   "outputs": [
    {
     "name": "stdout",
     "output_type": "stream",
     "text": [
      "300.0\n",
      "14.491376746189438\n"
     ]
    }
   ],
   "source": [
    "# 获取统计量\n",
    "mean, var = binom.stats(n, p)\n",
    "print(mean)\n",
    "print(var**0.5)"
   ]
  },
  {
   "cell_type": "markdown",
   "metadata": {},
   "source": [
    "# 泊松概率分布\n",
    "\n",
    "主要用于：估计在特定时间段或空间中某事件发生的次数\n",
    "\n",
    "泊松试验的性质：\n",
    "1. 在任意两个相等长度的区间上 事件发生的概率相等\n",
    "2. 事件在某一区间上是否发生与事件在其他区间上是否发生是独立的\n",
    "\n",
    "泊松分布概率函数：\n",
    "\n",
    "$$f(x) = \\frac {\\mu^x e^{-\\mu}}{x!}$$\n",
    "\n",
    "- $f(x)$ 为事件在一个区间发生 $x$ 次的概率\n",
    "- $\\mu$ 为事件在一个区间发生次数的数学期望或均值\n",
    "- 自然常数 $e=2.71828$\n",
    "\n",
    "假设现在有一趟公交车，每个时间段上公交车到达的概率都是相等的，\n",
    "\n",
    "并且我们通过对历史数据的分析显示，单位时间内，公交车平均会来 10 趟，\n",
    "\n",
    "因此，单位时间内公交车的分布概率函数为：\n",
    "\n",
    "$$f(x) = \\frac {10^x \\times e^{-10}}{x!}$$"
   ]
  },
  {
   "cell_type": "code",
   "execution_count": 29,
   "metadata": {},
   "outputs": [
    {
     "data": {
      "image/png": "[encoded data removed]",
      "text/plain": [
       "<Figure size 432x288 with 1 Axes>"
      ]
     },
     "metadata": {
      "needs_background": "light"
     },
     "output_type": "display_data"
    }
   ],
   "source": [
    "mu = 10\n",
    "# 左边的区间需要取 0 ，否则会影响后面的统计量计算\n",
    "x = np.arange(0, poisson.ppf(0.99, mu))\n",
    "\n",
    "poisson_pmf = poisson.pmf(x, mu)\n",
    "\n",
    "plt.plot(x, poisson_pmf, 'ro')\n",
    "plt.vlines(x, 0, poisson_pmf, linestyles='-', lw=5, label='frozen pmf')\n",
    "plt.show()"
   ]
  },
  {
   "cell_type": "markdown",
   "metadata": {},
   "source": [
    "单位时间内恰好有 5 趟车到达的概率：\n",
    "\n",
    "$$f(5) = \\frac {10^5 \\times e^{-10}}{5!} = 0.0378$$"
   ]
  },
  {
   "cell_type": "code",
   "execution_count": 260,
   "metadata": {},
   "outputs": [
    {
     "data": {
      "text/plain": [
       "0.03783327480207079"
      ]
     },
     "execution_count": 260,
     "metadata": {},
     "output_type": "execute_result"
    }
   ],
   "source": [
    "k = 5\n",
    "#print((mu**k * e**-mu)/factorial(k))\n",
    "poisson_pmf[k]"
   ]
  },
  {
   "cell_type": "code",
   "execution_count": 261,
   "metadata": {},
   "outputs": [
    {
     "name": "stdout",
     "output_type": "stream",
     "text": [
      "10.0\n",
      "10.0\n",
      "3.1622776601683795\n"
     ]
    }
   ],
   "source": [
    "mean, var = poisson.stats(mu)\n",
    "print(mean)\n",
    "print(var)\n",
    "print(var**0.5)"
   ]
  },
  {
   "cell_type": "markdown",
   "metadata": {},
   "source": [
    "现在已知，单位时间为 1 刻钟（15 分钟），已经知道每 15 分钟，公交车平均会来 10 趟，可以推算出，每 3 分钟，公交车平均会来 $\\frac{10}{15} \\times 3 = 2$ 趟\n",
    "\n",
    "每 3 分钟公交车的分布概率函数为（注意，和前面 15 分钟的区别在于期望值 $\\mu$）：\n",
    "\n",
    "$$f(x) = \\frac {2^x \\times e^{-2}}{x!}$$\n",
    "\n",
    "3 分钟内恰好有 1 趟车到达的概率：\n",
    "\n",
    "$$f(1) = \\frac {2^1 \\times e^{-2}}{1!} = 0.2707$$"
   ]
  },
  {
   "cell_type": "code",
   "execution_count": 262,
   "metadata": {},
   "outputs": [
    {
     "data": {
      "text/plain": [
       "0.2706705664732254"
      ]
     },
     "execution_count": 262,
     "metadata": {},
     "output_type": "execute_result"
    }
   ],
   "source": [
    "x = np.arange(0, poisson.ppf(0.99, 2))\n",
    "poisson.pmf(x, 2)[1]"
   ]
  },
  {
   "cell_type": "markdown",
   "metadata": {},
   "source": [
    "# 超几何概率分布\n",
    "\n",
    "超几何概率分布与二项概率分布练习密切\n",
    "\n",
    "不同之处在于：超几何概率分布中的各项试验不是独立的 各次试验中成功的概率不等\n",
    "\n",
    "## 超几何概率函数\n",
    "\n",
    "$ f(x) = \\frac{\\lgroup^r_x\\rgroup \\lgroup^{N-r}_{n-x}\\rgroup}{\\lgroup ^N _n \\rgroup} $\n",
    "\n",
    "$x$为成功的次数 $n$为试验的次数 $f(x)$为$n$次试验中$x$次成功的概率，$N$为总体中元素个数 $r$为总体中具有成功标志的元素的个数\n",
    "\n",
    "## 超几何分布的均值和方差\n",
    "\n",
    "均值：$ E(x) = \\mu = n \\lgroup \\frac {r}{N} \\rgroup $\n",
    "\n",
    "方差： $Var(x) = \\sigma^2 = n\\lgroup \\frac{r}{N}\\rgroup(1-\\frac {r}{N})(\\frac {N-n}{N-1}) $\n",
    "\n"
   ]
  },
  {
   "cell_type": "code",
   "execution_count": null,
   "metadata": {},
   "outputs": [],
   "source": []
  }
 ],
 "metadata": {
  "kernelspec": {
   "display_name": "Python 3 (ipykernel)",
   "language": "python",
   "name": "python3"
  },
  "language_info": {
   "codemirror_mode": {
    "name": "ipython",
    "version": 3
   },
   "file_extension": ".py",
   "mimetype": "text/x-python",
   "name": "python",
   "nbconvert_exporter": "python",
   "pygments_lexer": "ipython3",
   "version": "3.9.12"
  },
  "toc": {
   "base_numbering": 1,
   "nav_menu": {},
   "number_sections": true,
   "sideBar": true,
   "skip_h1_title": false,
   "title_cell": "Table of Contents",
   "title_sidebar": "Contents",
   "toc_cell": false,
   "toc_position": {
    "height": "calc(100% - 180px)",
    "left": "10px",
    "top": "150px",
    "width": "256px"
   },
   "toc_section_display": true,
   "toc_window_display": true
  }
 },
 "nbformat": 4,
 "nbformat_minor": 2
}
