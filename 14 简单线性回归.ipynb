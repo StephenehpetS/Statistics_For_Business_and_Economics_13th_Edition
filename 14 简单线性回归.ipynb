{
 "cells": [
  {
   "cell_type": "markdown",
   "id": "419b4f32",
   "metadata": {},
   "source": [
    "在回归术语中，我们把被预测的变量称为因变量（dependent variable），把用来预测因变量值的一个或多个变量称为自变量（independent variable）。\n",
    "\n",
    "例如，在分析广告费用对销售收人的影响时，市场销售经理想要预测销售收入的愿望使我们想到，应该用销售收入作为因变量，而用来帮助预测销售收入的广告费用应作为自变量。\n",
    "\n",
    "在统计符号上，$y$ 代表因变量，$x$ 代表自变量。\n",
    "\n",
    "在本章中，我们仅仅讨论最简单类型的回归分析，它只包括一个自变量和一个因变量，二者之间的关\n",
    "系可以用一条直线近似表示。这种回归分析被称为简单线性回归（simple linear regression）。\n",
    "\n",
    "包括两个或两个以上自变量的回归分析被称为多元回归分析。多元回归和涉及曲线关系的情形，将在第 15 章和第 16 章中介绍。\n",
    "\n",
    "# 简单线性回归模型\n",
    "\n",
    "推荐教程：[Univariate Regression](http://web.vu.lt/mif/a.buteikis/wp-content/uploads/PE_Book/3-univariate-reg.html)\n",
    "\n",
    "描述 $y$ 如何依赖于 $x$ 和误差项的方程称为回归模型（regression model）。\n",
    "\n",
    "$$y = \\beta_0 + \\beta_1 x + \\varepsilon$$\n",
    "\n",
    "其中\n",
    "- $\\beta_0$ 和 $\\beta_1$ 被称为模型的参数，不是一个随机变量，而是客观存在的，在现实中一定有的具体的量，正是因为有这两个参数，才使得 $x$ 可以影响 $y$。\n",
    "- $\\varepsilon$ 是一个随机变量，被称为模型的误差项。误差项说明了包含在 $y$ 里，但不能被 $x$ 和 $y$ 之间的线性关系解释的变异性。如果线性回归模型能够很好地描述 $y$ 的变动，那 $\\varepsilon$ 一定是一个随机变动项，且均值为 0。\n",
    "\n",
    "简单线性回归方程\n",
    "\n",
    "$$E(y) = \\beta_0 + \\beta_1 x$$\n",
    "\n",
    "- $\\beta_0$ 是回归直线的 $y$ 轴截距\n",
    "- $\\beta_1$ 是斜率\n",
    "\n",
    "## 样本估计的回归方程\n",
    "\n",
    "$$\\hat{y} = b_0 + b_1 x$$\n",
    "\n",
    "- $b_0$ 和 $b_1$ 是总体参数 $\\beta_0$ 和 $\\beta_1$ 的样本估计量\n",
    "\n",
    "总体回归直线只有一条，而样本回归直线，根据抽样结果的不同，会有很多条。"
   ]
  },
  {
   "cell_type": "markdown",
   "id": "06ef1726",
   "metadata": {},
   "source": [
    "# 模型的假定\n",
    "\n",
    "关于回归模型 $y=\\beta_0 + \\beta_1 x + \\varepsilon$ 的误差项 $\\varepsilon$ 的假定\n",
    "1. 误差项 $\\varepsilon$ 是一个平均值或期望值为 0 的随机变量，即 $E(\\varepsilon) = 0$。\n",
    "\n",
    "    这就意味着因为 $\\beta_0$ 和 $\\beta_1$ 都是常数，所以有 $E(\\beta_0) = \\beta_0$ 和 $E(\\beta_1) = \\beta_1$。对于一个给定的 $x$ 值，$y$ 的期望值是：\n",
    "\n",
    "    $$E(y) = \\beta_0 + \\beta_1 x$$\n",
    "\n",
    "\n",
    "2. 对所有的 $x$ 值，$\\varepsilon$ 的方差都是相同的。我们用 $\\sigma^2$ 表示 $\\varepsilon$ 的方差。\n",
    "\n",
    "    这就意味着 $y$ 关于回归直线的方差等于 $\\sigma^2$ ，也就是说对所有的 $x$ 值，$y$ 的方差都是相等的。\n",
    "\n",
    "\n",
    "3. $\\varepsilon$ 的值是相互独立的。\n",
    "\n",
    "    这就意味着对于一个特定的 $x$ 值，它所对应的值与任何其他的 $x$ 值所对应的值不相关。\n",
    "\n",
    "    于是，对于一个特定的 $x$ 值，它所对应的 $y$ 值与任何其他的 $x$ 值所对应的 $y$ 值也不相关。\n",
    "\n",
    "\n",
    "4. 对所有的 $x$ 值，误差项 $\\varepsilon$ 是一个正态分布的随机变量。\n",
    "\n",
    "    这就意味着因为 $y$ 是 $\\varepsilon$ 的一个线性函数，所以对所有的 $x$ 值，$y$ 也是一个正态分布的随机变量。如果不是随机的，那就会产生内生性问题。"
   ]
  },
  {
   "cell_type": "markdown",
   "id": "1909eb87",
   "metadata": {},
   "source": [
    "# 最小二乘法\n",
    "\n",
    "最小二乘法是利用样本数据建立估计的回归方程的一种方法。（其中，二乘就是平方的意思）\n",
    "\n",
    "假定由位于大学校园附近的 10 家 Armand 比萨饼连锁店组成了一个样本，并对这个样本采集有关数据。\n",
    "\n",
    "对于样本中的第个观测值或第 i 家连锁店，$x_i$ 表示学生人数（单位：1000人），$y_i$ 表示季度销售收人（单位：1000美元）。\n",
    "\n",
    "样本中 10 家 Armand 比萨饼连锁店的 $x_i$ 和 $y_i$ 的数值如下列所示。\n",
    "\n",
    "我们看到对于第 1 家连锁店，$x_1=2$，$y_1=58$，表示这家连锁店位于有 2000 名学生的校园附近，它的季度销售收入为 58000 美元。"
   ]
  },
  {
   "cell_type": "code",
   "execution_count": 28,
   "id": "611bf947",
   "metadata": {},
   "outputs": [],
   "source": [
    "import pandas as pd\n",
    "import seaborn as sb\n",
    "import numpy as np\n",
    "import matplotlib.pyplot as plt\n",
    "from matplotlib.lines import Line2D\n",
    "\n",
    "from pathlib import Path\n",
    "#设置数据文件夹路径\n",
    "DATA = Path().resolve()  / 'data'"
   ]
  },
  {
   "cell_type": "code",
   "execution_count": 29,
   "id": "2562ed1b",
   "metadata": {},
   "outputs": [],
   "source": [
    "df = pd.read_csv(DATA / 'Armand\\'s.csv')\n",
    "df = df.set_index('Restaurant')\n",
    "armand = df.iloc[:,0:2]\n",
    "x = armand['Population']\n",
    "y = armand['Sales']"
   ]
  },
  {
   "cell_type": "code",
   "execution_count": 30,
   "id": "bcdd42e7",
   "metadata": {},
   "outputs": [
    {
     "data": {
      "image/png": "[encoded data removed]",
      "text/plain": [
       "<Figure size 432x288 with 1 Axes>"
      ]
     },
     "metadata": {
      "needs_background": "light"
     },
     "output_type": "display_data"
    }
   ],
   "source": [
    "_ = plt.figure(0)\n",
    "_ = plt.plot(x, y, linestyle = \"None\", marker = \"o\", markerfacecolor='none');\n",
    "#_ = plt.legend(handles = legend_lines, loc = 'upper left')\n",
    "plt.show()"
   ]
  },
  {
   "cell_type": "markdown",
   "id": "3d313e1b",
   "metadata": {},
   "source": [
    "最小二乘法准则\n",
    "\n",
    "$$min\\sum{(y_i - \\hat{y}_i)^2}$$\n",
    "\n",
    "其中：\n",
    "- $y_i$ 为对于第 $i$ 次观测因变量的**观测**值；$\\hat{y}_i$ 为对第 $i$ 次观测因变量的**预测**值，二者之差就是残差。残差是样本点与样本回归直线的**纵向距离**。实际上残差是样本回归直线不能够解释的，因变量方向的信息。\n",
    "\n",
    "- 最小二乘法的目标，就是使得残差平方和最小。为什么要平方呢？因为方向有是正负，残差的原始值有可能是正的，也有可能是负的。平方是为了消除方向对计算的影响。\n",
    "\n",
    "估计的回归方程的斜率和 $y$ 轴截距\n",
    "\n",
    "$$b_1 = \\frac{\\sum{(x_i - \\bar{x})(y_i - \\bar{y})}}{\\sum{(x_i - \\bar{x})^2}}$$\n",
    "\n",
    "$$b_0 = \\bar{y} - b_1\\bar{x}$$\n",
    "\n",
    "下面我们展示一下，最小二乘法的运算过程："
   ]
  },
  {
   "cell_type": "code",
   "execution_count": 31,
   "id": "a3ed0247",
   "metadata": {},
   "outputs": [
    {
     "data": {
      "text/html": [
       "<div>\n",
       "<style scoped>\n",
       "    .dataframe tbody tr th:only-of-type {\n",
       "        vertical-align: middle;\n",
       "    }\n",
       "\n",
       "    .dataframe tbody tr th {\n",
       "        vertical-align: top;\n",
       "    }\n",
       "\n",
       "    .dataframe thead th {\n",
       "        text-align: right;\n",
       "    }\n",
       "</style>\n",
       "<table border=\"1\" class=\"dataframe\">\n",
       "  <thead>\n",
       "    <tr style=\"text-align: right;\">\n",
       "      <th></th>\n",
       "      <th>Population</th>\n",
       "      <th>Sales</th>\n",
       "      <th>x_i - bar x</th>\n",
       "      <th>y_i - bar y</th>\n",
       "      <th>(x_i - bar x)(y_i - bar y)</th>\n",
       "      <th>(x_i - bar x)^2</th>\n",
       "    </tr>\n",
       "    <tr>\n",
       "      <th>Restaurant</th>\n",
       "      <th></th>\n",
       "      <th></th>\n",
       "      <th></th>\n",
       "      <th></th>\n",
       "      <th></th>\n",
       "      <th></th>\n",
       "    </tr>\n",
       "  </thead>\n",
       "  <tbody>\n",
       "    <tr>\n",
       "      <th>1</th>\n",
       "      <td>2</td>\n",
       "      <td>58</td>\n",
       "      <td>-12.0</td>\n",
       "      <td>-72.0</td>\n",
       "      <td>864.0</td>\n",
       "      <td>144.0</td>\n",
       "    </tr>\n",
       "    <tr>\n",
       "      <th>2</th>\n",
       "      <td>6</td>\n",
       "      <td>105</td>\n",
       "      <td>-8.0</td>\n",
       "      <td>-25.0</td>\n",
       "      <td>200.0</td>\n",
       "      <td>64.0</td>\n",
       "    </tr>\n",
       "    <tr>\n",
       "      <th>3</th>\n",
       "      <td>8</td>\n",
       "      <td>88</td>\n",
       "      <td>-6.0</td>\n",
       "      <td>-42.0</td>\n",
       "      <td>252.0</td>\n",
       "      <td>36.0</td>\n",
       "    </tr>\n",
       "    <tr>\n",
       "      <th>4</th>\n",
       "      <td>8</td>\n",
       "      <td>118</td>\n",
       "      <td>-6.0</td>\n",
       "      <td>-12.0</td>\n",
       "      <td>72.0</td>\n",
       "      <td>36.0</td>\n",
       "    </tr>\n",
       "    <tr>\n",
       "      <th>5</th>\n",
       "      <td>12</td>\n",
       "      <td>117</td>\n",
       "      <td>-2.0</td>\n",
       "      <td>-13.0</td>\n",
       "      <td>26.0</td>\n",
       "      <td>4.0</td>\n",
       "    </tr>\n",
       "    <tr>\n",
       "      <th>6</th>\n",
       "      <td>16</td>\n",
       "      <td>137</td>\n",
       "      <td>2.0</td>\n",
       "      <td>7.0</td>\n",
       "      <td>14.0</td>\n",
       "      <td>4.0</td>\n",
       "    </tr>\n",
       "    <tr>\n",
       "      <th>7</th>\n",
       "      <td>20</td>\n",
       "      <td>157</td>\n",
       "      <td>6.0</td>\n",
       "      <td>27.0</td>\n",
       "      <td>162.0</td>\n",
       "      <td>36.0</td>\n",
       "    </tr>\n",
       "    <tr>\n",
       "      <th>8</th>\n",
       "      <td>20</td>\n",
       "      <td>169</td>\n",
       "      <td>6.0</td>\n",
       "      <td>39.0</td>\n",
       "      <td>234.0</td>\n",
       "      <td>36.0</td>\n",
       "    </tr>\n",
       "    <tr>\n",
       "      <th>9</th>\n",
       "      <td>22</td>\n",
       "      <td>149</td>\n",
       "      <td>8.0</td>\n",
       "      <td>19.0</td>\n",
       "      <td>152.0</td>\n",
       "      <td>64.0</td>\n",
       "    </tr>\n",
       "    <tr>\n",
       "      <th>10</th>\n",
       "      <td>26</td>\n",
       "      <td>202</td>\n",
       "      <td>12.0</td>\n",
       "      <td>72.0</td>\n",
       "      <td>864.0</td>\n",
       "      <td>144.0</td>\n",
       "    </tr>\n",
       "  </tbody>\n",
       "</table>\n",
       "</div>"
      ],
      "text/plain": [
       "            Population  Sales  x_i - bar x  y_i - bar y  \\\n",
       "Restaurant                                                \n",
       "1                    2     58        -12.0        -72.0   \n",
       "2                    6    105         -8.0        -25.0   \n",
       "3                    8     88         -6.0        -42.0   \n",
       "4                    8    118         -6.0        -12.0   \n",
       "5                   12    117         -2.0        -13.0   \n",
       "6                   16    137          2.0          7.0   \n",
       "7                   20    157          6.0         27.0   \n",
       "8                   20    169          6.0         39.0   \n",
       "9                   22    149          8.0         19.0   \n",
       "10                  26    202         12.0         72.0   \n",
       "\n",
       "            (x_i - bar x)(y_i - bar y)  (x_i - bar x)^2  \n",
       "Restaurant                                               \n",
       "1                                864.0            144.0  \n",
       "2                                200.0             64.0  \n",
       "3                                252.0             36.0  \n",
       "4                                 72.0             36.0  \n",
       "5                                 26.0              4.0  \n",
       "6                                 14.0              4.0  \n",
       "7                                162.0             36.0  \n",
       "8                                234.0             36.0  \n",
       "9                                152.0             64.0  \n",
       "10                               864.0            144.0  "
      ]
     },
     "execution_count": 31,
     "metadata": {},
     "output_type": "execute_result"
    }
   ],
   "source": [
    "armand['x_i - bar x'] = armand['Population'] - armand['Population'].mean()\n",
    "armand['y_i - bar y'] = armand['Sales'] - armand['Sales'].mean()\n",
    "armand['(x_i - bar x)(y_i - bar y)'] = armand['x_i - bar x'] * armand['y_i - bar y']\n",
    "armand['(x_i - bar x)^2'] = pow(armand['x_i - bar x'],2)\n",
    "armand"
   ]
  },
  {
   "cell_type": "code",
   "execution_count": 32,
   "id": "60b158eb",
   "metadata": {},
   "outputs": [
    {
     "data": {
      "text/plain": [
       "568.0"
      ]
     },
     "execution_count": 32,
     "metadata": {},
     "output_type": "execute_result"
    }
   ],
   "source": [
    "armand['(x_i - bar x)^2'].sum()"
   ]
  },
  {
   "cell_type": "code",
   "execution_count": 33,
   "id": "41eea07f",
   "metadata": {},
   "outputs": [
    {
     "data": {
      "text/plain": [
       "5.0"
      ]
     },
     "execution_count": 33,
     "metadata": {},
     "output_type": "execute_result"
    }
   ],
   "source": [
    "b_1 = armand['(x_i - bar x)(y_i - bar y)'].sum() / armand['(x_i - bar x)^2'].sum()\n",
    "b_1"
   ]
  },
  {
   "cell_type": "code",
   "execution_count": 34,
   "id": "6375cfc6",
   "metadata": {},
   "outputs": [
    {
     "data": {
      "text/plain": [
       "130.0"
      ]
     },
     "execution_count": 34,
     "metadata": {},
     "output_type": "execute_result"
    }
   ],
   "source": [
    "bar_y = armand['Sales'].mean()\n",
    "bar_y"
   ]
  },
  {
   "cell_type": "code",
   "execution_count": 35,
   "id": "8dfbe830",
   "metadata": {},
   "outputs": [
    {
     "data": {
      "text/plain": [
       "14.0"
      ]
     },
     "execution_count": 35,
     "metadata": {},
     "output_type": "execute_result"
    }
   ],
   "source": [
    "bar_x = armand['Population'].mean()\n",
    "bar_x"
   ]
  },
  {
   "cell_type": "code",
   "execution_count": 36,
   "id": "b8e50a81",
   "metadata": {},
   "outputs": [
    {
     "data": {
      "image/png": "[encoded data removed]",
      "text/plain": [
       "<Figure size 432x288 with 1 Axes>"
      ]
     },
     "metadata": {
      "needs_background": "light"
     },
     "output_type": "display_data"
    }
   ],
   "source": [
    "armand['y_ce'] = 60 + 5 * x\n",
    "y_ce = armand['y_ce']\n",
    "\n",
    "_ = plt.figure(0)\n",
    "_ = plt.plot(x, y, linestyle = \"None\", marker = \"o\", markerfacecolor='none');\n",
    "_ = plt.plot(x, y_ce, linestyle = \"-\", color = \"red\");\n",
    "legend_lines = [Line2D([0], [0], color = \"red\", \n",
    "                        label='$E(Y|X) = \\\\beta_0 + \\\\beta_1 X$'),\n",
    "                Line2D([0], [0], linestyle = \"None\", markerfacecolor = \"None\",\n",
    "                      marker = \"o\", label='sample data')]\n",
    "_ = plt.legend(handles = legend_lines, loc = 'upper left')\n",
    "plt.show()"
   ]
  },
  {
   "cell_type": "markdown",
   "id": "58ae4236",
   "metadata": {},
   "source": [
    "结合上面的结算结果可得：\n",
    "- $b_1 = 5$\n",
    "- $\\bar{x} = 14$\n",
    "- $\\bar{y} = 130$\n",
    "- $b_0 = \\bar{y} - b_1 \\bar{x} = 130 - 5 \\times 14 = 60$\n",
    "\n",
    "估计的回归方程是：\n",
    "\n",
    "$$\\hat{y} = 60 + 5x$$\n",
    "\n",
    "我们再看一下，估计的回归方程的斜率和 $y$ 轴截距\n",
    "\n",
    "$$b_1 = \\frac{\\sum{(x_i - \\bar{x})(y_i - \\bar{y})}}{\\sum{(x_i - \\bar{x})^2}}$$\n",
    "\n",
    "可以将其转化成\n",
    "\n",
    "$$b_1 = \\frac{Cov\\left(x, y\\right)}{Var\\left(x\\right)}$$\n",
    "\n",
    "$$b_0 = \\bar{y} - b_1\\bar{x}$$\n",
    "\n",
    "下面我们用一个随机生成的数据集来进行演示"
   ]
  },
  {
   "cell_type": "code",
   "execution_count": 3,
   "id": "8322d09d",
   "metadata": {},
   "outputs": [
    {
     "data": {
      "image/png": "[encoded data removed]",
      "text/plain": [
       "<Figure size 720x576 with 1 Axes>"
      ]
     },
     "metadata": {
      "needs_background": "light"
     },
     "output_type": "display_data"
    }
   ],
   "source": [
    "import numpy as np\n",
    "import pandas as pd\n",
    "import matplotlib.pyplot as plt\n",
    "#\n",
    "np.random.seed(234)\n",
    "# Set the coefficients:\n",
    "N = 50\n",
    "beta_0 = 1\n",
    "beta_1 = 0.5\n",
    "# Generate sample data:\n",
    "x = np.arange(start = 0, stop = N + 1, step = 1)\n",
    "#x = list(range(0, N + 1)) # not np.ndarray \n",
    "e = np.random.normal(loc = 0, scale = 1, size = len(x))\n",
    "y = beta_0 + beta_1 * x + e\n",
    "# Plot the data\n",
    "_ = plt.figure(num = 0, figsize = (10, 8))\n",
    "_ = plt.plot(x, y, linestyle = \"None\", marker = \"o\", markerfacecolor = 'none')\n",
    "plt.show()"
   ]
  },
  {
   "cell_type": "code",
   "execution_count": 4,
   "id": "86de5f0c",
   "metadata": {},
   "outputs": [
    {
     "name": "stdout",
     "output_type": "stream",
     "text": [
      "Estimated beta_0 = 0.8385362094098401. True beta_0 = 1\n",
      "Estimated beta_1 = 0.5099221954865624. True beta_1 = 0.5\n",
      "With bias = False (default) the estimate of beta_1 is biased: 0.5201206393962936\n",
      "With sample variance the estimate of beta_1 is unbiased: 0.5099221954865624\n"
     ]
    }
   ],
   "source": [
    "beta_1_est = np.cov(x, y, bias = True)[0][1] / np.var(x)\n",
    "beta_0_est = np.mean(y) - beta_1_est * np.mean(x)\n",
    "print(\"Estimated beta_0 = \" + str(beta_0_est) + \". True beta_0 = \" + str(beta_0))\n",
    "print(\"Estimated beta_1 = \" + str(beta_1_est) + \". True beta_1 = \" + str(beta_1))\n",
    "print(\"With bias = False (default) the estimate of beta_1 is biased: \" + str(np.cov(x, y)[0][1] / np.var(x)))\n",
    "print(\"With sample variance the estimate of beta_1 is unbiased: \" +  str(np.cov(x, y)[0][1] / np.var(x, ddof = 1)))"
   ]
  },
  {
   "cell_type": "markdown",
   "id": "2a76c40c",
   "metadata": {},
   "source": [
    "除了使用协方差，我们也可以使用矩阵计算出两个参数"
   ]
  },
  {
   "cell_type": "code",
   "execution_count": 5,
   "id": "1ddc5668",
   "metadata": {},
   "outputs": [
    {
     "name": "stdout",
     "output_type": "stream",
     "text": [
      "[0.83853621 0.5099222 ]\n",
      "[0.83853621 0.5099222 ]\n"
     ]
    }
   ],
   "source": [
    "x_mat = np.column_stack((np.ones(len(x)), x))\n",
    "beta_mat = np.dot(np.linalg.inv(np.dot(np.transpose(x_mat), x_mat)), np.dot(np.transpose(x_mat), y))\n",
    "print(beta_mat)\n",
    "print(np.linalg.inv(x_mat.T @ x_mat) @ x_mat.T @ y)"
   ]
  },
  {
   "cell_type": "code",
   "execution_count": 6,
   "id": "f18f0516",
   "metadata": {},
   "outputs": [
    {
     "name": "stdout",
     "output_type": "stream",
     "text": [
      "[0.83853621 0.5099222 ]\n"
     ]
    }
   ],
   "source": [
    "import statsmodels.api as sm\n",
    "#\n",
    "x_mat = sm.add_constant(x)  # Add a constant column - not optional!\n",
    "lm_model = sm.OLS(y, x_mat) # Create the OLS regression object\n",
    "lm_fit = lm_model.fit()     # Estimate the parameters\n",
    "print(lm_fit.params)        # Extract the parameter estimates"
   ]
  },
  {
   "cell_type": "code",
   "execution_count": 7,
   "id": "036def84",
   "metadata": {},
   "outputs": [
    {
     "data": {
      "image/png": "[encoded data removed]",
      "text/plain": [
       "<Figure size 720x576 with 1 Axes>"
      ]
     },
     "metadata": {
      "needs_background": "light"
     },
     "output_type": "display_data"
    }
   ],
   "source": [
    "# The unknown DGP:\n",
    "y_dgp = beta_0 + beta_1 * x\n",
    "# The fitted values:\n",
    "y_fit = beta_mat[0] + beta_mat[1] * x\n",
    "# Plot the sample data\n",
    "_ = plt.figure(num = 0, figsize = (10, 8))\n",
    "_ = plt.plot(x, y, linestyle = \"None\", marker = \"o\", markerfacecolor = 'green')\n",
    "_ = plt.title(\"Scatter diagram of (X,Y) sample data and the regression line\")\n",
    "# Plot the Unknown Population regression:\n",
    "_ = plt.plot(x, y_dgp, linestyle = \"--\", color = \"green\", \n",
    "              label='$E(Y|X) = \\\\beta_0 + \\\\beta_1 X$')\n",
    "# Plot the fitted regression line:\n",
    "_ = plt.plot(x, y_fit, linestyle = \"-\", color = \"blue\",\n",
    "              label='$\\widehat{Y} = \\widehat{\\\\beta}_0 + \\widehat{\\\\beta}_1 X$')\n",
    "_ = plt.legend()\n",
    "plt.show()"
   ]
  },
  {
   "cell_type": "code",
   "execution_count": 8,
   "id": "10c3431f",
   "metadata": {},
   "outputs": [
    {
     "data": {
      "image/png": "[encoded data removed]",
      "text/plain": [
       "<Figure size 720x576 with 1 Axes>"
      ]
     },
     "metadata": {
      "needs_background": "light"
     },
     "output_type": "display_data"
    }
   ],
   "source": [
    "_ = plt.figure(num = 1, figsize=(10, 8))\n",
    "_ = plt.plot(x, y, linestyle = \"None\", marker = \"o\", markerfacecolor = 'black')\n",
    "_ = plt.ylim(ymin = 0, ymax = 12)\n",
    "_ = plt.xlim(xmin = 10, xmax = 20)\n",
    "_ = plt.title(\"Scatter diagram of (X,Y) sample data and the regression line\")\n",
    "_ = plt.plot(x, y_dgp, linestyle = \"--\", color = \"green\")\n",
    "# Add Axis labels and ticks at specific positions:\n",
    "_ = plt.xticks([x[12], x[16]], [\"$X_{13}$\", \"$X_{17}$\"])\n",
    "# Add vertical lines:\n",
    "_ = plt.plot([x[12], x[12]], [0, y_fit[12]], '--', color = \"black\")\n",
    "_ = plt.plot([x[12], x[12]], [0, y[12]], '-', color = \"black\")\n",
    "_ = plt.plot([x[16], x[16]], [0, y[16]], '-', color = \"black\")\n",
    "# Add some brackets:\n",
    "_ = plt.annotate(\"\", xy = (x[12]*0.955, y[12] / 2), \n",
    "             xytext = (x[12]*0.975, y[12] / 2),\n",
    "             arrowprops = dict(arrowstyle = \"]-, widthA=10.3,lengthA=1\",\n",
    "                               connectionstyle = \"arc\", color='blue'))\n",
    "_ = plt.annotate(\"\", xy = (x[12]*1.015, y_fit[12] / 2),\n",
    "             xytext = (x[12]*1.035, y_fit[12] / 2),\n",
    "             arrowprops = dict(arrowstyle = \"-[, widthB=12.5,lengthB=1\",\n",
    "                               connectionstyle = \"arc\", color='red'))\n",
    "_ = plt.annotate(\"\", xy = (x[16]*1.015, y_fit[16] / 2), \n",
    "             xytext = (x[16]*1.035, y_fit[16] / 2),\n",
    "             arrowprops = dict(arrowstyle = \"-[, widthB=16.2,lengthB=1.2\",\n",
    "                               connectionstyle = \"arc\", color='red'))\n",
    "_ = plt.annotate(\"\", xy = (x[16]*1.015, (y[16] + y_fit[16]) / 2),\n",
    "             xytext = (x[16]*1.035, (y[16] + y_fit[16]) / 2),\n",
    "             arrowprops = dict(arrowstyle = \"-[, widthB=2.5,lengthB=1.2\",\n",
    "                               connectionstyle = \"arc\", color='blue'))\n",
    "# Add Actual, Fitted and Residual indicator text:\n",
    "_ = plt.text(x[12]*0.93, y[12] / 2.1, r'$Y_{13}$', fontsize = 10)\n",
    "_ = plt.text(x[12]*1.04, y_fit[12] / 2.1, r'$\\widehat{Y}_{13}$', fontsize = 10)\n",
    "_ = plt.text(x[16]*1.04, y_fit[16] / 2.1, \n",
    "  r'$\\widehat{Y}_6$ = fitted value', fontsize = 10)\n",
    "_ = plt.text(x[16]*1.04, (y[16] + y_fit[16]) / 2.02, \n",
    "  r'$\\widehat{\\epsilon}_6$ = residual', fontsize = 10)\n",
    "# Add Regression line\n",
    "_ = plt.text(x[17] - 0.2, y[20], \n",
    "  r'$\\widehat{Y} = \\widehat{\\beta}_0 + \\widehat{\\beta}_1 X$', fontsize = 10)\n",
    "_ = plt.annotate(\"\", xy = (x[19], y_fit[19]), xytext = (x[18]*0.99, y[20]),\n",
    "            arrowprops = dict(arrowstyle = \"->\", \n",
    "                              connectionstyle = \"arc\", color='red'))\n",
    "plt.show()"
   ]
  },
  {
   "cell_type": "code",
   "execution_count": 10,
   "id": "63a0674e",
   "metadata": {},
   "outputs": [
    {
     "data": {
      "text/plain": [
       "array([ 0,  1,  2,  3,  4,  5,  6,  7,  8,  9, 10, 11, 12, 13, 14, 15, 16,\n",
       "       17, 18, 19, 20, 21, 22, 23, 24, 25, 26, 27, 28, 29, 30, 31, 32, 33,\n",
       "       34, 35, 36, 37, 38, 39, 40, 41, 42, 43, 44, 45, 46, 47, 48, 49, 50])"
      ]
     },
     "execution_count": 10,
     "metadata": {},
     "output_type": "execute_result"
    }
   ],
   "source": [
    "x"
   ]
  },
  {
   "cell_type": "code",
   "execution_count": 56,
   "id": "ccc770f8",
   "metadata": {},
   "outputs": [
    {
     "name": "stdout",
     "output_type": "stream",
     "text": [
      "Sum of the residuals: 2.2160051571518125e-13\n",
      "Sum of X*resid: 9.563905223330949e-12\n",
      "Sample covariance of X and residuals: 8.054223954445661e-14\n",
      "Predicted value with mean(X): 13.586591096573896\n",
      "Sample mean of Y: 13.5865910965739\n",
      "[0.26999713 0.00930656]\n",
      "[0.26999713 0.00930656]\n"
     ]
    }
   ],
   "source": [
    "resid = y - y_fit\n",
    "print(\"Sum of the residuals: \" + str(sum(resid)))\n",
    "print(\"Sum of X*resid: \" + str(sum(np.array(resid) * np.array(x))))\n",
    "print(\"Sample covariance of X and residuals: \" + str(np.cov(resid, x)[0][1]))\n",
    "print(\"Predicted value with mean(X): \" + str(beta_mat[0] + beta_mat[1] * np.mean(x)))\n",
    "print(\"Sample mean of Y: \" + str(np.mean(y)))\n",
    "\n",
    "sigma2_est = sum(resid**2) / (len(x) - 2)\n",
    "var_beta = sigma2_est * np.linalg.inv(np.dot(np.transpose(x_mat), x_mat))\n",
    "print(np.sqrt(np.diag(var_beta)))\n",
    "print(lm_fit.bse)"
   ]
  },
  {
   "cell_type": "code",
   "execution_count": 57,
   "id": "a77e425e",
   "metadata": {},
   "outputs": [],
   "source": [
    "np.random.seed(1)\n",
    "# Set the sample size:\n",
    "N = [10, 100, 1000]\n",
    "#\n",
    "beta_0_est = []\n",
    "beta_1_est = []\n",
    "# Generate samples of different sizes:\n",
    "for n in N:\n",
    "    x = np.arange(start = 0, stop = n + 1, step = 1)\n",
    "    x_mat = np.column_stack((np.ones(len(x)), x))\n",
    "    xtx = np.dot(np.transpose(x_mat), x_mat)\n",
    "    # Repeatedly generate a random sample and estimate the parameters\n",
    "    beta_0_temp = []\n",
    "    beta_1_temp = []\n",
    "    for smpl in range(0, 5000):\n",
    "        # Generate Y:\n",
    "        e = np.random.normal(loc = 0, scale = 1, size = len(x))\n",
    "        y = beta_0 + beta_1 * x + e\n",
    "        # Estimate the parameters:\n",
    "        xty = np.dot(np.transpose(x_mat), y)\n",
    "        beta_mat = np.dot(np.linalg.inv(xtx), xty)\n",
    "        # Save the estimated parameters:\n",
    "        beta_0_temp = np.append(beta_0_temp, [beta_mat[0]])\n",
    "        beta_1_temp = np.append(beta_1_temp, [beta_mat[1]])\n",
    "    # Save all the estimated parameters to one parameter matrix\n",
    "    # each column represents the different sample size from N:\n",
    "    if len(beta_0_est) == 0 and len(beta_1_est) == 0:\n",
    "        beta_0_est = beta_0_temp\n",
    "        beta_1_est = beta_1_temp\n",
    "    else:\n",
    "        beta_0_est = np.vstack((beta_0_est, beta_0_temp))\n",
    "        beta_1_est = np.vstack((beta_1_est, beta_1_temp))"
   ]
  },
  {
   "cell_type": "code",
   "execution_count": 68,
   "id": "9d64ef6e",
   "metadata": {},
   "outputs": [
    {
     "name": "stdout",
     "output_type": "stream",
     "text": [
      "True beta_0 = 1. True beta_1 = 0.5\n",
      "With N = 10: the AVERAGE of the estimated parameters:\n",
      "\t beta_0: 1.00437\n",
      "\t beta_1: 0.49984\n",
      "With N = 10: the VARIANCE of the estimated parameters:\n",
      "\t beta_0: 0.3178\n",
      "\t beta_1: 0.00904\n",
      "\n",
      "\n",
      "With N = 100: the AVERAGE of the estimated parameters:\n",
      "\t beta_0: 0.99789\n",
      "\t beta_1: 0.50006\n",
      "With N = 100: the VARIANCE of the estimated parameters:\n",
      "\t beta_0: 0.03896\n",
      "\t beta_1: 1e-05\n",
      "\n",
      "\n",
      "With N = 1000: the AVERAGE of the estimated parameters:\n",
      "\t beta_0: 0.99957\n",
      "\t beta_1: 0.5\n",
      "With N = 1000: the VARIANCE of the estimated parameters:\n",
      "\t beta_0: 0.00394\n",
      "\t beta_1: 0.0\n",
      "\n",
      "\n"
     ]
    }
   ],
   "source": [
    "print(\"True beta_0 = \" + str(beta_0) + \". True beta_1 = \" + str(beta_1))\n",
    "for i in range(0, len(N)):\n",
    "    print(\"With N = \" + str(N[i]) + \":\" +\n",
    "          \" the AVERAGE of the estimated parameters:\" +\n",
    "          \"\\n\\t beta_0: \" + str(np.round(np.mean(beta_0_est[i]), 5)) +\n",
    "          \"\\n\\t beta_1: \" + str(np.round(np.mean(beta_1_est[i]), 5)))\n",
    "    print(\"With N = \" + str(N[i]) + \":\" +\n",
    "          \" the VARIANCE of the estimated parameters:\" +\n",
    "          \"\\n\\t beta_0: \" + str(np.round(np.var(beta_0_est[i]), 5)) + \n",
    "          \"\\n\\t beta_1: \" + str(np.round(np.var(beta_1_est[i]), 5)))\n",
    "    print(\"\\n\")"
   ]
  },
  {
   "cell_type": "code",
   "execution_count": 65,
   "id": "72c13e62",
   "metadata": {},
   "outputs": [
    {
     "data": {
      "image/png": "[encoded data removed]",
      "text/plain": [
       "<Figure size 720x720 with 6 Axes>"
      ]
     },
     "metadata": {
      "needs_background": "light"
     },
     "output_type": "display_data"
    }
   ],
   "source": [
    "fig = plt.figure(figsize = (10, 10))\n",
    "for i in range(0, len(N)):\n",
    "    _ = fig.add_subplot(int('32' + str(i*2+1))).hist(beta_0_est[i], \n",
    "                    bins = 20, histtype = 'bar', \n",
    "                    color = \"cornflowerblue\", ec = 'black')\n",
    "    _ = plt.title(\"Histogram of $\\\\widehat{\\\\beta}_0$ with N = \" + str(N[i]))\n",
    "    _ = fig.add_subplot(int('32' + str((i+1)*2))).hist(beta_1_est[i], \n",
    "                    bins = 20, histtype = 'bar', \n",
    "                    color = \"cornflowerblue\", ec = 'black')\n",
    "    _ = plt.title(\"Histogram of $\\\\widehat{\\\\beta}_1$ with N = \" + str(N[i]))\n",
    "plt.tight_layout()\n",
    "plt.show()"
   ]
  },
  {
   "cell_type": "markdown",
   "id": "d552382a",
   "metadata": {},
   "source": [
    "$\\beta_0$ 和 $\\beta_1$ 的几何意义：\n",
    "- $\\beta_0$：纵截距\n",
    "- $\\beta_1$：自变量 $x$：变动 a 个单位时，因变量 y 的变动幅度为 $\\beta_1 \\times x$ "
   ]
  },
  {
   "cell_type": "code",
   "execution_count": 69,
   "id": "04b87fb0",
   "metadata": {},
   "outputs": [
    {
     "data": {
      "image/png": "[encoded data removed]",
      "text/plain": [
       "<Figure size 720x576 with 1 Axes>"
      ]
     },
     "metadata": {
      "needs_background": "light"
     },
     "output_type": "display_data"
    }
   ],
   "source": [
    "np.random.seed(123)\n",
    "#\n",
    "N = 100\n",
    "beta_0 = 10\n",
    "beta_1 = 5\n",
    "x = np.linspace(start = 0, stop = 10, num = N)\n",
    "e = np.random.normal(loc = 0, scale = 5, size = len(x))\n",
    "y = beta_0 + beta_1 * x + e\n",
    "# Conditional expectation of Y, given X\n",
    "E_y = beta_0 + beta_1 * x\n",
    "# Plot the data\n",
    "_ = plt.figure(num = 1, figsize = (10, 8))\n",
    "_ = plt.plot(x, y, linestyle = \"None\", marker = \"o\", \n",
    "            label = \"$Y = \\\\beta_0 + \\\\beta_1 X + \\\\epsilon$\",\n",
    "            markerfacecolor = 'None', markeredgecolor = \"darkgreen\")\n",
    "_ = plt.margins(x = 0)\n",
    "_ = plt.ylim([0, max(y)])\n",
    "# Plot the conditional expectation E(Y|X)\n",
    "_ = plt.plot(x, E_y, linestyle = \"-\", color = \"blue\", \n",
    "            label='$E(Y|X) = \\\\beta_0 + \\\\beta_1 X$')\n",
    "# plot beta_0\n",
    "_ = plt.annotate(\"\", xy = (0.5, E_y[0] / 2), \n",
    "             xytext = (0.2, E_y[0] / 2),\n",
    "             arrowprops = dict(arrowstyle = \"]-, widthA=3.5,lengthA=1\",\n",
    "                               connectionstyle = \"arc\", color='red'))\n",
    "_ = plt.text(0.5, E_y[0] / 2, '$\\\\beta_0$, intercept', fontsize = 10)\n",
    "# plot beta_1\n",
    "_ = plt.plot([4, 5], [beta_0 + beta_1 * 4]*2, \n",
    "            linestyle = \"--\", color = \"red\")\n",
    "_ = plt.plot([5, 5], beta_0 + beta_1 * np.array([4, 5]), \n",
    "            linestyle = \"--\", color = \"red\")\n",
    "_ = plt.annotate(\"\", xy = (5.5, beta_0 + beta_1 * 4.5), \n",
    "             xytext = (5.2, beta_0 + beta_1 * 4.5),\n",
    "             arrowprops = dict(arrowstyle = \"]-, widthA=1.8,lengthA=1\",\n",
    "                               connectionstyle = \"arc\", color='red'))\n",
    "_ = plt.text(4, beta_0 + beta_1 * 3.3, 'unit increase in $X$', fontsize = 10)\n",
    "_ = plt.annotate(\"\", xy = (4.5, beta_0 + beta_1 * 3.5), \n",
    "             xytext = (4.5, beta_0 + beta_1 * 3.8),\n",
    "             arrowprops = dict(arrowstyle = \"]-, widthA=2.8,lengthA=1\",\n",
    "                               connectionstyle = \"arc\", color='red'))\n",
    "_ = plt.text(5.5, beta_0 + beta_1 * 4.5, '$\\\\beta_1$, slope', fontsize = 10)\n",
    "_ = plt.legend()\n",
    "plt.show()"
   ]
  },
  {
   "cell_type": "code",
   "execution_count": null,
   "id": "881d9cc6",
   "metadata": {},
   "outputs": [],
   "source": []
  },
  {
   "cell_type": "markdown",
   "id": "e3d6a379",
   "metadata": {},
   "source": [
    "# 判定系数\n",
    "\n",
    "判定系数由三个部分组成：\n",
    "\n",
    "- 总平方和：代表全部数据的离散程度\n",
    "\n",
    "$$ SST = \\sum{(y_i - \\bar{y})^2} $$\n",
    "\n",
    "- 回归平方和：具体的样本回归方程 $\\hat{y}$ 和整体的回归直线 $\\bar{y}$ 之间的距离。SSR 实际上就是回归方程能够解释的那部分离散程度。\n",
    "\n",
    "$$ SSR = \\sum{(\\hat{y} - \\bar{y})^2} $$\n",
    "\n",
    "- 误差平方和：\n",
    "\n",
    "$$ SSE = \\sum{(y_i - \\hat{y}_i)^2} $$\n",
    "\n",
    "- $y_i$：因变量的观测值\n",
    "- $\\hat{y}_i$：因变量的预测值\n",
    "- $\\bar{y}$：因变量的均值\n",
    "\n",
    "$$ SST = SSR + SSE $$\n",
    "\n",
    "$$ r^2 = \\frac{SSR}{SST} $$\n",
    "\n",
    "实际的意义就是：回归方程，整体而言，在多大程度上能够解释全部的数据离散程度（离散程度 = 数据蕴含的的信息）。\n",
    "\n",
    "决定系数：现有的方程能够诠释多少原始的统计信息。\n",
    "\n",
    "我们来看看，案例数据的这几个统计量："
   ]
  },
  {
   "cell_type": "code",
   "execution_count": 10,
   "id": "fdc48a98",
   "metadata": {},
   "outputs": [
    {
     "data": {
      "text/html": [
       "<div>\n",
       "<style scoped>\n",
       "    .dataframe tbody tr th:only-of-type {\n",
       "        vertical-align: middle;\n",
       "    }\n",
       "\n",
       "    .dataframe tbody tr th {\n",
       "        vertical-align: top;\n",
       "    }\n",
       "\n",
       "    .dataframe thead th {\n",
       "        text-align: right;\n",
       "    }\n",
       "</style>\n",
       "<table border=\"1\" class=\"dataframe\">\n",
       "  <thead>\n",
       "    <tr style=\"text-align: right;\">\n",
       "      <th></th>\n",
       "      <th>Population</th>\n",
       "      <th>Sales</th>\n",
       "    </tr>\n",
       "    <tr>\n",
       "      <th>Restaurant</th>\n",
       "      <th></th>\n",
       "      <th></th>\n",
       "    </tr>\n",
       "  </thead>\n",
       "  <tbody>\n",
       "    <tr>\n",
       "      <th>1</th>\n",
       "      <td>2</td>\n",
       "      <td>58</td>\n",
       "    </tr>\n",
       "    <tr>\n",
       "      <th>2</th>\n",
       "      <td>6</td>\n",
       "      <td>105</td>\n",
       "    </tr>\n",
       "    <tr>\n",
       "      <th>3</th>\n",
       "      <td>8</td>\n",
       "      <td>88</td>\n",
       "    </tr>\n",
       "    <tr>\n",
       "      <th>4</th>\n",
       "      <td>8</td>\n",
       "      <td>118</td>\n",
       "    </tr>\n",
       "    <tr>\n",
       "      <th>5</th>\n",
       "      <td>12</td>\n",
       "      <td>117</td>\n",
       "    </tr>\n",
       "  </tbody>\n",
       "</table>\n",
       "</div>"
      ],
      "text/plain": [
       "            Population  Sales\n",
       "Restaurant                   \n",
       "1                    2     58\n",
       "2                    6    105\n",
       "3                    8     88\n",
       "4                    8    118\n",
       "5                   12    117"
      ]
     },
     "execution_count": 10,
     "metadata": {},
     "output_type": "execute_result"
    }
   ],
   "source": [
    "df = pd.read_csv(DATA / 'Armand\\'s.csv')\n",
    "df = df.set_index('Restaurant')\n",
    "armand = df.iloc[:,0:2]\n",
    "armand.head()"
   ]
  },
  {
   "cell_type": "code",
   "execution_count": 43,
   "id": "e100d02a",
   "metadata": {},
   "outputs": [
    {
     "data": {
      "text/html": [
       "<div>\n",
       "<style scoped>\n",
       "    .dataframe tbody tr th:only-of-type {\n",
       "        vertical-align: middle;\n",
       "    }\n",
       "\n",
       "    .dataframe tbody tr th {\n",
       "        vertical-align: top;\n",
       "    }\n",
       "\n",
       "    .dataframe thead th {\n",
       "        text-align: right;\n",
       "    }\n",
       "</style>\n",
       "<table border=\"1\" class=\"dataframe\">\n",
       "  <thead>\n",
       "    <tr style=\"text-align: right;\">\n",
       "      <th></th>\n",
       "      <th>Population</th>\n",
       "      <th>Sales</th>\n",
       "      <th>y_ce</th>\n",
       "      <th>x_i - bar x</th>\n",
       "      <th>y_i - bar y</th>\n",
       "      <th>(x_i - bar x)(y_i - bar y)</th>\n",
       "      <th>(x_i - bar x)^2</th>\n",
       "      <th>hat y</th>\n",
       "      <th>y_i - hat y</th>\n",
       "      <th>SSE</th>\n",
       "      <th>SST</th>\n",
       "      <th>hat y - bar y</th>\n",
       "      <th>SSR</th>\n",
       "    </tr>\n",
       "    <tr>\n",
       "      <th>Restaurant</th>\n",
       "      <th></th>\n",
       "      <th></th>\n",
       "      <th></th>\n",
       "      <th></th>\n",
       "      <th></th>\n",
       "      <th></th>\n",
       "      <th></th>\n",
       "      <th></th>\n",
       "      <th></th>\n",
       "      <th></th>\n",
       "      <th></th>\n",
       "      <th></th>\n",
       "      <th></th>\n",
       "    </tr>\n",
       "  </thead>\n",
       "  <tbody>\n",
       "    <tr>\n",
       "      <th>1</th>\n",
       "      <td>2</td>\n",
       "      <td>58</td>\n",
       "      <td>70</td>\n",
       "      <td>-12.0</td>\n",
       "      <td>-72.0</td>\n",
       "      <td>864.0</td>\n",
       "      <td>144.0</td>\n",
       "      <td>70</td>\n",
       "      <td>-12</td>\n",
       "      <td>144</td>\n",
       "      <td>5184.0</td>\n",
       "      <td>-60.0</td>\n",
       "      <td>3600.0</td>\n",
       "    </tr>\n",
       "    <tr>\n",
       "      <th>2</th>\n",
       "      <td>6</td>\n",
       "      <td>105</td>\n",
       "      <td>90</td>\n",
       "      <td>-8.0</td>\n",
       "      <td>-25.0</td>\n",
       "      <td>200.0</td>\n",
       "      <td>64.0</td>\n",
       "      <td>90</td>\n",
       "      <td>15</td>\n",
       "      <td>225</td>\n",
       "      <td>625.0</td>\n",
       "      <td>-40.0</td>\n",
       "      <td>1600.0</td>\n",
       "    </tr>\n",
       "    <tr>\n",
       "      <th>3</th>\n",
       "      <td>8</td>\n",
       "      <td>88</td>\n",
       "      <td>100</td>\n",
       "      <td>-6.0</td>\n",
       "      <td>-42.0</td>\n",
       "      <td>252.0</td>\n",
       "      <td>36.0</td>\n",
       "      <td>100</td>\n",
       "      <td>-12</td>\n",
       "      <td>144</td>\n",
       "      <td>1764.0</td>\n",
       "      <td>-30.0</td>\n",
       "      <td>900.0</td>\n",
       "    </tr>\n",
       "    <tr>\n",
       "      <th>4</th>\n",
       "      <td>8</td>\n",
       "      <td>118</td>\n",
       "      <td>100</td>\n",
       "      <td>-6.0</td>\n",
       "      <td>-12.0</td>\n",
       "      <td>72.0</td>\n",
       "      <td>36.0</td>\n",
       "      <td>100</td>\n",
       "      <td>18</td>\n",
       "      <td>324</td>\n",
       "      <td>144.0</td>\n",
       "      <td>-30.0</td>\n",
       "      <td>900.0</td>\n",
       "    </tr>\n",
       "    <tr>\n",
       "      <th>5</th>\n",
       "      <td>12</td>\n",
       "      <td>117</td>\n",
       "      <td>120</td>\n",
       "      <td>-2.0</td>\n",
       "      <td>-13.0</td>\n",
       "      <td>26.0</td>\n",
       "      <td>4.0</td>\n",
       "      <td>120</td>\n",
       "      <td>-3</td>\n",
       "      <td>9</td>\n",
       "      <td>169.0</td>\n",
       "      <td>-10.0</td>\n",
       "      <td>100.0</td>\n",
       "    </tr>\n",
       "    <tr>\n",
       "      <th>6</th>\n",
       "      <td>16</td>\n",
       "      <td>137</td>\n",
       "      <td>140</td>\n",
       "      <td>2.0</td>\n",
       "      <td>7.0</td>\n",
       "      <td>14.0</td>\n",
       "      <td>4.0</td>\n",
       "      <td>140</td>\n",
       "      <td>-3</td>\n",
       "      <td>9</td>\n",
       "      <td>49.0</td>\n",
       "      <td>10.0</td>\n",
       "      <td>100.0</td>\n",
       "    </tr>\n",
       "    <tr>\n",
       "      <th>7</th>\n",
       "      <td>20</td>\n",
       "      <td>157</td>\n",
       "      <td>160</td>\n",
       "      <td>6.0</td>\n",
       "      <td>27.0</td>\n",
       "      <td>162.0</td>\n",
       "      <td>36.0</td>\n",
       "      <td>160</td>\n",
       "      <td>-3</td>\n",
       "      <td>9</td>\n",
       "      <td>729.0</td>\n",
       "      <td>30.0</td>\n",
       "      <td>900.0</td>\n",
       "    </tr>\n",
       "    <tr>\n",
       "      <th>8</th>\n",
       "      <td>20</td>\n",
       "      <td>169</td>\n",
       "      <td>160</td>\n",
       "      <td>6.0</td>\n",
       "      <td>39.0</td>\n",
       "      <td>234.0</td>\n",
       "      <td>36.0</td>\n",
       "      <td>160</td>\n",
       "      <td>9</td>\n",
       "      <td>81</td>\n",
       "      <td>1521.0</td>\n",
       "      <td>30.0</td>\n",
       "      <td>900.0</td>\n",
       "    </tr>\n",
       "    <tr>\n",
       "      <th>9</th>\n",
       "      <td>22</td>\n",
       "      <td>149</td>\n",
       "      <td>170</td>\n",
       "      <td>8.0</td>\n",
       "      <td>19.0</td>\n",
       "      <td>152.0</td>\n",
       "      <td>64.0</td>\n",
       "      <td>170</td>\n",
       "      <td>-21</td>\n",
       "      <td>441</td>\n",
       "      <td>361.0</td>\n",
       "      <td>40.0</td>\n",
       "      <td>1600.0</td>\n",
       "    </tr>\n",
       "    <tr>\n",
       "      <th>10</th>\n",
       "      <td>26</td>\n",
       "      <td>202</td>\n",
       "      <td>190</td>\n",
       "      <td>12.0</td>\n",
       "      <td>72.0</td>\n",
       "      <td>864.0</td>\n",
       "      <td>144.0</td>\n",
       "      <td>190</td>\n",
       "      <td>12</td>\n",
       "      <td>144</td>\n",
       "      <td>5184.0</td>\n",
       "      <td>60.0</td>\n",
       "      <td>3600.0</td>\n",
       "    </tr>\n",
       "  </tbody>\n",
       "</table>\n",
       "</div>"
      ],
      "text/plain": [
       "            Population  Sales  y_ce  x_i - bar x  y_i - bar y  \\\n",
       "Restaurant                                                      \n",
       "1                    2     58    70        -12.0        -72.0   \n",
       "2                    6    105    90         -8.0        -25.0   \n",
       "3                    8     88   100         -6.0        -42.0   \n",
       "4                    8    118   100         -6.0        -12.0   \n",
       "5                   12    117   120         -2.0        -13.0   \n",
       "6                   16    137   140          2.0          7.0   \n",
       "7                   20    157   160          6.0         27.0   \n",
       "8                   20    169   160          6.0         39.0   \n",
       "9                   22    149   170          8.0         19.0   \n",
       "10                  26    202   190         12.0         72.0   \n",
       "\n",
       "            (x_i - bar x)(y_i - bar y)  (x_i - bar x)^2  hat y  y_i - hat y  \\\n",
       "Restaurant                                                                    \n",
       "1                                864.0            144.0     70          -12   \n",
       "2                                200.0             64.0     90           15   \n",
       "3                                252.0             36.0    100          -12   \n",
       "4                                 72.0             36.0    100           18   \n",
       "5                                 26.0              4.0    120           -3   \n",
       "6                                 14.0              4.0    140           -3   \n",
       "7                                162.0             36.0    160           -3   \n",
       "8                                234.0             36.0    160            9   \n",
       "9                                152.0             64.0    170          -21   \n",
       "10                               864.0            144.0    190           12   \n",
       "\n",
       "            SSE     SST  hat y - bar y     SSR  \n",
       "Restaurant                                      \n",
       "1           144  5184.0          -60.0  3600.0  \n",
       "2           225   625.0          -40.0  1600.0  \n",
       "3           144  1764.0          -30.0   900.0  \n",
       "4           324   144.0          -30.0   900.0  \n",
       "5             9   169.0          -10.0   100.0  \n",
       "6             9    49.0           10.0   100.0  \n",
       "7             9   729.0           30.0   900.0  \n",
       "8            81  1521.0           30.0   900.0  \n",
       "9           441   361.0           40.0  1600.0  \n",
       "10          144  5184.0           60.0  3600.0  "
      ]
     },
     "execution_count": 43,
     "metadata": {},
     "output_type": "execute_result"
    }
   ],
   "source": [
    "armand['hat y'] = 60 + 5 * armand['Population']\n",
    "armand['y_i - hat y'] = armand['Sales'] - armand['hat y']\n",
    "armand['SSE'] = pow(armand['y_i - hat y'], 2)\n",
    "armand['y_i - bar y'] = armand['Sales'] - armand['Sales'].mean()\n",
    "armand['SST'] = pow(armand['y_i - bar y'], 2)\n",
    "armand['hat y - bar y'] = armand['hat y'] - armand['Sales'].mean()\n",
    "armand['SSR'] = pow(armand['hat y - bar y'], 2)\n",
    "armand"
   ]
  },
  {
   "cell_type": "code",
   "execution_count": 44,
   "id": "3ee8073e",
   "metadata": {},
   "outputs": [
    {
     "data": {
      "text/plain": [
       "1530"
      ]
     },
     "execution_count": 44,
     "metadata": {},
     "output_type": "execute_result"
    }
   ],
   "source": [
    "armand['SSE'].sum()"
   ]
  },
  {
   "cell_type": "code",
   "execution_count": 45,
   "id": "5bef1be9",
   "metadata": {},
   "outputs": [
    {
     "data": {
      "text/plain": [
       "14200.0"
      ]
     },
     "execution_count": 45,
     "metadata": {},
     "output_type": "execute_result"
    }
   ],
   "source": [
    "armand['SSR'].sum()"
   ]
  },
  {
   "cell_type": "code",
   "execution_count": 46,
   "id": "ad0e3b10",
   "metadata": {},
   "outputs": [
    {
     "data": {
      "text/plain": [
       "15730.0"
      ]
     },
     "execution_count": 46,
     "metadata": {},
     "output_type": "execute_result"
    }
   ],
   "source": [
    "armand['SST'].sum()"
   ]
  },
  {
   "cell_type": "code",
   "execution_count": 47,
   "id": "bc8ef2c0",
   "metadata": {},
   "outputs": [
    {
     "data": {
      "text/plain": [
       "0.9027336300063573"
      ]
     },
     "execution_count": 47,
     "metadata": {},
     "output_type": "execute_result"
    }
   ],
   "source": [
    "r_square = armand['SSR'].sum()/armand['SST'].sum()\n",
    "r_square"
   ]
  },
  {
   "cell_type": "markdown",
   "id": "105de252",
   "metadata": {},
   "source": [
    "# 显著性检验\n",
    "\n",
    "在一个简单线性回归方程里，$y$ 的平均值或期望值是 $x$ 的一个线性函数，即 $E(y)=\\beta_0 + \\beta_1 x$。如果 $\\beta_1$ 的值是 0，$E(y)=\\beta_0 + 0x =\\beta_0$。在这种情况下，$y$ 的平均值或期望值不依赖于 $x$ 的值，因此我们的结论是两变量 $x$ 和 $y$ 之间不存在线性关系。\n",
    "\n",
    "换一种说法，如果 $\\beta_1$ 的值不等于 0，我们的结论是两变量 $x$ 和 $y$ 之间存在线性关系。于是，为了检验两变量之间是否存在一个显著的回归关系，我们必须进行一个假设检验，用来判定 $\\beta_1$ 的值是否等于0。\n",
    "\n",
    "通常使用的检验方法有两种，这两种方法都需要知道回归模型误差项 $\\varepsilon$ 的方差 $\\sigma^2$ 的估计值。\n",
    "\n",
    "## $\\sigma^2$ 的估计\n",
    "从回归模型和它的假定中，我们可以得出结论，$\\varepsilon$ 的方差 $\\sigma^2$ 也是因变量 $y$ 的值关于回归直线的方差。\n",
    "\n",
    "回想一下，我们曾经将 $y$ 的值关于估计的回归直线的离差 $y_i - \\hat{y}_i$ 称为残差。所以，残差平方和 SSE 是实际观测值关于估计的回归直线变异性的度量。我们用 SSE 除以它自己的自由度，得到均方误差（mean square error，MSE）。均方误差给出了 $\\sigma^2$ 的一个估计量。\n",
    "\n",
    "因为 $\\hat{y} = b_0 + b_1 x$，所以 SSE 可以写成：\n",
    "\n",
    "$$ SSE = \\sum{(y_i - \\hat{y}_i)^2} = \\sum{(y_i - b_0 -b_1 x_i)^2} $$\n",
    "\n",
    "回顾一下方差的计算公式：\n",
    "\n",
    "$$\\displaystyle Var=\\frac{\\sum(离差)^2}{样本数}=\\frac{\\sum(y_i-\\bar{y})^2}{n}$$\n",
    "\n",
    "由于我们估计 $y_i$ 的均值 $\\bar{y} = \\hat{y}_i$，所以我们可以用 $\\hat{y}_i$ 替换 $\\bar{y}$。\n",
    "\n",
    "总体均方误差（$\\sigma^2$ 的估计量）又称估计的方差\n",
    "\n",
    "$$s^2 = MSE = \\frac{SSE}{n-2}$$\n",
    "\n",
    "为什么这里的自由度是 $n-2$ 呢？因为我们之前计算 SSE 的时候，必须估计两个参数 $\\beta_0$ 和 $\\beta_1$，所以自由度是  $n-2$ \n",
    "\n",
    "由于我们之前已经得到 SSE = 1530，于是 $\\sigma^2$ 的一个无偏估计是：\n",
    "\n",
    "$$s^2 = MSE = \\frac{SSE}{n-2} = \\frac{1530}{10-2} = 191.25$$\n",
    "\n",
    "$$s = \\sqrt{MSE} = 13.829$$\n",
    "\n",
    "实际上，最小二乘的估计量 $b_0$ 和 $b_1$ 是一个样本统计量，有自己的抽样分布（服从正态分布），$b_1$ 抽样分布的性质如下：\n",
    "- 期望值：$E(b_1) = \\beta_1$\n",
    "- 标准差：\n",
    "$$\\sigma_{b_1} = \\frac{\\sigma}{\\sqrt{\\sum{(x_i - \\bar{x})^2}}}$$\n",
    "\n",
    "如果我们此时想对简单线性回归模型 $y = \\beta_0 + \\beta_1 x + \\varepsilon$，进行检验，如果 $x$ 和 $y$ 之间存在一个线性关系，必须有 $\\beta_1 \\ne 0$。$t$ 检验的目的是我们能否断定 $\\beta_1 \\ne 0$。因此需要利用样本来检验下面关于参数 $\\beta_1$ 的假设：\n",
    "\n",
    "\\$$H_0: \\beta_1 = 0 \\ \\ \\ \\ \\ H_{\\alpha}: \\beta_1 \\ne 0$$\n",
    "\n",
    "回顾一下，根据总体标准差估计样本标准差的方式：\n",
    "\n",
    "$$s_\\bar{X} = \\frac{总体标准差}{\\sqrt{样本数量}} = \\frac{s}{\\sqrt{n}}$$\n",
    "\n",
    "根据总体的均方误差（$\\sigma^2$ 的估计量），我们可以计算出样本回归方程 $\\hat{y} = b_0 + b_1 x$ 的 $b_1$ 标准差：\n",
    "\n",
    "$$s_{b_1} = \\frac{s}{\\sqrt{\\sum{(x_i - \\bar{x})^2}}}$$\n",
    "\n",
    ">为什么这里能把样本数量，换成 $\\sum{(x_i - \\bar{x})^2}$ 呢？我在学的时候也没有搞明白。\n",
    "\n",
    "由于我们已知 $s = 13.829$，$\\sum{(x_i - \\bar{x})^2} = 568$，则我们可以知道 $b_1$ 的估计的标准差为：\n",
    "\n",
    "$$s_{b_1} = \\frac{13.829}{\\sqrt{568}} = 0.5803$$\n",
    "\n",
    "对于两个变量之间是否存在一个显著关系的 $t$ 检验的依据是检验统计量\n",
    "\n",
    "$$t = \\frac{b_1 - \\beta_1}{s_{b_1}}$$\n",
    "\n",
    "如果零假设成立，则 $\\beta_1 = 0$，此时\n",
    "\n",
    "$$t = \\frac{b_1 - \\beta_1}{s_{b_1}} = \\frac{b_1}{s_{b_1}} = \\frac{5}{0.5803} = 8.62$$\n",
    "\n",
    "显然我们可以拒绝零假设。"
   ]
  },
  {
   "cell_type": "markdown",
   "id": "0ff560e7",
   "metadata": {},
   "source": [
    "这里计算的方差，实际上是每个样本点的 $y_i$ 值，与回归方程 $\\hat{y}_i$ 的偏差，也就是前文提到的误差项 $\\varepsilon$，误差项 $\\varepsilon$ 是一个平均值或期望值为 0 的随机变量，即 $E(\\varepsilon) = 0$。\n",
    "\n",
    "估计的标准误差 $s_y$ 是对各观测数据在回归直线周围分散程度的一个度量值，可以证明 $s_y$ 是对误差项 $\\varepsilon$ 的标准差  $\\sigma$ 的无偏估计。\n",
    "\n",
    "$$s_y = \\sqrt{\\frac{SSE}{n-2}} = \\sqrt{MSE}$$\n",
    "\n",
    "估计的标准误差 $s_y$ 反映了用估计的回归方程拟合因变量 $y$ 时平均误差的大小：\n",
    "- 观测数据越靠近回归直线，$s_y$ 就越小，回归直线对各观测数据的代表性就越好\n",
    "- 与 $r^2$ 不同，估计标准误差是一个有单位的绝对数"
   ]
  }
 ],
 "metadata": {
  "kernelspec": {
   "display_name": "Python 3 (ipykernel)",
   "language": "python",
   "name": "python3"
  },
  "language_info": {
   "codemirror_mode": {
    "name": "ipython",
    "version": 3
   },
   "file_extension": ".py",
   "mimetype": "text/x-python",
   "name": "python",
   "nbconvert_exporter": "python",
   "pygments_lexer": "ipython3",
   "version": "3.9.12"
  },
  "toc": {
   "base_numbering": 1,
   "nav_menu": {},
   "number_sections": true,
   "sideBar": true,
   "skip_h1_title": false,
   "title_cell": "Table of Contents",
   "title_sidebar": "Contents",
   "toc_cell": false,
   "toc_position": {
    "height": "calc(100% - 180px)",
    "left": "10px",
    "top": "150px",
    "width": "190px"
   },
   "toc_section_display": true,
   "toc_window_display": true
  }
 },
 "nbformat": 4,
 "nbformat_minor": 5
}
