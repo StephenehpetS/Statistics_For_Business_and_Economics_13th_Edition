{
 "cells": [
  {
   "cell_type": "code",
   "execution_count": 17,
   "id": "390d7915",
   "metadata": {},
   "outputs": [],
   "source": [
    "# 用于数值计算的库\n",
    "import numpy as np\n",
    "import pandas as pd\n",
    "import scipy as sp\n",
    "from scipy import stats\n",
    "\n",
    "# 用于绘图的库\n",
    "from matplotlib import pyplot as plt\n",
    "import seaborn as sns\n",
    "sns.set()\n",
    "\n",
    "# 用于估计统计模型的库 (部分版本会报出警告信息)\n",
    "import statsmodels.formula.api as smf\n",
    "import statsmodels.api as sm\n",
    "\n",
    "from pathlib import Path\n",
    "#设置数据文件夹路径\n",
    "DATA = Path().resolve()  / 'data'\n",
    "\n",
    "# 设置浮点数打印精度\n",
    "%precision 3\n",
    "\n",
    "# 在 Jupyter Notebook 里显示图形\n",
    "%matplotlib inline"
   ]
  },
  {
   "cell_type": "markdown",
   "id": "8b6628b6",
   "metadata": {},
   "source": [
    "# 广义线性模型的组成\n",
    "广义线性模型可用于非正态分布，所以参数估计使用最大似然法。关于似然函数的形式，我们将在介绍相关模型时详细介绍。\n",
    "\n",
    "广义线性模型由以下 3 个要素组成：\n",
    "- 总体服从的概率分布；\n",
    "- 线性预测算子；\n",
    "- 联系函数。\n",
    "\n",
    "我们可以结合数据让这些组成要素灵活变化，这个优点使得广义线性模型适用于多种数据。\n",
    "\n",
    "下面来介绍一下这些组成要素的含义以及模型选择的步骤。\n",
    "\n",
    "广义线性模型可用于正态分布、二项分布和泊松分布等多种概率分布。\n",
    "\n",
    "## 线性预测算子\n",
    "\n",
    "线性预测算子是线性关系式表示的解释变量。设解释变量为气温，响应变量为啤酒销售额，则根据解释变量预测响应变量的数学式如下：\n",
    "\n",
    "$$\\beta_0 + \\beta_1 \\times \\text{气温}$$\n",
    "\n",
    "## 联系函数\n",
    "\n",
    "联系函数用于将响应变量和线性预测算子关联在一起，可以应用于响应变量。下面考察啤酒的销量。一种比较简单的形式是：\n",
    "\n",
    "$$\\text{啤酒销量} = \\beta_0 + \\beta_1 \\times \\text{气温}$$\n",
    "\n",
    "式子的值是有可能小于 0 的，但销量不应该小于 0。在解决这个问题时，就要用到联系函数。\n",
    "\n",
    "当以个数等计数型变量为对象时，联系函数多采用对数。现将联系函数应用于响应变量：\n",
    "\n",
    "$$ln \\text{啤酒销量} = \\beta_0 + \\beta_1 \\times \\text{气温}$$\n",
    "\n",
    "两边取指数，得到：\n",
    "\n",
    "$$\\text{啤酒销量} = exp\\left[\\beta_0 + \\beta_1 \\times \\text{气温}\\right]$$\n",
    "\n",
    "指数函数的函数值不可能小于 0，所以通过式子得到的预测结果也不可能小于 0。\n",
    "\n",
    "对响应变量应用了联系函数后，就可以预测计数型数据、范围为 $\\left[0, 1\\right]$ 的成功概率等类型的对象了。\n",
    "\n",
    "## 联系函数与概率分布的关系\n",
    "\n",
    "概率分布与联系函数的常用组合如下：\n",
    "\n",
    "| 概率分布 | 联系函数 | 模型         |\n",
    "| ------- | ------- | ----------- |\n",
    "| 正态分布 | 恒等函数 | 正态线性模型 |\n",
    "| 二项分布 | log 函数 | 逻辑回归     |\n",
    "| 泊松分布 | 对数函数 | 柏松回归     |\n",
    "\n"
   ]
  },
  {
   "cell_type": "markdown",
   "id": "cf1219a5",
   "metadata": {},
   "source": [
    "# [逻辑回归](https://www.pythonfordatascience.org/logistic-regression-python/)\n",
    "\n",
    "代码参考《用Python动手学统计学》\n",
    "\n",
    "概率分布为二项分布、联系函数为 logit 函数的广义线性模型叫作 logistic 回归。解释变量可以有多个，连续型和分类型的解释变量也可以同时存在。\n",
    "\n",
    "分析学习时间与考试合格情况的关系。构造不同学习时间的考试合格情况的数学模型，其线性预测算子如下：\n",
    "\n",
    "$$\\beta_0 + \\beta_1 \\times \\text{学习时间}$$\n",
    "\n",
    "响应变量为二值变量，合格为 1，不合格为 0。此时，使用下面的数学式预测显然是不正确的：\n",
    "\n",
    "$$\\text{考试合格情况}:\\left(0, 1\\right) = \\beta_0 + \\beta_1 \\times \\text{学习时间}$$\n",
    "\n",
    "logit 函数的数学式如下，对数的底为 e：\n",
    "\n",
    "$$f(x) = ln(\\frac{x}{1-x})$$\n",
    "\n",
    "logistic 函数（逻辑函数）是 logit 函数的反函数。\n",
    "\n",
    "$$g(y) = \\frac{1}{1+exp(-y)}$$\n",
    "\n",
    "logistic 函数的值永远大于 0 且小于 1。\n",
    "\n",
    "- $y \\rightarrow +\\infty$ 时，$g(y) \\rightarrow 1$\n",
    "- $y \\rightarrow -\\infty$ 时，$g(y) \\rightarrow 0$\n",
    "\n",
    "logistic 回归的概率分布为二项分布，联系函数为 logit 函数。设成功概率（本例为考试合格率）为 $p$，联系函数为 logit 函数，则考试合格率与学习时间的关系如下：\n",
    "\n",
    "$$ln(\\frac{p}{1-p}) = \\beta_0 + \\beta_1 \\times \\text{学习时间}$$\n",
    "\n",
    "将两边转化为 logistic 函数，得到：\n",
    "\n",
    "$$p = \\frac{1}{1+exp\\left[-(\\beta_0 + \\beta_1 \\times \\text{学习时间})\\right]}$$\n",
    "\n",
    "这就是用于预测合格率的数学式。\n",
    "\n",
    "## 实例\n",
    "\n",
    "假设我们得到了一份相关数据，需要分析学习时间是否影响考试合格率。\n",
    "\n",
    "有 10 个人的学习时间各为 5 小时，则合格人数 $M$ 应当服从成功概率为用于预测合格率的数学式、试验次数为 10 的二项分布。\n",
    "\n",
    "合格人数：\n",
    "\n",
    "$$M \\sim Bin\\left\\{m \\mid 10, \\frac{1}{1+\\exp \\left[-\\left(\\beta_{0}+\\beta_{1} \\times 5\\right)\\right]}\\right\\}$$\n",
    "\n",
    "二项分布的概率质量函数如下\n",
    "\n",
    "$$Bin (m \\mid N, p)={ }_{N} \\mathrm{C}_{N}^{m} \\cdot p^{m} \\cdot(1-p)^{N-m}$$\n",
    "\n",
    "logistic 回归的样本服从上式所示的概率分布。\n",
    "\n",
    "广义线性模型使用最大似然法进行参数估计。\n",
    "\n",
    "### 似然是什么？\n",
    "\n",
    "当参数为某值时抽到特定样本的概率（密度）叫作似然。似然的英文是 Likelihood，常用首字母 $\\mathcal{L}$ 表示。\n",
    "\n",
    "以投掷两次硬币的结果作为样本，其中第一次为正面，第二次为反面。\n",
    "\n",
    "- 假设投出正面的概率为 1/2，则 1/2 为参数，上述样本的概率，即似然，就是 1/2× 1/2 = 1/4。\n",
    "- 假设投出正面的概率为 1/3，则 1/3 为参数，上述样本的概率，即似然，就是 1/3× 2/3 = 2/9。\n",
    "\n",
    "设数据如下：\n",
    "- 9 人的学习时间各为 3 小时，其中 4 人考试合格；\n",
    "- 8 人的学习时间各为 5 小时，其中 6 人考试合格；\n",
    "- 1 人的学习时间为 8 小时，此人考试合格。\n",
    "\n",
    "$$\\begin{aligned}\n",
    "\\mathcal{L}\\left(\\beta_{0}, \\beta_{1} ; N, m\\right)&= \\operatorname{Bin}\\left\\{4 \\mid 9, \\frac{1}{1+\\exp \\left[-\\left(\\beta_{0}+\\beta_{1} \\times 3\\right)\\right]}\\right\\} \\\\\n",
    "& \\times \\operatorname{Bin}\\left\\{6 \\mid 8, \\frac{1}{1+\\exp \\left[-\\left(\\beta_{0}+\\beta_{1} \\times 5\\right)\\right]}\\right\\} \\\\\n",
    "& \\times \\operatorname{Bin}\\left\\{1 \\mid 1, \\frac{1}{1+\\exp \\left[-\\left(\\beta_{0}+\\beta_{1} \\times 8\\right)\\right]}\\right\\}\n",
    "\\end{aligned}$$"
   ]
  },
  {
   "cell_type": "markdown",
   "id": "bba547ab",
   "metadata": {},
   "source": [
    "以横轴为学习时间（hours）、纵轴为合格率（result），绘制出学习时间与合格率关系的条形图。\n",
    "\n",
    "在条形图中，纵轴的值为均值。合格为 1，不合格为 0，因此均值可看作合格率"
   ]
  },
  {
   "cell_type": "code",
   "execution_count": 19,
   "id": "66e28c42",
   "metadata": {},
   "outputs": [
    {
     "data": {
      "text/plain": [
       "<AxesSubplot:xlabel='hours', ylabel='result'>"
      ]
     },
     "execution_count": 19,
     "metadata": {},
     "output_type": "execute_result"
    },
    {
     "data": {
      "image/png": "[encoded data removed]",
      "text/plain": [
       "<Figure size 432x288 with 1 Axes>"
      ]
     },
     "metadata": {
      "needs_background": "light"
     },
     "output_type": "display_data"
    }
   ],
   "source": [
    "# 读取数据\n",
    "test_result = pd.read_csv(DATA/\"logistic-regression.csv\")\n",
    "# 可视化\n",
    "sns.barplot(x = \"hours\", y = \"result\", data = test_result)"
   ]
  },
  {
   "cell_type": "code",
   "execution_count": 12,
   "id": "aa3af7eb",
   "metadata": {},
   "outputs": [
    {
     "data": {
      "text/html": [
       "<div>\n",
       "<style scoped>\n",
       "    .dataframe tbody tr th:only-of-type {\n",
       "        vertical-align: middle;\n",
       "    }\n",
       "\n",
       "    .dataframe tbody tr th {\n",
       "        vertical-align: top;\n",
       "    }\n",
       "\n",
       "    .dataframe thead th {\n",
       "        text-align: right;\n",
       "    }\n",
       "</style>\n",
       "<table border=\"1\" class=\"dataframe\">\n",
       "  <thead>\n",
       "    <tr style=\"text-align: right;\">\n",
       "      <th></th>\n",
       "      <th>result</th>\n",
       "    </tr>\n",
       "    <tr>\n",
       "      <th>hours</th>\n",
       "      <th></th>\n",
       "    </tr>\n",
       "  </thead>\n",
       "  <tbody>\n",
       "    <tr>\n",
       "      <th>0</th>\n",
       "      <td>0.00000</td>\n",
       "    </tr>\n",
       "    <tr>\n",
       "      <th>1</th>\n",
       "      <td>0.00000</td>\n",
       "    </tr>\n",
       "    <tr>\n",
       "      <th>2</th>\n",
       "      <td>0.10000</td>\n",
       "    </tr>\n",
       "    <tr>\n",
       "      <th>3</th>\n",
       "      <td>0.10000</td>\n",
       "    </tr>\n",
       "    <tr>\n",
       "      <th>4</th>\n",
       "      <td>0.40000</td>\n",
       "    </tr>\n",
       "    <tr>\n",
       "      <th>5</th>\n",
       "      <td>0.40000</td>\n",
       "    </tr>\n",
       "    <tr>\n",
       "      <th>6</th>\n",
       "      <td>0.90000</td>\n",
       "    </tr>\n",
       "    <tr>\n",
       "      <th>7</th>\n",
       "      <td>0.80000</td>\n",
       "    </tr>\n",
       "    <tr>\n",
       "      <th>8</th>\n",
       "      <td>0.90000</td>\n",
       "    </tr>\n",
       "    <tr>\n",
       "      <th>9</th>\n",
       "      <td>1.00000</td>\n",
       "    </tr>\n",
       "  </tbody>\n",
       "</table>\n",
       "</div>"
      ],
      "text/plain": [
       "       result\n",
       "hours        \n",
       "0     0.00000\n",
       "1     0.00000\n",
       "2     0.10000\n",
       "3     0.10000\n",
       "4     0.40000\n",
       "5     0.40000\n",
       "6     0.90000\n",
       "7     0.80000\n",
       "8     0.90000\n",
       "9     1.00000"
      ]
     },
     "execution_count": 12,
     "metadata": {},
     "output_type": "execute_result"
    }
   ],
   "source": [
    "# 学习时间与合格率的关系\n",
    "test_result.groupby(\"hours\").mean()"
   ]
  },
  {
   "cell_type": "markdown",
   "id": "21cbe236",
   "metadata": {},
   "source": [
    "学习时间不大于 1 小时的人全部不合格，学习时间为 9 小时的人全部合格。"
   ]
  },
  {
   "cell_type": "markdown",
   "id": "22d8d855",
   "metadata": {},
   "source": [
    "## 实现 logistic 回归"
   ]
  },
  {
   "cell_type": "code",
   "execution_count": 22,
   "id": "cd85765c",
   "metadata": {},
   "outputs": [],
   "source": [
    "# 建模\n",
    "mod_glm = smf.glm(formula = \"result ~ hours\", data = test_result, family=sm.families.Binomial()).fit()"
   ]
  },
  {
   "cell_type": "markdown",
   "id": "7414eae2",
   "metadata": {},
   "source": [
    "在估计广义线性模型时，不管是不是 logistic 回归模型，都需要使用 smf.glm 函数。下面介绍它的参数。\n",
    "\n",
    "- 第 1 个参数 formula 与估计正态线性模型时所用的一样。参数值为 \"result ~hours\"，响应变量为 result，解释变量为 hours。当存在多个解释变量时，使用加号（+）连接。\n",
    "- 第 2 个参数是对象数据，格式为 pandas 的数据帧。\n",
    "- 第 3 个参数是概率分布。sm.families.Binomial() 为二项分布，sm.families.Poisson() 为泊松分布。\n",
    "\n",
    "这里没有指定联系函数。当概率分布为二项分布时，联系函数默认为 logit 函数。不同的概率分布默认的联系函数也不同。泊松分布默认的联系函数为对数函数。"
   ]
  },
  {
   "cell_type": "code",
   "execution_count": 21,
   "id": "6d15709e",
   "metadata": {},
   "outputs": [
    {
     "data": {
      "text/html": [
       "<table class=\"simpletable\">\n",
       "<caption>Generalized Linear Model Regression Results</caption>\n",
       "<tr>\n",
       "  <th>Dep. Variable:</th>        <td>result</td>      <th>  No. Observations:  </th>  <td>   100</td> \n",
       "</tr>\n",
       "<tr>\n",
       "  <th>Model:</th>                  <td>GLM</td>       <th>  Df Residuals:      </th>  <td>    98</td> \n",
       "</tr>\n",
       "<tr>\n",
       "  <th>Model Family:</th>        <td>Binomial</td>     <th>  Df Model:          </th>  <td>     1</td> \n",
       "</tr>\n",
       "<tr>\n",
       "  <th>Link Function:</th>         <td>Logit</td>      <th>  Scale:             </th> <td>  1.0000</td>\n",
       "</tr>\n",
       "<tr>\n",
       "  <th>Method:</th>                <td>IRLS</td>       <th>  Log-Likelihood:    </th> <td> -34.014</td>\n",
       "</tr>\n",
       "<tr>\n",
       "  <th>Date:</th>            <td>Fri, 29 Apr 2022</td> <th>  Deviance:          </th> <td>  68.028</td>\n",
       "</tr>\n",
       "<tr>\n",
       "  <th>Time:</th>                <td>20:26:07</td>     <th>  Pearson chi2:      </th>  <td>  84.9</td> \n",
       "</tr>\n",
       "<tr>\n",
       "  <th>No. Iterations:</th>          <td>6</td>        <th>  Pseudo R-squ. (CS):</th>  <td>0.5032</td> \n",
       "</tr>\n",
       "<tr>\n",
       "  <th>Covariance Type:</th>     <td>nonrobust</td>    <th>                     </th>     <td> </td>   \n",
       "</tr>\n",
       "</table>\n",
       "<table class=\"simpletable\">\n",
       "<tr>\n",
       "      <td></td>         <th>coef</th>     <th>std err</th>      <th>z</th>      <th>P>|z|</th>  <th>[0.025</th>    <th>0.975]</th>  \n",
       "</tr>\n",
       "<tr>\n",
       "  <th>Intercept</th> <td>   -4.5587</td> <td>    0.901</td> <td>   -5.061</td> <td> 0.000</td> <td>   -6.324</td> <td>   -2.793</td>\n",
       "</tr>\n",
       "<tr>\n",
       "  <th>hours</th>     <td>    0.9289</td> <td>    0.174</td> <td>    5.345</td> <td> 0.000</td> <td>    0.588</td> <td>    1.270</td>\n",
       "</tr>\n",
       "</table>"
      ],
      "text/plain": [
       "<class 'statsmodels.iolib.summary.Summary'>\n",
       "\"\"\"\n",
       "                 Generalized Linear Model Regression Results                  \n",
       "==============================================================================\n",
       "Dep. Variable:                 result   No. Observations:                  100\n",
       "Model:                            GLM   Df Residuals:                       98\n",
       "Model Family:                Binomial   Df Model:                            1\n",
       "Link Function:                  Logit   Scale:                          1.0000\n",
       "Method:                          IRLS   Log-Likelihood:                -34.014\n",
       "Date:                Fri, 29 Apr 2022   Deviance:                       68.028\n",
       "Time:                        20:26:07   Pearson chi2:                     84.9\n",
       "No. Iterations:                     6   Pseudo R-squ. (CS):             0.5032\n",
       "Covariance Type:            nonrobust                                         \n",
       "==============================================================================\n",
       "                 coef    std err          z      P>|z|      [0.025      0.975]\n",
       "------------------------------------------------------------------------------\n",
       "Intercept     -4.5587      0.901     -5.061      0.000      -6.324      -2.793\n",
       "hours          0.9289      0.174      5.345      0.000       0.588       1.270\n",
       "==============================================================================\n",
       "\"\"\""
      ]
     },
     "execution_count": 21,
     "metadata": {},
     "output_type": "execute_result"
    }
   ],
   "source": [
    "# 打印估计的结果\n",
    "mod_glm.summary()"
   ]
  },
  {
   "cell_type": "markdown",
   "id": "bd2cb4b4",
   "metadata": {},
   "source": [
    "有一部分结果与正态线性模型不同，下面补充说明一下。\n",
    "- Method 中的 IRLS 为迭代加权最小二乘法的英文 Iterative Reweighted LeastSquares 的缩写。\n",
    "- 算法中的迭代次数为 No.Iterations。\n",
    "- Deviance 与 Pearson chi2 也是初次出现，它们是表示模型拟合程度的指标，\n",
    "\n",
    "我们将在之后介绍。Wald 检验取代了 $t$ 检验，但对于系数的解读，则与正态线性模型一致。学习时间的系数为正数。"
   ]
  },
  {
   "cell_type": "code",
   "execution_count": 23,
   "id": "bdd1527b",
   "metadata": {},
   "outputs": [],
   "source": [
    "# 空模型\n",
    "mod_glm_null = smf.glm(\"result ~ 1\", data = test_result, family=sm.families.Binomial()).fit()"
   ]
  },
  {
   "cell_type": "code",
   "execution_count": 24,
   "id": "1efe7af6",
   "metadata": {},
   "outputs": [
    {
     "name": "stdout",
     "output_type": "stream",
     "text": [
      "空模型　　　： 139.989\n",
      "学习时间模型： 72.028\n"
     ]
    }
   ],
   "source": [
    "# 对比 AIC\n",
    "print(\"空模型　　　：\", mod_glm_null.aic.round(3))\n",
    "print(\"学习时间模型：\", mod_glm.aic.round(3))"
   ]
  },
  {
   "cell_type": "markdown",
   "id": "883f0e51",
   "metadata": {},
   "source": [
    "包含解释变量的模型的 AIC 更小，说明在预测合格率时需要学习时间这个解释变量。学习时间的系数为正数，说明学习时间越长，合格率越高。\n",
    "\n",
    "## 回归曲线\n",
    "\n",
    "以横轴为学习时间、纵轴为合格情况（二值变量）绘制出散点图，并在其上绘制出由 logistic 回归所得的理论合格率。\n",
    "\n",
    "设置函数 seaborn.lmplot 的参数logistic = True，即可绘制出指定图形"
   ]
  },
  {
   "cell_type": "code",
   "execution_count": 25,
   "id": "8d448e55",
   "metadata": {},
   "outputs": [
    {
     "data": {
      "text/plain": [
       "<seaborn.axisgrid.FacetGrid at 0x1269f68b0>"
      ]
     },
     "execution_count": 25,
     "metadata": {},
     "output_type": "execute_result"
    },
    {
     "data": {
      "image/png": "[encoded data removed]",
      "text/plain": [
       "<Figure size 360x360 with 1 Axes>"
      ]
     },
     "metadata": {
      "needs_background": "light"
     },
     "output_type": "display_data"
    }
   ],
   "source": [
    "# 用 lmplot 绘制 logistic 回归曲线\n",
    "sns.lmplot(x = \"hours\", y = \"result\",\n",
    "           data = test_result, \n",
    "           logistic = True,\n",
    "           scatter_kws = {\"color\": \"blue\"},\n",
    "           line_kws    = {\"color\": \"red\"},\n",
    "           x_jitter = 0.1, y_jitter = 0.02)"
   ]
  },
  {
   "cell_type": "markdown",
   "id": "ef931627",
   "metadata": {},
   "source": [
    "合格情况的数据全是 0 或 1，在图形上会重合，因而这里指定了 x_jitter 与y_jitter，以让散点图的数据在图形上稍微分散一些。"
   ]
  },
  {
   "cell_type": "markdown",
   "id": "50e68166",
   "metadata": {},
   "source": [
    "## 预测成功概率\n",
    "\n",
    "我们还可以预测合格率的值，方法和正态线性模型类似。"
   ]
  },
  {
   "cell_type": "code",
   "execution_count": 26,
   "id": "4a280dd7",
   "metadata": {},
   "outputs": [
    {
     "data": {
      "text/plain": [
       "0   0.01037\n",
       "1   0.02584\n",
       "2   0.06292\n",
       "3   0.14529\n",
       "4   0.30088\n",
       "5   0.52143\n",
       "6   0.73393\n",
       "7   0.87474\n",
       "8   0.94647\n",
       "9   0.97815\n",
       "dtype: float64"
      ]
     },
     "execution_count": 26,
     "metadata": {},
     "output_type": "execute_result"
    }
   ],
   "source": [
    "# 0~9 上公差为 1 的等差数列\n",
    "exp_val = pd.DataFrame({\"hours\": np.arange(0, 10, 1)})\n",
    "# 成功概率的预测值\n",
    "pred = mod_glm.predict(exp_val)\n",
    "pred"
   ]
  },
  {
   "cell_type": "markdown",
   "id": "3ac02eb7",
   "metadata": {},
   "source": [
    "不学习的合格率只有 1%，学习 9 小时的合格率为 98%。要得到要么为 0 要么为1 的值，只需对小数点后一位四舍五入，数值只要不小于 0.5 就是合格。\n",
    "\n",
    "## logistic 回归的系数与优势比的关系\n",
    "\n",
    "解读 logistic 回归模型中估计的参数，还需要掌握一个术语。成功概率与失败概率的比值叫作优势，它表示是否容易成功，其数学式如下：\n",
    "\n",
    "$$\\text{优势} = \\frac{p}{1-p}$$\n",
    "\n",
    "其中，$p$ 为成功概率。当 $p=0.5$ 时，优势为 1，表示成功和失败的容易度相当；当 $p=0.75$ 时，优势为 3，表示成功比失败容易 3 倍。\n",
    "\n",
    "优势的对数叫作对数优势，logit 函数也可以看作将成功概率转换为对数优势的函数。优势的比值叫作优势比。优势比的对数叫作对数优势比。\n",
    "\n",
    "当联系函数为 logit 函数时，logistic 回归的系数与优势密切相关。具体来说，解释变量改变一个单位时的对数优势比就是回归系数。\n",
    "\n",
    "下面用程序验证一下。分别求学习时间为 1 小时和 2 小时的合格率。"
   ]
  },
  {
   "cell_type": "code",
   "execution_count": 27,
   "id": "482e01cb",
   "metadata": {},
   "outputs": [],
   "source": [
    "# 学习时间为 1 小时的合格率\n",
    "exp_val_1 = pd.DataFrame({\"hours\": [1]})\n",
    "pred_1 = mod_glm.predict(exp_val_1)\n",
    "\n",
    "# 学习时间为 2 小时的合格率\n",
    "exp_val_2 = pd.DataFrame({\"hours\": [2]})\n",
    "pred_2 = mod_glm.predict(exp_val_2)"
   ]
  },
  {
   "cell_type": "code",
   "execution_count": null,
   "id": "a41d4cc7",
   "metadata": {},
   "outputs": [],
   "source": [
    "# 优势\n",
    "odds_1 = pred_1 / (1 - pred_1)\n",
    "odds_2 = pred_2 / (1 - pred_2)\n",
    "\n",
    "# 对数优势比\n",
    "np.log(odds_2 / odds_1)"
   ]
  },
  {
   "cell_type": "code",
   "execution_count": 30,
   "id": "d177e96e",
   "metadata": {},
   "outputs": [
    {
     "data": {
      "text/plain": [
       "0.929"
      ]
     },
     "execution_count": 30,
     "metadata": {},
     "output_type": "execute_result"
    }
   ],
   "source": [
    "# 计算学习时间的系数，可知它恰好是对数优势比。\n",
    "mod_glm.params[\"hours\"]"
   ]
  },
  {
   "cell_type": "code",
   "execution_count": 31,
   "id": "e1a6622a",
   "metadata": {},
   "outputs": [
    {
     "data": {
      "text/plain": [
       "2.532"
      ]
     },
     "execution_count": 31,
     "metadata": {},
     "output_type": "execute_result"
    }
   ],
   "source": [
    "# 当系数为 e 的指数时，其结果就是优势比。\n",
    "np.exp(mod_glm.params[\"hours\"])"
   ]
  },
  {
   "cell_type": "markdown",
   "id": "d2b42397",
   "metadata": {},
   "source": [
    "系数的含义就是解释变量每增加一个单位时优势的变化倍数。"
   ]
  },
  {
   "cell_type": "markdown",
   "id": "f6c8d8f6",
   "metadata": {},
   "source": [
    "# 广义线性模型的评估\n",
    "\n",
    "在介绍正态线性模型时，我们提到了在评估模型时必须计算残差。但是，当总体不服从正态分布时，残差的处理方法会有很大的不同。\n",
    "\n",
    "本节将介绍广义线性模型的残差处理方法。残差是表现数据与模型不契合的程度的重要指标。本节还将介绍如何对待模型造成的损失。\n",
    "\n",
    "由于逻辑回归属于非参数检验，因此检查假设检验前提的方法和其他参数检验的检查方法不同。\n",
    "\n",
    "在线性回归中，我们可以通过计算目标函数和观测值距离来计算残差，但是逻辑回归等非线性回归方法不能直接计算距离。\n",
    "\n",
    "为什么不能直接计算距离呢？因为因变量的取值是定类变量（二值的定类变量就是 0/1），定类变量是不能直接进行计算的。\n",
    "\n",
    "而且，由于数据不服从正态分布，因此我们不知道数据统计量（如残差）的分布情况，这种时候，我们需要借助其他分析方法：\n",
    "\n",
    "- 皮尔逊残差\n",
    "- 学生化皮尔逊残差\n",
    "- 偏差残差\n",
    "\n",
    "## 皮尔逊残差\n",
    "\n",
    "二项分布的皮尔逊残差的计算式如下：\n",
    "\n",
    "$$Pearsion\\ residuals=\\frac{y-N \\hat{p}}{\\sqrt{N \\hat{p}(1-\\hat{p})}}$$\n",
    "\n",
    "$y$ 为响应变量（二值随机变量，即考试合格情况），$N$ 为试验次数，$\\hat{p}$ 为估计的成功概率（由 `mod_glm.predict()` 得到的预测值）。对于每个预测结果，试验次数都是 1，所以皮尔逊残差如下：\n",
    "\n",
    "$$Pearsion\\ residuals=\\frac{y- \\hat{p}}{\\sqrt{\\hat{p}(1-\\hat{p})}}$$\n",
    "\n",
    "皮尔逊残差的分母中的 $N \\hat{p}(1-\\hat{p})$ 就是二项分布的方差，它的平方根就是二项分布的标准差。\n",
    "\n",
    "在介绍正态线性模型时，我们把响应变量与通过 predict() 函数求得的预测值的差作为残差，即 $y-\\hat{p}$。残差除以分布的标准差，得到的就是皮尔逊残差。\n",
    "\n",
    "假设 $N$ 不变，那么当 $p=0.5$ 时，二项分布的方差 $N \\hat{p}(1-\\hat{p})$ 最大。当合格与不合格各占一半时，数据非常分散，此时预测值与实际值之间的差距看起来反而更小（易于接受）。\n",
    "\n",
    "当 $p=0.9$ 时，预测的结果是基本合格，方差较小，此时预测值与实际值之间的差距看起来反而更大（难以接受）。这就是皮尔逊残差的含义。"
   ]
  },
  {
   "cell_type": "code",
   "execution_count": 37,
   "id": "06f276c6",
   "metadata": {},
   "outputs": [
    {
     "data": {
      "text/plain": [
       "0   -0.10235\n",
       "1   -0.10235\n",
       "2   -0.10235\n",
       "Name: result, dtype: float64"
      ]
     },
     "execution_count": 37,
     "metadata": {},
     "output_type": "execute_result"
    }
   ],
   "source": [
    "# 计算皮尔逊残差\n",
    "\n",
    "# 预测的成功概率\n",
    "pred = mod_glm.predict()\n",
    "# 响应变量 (合格情况)\n",
    "y = test_result.result\n",
    "\n",
    "# 皮尔逊残差\n",
    "peason_resid = (y - pred) / np.sqrt(pred * (1 - pred))\n",
    "peason_resid.head(3)"
   ]
  },
  {
   "cell_type": "code",
   "execution_count": 38,
   "id": "6e8f56a2",
   "metadata": {},
   "outputs": [
    {
     "data": {
      "text/plain": [
       "0   -0.10235\n",
       "1   -0.10235\n",
       "2   -0.10235\n",
       "dtype: float64"
      ]
     },
     "execution_count": 38,
     "metadata": {},
     "output_type": "execute_result"
    }
   ],
   "source": [
    "# 获取皮尔逊残差\n",
    "mod_glm.resid_pearson.head(3)"
   ]
  },
  {
   "cell_type": "code",
   "execution_count": 39,
   "id": "89ffc617",
   "metadata": {},
   "outputs": [
    {
     "data": {
      "text/plain": [
       "84.911"
      ]
     },
     "execution_count": 39,
     "metadata": {},
     "output_type": "execute_result"
    }
   ],
   "source": [
    "# 皮尔逊残差的平方和\n",
    "np.sum(mod_glm.resid_pearson**2)"
   ]
  },
  {
   "cell_type": "code",
   "execution_count": 40,
   "id": "1bd1f4e0",
   "metadata": {},
   "outputs": [
    {
     "data": {
      "text/plain": [
       "84.911"
      ]
     },
     "execution_count": 40,
     "metadata": {},
     "output_type": "execute_result"
    }
   ],
   "source": [
    "# 同样出现在 summary 函数的结果中\n",
    "mod_glm.pearson_chi2"
   ]
  },
  {
   "cell_type": "markdown",
   "id": "c4607e1f",
   "metadata": {},
   "source": [
    "## 偏差残差\n",
    "\n",
    "二项分布的偏差残差的平方和就是模型偏差。公式比较复杂，这里不再介绍，下面用 Python 代为计算。"
   ]
  },
  {
   "cell_type": "code",
   "execution_count": 43,
   "id": "e33f98c9",
   "metadata": {},
   "outputs": [
    {
     "data": {
      "text/plain": [
       "0   -0.14437\n",
       "1   -0.14437\n",
       "2   -0.14437\n",
       "Name: result, dtype: float64"
      ]
     },
     "execution_count": 43,
     "metadata": {},
     "output_type": "execute_result"
    }
   ],
   "source": [
    "# 计算偏差残差\n",
    "\n",
    "# 预测的成功概率\n",
    "pred = mod_glm.predict()\n",
    "# 响应变量 (合格情况)\n",
    "y = test_result.result\n",
    "\n",
    "# 与完美预测了合格情况时的对数似然度的差值\n",
    "resid_tmp = 0 - np.log(\n",
    "    sp.stats.binom.pmf(k = y, n = 1, p = pred))\n",
    "# 偏差残差\n",
    "deviance_resid = np.sqrt(\n",
    "    2 * resid_tmp\n",
    ") * np.sign(y - pred)\n",
    "# 打印结果\n",
    "deviance_resid.head(3)"
   ]
  },
  {
   "cell_type": "markdown",
   "id": "e6a75d68",
   "metadata": {},
   "source": [
    "与完美预测了合格情况时的对数似然的差值就是模型偏差。当成功概率为 100%时，合格的概率为 1；当成功概率为 0% 时，失败的概率为 1。因此，完美预测了合格情况时的对数似然就是 ln(1)，它的值为 0，于是会先计算出 resid_tmp。resid_tmp 的 2 倍的平方根就是偏差残差，它的平方和就是模型偏差。resid_tmp 在定义上为正数，所以 deviance_resid 多了 1 个因数。np.sign函数用于获取参数的正负号，y - pred 大于 0 就返回 1，小于 0 就返回 -1，其余为 0。\n",
    "\n",
    "我们也可以从模型中直接获取偏差残差。"
   ]
  },
  {
   "cell_type": "code",
   "execution_count": 44,
   "id": "d7566de6",
   "metadata": {},
   "outputs": [
    {
     "data": {
      "text/plain": [
       "0   -0.14437\n",
       "1   -0.14437\n",
       "2   -0.14437\n",
       "3   -0.14437\n",
       "4   -0.14437\n",
       "dtype: float64"
      ]
     },
     "execution_count": 44,
     "metadata": {},
     "output_type": "execute_result"
    }
   ],
   "source": [
    "mod_glm.resid_deviance.head()"
   ]
  },
  {
   "cell_type": "code",
   "execution_count": 45,
   "id": "968c15da",
   "metadata": {},
   "outputs": [
    {
     "data": {
      "text/plain": [
       "68.028"
      ]
     },
     "execution_count": 45,
     "metadata": {},
     "output_type": "execute_result"
    }
   ],
   "source": [
    "# deviance\n",
    "np.sum(mod_glm.resid_deviance ** 2)"
   ]
  },
  {
   "cell_type": "markdown",
   "id": "1afb6782",
   "metadata": {},
   "source": [
    "下面的代码[参考](https://www.pythonfordatascience.org/logistic-regression-python/)"
   ]
  },
  {
   "cell_type": "code",
   "execution_count": 46,
   "id": "de6d48e0",
   "metadata": {},
   "outputs": [
    {
     "name": "stdout",
     "output_type": "stream",
     "text": [
      "<class 'pandas.core.frame.DataFrame'>\n",
      "Int64Index: 400 entries, 0 to 399\n",
      "Data columns (total 4 columns):\n",
      " #   Column  Non-Null Count  Dtype  \n",
      "---  ------  --------------  -----  \n",
      " 0   admit   400 non-null    float32\n",
      " 1   gre     400 non-null    float32\n",
      " 2   gpa     400 non-null    float32\n",
      " 3   rank    400 non-null    float32\n",
      "dtypes: float32(4)\n",
      "memory usage: 9.4 KB\n"
     ]
    }
   ],
   "source": [
    "#df = pd.read_stata(\"https://stats.idre.ucla.edu//stat//stata//dae//binary.dta\")\n",
    "df = pd.read_stata(DATA / 'binary.dta')\n",
    "df.info()"
   ]
  },
  {
   "cell_type": "code",
   "execution_count": 47,
   "id": "e596c6ad",
   "metadata": {},
   "outputs": [
    {
     "data": {
      "text/html": [
       "<div>\n",
       "<style scoped>\n",
       "    .dataframe tbody tr th:only-of-type {\n",
       "        vertical-align: middle;\n",
       "    }\n",
       "\n",
       "    .dataframe tbody tr th {\n",
       "        vertical-align: top;\n",
       "    }\n",
       "\n",
       "    .dataframe thead th {\n",
       "        text-align: right;\n",
       "    }\n",
       "</style>\n",
       "<table border=\"1\" class=\"dataframe\">\n",
       "  <thead>\n",
       "    <tr style=\"text-align: right;\">\n",
       "      <th></th>\n",
       "      <th>admit</th>\n",
       "      <th>gre</th>\n",
       "      <th>gpa</th>\n",
       "      <th>rank</th>\n",
       "    </tr>\n",
       "  </thead>\n",
       "  <tbody>\n",
       "    <tr>\n",
       "      <th>0</th>\n",
       "      <td>0.00000</td>\n",
       "      <td>380.00000</td>\n",
       "      <td>3.61000</td>\n",
       "      <td>3.00000</td>\n",
       "    </tr>\n",
       "    <tr>\n",
       "      <th>1</th>\n",
       "      <td>1.00000</td>\n",
       "      <td>660.00000</td>\n",
       "      <td>3.67000</td>\n",
       "      <td>3.00000</td>\n",
       "    </tr>\n",
       "    <tr>\n",
       "      <th>2</th>\n",
       "      <td>1.00000</td>\n",
       "      <td>800.00000</td>\n",
       "      <td>4.00000</td>\n",
       "      <td>1.00000</td>\n",
       "    </tr>\n",
       "    <tr>\n",
       "      <th>3</th>\n",
       "      <td>1.00000</td>\n",
       "      <td>640.00000</td>\n",
       "      <td>3.19000</td>\n",
       "      <td>4.00000</td>\n",
       "    </tr>\n",
       "    <tr>\n",
       "      <th>4</th>\n",
       "      <td>0.00000</td>\n",
       "      <td>520.00000</td>\n",
       "      <td>2.93000</td>\n",
       "      <td>4.00000</td>\n",
       "    </tr>\n",
       "  </tbody>\n",
       "</table>\n",
       "</div>"
      ],
      "text/plain": [
       "    admit       gre     gpa    rank\n",
       "0 0.00000 380.00000 3.61000 3.00000\n",
       "1 1.00000 660.00000 3.67000 3.00000\n",
       "2 1.00000 800.00000 4.00000 1.00000\n",
       "3 1.00000 640.00000 3.19000 4.00000\n",
       "4 0.00000 520.00000 2.93000 4.00000"
      ]
     },
     "execution_count": 47,
     "metadata": {},
     "output_type": "execute_result"
    }
   ],
   "source": [
    "df.head()"
   ]
  },
  {
   "cell_type": "markdown",
   "id": "ac0d2cd5",
   "metadata": {},
   "source": [
    "我们可以看到，数据集里面看似一共有四个定量变量，但实际上：\n",
    "\n",
    "- `admit` 是一个二值的定类变量，只是因为表示方式为 0/1 的原因，所以系统将其识别为定量变量。\n",
    "- `rank` 也是一个定类变量，只是因为表示方式为 1、2、3、4，所以系统将其识别为定量变量。\n",
    "\n",
    "现在我们想要研究，`gre` 和 `gpa` 这两个定量变量和 `rank` 定类变量，哪个变量会影响学生被 `admit` 的概率？\n",
    "\n",
    "下面先让我们看一下，定量变量的描述统计值，以及定类变量和目标变量的描述统计结果："
   ]
  },
  {
   "cell_type": "code",
   "execution_count": 48,
   "id": "b62561c1",
   "metadata": {},
   "outputs": [
    {
     "name": "stdout",
     "output_type": "stream",
     "text": [
      "\n",
      "\n"
     ]
    },
    {
     "data": {
      "text/html": [
       "<div>\n",
       "<style scoped>\n",
       "    .dataframe tbody tr th:only-of-type {\n",
       "        vertical-align: middle;\n",
       "    }\n",
       "\n",
       "    .dataframe tbody tr th {\n",
       "        vertical-align: top;\n",
       "    }\n",
       "\n",
       "    .dataframe thead th {\n",
       "        text-align: right;\n",
       "    }\n",
       "</style>\n",
       "<table border=\"1\" class=\"dataframe\">\n",
       "  <thead>\n",
       "    <tr style=\"text-align: right;\">\n",
       "      <th></th>\n",
       "      <th>Variable</th>\n",
       "      <th>N</th>\n",
       "      <th>Mean</th>\n",
       "      <th>SD</th>\n",
       "      <th>SE</th>\n",
       "      <th>95% Conf.</th>\n",
       "      <th>Interval</th>\n",
       "    </tr>\n",
       "  </thead>\n",
       "  <tbody>\n",
       "    <tr>\n",
       "      <th>0</th>\n",
       "      <td>gre</td>\n",
       "      <td>400.00000</td>\n",
       "      <td>587.70000</td>\n",
       "      <td>115.51670</td>\n",
       "      <td>5.77580</td>\n",
       "      <td>576.34520</td>\n",
       "      <td>599.05490</td>\n",
       "    </tr>\n",
       "    <tr>\n",
       "      <th>1</th>\n",
       "      <td>gpa</td>\n",
       "      <td>400.00000</td>\n",
       "      <td>3.38990</td>\n",
       "      <td>0.38060</td>\n",
       "      <td>0.01900</td>\n",
       "      <td>3.35250</td>\n",
       "      <td>3.42730</td>\n",
       "    </tr>\n",
       "  </tbody>\n",
       "</table>\n",
       "</div>"
      ],
      "text/plain": [
       "  Variable         N      Mean        SD      SE  95% Conf.  Interval\n",
       "0      gre 400.00000 587.70000 115.51670 5.77580  576.34520 599.05490\n",
       "1      gpa 400.00000   3.38990   0.38060 0.01900    3.35250   3.42730"
      ]
     },
     "execution_count": 48,
     "metadata": {},
     "output_type": "execute_result"
    }
   ],
   "source": [
    "rp.summary_cont(df[['gre', 'gpa']])"
   ]
  },
  {
   "cell_type": "code",
   "execution_count": 49,
   "id": "8c1c8c04",
   "metadata": {},
   "outputs": [
    {
     "data": {
      "text/html": [
       "<div>\n",
       "<style scoped>\n",
       "    .dataframe tbody tr th:only-of-type {\n",
       "        vertical-align: middle;\n",
       "    }\n",
       "\n",
       "    .dataframe tbody tr th {\n",
       "        vertical-align: top;\n",
       "    }\n",
       "\n",
       "    .dataframe thead th {\n",
       "        text-align: right;\n",
       "    }\n",
       "</style>\n",
       "<table border=\"1\" class=\"dataframe\">\n",
       "  <thead>\n",
       "    <tr style=\"text-align: right;\">\n",
       "      <th></th>\n",
       "      <th>Variable</th>\n",
       "      <th>Outcome</th>\n",
       "      <th>Count</th>\n",
       "      <th>Percent</th>\n",
       "    </tr>\n",
       "  </thead>\n",
       "  <tbody>\n",
       "    <tr>\n",
       "      <th>0</th>\n",
       "      <td>admit</td>\n",
       "      <td>0.00000</td>\n",
       "      <td>273</td>\n",
       "      <td>68.25000</td>\n",
       "    </tr>\n",
       "    <tr>\n",
       "      <th>1</th>\n",
       "      <td></td>\n",
       "      <td>1.00000</td>\n",
       "      <td>127</td>\n",
       "      <td>31.75000</td>\n",
       "    </tr>\n",
       "    <tr>\n",
       "      <th>2</th>\n",
       "      <td>rank</td>\n",
       "      <td>2.00000</td>\n",
       "      <td>151</td>\n",
       "      <td>37.75000</td>\n",
       "    </tr>\n",
       "    <tr>\n",
       "      <th>3</th>\n",
       "      <td></td>\n",
       "      <td>3.00000</td>\n",
       "      <td>121</td>\n",
       "      <td>30.25000</td>\n",
       "    </tr>\n",
       "    <tr>\n",
       "      <th>4</th>\n",
       "      <td></td>\n",
       "      <td>4.00000</td>\n",
       "      <td>67</td>\n",
       "      <td>16.75000</td>\n",
       "    </tr>\n",
       "    <tr>\n",
       "      <th>5</th>\n",
       "      <td></td>\n",
       "      <td>1.00000</td>\n",
       "      <td>61</td>\n",
       "      <td>15.25000</td>\n",
       "    </tr>\n",
       "  </tbody>\n",
       "</table>\n",
       "</div>"
      ],
      "text/plain": [
       "  Variable  Outcome  Count  Percent\n",
       "0    admit  0.00000    273 68.25000\n",
       "1           1.00000    127 31.75000\n",
       "2     rank  2.00000    151 37.75000\n",
       "3           3.00000    121 30.25000\n",
       "4           4.00000     67 16.75000\n",
       "5           1.00000     61 15.25000"
      ]
     },
     "execution_count": 49,
     "metadata": {},
     "output_type": "execute_result"
    }
   ],
   "source": [
    "rp.summary_cat(df[['admit', 'rank']])"
   ]
  },
  {
   "cell_type": "code",
   "execution_count": 50,
   "id": "c9e41571",
   "metadata": {},
   "outputs": [
    {
     "name": "stdout",
     "output_type": "stream",
     "text": [
      "Optimization terminated successfully.\n",
      "         Current function value: 0.573147\n",
      "         Iterations 6\n"
     ]
    },
    {
     "data": {
      "image/png": "[encoded data removed]",
      "text/plain": [
       "<Figure size 1080x1080 with 2 Axes>"
      ]
     },
     "metadata": {
      "needs_background": "light"
     },
     "output_type": "display_data"
    }
   ],
   "source": [
    "model = smf.logit(\"admit ~ gre + gpa + C(rank)\", data = df).fit()\n",
    "\n",
    "## Plotting multiple plots same figure\n",
    "fig, (axL, axR) = plt.subplots(2, figsize=(15, 15))\n",
    "plt.suptitle(\"Logistic Regression Residual Plots \\n using Seaborn Lowess line (N = 400)\")\n",
    "\n",
    "\n",
    "# Deviance Residuals\n",
    "sns.regplot(x=model.fittedvalues, y=model.resid_dev, ax= axL,\n",
    "            color=\"black\", scatter_kws={\"s\": 5},\n",
    "            line_kws={\"color\":\"b\", \"alpha\":1, \"lw\":2}, lowess=True)\n",
    "\n",
    "axL.set_title(\"Deviance Residuals \\n against Fitted Values\")\n",
    "axL.set_xlabel(\"Linear Predictor Values\")\n",
    "axL.set_ylabel(\"Deviance Residuals\")\n",
    "\n",
    "# Studentized Pearson Residuals\n",
    "sns.regplot(x=model.fittedvalues, y=model.resid_pearson, ax= axR,\n",
    "            color=\"black\", scatter_kws={\"s\": 5},\n",
    "            line_kws={\"color\":\"g\", \"alpha\":1, \"lw\":2}, lowess=True)\n",
    "\n",
    "axR.set_title(\"Studentized Pearson Residuals \\n against Fitted Values\")\n",
    "axR.set_xlabel(\"Linear Predictor Values\")\n",
    "axR.set_ylabel(\"Studentized Pearson Residuals\")\n",
    "\n",
    "plt.show()"
   ]
  },
  {
   "cell_type": "code",
   "execution_count": 51,
   "id": "1ee3c368",
   "metadata": {},
   "outputs": [
    {
     "data": {
      "text/html": [
       "<table class=\"simpletable\">\n",
       "<caption>Logit Regression Results</caption>\n",
       "<tr>\n",
       "  <th>Dep. Variable:</th>         <td>admit</td>      <th>  No. Observations:  </th>  <td>   400</td>  \n",
       "</tr>\n",
       "<tr>\n",
       "  <th>Model:</th>                 <td>Logit</td>      <th>  Df Residuals:      </th>  <td>   394</td>  \n",
       "</tr>\n",
       "<tr>\n",
       "  <th>Method:</th>                 <td>MLE</td>       <th>  Df Model:          </th>  <td>     5</td>  \n",
       "</tr>\n",
       "<tr>\n",
       "  <th>Date:</th>            <td>Sat, 30 Apr 2022</td> <th>  Pseudo R-squ.:     </th>  <td>0.08292</td> \n",
       "</tr>\n",
       "<tr>\n",
       "  <th>Time:</th>                <td>15:20:24</td>     <th>  Log-Likelihood:    </th> <td> -229.26</td> \n",
       "</tr>\n",
       "<tr>\n",
       "  <th>converged:</th>             <td>True</td>       <th>  LL-Null:           </th> <td> -249.99</td> \n",
       "</tr>\n",
       "<tr>\n",
       "  <th>Covariance Type:</th>     <td>nonrobust</td>    <th>  LLR p-value:       </th> <td>7.578e-08</td>\n",
       "</tr>\n",
       "</table>\n",
       "<table class=\"simpletable\">\n",
       "<tr>\n",
       "         <td></td>           <th>coef</th>     <th>std err</th>      <th>z</th>      <th>P>|z|</th>  <th>[0.025</th>    <th>0.975]</th>  \n",
       "</tr>\n",
       "<tr>\n",
       "  <th>Intercept</th>      <td>   -3.9900</td> <td>    1.140</td> <td>   -3.500</td> <td> 0.000</td> <td>   -6.224</td> <td>   -1.756</td>\n",
       "</tr>\n",
       "<tr>\n",
       "  <th>C(rank)[T.2.0]</th> <td>   -0.6754</td> <td>    0.316</td> <td>   -2.134</td> <td> 0.033</td> <td>   -1.296</td> <td>   -0.055</td>\n",
       "</tr>\n",
       "<tr>\n",
       "  <th>C(rank)[T.3.0]</th> <td>   -1.3402</td> <td>    0.345</td> <td>   -3.881</td> <td> 0.000</td> <td>   -2.017</td> <td>   -0.663</td>\n",
       "</tr>\n",
       "<tr>\n",
       "  <th>C(rank)[T.4.0]</th> <td>   -1.5515</td> <td>    0.418</td> <td>   -3.713</td> <td> 0.000</td> <td>   -2.370</td> <td>   -0.733</td>\n",
       "</tr>\n",
       "<tr>\n",
       "  <th>gre</th>            <td>    0.0023</td> <td>    0.001</td> <td>    2.070</td> <td> 0.038</td> <td>    0.000</td> <td>    0.004</td>\n",
       "</tr>\n",
       "<tr>\n",
       "  <th>gpa</th>            <td>    0.8040</td> <td>    0.332</td> <td>    2.423</td> <td> 0.015</td> <td>    0.154</td> <td>    1.454</td>\n",
       "</tr>\n",
       "</table>"
      ],
      "text/plain": [
       "<class 'statsmodels.iolib.summary.Summary'>\n",
       "\"\"\"\n",
       "                           Logit Regression Results                           \n",
       "==============================================================================\n",
       "Dep. Variable:                  admit   No. Observations:                  400\n",
       "Model:                          Logit   Df Residuals:                      394\n",
       "Method:                           MLE   Df Model:                            5\n",
       "Date:                Sat, 30 Apr 2022   Pseudo R-squ.:                 0.08292\n",
       "Time:                        15:20:24   Log-Likelihood:                -229.26\n",
       "converged:                       True   LL-Null:                       -249.99\n",
       "Covariance Type:            nonrobust   LLR p-value:                 7.578e-08\n",
       "==================================================================================\n",
       "                     coef    std err          z      P>|z|      [0.025      0.975]\n",
       "----------------------------------------------------------------------------------\n",
       "Intercept         -3.9900      1.140     -3.500      0.000      -6.224      -1.756\n",
       "C(rank)[T.2.0]    -0.6754      0.316     -2.134      0.033      -1.296      -0.055\n",
       "C(rank)[T.3.0]    -1.3402      0.345     -3.881      0.000      -2.017      -0.663\n",
       "C(rank)[T.4.0]    -1.5515      0.418     -3.713      0.000      -2.370      -0.733\n",
       "gre                0.0023      0.001      2.070      0.038       0.000       0.004\n",
       "gpa                0.8040      0.332      2.423      0.015       0.154       1.454\n",
       "==================================================================================\n",
       "\"\"\""
      ]
     },
     "execution_count": 51,
     "metadata": {},
     "output_type": "execute_result"
    }
   ],
   "source": [
    "model.summary()"
   ]
  },
  {
   "cell_type": "markdown",
   "id": "60647807",
   "metadata": {},
   "source": [
    "Using this information, one can evaluate the regression model. The current overal model is significant which indicates it's better than using the mean to predict being admitted.Interpreting the coefficients right now would be premature since the model's diagnostics have not been evaluated. However, for demonstration purposes they will be interpreted.\n",
    "\n",
    "The overall model indicates the model is better than using the mean of admission to predict an applicants admission decision, F(5, 394) < 0.0000. For every unit increase in GRE there is a 0.0023 increase in the log odds of being admitted; additionally, for every unit increase in GPA there is a 0.8040 increase in the log odds of being admitted. Applicants applying from institutions with a rank of 2, 3, or 4 have a decrease in the log odds of being admitted of -0.6754, -1.3402, and -1.5515, respectively, compared to applicants applying from a rank 1 institution.\n",
    "\n",
    "That the interpretation is valid, but log odds is not intuitive in it's interpretation. Let's convert this to odds ratio and interpret the model again. To convert the log odds coefficients and confidence intervals, one needs to take the exponential of the values."
   ]
  },
  {
   "cell_type": "code",
   "execution_count": 52,
   "id": "e56ada42",
   "metadata": {},
   "outputs": [
    {
     "data": {
      "text/html": [
       "<div>\n",
       "<style scoped>\n",
       "    .dataframe tbody tr th:only-of-type {\n",
       "        vertical-align: middle;\n",
       "    }\n",
       "\n",
       "    .dataframe tbody tr th {\n",
       "        vertical-align: top;\n",
       "    }\n",
       "\n",
       "    .dataframe thead th {\n",
       "        text-align: right;\n",
       "    }\n",
       "</style>\n",
       "<table border=\"1\" class=\"dataframe\">\n",
       "  <thead>\n",
       "    <tr style=\"text-align: right;\">\n",
       "      <th></th>\n",
       "      <th>OR</th>\n",
       "      <th>z-value</th>\n",
       "      <th>2.5%</th>\n",
       "      <th>97.5%</th>\n",
       "    </tr>\n",
       "  </thead>\n",
       "  <tbody>\n",
       "    <tr>\n",
       "      <th>Intercept</th>\n",
       "      <td>0.01850</td>\n",
       "      <td>0.00047</td>\n",
       "      <td>0.00198</td>\n",
       "      <td>0.17278</td>\n",
       "    </tr>\n",
       "    <tr>\n",
       "      <th>C(rank)[T.2.0]</th>\n",
       "      <td>0.50893</td>\n",
       "      <td>0.03283</td>\n",
       "      <td>0.27369</td>\n",
       "      <td>0.94636</td>\n",
       "    </tr>\n",
       "    <tr>\n",
       "      <th>C(rank)[T.3.0]</th>\n",
       "      <td>0.26179</td>\n",
       "      <td>0.00010</td>\n",
       "      <td>0.13306</td>\n",
       "      <td>0.51509</td>\n",
       "    </tr>\n",
       "    <tr>\n",
       "      <th>C(rank)[T.4.0]</th>\n",
       "      <td>0.21194</td>\n",
       "      <td>0.00020</td>\n",
       "      <td>0.09344</td>\n",
       "      <td>0.48069</td>\n",
       "    </tr>\n",
       "    <tr>\n",
       "      <th>gre</th>\n",
       "      <td>1.00227</td>\n",
       "      <td>0.03847</td>\n",
       "      <td>1.00012</td>\n",
       "      <td>1.00442</td>\n",
       "    </tr>\n",
       "    <tr>\n",
       "      <th>gpa</th>\n",
       "      <td>2.23455</td>\n",
       "      <td>0.01539</td>\n",
       "      <td>1.16612</td>\n",
       "      <td>4.28188</td>\n",
       "    </tr>\n",
       "  </tbody>\n",
       "</table>\n",
       "</div>"
      ],
      "text/plain": [
       "                    OR  z-value    2.5%   97.5%\n",
       "Intercept      0.01850  0.00047 0.00198 0.17278\n",
       "C(rank)[T.2.0] 0.50893  0.03283 0.27369 0.94636\n",
       "C(rank)[T.3.0] 0.26179  0.00010 0.13306 0.51509\n",
       "C(rank)[T.4.0] 0.21194  0.00020 0.09344 0.48069\n",
       "gre            1.00227  0.03847 1.00012 1.00442\n",
       "gpa            2.23455  0.01539 1.16612 4.28188"
      ]
     },
     "execution_count": 52,
     "metadata": {},
     "output_type": "execute_result"
    }
   ],
   "source": [
    "model_odds = pd.DataFrame(np.exp(model.params), columns= ['OR'])\n",
    "model_odds['z-value']= model.pvalues\n",
    "model_odds[['2.5%', '97.5%']] = np.exp(model.conf_int())\n",
    "\n",
    "model_odds"
   ]
  },
  {
   "cell_type": "markdown",
   "id": "3c31e0cf",
   "metadata": {},
   "source": [
    "The overall model indicates the model is better than using the mean of admission to predict an applicants admission decision, F(5, 394) < 0.0000. The odds of being admitted increases by a factor of 1.002 for every unit increase in GRE; likewise, the odds of being admitted increases by a factor of 2.235 for every unit increase in GPA. The odds of being addmitted for those applying from an institution with a rank of 2, 3, or 4 are 0.5089, 0.2618, and 0.2119, respectively, times that of those applying from an institution with a rank of 1.\n",
    "\n",
    "Converting to odd ratios (OR) is much more intuitive in the interpretation. Where,\n",
    "\n",
    "- OR = 1, same odds\n",
    "- OR < 1, fewer/decrease in odds\n",
    "- OR > 1, greater/increase in odds\n",
    "\n",
    "Also note that ORs are multiplicative in their interpretation that is why the phrasing includes \"... times more likely\\less likely ...\" or \"... a factor of ...\"."
   ]
  }
 ],
 "metadata": {
  "kernelspec": {
   "display_name": "Python 3 (ipykernel)",
   "language": "python",
   "name": "python3"
  },
  "language_info": {
   "codemirror_mode": {
    "name": "ipython",
    "version": 3
   },
   "file_extension": ".py",
   "mimetype": "text/x-python",
   "name": "python",
   "nbconvert_exporter": "python",
   "pygments_lexer": "ipython3",
   "version": "3.9.12"
  },
  "toc": {
   "base_numbering": 1,
   "nav_menu": {},
   "number_sections": true,
   "sideBar": true,
   "skip_h1_title": false,
   "title_cell": "Table of Contents",
   "title_sidebar": "Contents",
   "toc_cell": false,
   "toc_position": {
    "height": "calc(100% - 180px)",
    "left": "10px",
    "top": "150px",
    "width": "256px"
   },
   "toc_section_display": true,
   "toc_window_display": true
  }
 },
 "nbformat": 4,
 "nbformat_minor": 5
}
