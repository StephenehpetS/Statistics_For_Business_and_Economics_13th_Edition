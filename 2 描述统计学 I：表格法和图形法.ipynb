{
 "cells": [
  {
   "cell_type": "code",
   "execution_count": 1,
   "id": "8a7b77bb",
   "metadata": {},
   "outputs": [],
   "source": [
    "import matplotlib.pyplot as plt\n",
    "import numpy as np\n",
    "import pandas as pd\n",
    "import seaborn as sb\n",
    "import statistics\n",
    "\n",
    "from pathlib import Path\n",
    "from scipy import stats\n",
    "from scipy.stats import trim_mean\n",
    "\n",
    "#设置数据文件夹路径\n",
    "DATA = Path().resolve()  / 'data'"
   ]
  },
  {
   "cell_type": "code",
   "execution_count": 2,
   "id": "b068b748",
   "metadata": {},
   "outputs": [
    {
     "data": {
      "text/html": [
       "<div>\n",
       "<style scoped>\n",
       "    .dataframe tbody tr th:only-of-type {\n",
       "        vertical-align: middle;\n",
       "    }\n",
       "\n",
       "    .dataframe tbody tr th {\n",
       "        vertical-align: top;\n",
       "    }\n",
       "\n",
       "    .dataframe thead th {\n",
       "        text-align: right;\n",
       "    }\n",
       "</style>\n",
       "<table border=\"1\" class=\"dataframe\">\n",
       "  <thead>\n",
       "    <tr style=\"text-align: right;\">\n",
       "      <th></th>\n",
       "      <th>Brand Purchased</th>\n",
       "    </tr>\n",
       "  </thead>\n",
       "  <tbody>\n",
       "    <tr>\n",
       "      <th>0</th>\n",
       "      <td>Coca-Cola</td>\n",
       "    </tr>\n",
       "    <tr>\n",
       "      <th>1</th>\n",
       "      <td>Diet Coke</td>\n",
       "    </tr>\n",
       "    <tr>\n",
       "      <th>2</th>\n",
       "      <td>Pepsi</td>\n",
       "    </tr>\n",
       "    <tr>\n",
       "      <th>3</th>\n",
       "      <td>Diet Coke</td>\n",
       "    </tr>\n",
       "    <tr>\n",
       "      <th>4</th>\n",
       "      <td>Coca-Cola</td>\n",
       "    </tr>\n",
       "  </tbody>\n",
       "</table>\n",
       "</div>"
      ],
      "text/plain": [
       "  Brand Purchased\n",
       "0       Coca-Cola\n",
       "1       Diet Coke\n",
       "2           Pepsi\n",
       "3       Diet Coke\n",
       "4       Coca-Cola"
      ]
     },
     "execution_count": 2,
     "metadata": {},
     "output_type": "execute_result"
    }
   ],
   "source": [
    "df = pd.read_csv(DATA/'SoftDrink.csv')\n",
    "df.head()"
   ]
  },
  {
   "cell_type": "markdown",
   "id": "219372b4",
   "metadata": {},
   "source": [
    "# 汇总分类变量的数据\n",
    "\n",
    "## 频数分布\n",
    "\n",
    "频数分布表示在几个互不重叠的组别中，每一组项目的个数（频数）。"
   ]
  },
  {
   "cell_type": "code",
   "execution_count": 3,
   "id": "7d57273e",
   "metadata": {},
   "outputs": [
    {
     "data": {
      "text/plain": [
       "Brand Purchased\n",
       "Coca-Cola          19\n",
       "Pepsi              13\n",
       "Diet Coke           8\n",
       "Dr. Pepper          5\n",
       "Sprite              5\n",
       "dtype: int64"
      ]
     },
     "execution_count": 3,
     "metadata": {},
     "output_type": "execute_result"
    }
   ],
   "source": [
    "df.value_counts()"
   ]
  },
  {
   "cell_type": "code",
   "execution_count": 4,
   "id": "f239e042",
   "metadata": {},
   "outputs": [
    {
     "data": {
      "text/plain": [
       "Coca-Cola     19\n",
       "Pepsi         13\n",
       "Diet Coke      8\n",
       "Dr. Pepper     5\n",
       "Sprite         5\n",
       "Name: Brand Purchased, dtype: int64"
      ]
     },
     "execution_count": 4,
     "metadata": {},
     "output_type": "execute_result"
    }
   ],
   "source": [
    "df['Brand Purchased'].value_counts()"
   ]
  },
  {
   "cell_type": "code",
   "execution_count": 5,
   "id": "44c9a824",
   "metadata": {},
   "outputs": [
    {
     "data": {
      "text/html": [
       "<div>\n",
       "<style scoped>\n",
       "    .dataframe tbody tr th:only-of-type {\n",
       "        vertical-align: middle;\n",
       "    }\n",
       "\n",
       "    .dataframe tbody tr th {\n",
       "        vertical-align: top;\n",
       "    }\n",
       "\n",
       "    .dataframe thead th {\n",
       "        text-align: right;\n",
       "    }\n",
       "</style>\n",
       "<table border=\"1\" class=\"dataframe\">\n",
       "  <thead>\n",
       "    <tr style=\"text-align: right;\">\n",
       "      <th>col_0</th>\n",
       "      <th>count</th>\n",
       "    </tr>\n",
       "    <tr>\n",
       "      <th>Brand Purchased</th>\n",
       "      <th></th>\n",
       "    </tr>\n",
       "  </thead>\n",
       "  <tbody>\n",
       "    <tr>\n",
       "      <th>Coca-Cola</th>\n",
       "      <td>19</td>\n",
       "    </tr>\n",
       "    <tr>\n",
       "      <th>Diet Coke</th>\n",
       "      <td>8</td>\n",
       "    </tr>\n",
       "    <tr>\n",
       "      <th>Dr. Pepper</th>\n",
       "      <td>5</td>\n",
       "    </tr>\n",
       "    <tr>\n",
       "      <th>Pepsi</th>\n",
       "      <td>13</td>\n",
       "    </tr>\n",
       "    <tr>\n",
       "      <th>Sprite</th>\n",
       "      <td>5</td>\n",
       "    </tr>\n",
       "  </tbody>\n",
       "</table>\n",
       "</div>"
      ],
      "text/plain": [
       "col_0            count\n",
       "Brand Purchased       \n",
       "Coca-Cola           19\n",
       "Diet Coke            8\n",
       "Dr. Pepper           5\n",
       "Pepsi               13\n",
       "Sprite               5"
      ]
     },
     "execution_count": 5,
     "metadata": {},
     "output_type": "execute_result"
    }
   ],
   "source": [
    "pd.crosstab(index=df['Brand Purchased'], columns='count')"
   ]
  },
  {
   "cell_type": "markdown",
   "id": "caff17ba",
   "metadata": {},
   "source": [
    "## 相对频数分布和百分数频数分布\n",
    "\n",
    "$$组的相对频数 = \\frac{组的频数}{n}$$"
   ]
  },
  {
   "cell_type": "code",
   "execution_count": 6,
   "id": "ccd9d2eb",
   "metadata": {},
   "outputs": [
    {
     "data": {
      "text/plain": [
       "[('Dr. Pepper', 0.1),\n",
       " ('Sprite', 0.1),\n",
       " ('Pepsi', 0.26),\n",
       " ('Diet Coke', 0.16),\n",
       " ('Coca-Cola', 0.38)]"
      ]
     },
     "execution_count": 6,
     "metadata": {},
     "output_type": "execute_result"
    }
   ],
   "source": [
    "def rel_freq(x):\n",
    "    freqs = [(value, x.count(value) / len(x)) for value in set(x)] \n",
    "    return freqs\n",
    "rel_freq(list(df['Brand Purchased']))"
   ]
  },
  {
   "cell_type": "markdown",
   "id": "101301d1",
   "metadata": {},
   "source": [
    "## 条形图和饼图\n",
    "\n"
   ]
  },
  {
   "cell_type": "code",
   "execution_count": 7,
   "id": "28bff833",
   "metadata": {},
   "outputs": [
    {
     "data": {
      "text/plain": [
       "<AxesSubplot:>"
      ]
     },
     "execution_count": 7,
     "metadata": {},
     "output_type": "execute_result"
    },
    {
     "data": {
      "image/png": "[encoded data removed]",
      "text/plain": [
       "<Figure size 432x288 with 1 Axes>"
      ]
     },
     "metadata": {
      "needs_background": "light"
     },
     "output_type": "display_data"
    }
   ],
   "source": [
    "df['Brand Purchased'].value_counts().plot(kind='bar')"
   ]
  },
  {
   "cell_type": "code",
   "execution_count": 8,
   "id": "e1a6c3cb",
   "metadata": {},
   "outputs": [
    {
     "data": {
      "text/plain": [
       "<AxesSubplot:ylabel='Brand Purchased'>"
      ]
     },
     "execution_count": 8,
     "metadata": {},
     "output_type": "execute_result"
    },
    {
     "data": {
      "image/png": "[encoded data removed]",
      "text/plain": [
       "<Figure size 432x288 with 1 Axes>"
      ]
     },
     "metadata": {},
     "output_type": "display_data"
    }
   ],
   "source": [
    "df['Brand Purchased'].value_counts().plot(kind='pie')"
   ]
  },
  {
   "cell_type": "markdown",
   "id": "9616843a",
   "metadata": {},
   "source": [
    "# 汇总数量变量的数据\n",
    "\n",
    "## 频数分布\n",
    "\n"
   ]
  },
  {
   "cell_type": "code",
   "execution_count": 9,
   "id": "55f7a833",
   "metadata": {},
   "outputs": [
    {
     "data": {
      "text/html": [
       "<div>\n",
       "<style scoped>\n",
       "    .dataframe tbody tr th:only-of-type {\n",
       "        vertical-align: middle;\n",
       "    }\n",
       "\n",
       "    .dataframe tbody tr th {\n",
       "        vertical-align: top;\n",
       "    }\n",
       "\n",
       "    .dataframe thead th {\n",
       "        text-align: right;\n",
       "    }\n",
       "</style>\n",
       "<table border=\"1\" class=\"dataframe\">\n",
       "  <thead>\n",
       "    <tr style=\"text-align: right;\">\n",
       "      <th></th>\n",
       "      <th>Audit Time</th>\n",
       "    </tr>\n",
       "  </thead>\n",
       "  <tbody>\n",
       "    <tr>\n",
       "      <th>0</th>\n",
       "      <td>12</td>\n",
       "    </tr>\n",
       "    <tr>\n",
       "      <th>1</th>\n",
       "      <td>15</td>\n",
       "    </tr>\n",
       "    <tr>\n",
       "      <th>2</th>\n",
       "      <td>20</td>\n",
       "    </tr>\n",
       "    <tr>\n",
       "      <th>3</th>\n",
       "      <td>22</td>\n",
       "    </tr>\n",
       "    <tr>\n",
       "      <th>4</th>\n",
       "      <td>14</td>\n",
       "    </tr>\n",
       "  </tbody>\n",
       "</table>\n",
       "</div>"
      ],
      "text/plain": [
       "   Audit Time\n",
       "0          12\n",
       "1          15\n",
       "2          20\n",
       "3          22\n",
       "4          14"
      ]
     },
     "execution_count": 9,
     "metadata": {},
     "output_type": "execute_result"
    }
   ],
   "source": [
    "audit = pd.read_csv(DATA / 'AuditTime.csv')\n",
    "audit.head()"
   ]
  },
  {
   "cell_type": "code",
   "execution_count": 10,
   "id": "dca8b3bc",
   "metadata": {},
   "outputs": [
    {
     "data": {
      "text/plain": [
       "bin\n",
       "(0, 14]     4\n",
       "(14, 19]    8\n",
       "(19, 24]    5\n",
       "(24, 29]    2\n",
       "(29, 34]    1\n",
       "dtype: int64"
      ]
     },
     "execution_count": 10,
     "metadata": {},
     "output_type": "execute_result"
    }
   ],
   "source": [
    "audit['bin'] = pd.cut(audit['Audit Time'], [0, 14, 19, 24, 29, 34])\n",
    "audit.groupby('bin').size()"
   ]
  },
  {
   "cell_type": "code",
   "execution_count": 11,
   "id": "e43df970",
   "metadata": {},
   "outputs": [
    {
     "data": {
      "text/plain": [
       "<AxesSubplot:xlabel='bin'>"
      ]
     },
     "execution_count": 11,
     "metadata": {},
     "output_type": "execute_result"
    },
    {
     "data": {
      "image/png": "[encoded data removed]",
      "text/plain": [
       "<Figure size 432x288 with 1 Axes>"
      ]
     },
     "metadata": {
      "needs_background": "light"
     },
     "output_type": "display_data"
    }
   ],
   "source": [
    "audit.groupby('bin').size().plot.bar()"
   ]
  },
  {
   "cell_type": "code",
   "execution_count": 12,
   "id": "cf38b83b",
   "metadata": {},
   "outputs": [
    {
     "data": {
      "text/plain": [
       "bin\n",
       "(0, 14]      4\n",
       "(14, 19]    12\n",
       "(19, 24]    17\n",
       "(24, 29]    19\n",
       "(29, 34]    20\n",
       "dtype: int64"
      ]
     },
     "execution_count": 12,
     "metadata": {},
     "output_type": "execute_result"
    }
   ],
   "source": [
    "audit.groupby('bin').size().cumsum()"
   ]
  },
  {
   "cell_type": "code",
   "execution_count": 13,
   "id": "686ebc6e",
   "metadata": {},
   "outputs": [
    {
     "data": {
      "text/plain": [
       "<AxesSubplot:xlabel='bin'>"
      ]
     },
     "execution_count": 13,
     "metadata": {},
     "output_type": "execute_result"
    },
    {
     "data": {
      "image/png": "[encoded data removed]",
      "text/plain": [
       "<Figure size 432x288 with 1 Axes>"
      ]
     },
     "metadata": {
      "needs_background": "light"
     },
     "output_type": "display_data"
    }
   ],
   "source": [
    "audit.groupby('bin').size().cumsum().plot.bar()"
   ]
  },
  {
   "cell_type": "markdown",
   "id": "5bff6d51",
   "metadata": {},
   "source": [
    "# 用频数分布表和直方图，刻画数据的特征\n",
    "\n",
    "我们在日常生活中多多少少都会使用数据。但是，光浏览原始数据，单纯列举数字，是没有任何意义的。\n",
    "\n",
    "“打眼一瞧什么都不明白”这一点上，数据也好，现实也罢，都是一样的。\n",
    "\n",
    "例如我们现在有一个数据，记录了 40 位完赛全程马拉松跑者的年龄。"
   ]
  },
  {
   "cell_type": "code",
   "execution_count": 14,
   "id": "4eba0ed8",
   "metadata": {},
   "outputs": [
    {
     "data": {
      "text/html": [
       "<div>\n",
       "<style scoped>\n",
       "    .dataframe tbody tr th:only-of-type {\n",
       "        vertical-align: middle;\n",
       "    }\n",
       "\n",
       "    .dataframe tbody tr th {\n",
       "        vertical-align: top;\n",
       "    }\n",
       "\n",
       "    .dataframe thead th {\n",
       "        text-align: right;\n",
       "    }\n",
       "</style>\n",
       "<table border=\"1\" class=\"dataframe\">\n",
       "  <thead>\n",
       "    <tr style=\"text-align: right;\">\n",
       "      <th></th>\n",
       "      <th>Age</th>\n",
       "    </tr>\n",
       "  </thead>\n",
       "  <tbody>\n",
       "    <tr>\n",
       "      <th>1</th>\n",
       "      <td>49</td>\n",
       "    </tr>\n",
       "    <tr>\n",
       "      <th>2</th>\n",
       "      <td>44</td>\n",
       "    </tr>\n",
       "    <tr>\n",
       "      <th>3</th>\n",
       "      <td>50</td>\n",
       "    </tr>\n",
       "    <tr>\n",
       "      <th>4</th>\n",
       "      <td>46</td>\n",
       "    </tr>\n",
       "    <tr>\n",
       "      <th>5</th>\n",
       "      <td>31</td>\n",
       "    </tr>\n",
       "  </tbody>\n",
       "</table>\n",
       "</div>"
      ],
      "text/plain": [
       "   Age\n",
       "1   49\n",
       "2   44\n",
       "3   50\n",
       "4   46\n",
       "5   31"
      ]
     },
     "execution_count": 14,
     "metadata": {},
     "output_type": "execute_result"
    }
   ],
   "source": [
    "#marathon = pd.read_csv(DATA / 'Marathon.csv')\n",
    "marathon = pd.DataFrame({'Age': [49,44,50,46,31,27,52,72,33,46,52,24,43,44,43,26,40,57,43,30,50,35,66,59,37,55,64,37,36,31,31,21,56,32,40,43,61,43,50,47]})\n",
    "marathon.index += 1\n",
    "marathon.head(5)"
   ]
  },
  {
   "cell_type": "markdown",
   "id": "0b7480e6",
   "metadata": {},
   "source": [
    "假设我们现在对数据一无所知，但是从常识出发，对于人类的年龄，我们应该有一些关于年龄的常识：\n",
    "- 年轻不可能是负数\n",
    "- 人类大概在 18-20 岁左右成年\n",
    "- 超过 60/65 岁时，人类进入老年\n",
    "- 人类平均寿命大概为 80 岁\n",
    "\n",
    "那我们从这 40 个数字中能得到什么呢？首先，最直观的感受就是：\n",
    "- 完赛跑者的年龄参差不齐\n",
    "\n",
    "这种“多种多样的数值”，就是所谓的“分布”。分布的产生，是决定数值背后的某种“不确定性”作用的结果。这个世界就是有很多不确定性的，因此才会有“参差不齐”的年龄。\n",
    "\n",
    "就和我们每个人都有不同的性格和特点，不同的分布，也有自己固有的“特征”和“特点”，这种固有的特征和特点，就是“分布的特性”。\n",
    "\n",
    "如果你已经有一定的统计学和数学基础，那你应该能借助各种工具来分析分布的特征，但如果你没有统计学的相关知识，那这个任务或许对你而言会比较困难。但是也没关系，因为不是所有人天生就是全知全能的。\n",
    "\n",
    "现在我们来学习，第一个用来分析分布特征的方法，就是**频数表**和**直方图**。\n",
    "\n",
    "利用 Python 我们可以轻松快捷地得出频数："
   ]
  },
  {
   "cell_type": "code",
   "execution_count": 15,
   "id": "76a5d666",
   "metadata": {},
   "outputs": [
    {
     "data": {
      "text/plain": [
       "Age\n",
       "43     5\n",
       "31     3\n",
       "50     3\n",
       "44     2\n",
       "37     2\n",
       "40     2\n",
       "52     2\n",
       "46     2\n",
       "49     1\n",
       "66     1\n",
       "dtype: int64"
      ]
     },
     "execution_count": 15,
     "metadata": {},
     "output_type": "execute_result"
    }
   ],
   "source": [
    "marathon.value_counts().head(10)"
   ]
  },
  {
   "cell_type": "markdown",
   "id": "4cba7373",
   "metadata": {},
   "source": [
    "虽然我们得出了每个具体年龄的频数表，但是频数表能提供的信息其实也很少：\n",
    "- 43 岁的跑者数量最多，有 5 人\n",
    "- 完赛选手的高频年龄（数量 > 2）大概在 30 - 50 岁之间。\n",
    "\n",
    "从第二个结论出发，我们对如何分析分布，大概有了一些思路：为什么我们不把所有年龄段选手，分成几个组呢？\n",
    "\n",
    "刚好，Pandas 的 [pd.cut](https://pandas.pydata.org/pandas-docs/stable/reference/api/pandas.cut.html) 函数可以帮我们完成这个工作。假设我们现在相按照年龄的分布，把所有完赛选手分为 5 组："
   ]
  },
  {
   "cell_type": "code",
   "execution_count": 16,
   "id": "5f3bb511",
   "metadata": {},
   "outputs": [
    {
     "data": {
      "text/html": [
       "<div>\n",
       "<style scoped>\n",
       "    .dataframe tbody tr th:only-of-type {\n",
       "        vertical-align: middle;\n",
       "    }\n",
       "\n",
       "    .dataframe tbody tr th {\n",
       "        vertical-align: top;\n",
       "    }\n",
       "\n",
       "    .dataframe thead th {\n",
       "        text-align: right;\n",
       "    }\n",
       "</style>\n",
       "<table border=\"1\" class=\"dataframe\">\n",
       "  <thead>\n",
       "    <tr style=\"text-align: right;\">\n",
       "      <th>col_0</th>\n",
       "      <th>Counts</th>\n",
       "    </tr>\n",
       "    <tr>\n",
       "      <th>Age Group</th>\n",
       "      <th></th>\n",
       "    </tr>\n",
       "  </thead>\n",
       "  <tbody>\n",
       "    <tr>\n",
       "      <th>(20.949, 31.2]</th>\n",
       "      <td>8</td>\n",
       "    </tr>\n",
       "    <tr>\n",
       "      <th>(31.2, 41.4]</th>\n",
       "      <td>8</td>\n",
       "    </tr>\n",
       "    <tr>\n",
       "      <th>(41.4, 51.6]</th>\n",
       "      <td>14</td>\n",
       "    </tr>\n",
       "    <tr>\n",
       "      <th>(51.6, 61.8]</th>\n",
       "      <td>7</td>\n",
       "    </tr>\n",
       "    <tr>\n",
       "      <th>(61.8, 72.0]</th>\n",
       "      <td>3</td>\n",
       "    </tr>\n",
       "  </tbody>\n",
       "</table>\n",
       "</div>"
      ],
      "text/plain": [
       "col_0           Counts\n",
       "Age Group             \n",
       "(20.949, 31.2]       8\n",
       "(31.2, 41.4]         8\n",
       "(41.4, 51.6]        14\n",
       "(51.6, 61.8]         7\n",
       "(61.8, 72.0]         3"
      ]
     },
     "execution_count": 16,
     "metadata": {},
     "output_type": "execute_result"
    }
   ],
   "source": [
    "marathon['Age Group'] = pd.cut(marathon['Age'], 5)\n",
    "pd.crosstab(marathon['Age Group'], 'Counts')"
   ]
  },
  {
   "cell_type": "markdown",
   "id": "1af2f217",
   "metadata": {},
   "source": [
    "进一步分析之后，我们对分布的认识更深刻了：\n",
    "- 参赛选手最多的年龄段是 40-50 岁（有点出乎意料吧？）\n",
    "- 竟然还有 3 位 60 岁以上的老年人完赛全程马拉松！\n",
    "\n",
    "虽然这个结果比之前要精确很多，但是我们仍然不太满意，因为年龄区间是按照年龄分布直接切分的，并不是非常直观。我们能不能对按照我们自己规定的逻辑来切分呢？\n",
    "\n",
    "当然是可以的，但是切分之前，我们需要知道数据中的最大值和最小值，这两个值在统计学里面称为“极值”（不要和“极端值”弄混了哟）"
   ]
  },
  {
   "cell_type": "code",
   "execution_count": 17,
   "id": "b22d7e86",
   "metadata": {},
   "outputs": [
    {
     "name": "stdout",
     "output_type": "stream",
     "text": [
      "最年长选手的年龄：72\n",
      "最年长选手的年龄：21\n"
     ]
    }
   ],
   "source": [
    "print(\"最年长选手的年龄：%d\"%(marathon['Age'].max()))\n",
    "print(\"最年长选手的年龄：%d\"%(marathon['Age'].min()))"
   ]
  },
  {
   "cell_type": "markdown",
   "id": "0817c2cf",
   "metadata": {},
   "source": [
    "现在我们已经知道了，所有选手的年龄都位于 20-75 岁之间，那我们能不能采用以这种分组逻辑：\n",
    "- 从 20 岁开始。每 10 岁为一组，在统计学里面，被称为“组距”\n",
    "- 60 岁及以上为老年组\n",
    "\n",
    "很简单，我们只需要指定年龄组参数，就可以实现了："
   ]
  },
  {
   "cell_type": "code",
   "execution_count": 18,
   "id": "46b531bb",
   "metadata": {},
   "outputs": [
    {
     "data": {
      "text/html": [
       "<div>\n",
       "<style scoped>\n",
       "    .dataframe tbody tr th:only-of-type {\n",
       "        vertical-align: middle;\n",
       "    }\n",
       "\n",
       "    .dataframe tbody tr th {\n",
       "        vertical-align: top;\n",
       "    }\n",
       "\n",
       "    .dataframe thead th {\n",
       "        text-align: right;\n",
       "    }\n",
       "</style>\n",
       "<table border=\"1\" class=\"dataframe\">\n",
       "  <thead>\n",
       "    <tr style=\"text-align: right;\">\n",
       "      <th>col_0</th>\n",
       "      <th>Counts</th>\n",
       "    </tr>\n",
       "    <tr>\n",
       "      <th>Age Group</th>\n",
       "      <th></th>\n",
       "    </tr>\n",
       "  </thead>\n",
       "  <tbody>\n",
       "    <tr>\n",
       "      <th>20-30 years old</th>\n",
       "      <td>5</td>\n",
       "    </tr>\n",
       "    <tr>\n",
       "      <th>30-40 years old</th>\n",
       "      <td>11</td>\n",
       "    </tr>\n",
       "    <tr>\n",
       "      <th>40-50 years old</th>\n",
       "      <td>14</td>\n",
       "    </tr>\n",
       "    <tr>\n",
       "      <th>50-60 years old</th>\n",
       "      <td>6</td>\n",
       "    </tr>\n",
       "    <tr>\n",
       "      <th>60+ years old</th>\n",
       "      <td>4</td>\n",
       "    </tr>\n",
       "  </tbody>\n",
       "</table>\n",
       "</div>"
      ],
      "text/plain": [
       "col_0            Counts\n",
       "Age Group              \n",
       "20-30 years old       5\n",
       "30-40 years old      11\n",
       "40-50 years old      14\n",
       "50-60 years old       6\n",
       "60+ years old         4"
      ]
     },
     "execution_count": 18,
     "metadata": {},
     "output_type": "execute_result"
    }
   ],
   "source": [
    "ageGroup = [20, 30, 40, 50, 60, marathon['Age'].max()]\n",
    "ageGroupLabels=['20-30 years old', '30-40 years old','40-50 years old', '50-60 years old', '60+ years old']\n",
    "marathon['Age Group'] = pd.cut(marathon['Age'], ageGroup, labels = ageGroupLabels)\n",
    "marathon_crosstab = pd.crosstab(marathon['Age Group'], 'Counts')\n",
    "marathon_crosstab"
   ]
  },
  {
   "cell_type": "markdown",
   "id": "c618f6a1",
   "metadata": {},
   "source": [
    "除此之外，我们还可以计算累计频数，累计频数百分比、相对"
   ]
  },
  {
   "cell_type": "code",
   "execution_count": 19,
   "id": "14b48cae",
   "metadata": {},
   "outputs": [
    {
     "data": {
      "text/html": [
       "<div>\n",
       "<style scoped>\n",
       "    .dataframe tbody tr th:only-of-type {\n",
       "        vertical-align: middle;\n",
       "    }\n",
       "\n",
       "    .dataframe tbody tr th {\n",
       "        vertical-align: top;\n",
       "    }\n",
       "\n",
       "    .dataframe thead th {\n",
       "        text-align: right;\n",
       "    }\n",
       "</style>\n",
       "<table border=\"1\" class=\"dataframe\">\n",
       "  <thead>\n",
       "    <tr style=\"text-align: right;\">\n",
       "      <th>col_0</th>\n",
       "      <th>Counts</th>\n",
       "      <th>Cumsum</th>\n",
       "      <th>Cumpercent</th>\n",
       "    </tr>\n",
       "    <tr>\n",
       "      <th>Age Group</th>\n",
       "      <th></th>\n",
       "      <th></th>\n",
       "      <th></th>\n",
       "    </tr>\n",
       "  </thead>\n",
       "  <tbody>\n",
       "    <tr>\n",
       "      <th>20-30 years old</th>\n",
       "      <td>5</td>\n",
       "      <td>5</td>\n",
       "      <td>12.5</td>\n",
       "    </tr>\n",
       "    <tr>\n",
       "      <th>30-40 years old</th>\n",
       "      <td>11</td>\n",
       "      <td>16</td>\n",
       "      <td>40.0</td>\n",
       "    </tr>\n",
       "    <tr>\n",
       "      <th>40-50 years old</th>\n",
       "      <td>14</td>\n",
       "      <td>30</td>\n",
       "      <td>75.0</td>\n",
       "    </tr>\n",
       "    <tr>\n",
       "      <th>50-60 years old</th>\n",
       "      <td>6</td>\n",
       "      <td>36</td>\n",
       "      <td>90.0</td>\n",
       "    </tr>\n",
       "    <tr>\n",
       "      <th>60+ years old</th>\n",
       "      <td>4</td>\n",
       "      <td>40</td>\n",
       "      <td>100.0</td>\n",
       "    </tr>\n",
       "  </tbody>\n",
       "</table>\n",
       "</div>"
      ],
      "text/plain": [
       "col_0            Counts  Cumsum  Cumpercent\n",
       "Age Group                                  \n",
       "20-30 years old       5       5        12.5\n",
       "30-40 years old      11      16        40.0\n",
       "40-50 years old      14      30        75.0\n",
       "50-60 years old       6      36        90.0\n",
       "60+ years old         4      40       100.0"
      ]
     },
     "execution_count": 19,
     "metadata": {},
     "output_type": "execute_result"
    }
   ],
   "source": [
    "marathon_crosstab['Cumsum'] = marathon_crosstab['Counts'].cumsum()\n",
    "marathon_crosstab['Cumpercent'] = 100*marathon_crosstab.Cumsum/marathon_crosstab['Counts'].sum()\n",
    "marathon_crosstab"
   ]
  },
  {
   "cell_type": "markdown",
   "id": "47b954e8",
   "metadata": {},
   "source": [
    "下面，我们可以基于频数表，绘制频数直方图了"
   ]
  },
  {
   "cell_type": "code",
   "execution_count": 20,
   "id": "84b76272",
   "metadata": {},
   "outputs": [
    {
     "data": {
      "image/png": "[encoded data removed]",
      "text/plain": [
       "<Figure size 432x288 with 1 Axes>"
      ]
     },
     "metadata": {
      "needs_background": "light"
     },
     "output_type": "display_data"
    }
   ],
   "source": [
    "plt.hist(x=marathon['Age'], bins=ageGroup)\n",
    "plt.xlabel('Age')\n",
    "plt.ylabel('Frequency')\n",
    "plt.vlines(marathon['Age'].mean(), ymin=0, ymax=14, color='r', linestyles='-.')\n",
    "plt.show()"
   ]
  },
  {
   "cell_type": "code",
   "execution_count": 21,
   "id": "5f0215c8",
   "metadata": {},
   "outputs": [
    {
     "data": {
      "image/png": "[encoded data removed]",
      "text/plain": [
       "<Figure size 432x288 with 1 Axes>"
      ]
     },
     "metadata": {
      "needs_background": "light"
     },
     "output_type": "display_data"
    }
   ],
   "source": [
    "plt.hist(x=marathon['Age'], bins=ageGroup, cumulative=True)\n",
    "plt.xlabel('Age')\n",
    "plt.ylabel('Cumulative Frequency')\n",
    "\n",
    "plt.show()"
   ]
  },
  {
   "cell_type": "markdown",
   "id": "6bf10ee8",
   "metadata": {},
   "source": [
    "# 用表格方法汇总两个变量的数据\n",
    "\n",
    "## [交叉分组表](https://pbpython.com/pandas-pivot-table-explained.html)"
   ]
  },
  {
   "cell_type": "code",
   "execution_count": 23,
   "id": "a32893c0",
   "metadata": {},
   "outputs": [
    {
     "data": {
      "text/html": [
       "<div>\n",
       "<style scoped>\n",
       "    .dataframe tbody tr th:only-of-type {\n",
       "        vertical-align: middle;\n",
       "    }\n",
       "\n",
       "    .dataframe tbody tr th {\n",
       "        vertical-align: top;\n",
       "    }\n",
       "\n",
       "    .dataframe thead th {\n",
       "        text-align: right;\n",
       "    }\n",
       "</style>\n",
       "<table border=\"1\" class=\"dataframe\">\n",
       "  <thead>\n",
       "    <tr style=\"text-align: right;\">\n",
       "      <th></th>\n",
       "      <th>Restaurant</th>\n",
       "      <th>Quality Rating</th>\n",
       "      <th>Meal Price ($)</th>\n",
       "    </tr>\n",
       "  </thead>\n",
       "  <tbody>\n",
       "    <tr>\n",
       "      <th>0</th>\n",
       "      <td>1</td>\n",
       "      <td>Good</td>\n",
       "      <td>18</td>\n",
       "    </tr>\n",
       "    <tr>\n",
       "      <th>1</th>\n",
       "      <td>2</td>\n",
       "      <td>Very Good</td>\n",
       "      <td>22</td>\n",
       "    </tr>\n",
       "    <tr>\n",
       "      <th>2</th>\n",
       "      <td>3</td>\n",
       "      <td>Good</td>\n",
       "      <td>28</td>\n",
       "    </tr>\n",
       "    <tr>\n",
       "      <th>3</th>\n",
       "      <td>4</td>\n",
       "      <td>Excellent</td>\n",
       "      <td>38</td>\n",
       "    </tr>\n",
       "    <tr>\n",
       "      <th>4</th>\n",
       "      <td>5</td>\n",
       "      <td>Very Good</td>\n",
       "      <td>33</td>\n",
       "    </tr>\n",
       "    <tr>\n",
       "      <th>...</th>\n",
       "      <td>...</td>\n",
       "      <td>...</td>\n",
       "      <td>...</td>\n",
       "    </tr>\n",
       "    <tr>\n",
       "      <th>295</th>\n",
       "      <td>296</td>\n",
       "      <td>Good</td>\n",
       "      <td>17</td>\n",
       "    </tr>\n",
       "    <tr>\n",
       "      <th>296</th>\n",
       "      <td>297</td>\n",
       "      <td>Good</td>\n",
       "      <td>16</td>\n",
       "    </tr>\n",
       "    <tr>\n",
       "      <th>297</th>\n",
       "      <td>298</td>\n",
       "      <td>Good</td>\n",
       "      <td>15</td>\n",
       "    </tr>\n",
       "    <tr>\n",
       "      <th>298</th>\n",
       "      <td>299</td>\n",
       "      <td>Very Good</td>\n",
       "      <td>38</td>\n",
       "    </tr>\n",
       "    <tr>\n",
       "      <th>299</th>\n",
       "      <td>300</td>\n",
       "      <td>Very Good</td>\n",
       "      <td>31</td>\n",
       "    </tr>\n",
       "  </tbody>\n",
       "</table>\n",
       "<p>300 rows × 3 columns</p>\n",
       "</div>"
      ],
      "text/plain": [
       "     Restaurant Quality Rating  Meal Price ($)\n",
       "0             1           Good              18\n",
       "1             2      Very Good              22\n",
       "2             3           Good              28\n",
       "3             4      Excellent              38\n",
       "4             5      Very Good              33\n",
       "..          ...            ...             ...\n",
       "295         296           Good              17\n",
       "296         297           Good              16\n",
       "297         298           Good              15\n",
       "298         299      Very Good              38\n",
       "299         300      Very Good              31\n",
       "\n",
       "[300 rows x 3 columns]"
      ]
     },
     "execution_count": 23,
     "metadata": {},
     "output_type": "execute_result"
    }
   ],
   "source": [
    "restaurant = pd.read_csv(DATA / 'Restaurant.csv')\n",
    "restaurant"
   ]
  },
  {
   "cell_type": "code",
   "execution_count": 24,
   "id": "d821a5ab",
   "metadata": {},
   "outputs": [
    {
     "data": {
      "text/html": [
       "<div>\n",
       "<style scoped>\n",
       "    .dataframe tbody tr th:only-of-type {\n",
       "        vertical-align: middle;\n",
       "    }\n",
       "\n",
       "    .dataframe tbody tr th {\n",
       "        vertical-align: top;\n",
       "    }\n",
       "\n",
       "    .dataframe thead th {\n",
       "        text-align: right;\n",
       "    }\n",
       "</style>\n",
       "<table border=\"1\" class=\"dataframe\">\n",
       "  <thead>\n",
       "    <tr style=\"text-align: right;\">\n",
       "      <th></th>\n",
       "      <th>Restaurant</th>\n",
       "      <th>Quality Rating</th>\n",
       "      <th>Meal Price ($)</th>\n",
       "      <th>bin</th>\n",
       "    </tr>\n",
       "  </thead>\n",
       "  <tbody>\n",
       "    <tr>\n",
       "      <th>0</th>\n",
       "      <td>1</td>\n",
       "      <td>Good</td>\n",
       "      <td>18</td>\n",
       "      <td>(0, 19]</td>\n",
       "    </tr>\n",
       "    <tr>\n",
       "      <th>1</th>\n",
       "      <td>2</td>\n",
       "      <td>Very Good</td>\n",
       "      <td>22</td>\n",
       "      <td>(19, 29]</td>\n",
       "    </tr>\n",
       "    <tr>\n",
       "      <th>2</th>\n",
       "      <td>3</td>\n",
       "      <td>Good</td>\n",
       "      <td>28</td>\n",
       "      <td>(19, 29]</td>\n",
       "    </tr>\n",
       "    <tr>\n",
       "      <th>3</th>\n",
       "      <td>4</td>\n",
       "      <td>Excellent</td>\n",
       "      <td>38</td>\n",
       "      <td>(29, 39]</td>\n",
       "    </tr>\n",
       "    <tr>\n",
       "      <th>4</th>\n",
       "      <td>5</td>\n",
       "      <td>Very Good</td>\n",
       "      <td>33</td>\n",
       "      <td>(29, 39]</td>\n",
       "    </tr>\n",
       "    <tr>\n",
       "      <th>...</th>\n",
       "      <td>...</td>\n",
       "      <td>...</td>\n",
       "      <td>...</td>\n",
       "      <td>...</td>\n",
       "    </tr>\n",
       "    <tr>\n",
       "      <th>295</th>\n",
       "      <td>296</td>\n",
       "      <td>Good</td>\n",
       "      <td>17</td>\n",
       "      <td>(0, 19]</td>\n",
       "    </tr>\n",
       "    <tr>\n",
       "      <th>296</th>\n",
       "      <td>297</td>\n",
       "      <td>Good</td>\n",
       "      <td>16</td>\n",
       "      <td>(0, 19]</td>\n",
       "    </tr>\n",
       "    <tr>\n",
       "      <th>297</th>\n",
       "      <td>298</td>\n",
       "      <td>Good</td>\n",
       "      <td>15</td>\n",
       "      <td>(0, 19]</td>\n",
       "    </tr>\n",
       "    <tr>\n",
       "      <th>298</th>\n",
       "      <td>299</td>\n",
       "      <td>Very Good</td>\n",
       "      <td>38</td>\n",
       "      <td>(29, 39]</td>\n",
       "    </tr>\n",
       "    <tr>\n",
       "      <th>299</th>\n",
       "      <td>300</td>\n",
       "      <td>Very Good</td>\n",
       "      <td>31</td>\n",
       "      <td>(29, 39]</td>\n",
       "    </tr>\n",
       "  </tbody>\n",
       "</table>\n",
       "<p>300 rows × 4 columns</p>\n",
       "</div>"
      ],
      "text/plain": [
       "     Restaurant Quality Rating  Meal Price ($)       bin\n",
       "0             1           Good              18   (0, 19]\n",
       "1             2      Very Good              22  (19, 29]\n",
       "2             3           Good              28  (19, 29]\n",
       "3             4      Excellent              38  (29, 39]\n",
       "4             5      Very Good              33  (29, 39]\n",
       "..          ...            ...             ...       ...\n",
       "295         296           Good              17   (0, 19]\n",
       "296         297           Good              16   (0, 19]\n",
       "297         298           Good              15   (0, 19]\n",
       "298         299      Very Good              38  (29, 39]\n",
       "299         300      Very Good              31  (29, 39]\n",
       "\n",
       "[300 rows x 4 columns]"
      ]
     },
     "execution_count": 24,
     "metadata": {},
     "output_type": "execute_result"
    }
   ],
   "source": [
    "restaurant['bin'] = pd.cut(restaurant['Meal Price ($)'], [0, 19, 29, 39, 49])\n",
    "restaurant"
   ]
  },
  {
   "cell_type": "code",
   "execution_count": 25,
   "id": "f2bbead3",
   "metadata": {},
   "outputs": [
    {
     "data": {
      "text/html": [
       "<div>\n",
       "<style scoped>\n",
       "    .dataframe tbody tr th:only-of-type {\n",
       "        vertical-align: middle;\n",
       "    }\n",
       "\n",
       "    .dataframe tbody tr th {\n",
       "        vertical-align: top;\n",
       "    }\n",
       "\n",
       "    .dataframe thead th {\n",
       "        text-align: right;\n",
       "    }\n",
       "</style>\n",
       "<table border=\"1\" class=\"dataframe\">\n",
       "  <thead>\n",
       "    <tr style=\"text-align: right;\">\n",
       "      <th>bin</th>\n",
       "      <th>(0, 19]</th>\n",
       "      <th>(19, 29]</th>\n",
       "      <th>(29, 39]</th>\n",
       "      <th>(39, 49]</th>\n",
       "    </tr>\n",
       "    <tr>\n",
       "      <th>Quality Rating</th>\n",
       "      <th></th>\n",
       "      <th></th>\n",
       "      <th></th>\n",
       "      <th></th>\n",
       "    </tr>\n",
       "  </thead>\n",
       "  <tbody>\n",
       "    <tr>\n",
       "      <th>Excellent</th>\n",
       "      <td>2</td>\n",
       "      <td>14</td>\n",
       "      <td>28</td>\n",
       "      <td>22</td>\n",
       "    </tr>\n",
       "    <tr>\n",
       "      <th>Good</th>\n",
       "      <td>42</td>\n",
       "      <td>40</td>\n",
       "      <td>2</td>\n",
       "      <td>0</td>\n",
       "    </tr>\n",
       "    <tr>\n",
       "      <th>Very Good</th>\n",
       "      <td>34</td>\n",
       "      <td>64</td>\n",
       "      <td>46</td>\n",
       "      <td>6</td>\n",
       "    </tr>\n",
       "  </tbody>\n",
       "</table>\n",
       "</div>"
      ],
      "text/plain": [
       "bin             (0, 19]  (19, 29]  (29, 39]  (39, 49]\n",
       "Quality Rating                                       \n",
       "Excellent             2        14        28        22\n",
       "Good                 42        40         2         0\n",
       "Very Good            34        64        46         6"
      ]
     },
     "execution_count": 25,
     "metadata": {},
     "output_type": "execute_result"
    }
   ],
   "source": [
    "pd.crosstab(restaurant['Quality Rating'], restaurant['bin'])"
   ]
  },
  {
   "cell_type": "markdown",
   "id": "4a146457",
   "metadata": {},
   "source": [
    "## 辛普森悖论\n",
    "\n",
    "我们常常合并或综合两个或两个以上的交叉分组表中的数据，生成一个汇总的交叉分组表，以显示两个变量的相关性。\n",
    "\n",
    "在这种情形下，从两个或多个单独的交叉分组表得到的结论与一个综合的交叉分组表数据得到的结论可能截然相反。"
   ]
  },
  {
   "cell_type": "code",
   "execution_count": 26,
   "id": "4e664361",
   "metadata": {},
   "outputs": [
    {
     "data": {
      "text/html": [
       "<div>\n",
       "<style scoped>\n",
       "    .dataframe tbody tr th:only-of-type {\n",
       "        vertical-align: middle;\n",
       "    }\n",
       "\n",
       "    .dataframe tbody tr th {\n",
       "        vertical-align: top;\n",
       "    }\n",
       "\n",
       "    .dataframe thead th {\n",
       "        text-align: right;\n",
       "    }\n",
       "</style>\n",
       "<table border=\"1\" class=\"dataframe\">\n",
       "  <thead>\n",
       "    <tr style=\"text-align: right;\">\n",
       "      <th></th>\n",
       "      <th>Judge</th>\n",
       "      <th>Court</th>\n",
       "      <th>Verdict</th>\n",
       "      <th>Count</th>\n",
       "    </tr>\n",
       "  </thead>\n",
       "  <tbody>\n",
       "    <tr>\n",
       "      <th>0</th>\n",
       "      <td>Eric</td>\n",
       "      <td>Municipal</td>\n",
       "      <td>Affirmed</td>\n",
       "      <td>100</td>\n",
       "    </tr>\n",
       "    <tr>\n",
       "      <th>1</th>\n",
       "      <td>Eric</td>\n",
       "      <td>Municipal</td>\n",
       "      <td>Overturn</td>\n",
       "      <td>18</td>\n",
       "    </tr>\n",
       "    <tr>\n",
       "      <th>2</th>\n",
       "      <td>Eric</td>\n",
       "      <td>Common</td>\n",
       "      <td>Affirmed</td>\n",
       "      <td>29</td>\n",
       "    </tr>\n",
       "    <tr>\n",
       "      <th>3</th>\n",
       "      <td>Eric</td>\n",
       "      <td>Common</td>\n",
       "      <td>Overturn</td>\n",
       "      <td>3</td>\n",
       "    </tr>\n",
       "    <tr>\n",
       "      <th>4</th>\n",
       "      <td>Richard</td>\n",
       "      <td>Municipal</td>\n",
       "      <td>Affirmed</td>\n",
       "      <td>20</td>\n",
       "    </tr>\n",
       "    <tr>\n",
       "      <th>5</th>\n",
       "      <td>Richard</td>\n",
       "      <td>Municipal</td>\n",
       "      <td>Overturn</td>\n",
       "      <td>5</td>\n",
       "    </tr>\n",
       "    <tr>\n",
       "      <th>6</th>\n",
       "      <td>Richard</td>\n",
       "      <td>Common</td>\n",
       "      <td>Affirmed</td>\n",
       "      <td>90</td>\n",
       "    </tr>\n",
       "    <tr>\n",
       "      <th>7</th>\n",
       "      <td>Richard</td>\n",
       "      <td>Common</td>\n",
       "      <td>Overturn</td>\n",
       "      <td>10</td>\n",
       "    </tr>\n",
       "  </tbody>\n",
       "</table>\n",
       "</div>"
      ],
      "text/plain": [
       "     Judge      Court   Verdict  Count\n",
       "0     Eric  Municipal  Affirmed    100\n",
       "1     Eric  Municipal  Overturn     18\n",
       "2     Eric     Common  Affirmed     29\n",
       "3     Eric     Common  Overturn      3\n",
       "4  Richard  Municipal  Affirmed     20\n",
       "5  Richard  Municipal  Overturn      5\n",
       "6  Richard     Common  Affirmed     90\n",
       "7  Richard     Common  Overturn     10"
      ]
     },
     "execution_count": 26,
     "metadata": {},
     "output_type": "execute_result"
    }
   ],
   "source": [
    "judge = pd.read_csv(DATA / 'SimpsonJudge.csv')\n",
    "judge"
   ]
  },
  {
   "cell_type": "code",
   "execution_count": 27,
   "id": "cfffbe08",
   "metadata": {},
   "outputs": [
    {
     "data": {
      "text/html": [
       "<div>\n",
       "<style scoped>\n",
       "    .dataframe tbody tr th:only-of-type {\n",
       "        vertical-align: middle;\n",
       "    }\n",
       "\n",
       "    .dataframe tbody tr th {\n",
       "        vertical-align: top;\n",
       "    }\n",
       "\n",
       "    .dataframe thead th {\n",
       "        text-align: right;\n",
       "    }\n",
       "</style>\n",
       "<table border=\"1\" class=\"dataframe\">\n",
       "  <thead>\n",
       "    <tr style=\"text-align: right;\">\n",
       "      <th>Judge</th>\n",
       "      <th>Eric</th>\n",
       "      <th>Richard</th>\n",
       "      <th>Total</th>\n",
       "    </tr>\n",
       "    <tr>\n",
       "      <th>Verdict</th>\n",
       "      <th></th>\n",
       "      <th></th>\n",
       "      <th></th>\n",
       "    </tr>\n",
       "  </thead>\n",
       "  <tbody>\n",
       "    <tr>\n",
       "      <th>Affirmed</th>\n",
       "      <td>129</td>\n",
       "      <td>110</td>\n",
       "      <td>239</td>\n",
       "    </tr>\n",
       "    <tr>\n",
       "      <th>Overturn</th>\n",
       "      <td>21</td>\n",
       "      <td>15</td>\n",
       "      <td>36</td>\n",
       "    </tr>\n",
       "    <tr>\n",
       "      <th>Total</th>\n",
       "      <td>150</td>\n",
       "      <td>125</td>\n",
       "      <td>275</td>\n",
       "    </tr>\n",
       "  </tbody>\n",
       "</table>\n",
       "</div>"
      ],
      "text/plain": [
       "Judge     Eric  Richard  Total\n",
       "Verdict                       \n",
       "Affirmed   129      110    239\n",
       "Overturn    21       15     36\n",
       "Total      150      125    275"
      ]
     },
     "execution_count": 27,
     "metadata": {},
     "output_type": "execute_result"
    }
   ],
   "source": [
    "judge.pivot_table(index='Verdict',columns = ['Judge'], values='Count',\n",
    "                  aggfunc= np.sum, margins = True, margins_name='Total')"
   ]
  },
  {
   "cell_type": "markdown",
   "id": "b1933b37",
   "metadata": {},
   "source": [
    "在过去的3年中，两位法官在民事庭和市政庭主持审理案件，他们判决的部分案件被提出上诉。上诉法庭对大多数上诉案件维持原来的判决，但也有部分判决被推翻。以两个变量——判决（维持或推翻）和法庭类型（民事庭或市政庭）为依据，对每位法官构建交叉分组表。然后，假设通过综合法庭类型数据将两个交叉分组表合并。\n",
    "\n",
    "综合后的交叉分组表包含两个变量——判决（维持或推翻）和法官（勒基特或肯德尔）。这个交叉分组表给出了两位法官的上诉案件被判决维持或推翻的数量。下面的交叉分组表给出了这些结果，括号中的数是其旁边数值的列百分数。\n",
    "\n",
    "观察列百分数，我们看到法官 Eric 有 86% 的判决（129/150 = 86%）维持原来的判决，法官肯德尔有88%的判决维持原来的判决。\n",
    "\n",
    "从这个综合交叉分组表，我们可以认为法官肯德尔做得比较好，因为他的判决上诉后维持原来判决的比例比较高。但是，问题随之出现。\n",
    "\n",
    "下面未综合的交叉分组表是勒基特和肯德尔在两类法庭审理的案件，括号中的数是其旁边数值的列百分数。"
   ]
  },
  {
   "cell_type": "code",
   "execution_count": 28,
   "id": "0e162636",
   "metadata": {},
   "outputs": [
    {
     "data": {
      "text/html": [
       "<div>\n",
       "<style scoped>\n",
       "    .dataframe tbody tr th:only-of-type {\n",
       "        vertical-align: middle;\n",
       "    }\n",
       "\n",
       "    .dataframe tbody tr th {\n",
       "        vertical-align: top;\n",
       "    }\n",
       "\n",
       "    .dataframe thead tr th {\n",
       "        text-align: left;\n",
       "    }\n",
       "\n",
       "    .dataframe thead tr:last-of-type th {\n",
       "        text-align: right;\n",
       "    }\n",
       "</style>\n",
       "<table border=\"1\" class=\"dataframe\">\n",
       "  <thead>\n",
       "    <tr>\n",
       "      <th>Judge</th>\n",
       "      <th colspan=\"2\" halign=\"left\">Eric</th>\n",
       "      <th colspan=\"2\" halign=\"left\">Richard</th>\n",
       "      <th>Total</th>\n",
       "    </tr>\n",
       "    <tr>\n",
       "      <th>Court</th>\n",
       "      <th>Common</th>\n",
       "      <th>Municipal</th>\n",
       "      <th>Common</th>\n",
       "      <th>Municipal</th>\n",
       "      <th></th>\n",
       "    </tr>\n",
       "    <tr>\n",
       "      <th>Verdict</th>\n",
       "      <th></th>\n",
       "      <th></th>\n",
       "      <th></th>\n",
       "      <th></th>\n",
       "      <th></th>\n",
       "    </tr>\n",
       "  </thead>\n",
       "  <tbody>\n",
       "    <tr>\n",
       "      <th>Affirmed</th>\n",
       "      <td>29</td>\n",
       "      <td>100</td>\n",
       "      <td>90</td>\n",
       "      <td>20</td>\n",
       "      <td>239</td>\n",
       "    </tr>\n",
       "    <tr>\n",
       "      <th>Overturn</th>\n",
       "      <td>3</td>\n",
       "      <td>18</td>\n",
       "      <td>10</td>\n",
       "      <td>5</td>\n",
       "      <td>36</td>\n",
       "    </tr>\n",
       "    <tr>\n",
       "      <th>Total</th>\n",
       "      <td>32</td>\n",
       "      <td>118</td>\n",
       "      <td>100</td>\n",
       "      <td>25</td>\n",
       "      <td>275</td>\n",
       "    </tr>\n",
       "  </tbody>\n",
       "</table>\n",
       "</div>"
      ],
      "text/plain": [
       "Judge      Eric           Richard           Total\n",
       "Court    Common Municipal  Common Municipal      \n",
       "Verdict                                          \n",
       "Affirmed     29       100      90        20   239\n",
       "Overturn      3        18      10         5    36\n",
       "Total        32       118     100        25   275"
      ]
     },
     "execution_count": 28,
     "metadata": {},
     "output_type": "execute_result"
    }
   ],
   "source": [
    "judge.pivot_table(index='Verdict',columns = ['Judge', 'Court'], values='Count',\n",
    "                  aggfunc=np.sum, margins = True, margins_name='Total')"
   ]
  },
  {
   "cell_type": "markdown",
   "id": "e8376501",
   "metadata": {},
   "source": [
    "从法官 Eric 的交叉分组表和列百分数，我们看到他：\n",
    "- 在民事庭审理的案件中有 91% 上诉案件（29/32=91%）维持原来的判决，\n",
    "- 在市政庭审理的案件中有 85% 维持原来的判决（100/118=85%）。\n",
    "\n",
    "从法官 Richard 的交叉分组表和列百分数，我们看到他\n",
    "- 在民事庭审理的案件中有 90% 上诉案件维持原来的判决，（90/100=90%）\n",
    "- 在市政庭审理的案件中有 80% 维持原来的判决。（20/25=80%）\n",
    "\n",
    "因此，当我们未综合数据时，我们看到法官 Eric 有更好的记录，因为法官 Eric 的判决在两个法庭中维持原来的判决的比例更高。\n",
    "\n",
    "这个结果与我们综合两个法庭数据得到的结论相**矛盾**。最初的交叉分组表表明法官肯德尔有较好的记录。\n",
    "\n",
    "依据**综合和未综合数据得到的相反结论**被称为辛普森悖论（Simpsons paradox）。\n",
    "\n",
    "最初的交叉分组表是综合两个法庭分开的交叉分组表中的数据得到的。注意，对两位法官来说，上诉案件**被推翻的比例在市政庭比民事庭要高**。\n",
    "\n",
    "因为法官 Eric 审理的案件**大多数在市政庭**，因此综合后的数据偏向于法官 Richard。\n",
    "\n",
    "可是，我们观察两个法庭单独的交叉分组表时，其清楚地显示了法官 Eric 有较好的记录。\n",
    "\n",
    "因此，对最初的综合交叉分组表，我们看到法庭类型是一个隐藏的变量，当评价两位法官的记录时，它是不可忽视的变量。\n",
    "\n",
    "由于辛普森悖论的可能性，我们应该认识到根据未综合还是综合交叉分组表数据得出的结论或解释有可能截然相反。\n",
    "\n",
    "在得出结论之前，你应该审查交叉分组表是综合形式还是未综合形式，以便提出较好的见解和结论。\n",
    "\n",
    "特别地，当交叉分组表包括综合数据时，你应该审查是否存在可能影响结论的隐藏变量，使得分开的或未综合交叉分组表提供不同的、可能更好的见解和结论。"
   ]
  },
  {
   "cell_type": "markdown",
   "id": "aec961ca",
   "metadata": {},
   "source": [
    "## [案例分析：种族歧视真的存在吗？](https://sociologicalgobbledygook.com/simpsons-paradox-homework-example.html)\n",
    "\n",
    "使用的数据集详细解释可以参考：[Simpson’s Paradox: A Data Set and Discrimination Case Study](http://jse.amstat.org/v22n1/mickel.pdf)\n",
    "\n",
    "由于在分析的过程中会使用许多列联表，如果对如何在 pandas 中使用列联表不太熟悉，可以[参考这里](https://pbpython.com/pandas-pivot-table-explained.html)\n",
    "\n"
   ]
  },
  {
   "cell_type": "code",
   "execution_count": 29,
   "id": "7a181daf",
   "metadata": {},
   "outputs": [
    {
     "data": {
      "text/html": [
       "<div>\n",
       "<style scoped>\n",
       "    .dataframe tbody tr th:only-of-type {\n",
       "        vertical-align: middle;\n",
       "    }\n",
       "\n",
       "    .dataframe tbody tr th {\n",
       "        vertical-align: top;\n",
       "    }\n",
       "\n",
       "    .dataframe thead th {\n",
       "        text-align: right;\n",
       "    }\n",
       "</style>\n",
       "<table border=\"1\" class=\"dataframe\">\n",
       "  <thead>\n",
       "    <tr style=\"text-align: right;\">\n",
       "      <th></th>\n",
       "      <th>Id</th>\n",
       "      <th>Age Cohort</th>\n",
       "      <th>Age</th>\n",
       "      <th>Gender</th>\n",
       "      <th>Expenditures</th>\n",
       "      <th>Ethnicity</th>\n",
       "    </tr>\n",
       "  </thead>\n",
       "  <tbody>\n",
       "    <tr>\n",
       "      <th>0</th>\n",
       "      <td>10210</td>\n",
       "      <td>13 to 17</td>\n",
       "      <td>17</td>\n",
       "      <td>Female</td>\n",
       "      <td>2113</td>\n",
       "      <td>White not Hispanic</td>\n",
       "    </tr>\n",
       "    <tr>\n",
       "      <th>1</th>\n",
       "      <td>10409</td>\n",
       "      <td>22 to 50</td>\n",
       "      <td>37</td>\n",
       "      <td>Male</td>\n",
       "      <td>41924</td>\n",
       "      <td>White not Hispanic</td>\n",
       "    </tr>\n",
       "    <tr>\n",
       "      <th>2</th>\n",
       "      <td>10486</td>\n",
       "      <td>0 to 5</td>\n",
       "      <td>3</td>\n",
       "      <td>Male</td>\n",
       "      <td>1454</td>\n",
       "      <td>Hispanic</td>\n",
       "    </tr>\n",
       "    <tr>\n",
       "      <th>3</th>\n",
       "      <td>10538</td>\n",
       "      <td>18 to 21</td>\n",
       "      <td>19</td>\n",
       "      <td>Female</td>\n",
       "      <td>6400</td>\n",
       "      <td>Hispanic</td>\n",
       "    </tr>\n",
       "    <tr>\n",
       "      <th>4</th>\n",
       "      <td>10568</td>\n",
       "      <td>13 to 17</td>\n",
       "      <td>13</td>\n",
       "      <td>Male</td>\n",
       "      <td>4412</td>\n",
       "      <td>White not Hispanic</td>\n",
       "    </tr>\n",
       "  </tbody>\n",
       "</table>\n",
       "</div>"
      ],
      "text/plain": [
       "      Id Age Cohort  Age  Gender  Expenditures           Ethnicity\n",
       "0  10210   13 to 17   17  Female          2113  White not Hispanic\n",
       "1  10409   22 to 50   37    Male         41924  White not Hispanic\n",
       "2  10486     0 to 5    3    Male          1454            Hispanic\n",
       "3  10538   18 to 21   19  Female          6400            Hispanic\n",
       "4  10568   13 to 17   13    Male          4412  White not Hispanic"
      ]
     },
     "execution_count": 29,
     "metadata": {},
     "output_type": "execute_result"
    }
   ],
   "source": [
    "df = pd.read_csv(DATA/'paradox_data.csv')\n",
    "df.head()"
   ]
  },
  {
   "cell_type": "code",
   "execution_count": 30,
   "id": "47e5f8ec",
   "metadata": {},
   "outputs": [
    {
     "data": {
      "text/html": [
       "<div>\n",
       "<style scoped>\n",
       "    .dataframe tbody tr th:only-of-type {\n",
       "        vertical-align: middle;\n",
       "    }\n",
       "\n",
       "    .dataframe tbody tr th {\n",
       "        vertical-align: top;\n",
       "    }\n",
       "\n",
       "    .dataframe thead tr th {\n",
       "        text-align: left;\n",
       "    }\n",
       "\n",
       "    .dataframe thead tr:last-of-type th {\n",
       "        text-align: right;\n",
       "    }\n",
       "</style>\n",
       "<table border=\"1\" class=\"dataframe\">\n",
       "  <thead>\n",
       "    <tr>\n",
       "      <th></th>\n",
       "      <th>mean</th>\n",
       "      <th>len</th>\n",
       "    </tr>\n",
       "    <tr>\n",
       "      <th></th>\n",
       "      <th>Expenditures</th>\n",
       "      <th>Expenditures</th>\n",
       "    </tr>\n",
       "    <tr>\n",
       "      <th>Ethnicity</th>\n",
       "      <th></th>\n",
       "      <th></th>\n",
       "    </tr>\n",
       "  </thead>\n",
       "  <tbody>\n",
       "    <tr>\n",
       "      <th>American Indian</th>\n",
       "      <td>36438.250000</td>\n",
       "      <td>4</td>\n",
       "    </tr>\n",
       "    <tr>\n",
       "      <th>Asian</th>\n",
       "      <td>18392.372093</td>\n",
       "      <td>129</td>\n",
       "    </tr>\n",
       "    <tr>\n",
       "      <th>Black</th>\n",
       "      <td>20884.593220</td>\n",
       "      <td>59</td>\n",
       "    </tr>\n",
       "    <tr>\n",
       "      <th>Hispanic</th>\n",
       "      <td>11065.569149</td>\n",
       "      <td>376</td>\n",
       "    </tr>\n",
       "    <tr>\n",
       "      <th>Multi Race</th>\n",
       "      <td>4456.730769</td>\n",
       "      <td>26</td>\n",
       "    </tr>\n",
       "    <tr>\n",
       "      <th>Native Hawaiian</th>\n",
       "      <td>42782.333333</td>\n",
       "      <td>3</td>\n",
       "    </tr>\n",
       "    <tr>\n",
       "      <th>Other</th>\n",
       "      <td>3316.500000</td>\n",
       "      <td>2</td>\n",
       "    </tr>\n",
       "    <tr>\n",
       "      <th>White not Hispanic</th>\n",
       "      <td>24697.548628</td>\n",
       "      <td>401</td>\n",
       "    </tr>\n",
       "  </tbody>\n",
       "</table>\n",
       "</div>"
      ],
      "text/plain": [
       "                            mean          len\n",
       "                    Expenditures Expenditures\n",
       "Ethnicity                                    \n",
       "American Indian     36438.250000            4\n",
       "Asian               18392.372093          129\n",
       "Black               20884.593220           59\n",
       "Hispanic            11065.569149          376\n",
       "Multi Race           4456.730769           26\n",
       "Native Hawaiian     42782.333333            3\n",
       "Other                3316.500000            2\n",
       "White not Hispanic  24697.548628          401"
      ]
     },
     "execution_count": 30,
     "metadata": {},
     "output_type": "execute_result"
    }
   ],
   "source": [
    "pd.pivot_table(df,index=[\"Ethnicity\"],values=[\"Expenditures\"],aggfunc=[np.mean,len])"
   ]
  },
  {
   "cell_type": "markdown",
   "id": "9061de11",
   "metadata": {},
   "source": [
    "通过列联表发现，有一些少数族裔的样本数量偏少，为了方便分析，我们将样本数量少于 200 的少数族裔作为一组。"
   ]
  },
  {
   "cell_type": "code",
   "execution_count": 31,
   "id": "6152beb7",
   "metadata": {},
   "outputs": [
    {
     "data": {
      "text/html": [
       "<div>\n",
       "<style scoped>\n",
       "    .dataframe tbody tr th:only-of-type {\n",
       "        vertical-align: middle;\n",
       "    }\n",
       "\n",
       "    .dataframe tbody tr th {\n",
       "        vertical-align: top;\n",
       "    }\n",
       "\n",
       "    .dataframe thead tr th {\n",
       "        text-align: left;\n",
       "    }\n",
       "\n",
       "    .dataframe thead tr:last-of-type th {\n",
       "        text-align: right;\n",
       "    }\n",
       "</style>\n",
       "<table border=\"1\" class=\"dataframe\">\n",
       "  <thead>\n",
       "    <tr>\n",
       "      <th></th>\n",
       "      <th>sum</th>\n",
       "      <th>mean</th>\n",
       "      <th>len</th>\n",
       "    </tr>\n",
       "    <tr>\n",
       "      <th></th>\n",
       "      <th>Expenditures</th>\n",
       "      <th>Expenditures</th>\n",
       "      <th>Expenditures</th>\n",
       "    </tr>\n",
       "    <tr>\n",
       "      <th>binned_eth</th>\n",
       "      <th></th>\n",
       "      <th></th>\n",
       "      <th></th>\n",
       "    </tr>\n",
       "  </thead>\n",
       "  <tbody>\n",
       "    <tr>\n",
       "      <th>hispanic</th>\n",
       "      <td>4160654</td>\n",
       "      <td>11065.569149</td>\n",
       "      <td>376</td>\n",
       "    </tr>\n",
       "    <tr>\n",
       "      <th>others</th>\n",
       "      <td>4001415</td>\n",
       "      <td>17943.565022</td>\n",
       "      <td>223</td>\n",
       "    </tr>\n",
       "    <tr>\n",
       "      <th>white</th>\n",
       "      <td>9903717</td>\n",
       "      <td>24697.548628</td>\n",
       "      <td>401</td>\n",
       "    </tr>\n",
       "  </tbody>\n",
       "</table>\n",
       "</div>"
      ],
      "text/plain": [
       "                    sum          mean          len\n",
       "           Expenditures  Expenditures Expenditures\n",
       "binned_eth                                        \n",
       "hispanic        4160654  11065.569149          376\n",
       "others          4001415  17943.565022          223\n",
       "white           9903717  24697.548628          401"
      ]
     },
     "execution_count": 31,
     "metadata": {},
     "output_type": "execute_result"
    }
   ],
   "source": [
    "def bin_ethnicity(eth):\n",
    "    if eth == \"White not Hispanic\":\n",
    "        return \"white\"\n",
    "    elif eth == \"Hispanic\":\n",
    "        return \"hispanic\"\n",
    "    return \"others\"\n",
    "df[\"binned_eth\"] =np.array([bin_ethnicity(x) for x in list(df[\"Ethnicity\"])])\n",
    "pd.pivot_table(df,index=[\"binned_eth\"],values=[\"Expenditures\"],aggfunc=[np.sum,np.mean,len])"
   ]
  },
  {
   "cell_type": "markdown",
   "id": "459ed42e",
   "metadata": {},
   "source": [
    "如果我们只看汇总之后的数据，我们会发现：\n",
    "- 无论是看均值、汇总数据或者是人数，白人族裔的治疗费用和治疗数量明显高于其他族裔\n",
    "\n",
    "如果我们没有深入探究数据分布，或许光凭借这一个数据结果，我们就可以得出结论：的确存在种族歧视。\n",
    "\n",
    "由于我们有两个定类变量（`性别`和）和两个定性变量（`年龄`和`治疗费用`），使用 `swarmplot` 可以帮助我们快速了解数据的分布情况："
   ]
  },
  {
   "cell_type": "code",
   "execution_count": 32,
   "id": "3c9a3266",
   "metadata": {},
   "outputs": [
    {
     "data": {
      "image/png": "[encoded data removed]",
      "text/plain": [
       "<Figure size 1287.23x504 with 2 Axes>"
      ]
     },
     "metadata": {
      "needs_background": "light"
     },
     "output_type": "display_data"
    }
   ],
   "source": [
    "sb.catplot(x=\"binned_eth\", y=\"Expenditures\", hue=\"Age Cohort\", col=\"Gender\", kind=\"swarm\", height=7, aspect=1.2, data=df)\n",
    "plt.show()"
   ]
  },
  {
   "cell_type": "markdown",
   "id": "05106ff3",
   "metadata": {},
   "source": [
    "从可视化结果来看\n",
    "- 22-50 和 51+ 两组的治疗费用要显著高于其他年龄段\n",
    "- 未成年阶段的治疗费用要显著低于其他年龄段\n",
    "- 大多数西裔在青少年阶段就已经投入了经费进行治疗\n",
    "\n",
    "接下来我们结合年龄段，得出列联表"
   ]
  },
  {
   "cell_type": "code",
   "execution_count": 33,
   "id": "35c809ef",
   "metadata": {},
   "outputs": [
    {
     "data": {
      "text/html": [
       "<div>\n",
       "<style scoped>\n",
       "    .dataframe tbody tr th:only-of-type {\n",
       "        vertical-align: middle;\n",
       "    }\n",
       "\n",
       "    .dataframe tbody tr th {\n",
       "        vertical-align: top;\n",
       "    }\n",
       "\n",
       "    .dataframe thead tr th {\n",
       "        text-align: left;\n",
       "    }\n",
       "\n",
       "    .dataframe thead tr:last-of-type th {\n",
       "        text-align: right;\n",
       "    }\n",
       "</style>\n",
       "<table border=\"1\" class=\"dataframe\">\n",
       "  <thead>\n",
       "    <tr>\n",
       "      <th></th>\n",
       "      <th></th>\n",
       "      <th>sum</th>\n",
       "      <th>mean</th>\n",
       "      <th>len</th>\n",
       "    </tr>\n",
       "    <tr>\n",
       "      <th></th>\n",
       "      <th></th>\n",
       "      <th>Expenditures</th>\n",
       "      <th>Expenditures</th>\n",
       "      <th>Expenditures</th>\n",
       "    </tr>\n",
       "    <tr>\n",
       "      <th>Age Cohort</th>\n",
       "      <th>binned_eth</th>\n",
       "      <th></th>\n",
       "      <th></th>\n",
       "      <th></th>\n",
       "    </tr>\n",
       "  </thead>\n",
       "  <tbody>\n",
       "    <tr>\n",
       "      <th rowspan=\"3\" valign=\"top\">0 to 5</th>\n",
       "      <th>hispanic</th>\n",
       "      <td>61301</td>\n",
       "      <td>1393.204545</td>\n",
       "      <td>44</td>\n",
       "    </tr>\n",
       "    <tr>\n",
       "      <th>others</th>\n",
       "      <td>27414</td>\n",
       "      <td>1523.000000</td>\n",
       "      <td>18</td>\n",
       "    </tr>\n",
       "    <tr>\n",
       "      <th>white</th>\n",
       "      <td>27338</td>\n",
       "      <td>1366.900000</td>\n",
       "      <td>20</td>\n",
       "    </tr>\n",
       "    <tr>\n",
       "      <th rowspan=\"3\" valign=\"top\">13 to 17</th>\n",
       "      <th>hispanic</th>\n",
       "      <td>407394</td>\n",
       "      <td>3955.281553</td>\n",
       "      <td>103</td>\n",
       "    </tr>\n",
       "    <tr>\n",
       "      <th>others</th>\n",
       "      <td>162608</td>\n",
       "      <td>3871.619048</td>\n",
       "      <td>42</td>\n",
       "    </tr>\n",
       "    <tr>\n",
       "      <th>white</th>\n",
       "      <td>261592</td>\n",
       "      <td>3904.358209</td>\n",
       "      <td>67</td>\n",
       "    </tr>\n",
       "    <tr>\n",
       "      <th rowspan=\"3\" valign=\"top\">18 to 21</th>\n",
       "      <th>hispanic</th>\n",
       "      <td>776868</td>\n",
       "      <td>9959.846154</td>\n",
       "      <td>78</td>\n",
       "    </tr>\n",
       "    <tr>\n",
       "      <th>others</th>\n",
       "      <td>491770</td>\n",
       "      <td>9457.115385</td>\n",
       "      <td>52</td>\n",
       "    </tr>\n",
       "    <tr>\n",
       "      <th>white</th>\n",
       "      <td>699181</td>\n",
       "      <td>10133.057971</td>\n",
       "      <td>69</td>\n",
       "    </tr>\n",
       "    <tr>\n",
       "      <th rowspan=\"3\" valign=\"top\">22 to 50</th>\n",
       "      <th>hispanic</th>\n",
       "      <td>1759737</td>\n",
       "      <td>40924.116279</td>\n",
       "      <td>43</td>\n",
       "    </tr>\n",
       "    <tr>\n",
       "      <th>others</th>\n",
       "      <td>1982607</td>\n",
       "      <td>39652.140000</td>\n",
       "      <td>50</td>\n",
       "    </tr>\n",
       "    <tr>\n",
       "      <th>white</th>\n",
       "      <td>5344954</td>\n",
       "      <td>40187.624060</td>\n",
       "      <td>133</td>\n",
       "    </tr>\n",
       "    <tr>\n",
       "      <th rowspan=\"3\" valign=\"top\">51+</th>\n",
       "      <th>hispanic</th>\n",
       "      <td>944945</td>\n",
       "      <td>55585.000000</td>\n",
       "      <td>17</td>\n",
       "    </tr>\n",
       "    <tr>\n",
       "      <th>others</th>\n",
       "      <td>1252128</td>\n",
       "      <td>54440.347826</td>\n",
       "      <td>23</td>\n",
       "    </tr>\n",
       "    <tr>\n",
       "      <th>white</th>\n",
       "      <td>3476248</td>\n",
       "      <td>52670.424242</td>\n",
       "      <td>66</td>\n",
       "    </tr>\n",
       "    <tr>\n",
       "      <th rowspan=\"3\" valign=\"top\">6 to 12</th>\n",
       "      <th>hispanic</th>\n",
       "      <td>210409</td>\n",
       "      <td>2312.186813</td>\n",
       "      <td>91</td>\n",
       "    </tr>\n",
       "    <tr>\n",
       "      <th>others</th>\n",
       "      <td>84888</td>\n",
       "      <td>2233.894737</td>\n",
       "      <td>38</td>\n",
       "    </tr>\n",
       "    <tr>\n",
       "      <th>white</th>\n",
       "      <td>94404</td>\n",
       "      <td>2052.260870</td>\n",
       "      <td>46</td>\n",
       "    </tr>\n",
       "  </tbody>\n",
       "</table>\n",
       "</div>"
      ],
      "text/plain": [
       "                               sum          mean          len\n",
       "                      Expenditures  Expenditures Expenditures\n",
       "Age Cohort binned_eth                                        \n",
       "0 to 5     hispanic          61301   1393.204545           44\n",
       "           others            27414   1523.000000           18\n",
       "           white             27338   1366.900000           20\n",
       "13 to 17   hispanic         407394   3955.281553          103\n",
       "           others           162608   3871.619048           42\n",
       "           white            261592   3904.358209           67\n",
       "18 to 21   hispanic         776868   9959.846154           78\n",
       "           others           491770   9457.115385           52\n",
       "           white            699181  10133.057971           69\n",
       "22 to 50   hispanic        1759737  40924.116279           43\n",
       "           others          1982607  39652.140000           50\n",
       "           white           5344954  40187.624060          133\n",
       "51+        hispanic         944945  55585.000000           17\n",
       "           others          1252128  54440.347826           23\n",
       "           white           3476248  52670.424242           66\n",
       "6 to 12    hispanic         210409   2312.186813           91\n",
       "           others            84888   2233.894737           38\n",
       "           white             94404   2052.260870           46"
      ]
     },
     "execution_count": 33,
     "metadata": {},
     "output_type": "execute_result"
    }
   ],
   "source": [
    "pd.pivot_table(df,index=[\"Age Cohort\",\"binned_eth\"], values=\"Expenditures\", aggfunc=[np.sum,np.mean,len])"
   ]
  },
  {
   "cell_type": "markdown",
   "id": "ae3e1832",
   "metadata": {},
   "source": [
    "结合上面的列联表和 `swarmplot` 的可视化结果，我们或许可以得知，汇总数据中白人族裔的治疗费用比其他族裔要高的原因：\n",
    "- 白人族裔接受治疗的时间比较晚，大多数集中在 22-50 和 51+ 两组，由于这两组的治疗费用要显著高于其他年龄段，因此汇总数据才会得出“白人族裔的治疗费用和治疗数量明显高于其他族裔”这一结论\n",
    "- 每个案例的治疗费用均值，其实都差不多（白人族裔的治疗费用均值在许多年龄段中，反而是最少的）\n",
    "\n",
    "因此我们可以得出结论：种族歧视并不存在。\n",
    "\n",
    "除此之外，我们还可以结合其他变量如：\n",
    "- 各族裔占总人口的比例\n",
    "- 不同地域族裔分布\n",
    "\n",
    "或许分析的结果又有不同。"
   ]
  },
  {
   "cell_type": "markdown",
   "id": "bd488139",
   "metadata": {},
   "source": [
    "# 用图形显示方法汇总两个变量的数据\n",
    "\n",
    "## 散点图和趋势线"
   ]
  },
  {
   "cell_type": "code",
   "execution_count": 2,
   "id": "1f4d87b2",
   "metadata": {},
   "outputs": [
    {
     "data": {
      "text/html": [
       "<div>\n",
       "<style scoped>\n",
       "    .dataframe tbody tr th:only-of-type {\n",
       "        vertical-align: middle;\n",
       "    }\n",
       "\n",
       "    .dataframe tbody tr th {\n",
       "        vertical-align: top;\n",
       "    }\n",
       "\n",
       "    .dataframe thead th {\n",
       "        text-align: right;\n",
       "    }\n",
       "</style>\n",
       "<table border=\"1\" class=\"dataframe\">\n",
       "  <thead>\n",
       "    <tr style=\"text-align: right;\">\n",
       "      <th></th>\n",
       "      <th>Week</th>\n",
       "      <th>No. of Commercials</th>\n",
       "      <th>Sales Volume</th>\n",
       "    </tr>\n",
       "  </thead>\n",
       "  <tbody>\n",
       "    <tr>\n",
       "      <th>0</th>\n",
       "      <td>1</td>\n",
       "      <td>2</td>\n",
       "      <td>50</td>\n",
       "    </tr>\n",
       "    <tr>\n",
       "      <th>1</th>\n",
       "      <td>2</td>\n",
       "      <td>5</td>\n",
       "      <td>57</td>\n",
       "    </tr>\n",
       "    <tr>\n",
       "      <th>2</th>\n",
       "      <td>3</td>\n",
       "      <td>1</td>\n",
       "      <td>41</td>\n",
       "    </tr>\n",
       "    <tr>\n",
       "      <th>3</th>\n",
       "      <td>4</td>\n",
       "      <td>3</td>\n",
       "      <td>54</td>\n",
       "    </tr>\n",
       "    <tr>\n",
       "      <th>4</th>\n",
       "      <td>5</td>\n",
       "      <td>4</td>\n",
       "      <td>54</td>\n",
       "    </tr>\n",
       "    <tr>\n",
       "      <th>5</th>\n",
       "      <td>6</td>\n",
       "      <td>1</td>\n",
       "      <td>38</td>\n",
       "    </tr>\n",
       "    <tr>\n",
       "      <th>6</th>\n",
       "      <td>7</td>\n",
       "      <td>5</td>\n",
       "      <td>63</td>\n",
       "    </tr>\n",
       "    <tr>\n",
       "      <th>7</th>\n",
       "      <td>8</td>\n",
       "      <td>3</td>\n",
       "      <td>48</td>\n",
       "    </tr>\n",
       "    <tr>\n",
       "      <th>8</th>\n",
       "      <td>9</td>\n",
       "      <td>4</td>\n",
       "      <td>59</td>\n",
       "    </tr>\n",
       "    <tr>\n",
       "      <th>9</th>\n",
       "      <td>10</td>\n",
       "      <td>2</td>\n",
       "      <td>46</td>\n",
       "    </tr>\n",
       "  </tbody>\n",
       "</table>\n",
       "</div>"
      ],
      "text/plain": [
       "   Week  No. of Commercials  Sales Volume\n",
       "0     1                   2            50\n",
       "1     2                   5            57\n",
       "2     3                   1            41\n",
       "3     4                   3            54\n",
       "4     5                   4            54\n",
       "5     6                   1            38\n",
       "6     7                   5            63\n",
       "7     8                   3            48\n",
       "8     9                   4            59\n",
       "9    10                   2            46"
      ]
     },
     "execution_count": 2,
     "metadata": {},
     "output_type": "execute_result"
    }
   ],
   "source": [
    "stereo = pd.read_csv(DATA / 'Stereo.csv')\n",
    "stereo"
   ]
  },
  {
   "cell_type": "code",
   "execution_count": 3,
   "id": "3d41d60e",
   "metadata": {},
   "outputs": [
    {
     "data": {
      "text/plain": [
       "<AxesSubplot:xlabel='No. of Commercials', ylabel='Sales Volume'>"
      ]
     },
     "execution_count": 3,
     "metadata": {},
     "output_type": "execute_result"
    },
    {
     "data": {
      "image/png": "[encoded data removed]",
      "text/plain": [
       "<Figure size 432x288 with 1 Axes>"
      ]
     },
     "metadata": {
      "needs_background": "light"
     },
     "output_type": "display_data"
    }
   ],
   "source": [
    "stereo.plot.scatter(x='No. of Commercials', y='Sales Volume', c='DarkBlue')"
   ]
  },
  {
   "cell_type": "code",
   "execution_count": 4,
   "id": "2651d513",
   "metadata": {},
   "outputs": [
    {
     "data": {
      "text/plain": [
       "<AxesSubplot:xlabel='No. of Commercials', ylabel='Sales Volume'>"
      ]
     },
     "execution_count": 4,
     "metadata": {},
     "output_type": "execute_result"
    },
    {
     "data": {
      "image/png": "[encoded data removed]",
      "text/plain": [
       "<Figure size 432x288 with 1 Axes>"
      ]
     },
     "metadata": {
      "needs_background": "light"
     },
     "output_type": "display_data"
    }
   ],
   "source": [
    "sb.regplot(x='No. of Commercials', y='Sales Volume', ci = None, data = stereo)"
   ]
  },
  {
   "cell_type": "code",
   "execution_count": 37,
   "id": "5aecfab8",
   "metadata": {},
   "outputs": [
    {
     "data": {
      "text/plain": [
       "<AxesSubplot:xlabel='bin'>"
      ]
     },
     "execution_count": 37,
     "metadata": {},
     "output_type": "execute_result"
    },
    {
     "data": {
      "image/png": "[encoded data removed]",
      "text/plain": [
       "<Figure size 432x288 with 1 Axes>"
      ]
     },
     "metadata": {
      "needs_background": "light"
     },
     "output_type": "display_data"
    }
   ],
   "source": [
    "pd.crosstab(restaurant['bin'], restaurant['Quality Rating']).plot(kind='bar')"
   ]
  },
  {
   "cell_type": "code",
   "execution_count": 38,
   "id": "4b2f2bae",
   "metadata": {},
   "outputs": [
    {
     "data": {
      "text/plain": [
       "<AxesSubplot:xlabel='bin'>"
      ]
     },
     "execution_count": 38,
     "metadata": {},
     "output_type": "execute_result"
    },
    {
     "data": {
      "image/png": "[encoded data removed]",
      "text/plain": [
       "<Figure size 432x288 with 1 Axes>"
      ]
     },
     "metadata": {
      "needs_background": "light"
     },
     "output_type": "display_data"
    }
   ],
   "source": [
    "pd.crosstab(restaurant['bin'], restaurant['Quality Rating']).plot(kind='bar', stacked=True)"
   ]
  },
  {
   "cell_type": "code",
   "execution_count": 8,
   "id": "e94a7eb3",
   "metadata": {},
   "outputs": [
    {
     "data": {
      "text/plain": [
       "<seaborn.axisgrid.PairGrid at 0x128f91430>"
      ]
     },
     "execution_count": 8,
     "metadata": {},
     "output_type": "execute_result"
    },
    {
     "data": {
      "image/png": "[encoded data removed]",
      "text/plain": [
       "<Figure size 823.25x720 with 20 Axes>"
      ]
     },
     "metadata": {
      "needs_background": "light"
     },
     "output_type": "display_data"
    }
   ],
   "source": [
    "iris = pd.read_csv(DATA / 'iris.csv')\n",
    "iris.head()\n",
    "# 散点图矩阵\n",
    "sb.pairplot(iris, hue=\"species\")"
   ]
  }
 ],
 "metadata": {
  "kernelspec": {
   "display_name": "Python 3 (ipykernel)",
   "language": "python",
   "name": "python3"
  },
  "language_info": {
   "codemirror_mode": {
    "name": "ipython",
    "version": 3
   },
   "file_extension": ".py",
   "mimetype": "text/x-python",
   "name": "python",
   "nbconvert_exporter": "python",
   "pygments_lexer": "ipython3",
   "version": "3.9.12"
  },
  "toc": {
   "base_numbering": 1,
   "nav_menu": {},
   "number_sections": true,
   "sideBar": true,
   "skip_h1_title": false,
   "title_cell": "Table of Contents",
   "title_sidebar": "Contents",
   "toc_cell": false,
   "toc_position": {
    "height": "calc(100% - 180px)",
    "left": "10px",
    "top": "150px",
    "width": "256px"
   },
   "toc_section_display": true,
   "toc_window_display": true
  }
 },
 "nbformat": 4,
 "nbformat_minor": 5
}
