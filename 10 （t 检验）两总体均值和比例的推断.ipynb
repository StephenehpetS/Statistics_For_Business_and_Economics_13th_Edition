{
 "cells": [
  {
   "cell_type": "markdown",
   "metadata": {},
   "source": [
    "前面介绍了对一个总体的均值和比例如何进行区间估计以及假设检验，\n",
    "\n",
    "本章说明如何对两个总体进行区间估计和假设检验。\n",
    "\n",
    "# 两总体均值之差的推断：$\\sigma_1$和$\\sigma_2$已知\n",
    "\n",
    "令 $\\mu_1$ 和 $\\mu_2$ 分别表示总体1和总体2的均值，本节介绍两均值之差：$\\mu_1 - \\mu_2$ 的统计推断。\n",
    "\n",
    "独立简单随机样本：从总体1中抽取一个容量为 $n_1$ 的简单随机样本，从总体2中抽取一个容量为 $n_2$ 的简单随机样本 两个样本是相互独立抽取的。\n",
    "\n",
    "假设两个总体的标准差 $\\sigma_1$ 和 $\\sigma_2$ 是已知的，如何计算误差范围以及计算两总体均值之间的区间估计？\n",
    "\n",
    "## $\\mu_1 - \\mu_2$ 的区间估计\n",
    "\n",
    "两个总体均值之差的点估计量 $\\bar x_1 - \\bar x_2$\n",
    "\n",
    "$\\bar x_1- \\bar x_2$ 的标准误差:\n",
    "\n",
    "$$\\sigma_{\\bar x_1 - \\bar x_2} = \\sqrt {\\frac {\\sigma_1^2}{n_1}+\\frac{\\sigma_2^2}{n_2}}$$\n",
    "\n",
    "两总体均值之差的区间估计：$\\sigma_1$和$\\sigma_2$已知\n",
    "\n",
    "$$\\bar x_1 - \\bar x_2 \\pm z_{\\alpha/2}\\sqrt{\\frac {\\sigma_1^2}{n_1}+ \\frac {\\sigma_2^2}{n_2}}$$\n",
    "\n",
    "假设我们现在打算调查市区商场和郊区商场顾客的年龄差异，已知：\n",
    "\n",
    "市区商场数据如下：\n",
    "- $n_1 = 36$\n",
    "- $\\bar{x_1} = 40$\n",
    "- $\\sigma_1 = 9$\n",
    "\n",
    "郊区商场数据如下：\n",
    "- $n_2 = 49$\n",
    "- $\\bar{x_2} = 35$\n",
    "- $\\sigma_2 = 10$\n",
    "\n",
    "置信区间 95% 下，显著性水平 $\\alpha = 0.05$，$z_{\\alpha/2} = z_{0.025} = 1.96$\n",
    "\n",
    "$$\\bar x_1 - \\bar x_2 \\pm z_{\\alpha/2}\\sqrt{\\frac {\\sigma_1^2}{n_1}+ \\frac {\\sigma_2^2}{n_2}}$$\n",
    "\n",
    "$$40 - 35 \\pm 1.96 \\times \\sqrt{\\frac{9^2}{36}+ \\frac{10^2}{49}}$$\n",
    "\n",
    "$$5 \\pm 4.06$$\n",
    "\n",
    "此时误差边际为 4.06，总体均值之差的 95% 的置信区间估计为 5-4.06 = 0.94 岁到 5+4.06 = 9.06 岁。"
   ]
  },
  {
   "cell_type": "code",
   "execution_count": 6,
   "metadata": {},
   "outputs": [],
   "source": [
    "import pandas as pd\n",
    "import numpy as np\n",
    "from matplotlib import pyplot\n",
    "from scipy.stats import ttest_1samp, ttest_ind, ttest_rel\n",
    "\n",
    "from pathlib import Path\n",
    "#设置数据文件夹路径\n",
    "DATA = Path().resolve()  / 'data'"
   ]
  },
  {
   "cell_type": "markdown",
   "metadata": {},
   "source": [
    "## $\\mu_1 -\\mu_2$ 的假设检验\n",
    "\n",
    "假设检验的三种形式：上侧检验 下侧检验 双侧检验\n",
    "\n",
    "实用建议：给出的区间估计与假设检验的大部分应用，随机样本都满足 $n_1\\ge30$ 及 $n_2\\ge30$。一旦其中之一的样本容量小于 30，总体的分布就需要重点加以考虑\n",
    "\n",
    "作用：考察两总体样本之间的差异\n",
    "\n",
    "$\\mu_1 - \\mu_2$ 的假设检验的检验统计量：$\\sigma_1$ 和 $\\sigma_2$ 已知\n",
    "\n",
    "$$z = \\frac{(\\bar x_1 - \\bar x_2)-D_0}{\\sqrt {\\frac {\\sigma_1^2}{n_1}+\\frac{\\sigma_2^2}{n_2}}}$$\n",
    "\n",
    "其中 $D_0$ 为两个总体的均值之差，零假设一般认为 $D_0 = 0$。\n",
    "\n",
    "还使用上面的超市顾客的例子：\n",
    "\n",
    "$$z = \\frac{(\\bar x_1 - \\bar x_2)-D_0}{\\sigma_{\\bar x_1 - \\bar x_2}}\n",
    "= \\frac{40 - 35}{2.07} = 2.42$$\n",
    "\n",
    "设显著性水平 $\\alpha = 0.05$，此时 $z_{\\alpha/2} = z_{0.025} = 1.96 < 2.42$\n",
    "\n",
    "因此我们可以拒绝零假设，认为两个总体的均值之差 $D_0 \\neq 0$。"
   ]
  },
  {
   "cell_type": "markdown",
   "metadata": {},
   "source": [
    "# t 检验\n",
    "假设检验中，最为简单、常用的方法是 t 检验（t-test/student’s t-test），在这一小节中主要以案例的形式谈及各种t检验方法的用途、使用条件和注意事项。\n",
    "\n",
    "前面我们讨论了如正态分布以及如何使用正态分布得到 $z$ 分数，并获得精准概率，但这个操作有两个前提：\n",
    "- 总体标准差已知\n",
    "- 大样本（ n > 120 ）\n",
    "\n",
    "如果二者都不满足，我们不能利用正态分布进行推断统计。\n",
    "\n",
    "但是，如果是针对小样本数据，我们可以使用 t 分布来进行推断统计。\n",
    "\n",
    "而我们接下来学习的 t 检验，就是利用 t 分布的性质来进行推断统计的方法之一。\n",
    "\n",
    "## 单样本 t 检验\n",
    "\n",
    "实际上，我们之前使用 t 分布判断概率和置信区间的操作，就是单样本 t 检验。\n",
    "\n",
    "单样本 t 检验，只需要有一个定量变量，就可以分析。\n",
    "\n",
    "由于上一节我们没有使用 Python 演示单样本 t 检验的过程，现在我们在这里补上。\n",
    "\n",
    "我们可以用`scipy`库里面的`stats.ttest_1samp`来进行单样本 t 检验"
   ]
  },
  {
   "cell_type": "code",
   "execution_count": 7,
   "metadata": {},
   "outputs": [
    {
     "name": "stdout",
     "output_type": "stream",
     "text": [
      "t Statistic:  [-4.2121177]\n",
      "P Value:  [0.00145557]\n",
      "One-tail P Value:  [0.00072778]\n"
     ]
    }
   ],
   "source": [
    "data = [14, 14, 16, 13, 12, 17, 15, 14, 15, 13, 15, 14]\n",
    "df = pd.DataFrame(data)\n",
    "tscore, pvalue = ttest_1samp(df, popmean=16)\n",
    "print(\"t Statistic: \", tscore)\n",
    "print(\"P Value: \", pvalue)\n",
    "print(\"One-tail P Value: \", pvalue/2)"
   ]
  },
  {
   "cell_type": "markdown",
   "metadata": {},
   "source": [
    "我们可以直接用函数得出计算结果，方便快捷又卫生，但实际上，函数是给熟练掌握了算法的同学直接使用的，作为初学者的我们，最好还是一步步算出计算结果。\n",
    "\n",
    "我在这里给出 t 分数的计算公式，你能使用 pandas 最基本的函数，算出`t Statistic`的结果吗？\n",
    "\n",
    "$$\\displaystyle t = \\frac{样本均值 - 总体均值}{标准误差} = \\frac{样本均值 - 总体均值}{\\frac{标准差}{\\sqrt{样本数}}}$$"
   ]
  },
  {
   "cell_type": "code",
   "execution_count": 8,
   "metadata": {},
   "outputs": [
    {
     "name": "stdout",
     "output_type": "stream",
     "text": [
      "0   -4.212118\n",
      "dtype: float64\n"
     ]
    }
   ],
   "source": [
    "print((df.mean() - 16)/(df.std()/pow(df.count(),0.5)))"
   ]
  },
  {
   "cell_type": "markdown",
   "metadata": {},
   "source": [
    "我们可以看到，$p$ 值小于 0.05，只有 0.01，所以我们可以肯定，`Time`的均值是 1 的概率应该不太大。\n",
    "\n",
    "实际上`Time`的均值是："
   ]
  },
  {
   "cell_type": "code",
   "execution_count": 9,
   "metadata": {},
   "outputs": [
    {
     "name": "stdout",
     "output_type": "stream",
     "text": [
      "0    14.333333\n",
      "dtype: float64\n"
     ]
    }
   ],
   "source": [
    "print(df.mean())"
   ]
  },
  {
   "cell_type": "markdown",
   "metadata": {},
   "source": [
    "## 单变量和多变量\n",
    "\n",
    "在此之前，无论是使用正态分布或 t 分布，我们都只是针对单一变量进行推断统计。\n",
    "\n",
    "从现在开始，我们要增加难度了，现在我们需要对两组变量进行推断统计。\n",
    "\n",
    "# 多变量 t 检验\n",
    "## 独立样本 t 检验\n",
    "\n",
    "两样本检验又称成组t检验（two sample/group t-test）\n",
    "\n",
    "适用于完全随机设计两样本均数的比较（两组完全随机设计是将受试对象完全随机分配到两个不同处理组）\n",
    "\n",
    "此时人们关心的是两**样本均值**所代表的两**总体均值**是否**不相等**。\n",
    "\n",
    "适用的条件是：\n",
    "\n",
    "- 两组样本之间无关，并且样本没有重叠（一个对象不能同时属于两个群组），因此这些群组是独立的\n",
    "- 需要一个定类变量和一个定量变量\n",
    "    - 定类变量一般为二值变量，如：男/女，是/否\n",
    "    - 定量变量作为自变量\n",
    "- 定量变量不存在显著的异常值\n",
    "- 定量变量在各组内接近正态分布\n",
    "- 两组定量变量的方差相等\n",
    "\n",
    "例如我们的案例数据，有`pre`和`post`两组，独立样本 t 检验可以验证，不同组别的定量变量是否存在差异\n",
    "\n",
    "当两样本含量较小（如 $n_1 ≤ 60$ 或/和 $n_2 ≤60$）且均来自正态总体时，根据两总体方差是否相等而采用不同检验方法。"
   ]
  },
  {
   "cell_type": "code",
   "execution_count": 10,
   "metadata": {},
   "outputs": [
    {
     "name": "stdout",
     "output_type": "stream",
     "text": [
      "0.9588607594936709\n"
     ]
    }
   ],
   "source": [
    "d = {'pre': [14, 15, 15, 16, 13, 8, 14, 17, 16, 14, 19, 20, 21, 15, 15, 16, 16, 13, 14, 12],\n",
    "     'post': [15, 17, 14, 17, 14, 8, 12, 19, 19, 14, 17, 22, 24, 16, 13, 16, 13, 18, 15, 13]}\n",
    "df = pd.DataFrame(data=d)\n",
    "print(df['pre'].mean() / df['post'].mean())"
   ]
  },
  {
   "cell_type": "code",
   "execution_count": 11,
   "metadata": {},
   "outputs": [
    {
     "ename": "NameError",
     "evalue": "name 'plt' is not defined",
     "output_type": "error",
     "traceback": [
      "\u001b[0;31m---------------------------------------------------------------------------\u001b[0m",
      "\u001b[0;31mNameError\u001b[0m                                 Traceback (most recent call last)",
      "Input \u001b[0;32mIn [11]\u001b[0m, in \u001b[0;36m<cell line: 2>\u001b[0;34m()\u001b[0m\n\u001b[1;32m      1\u001b[0m df\u001b[38;5;241m.\u001b[39mboxplot(grid\u001b[38;5;241m=\u001b[39m\u001b[38;5;28;01mFalse\u001b[39;00m)\n\u001b[0;32m----> 2\u001b[0m \u001b[43mplt\u001b[49m\u001b[38;5;241m.\u001b[39mtight_layout()\n\u001b[1;32m      3\u001b[0m plt\u001b[38;5;241m.\u001b[39mshow()\n",
      "\u001b[0;31mNameError\u001b[0m: name 'plt' is not defined"
     ]
    },
    {
     "data": {
      "image/png": "[encoded data removed]",
      "text/plain": [
       "<Figure size 432x288 with 1 Axes>"
      ]
     },
     "metadata": {
      "needs_background": "light"
     },
     "output_type": "display_data"
    }
   ],
   "source": [
    "df.boxplot(grid=False)\n",
    "plt.tight_layout()\n",
    "plt.show()"
   ]
  },
  {
   "cell_type": "markdown",
   "metadata": {},
   "source": [
    "我们可以看到，两组数据的分布基本相等，方差之比小于 4，样本容量也差不多，基本满足适用条件。\n",
    "\n",
    "因此，我们就直接使用这组数据来进行独立样本 t 检验吧。\n",
    "\n",
    "独立样本 t 检验的计算方式如下：\n",
    "\n",
    "$$ t = \\frac{样本均值的观测差异}{样本均值之差的标准误差} = \\frac{\\bar{X_1}-\\bar{X_2}}{s_{\\bar{X_1}-\\bar{X_2}}}$$\n",
    "\n",
    "其中\n",
    "- $\\bar{X_1}$：样本 1 的均值\n",
    "- $\\bar{X_2}$：样本 2 的均值\n",
    "- $s_{\\bar{X_1}-\\bar{X_2}}$：均值之差的标准误差\n",
    "\n",
    "假设样本容量大致相等，则 $s_{\\bar{X_1}-\\bar{X_2}} = \\sqrt{s_\\bar{X_1}^2 + s_\\bar{X_2}^2} $\n",
    "- $s_\\bar{X_1}$：第一个样本均值的标准误差\n",
    "- $s_\\bar{X_2}$：第二个样本均值的标准误差"
   ]
  },
  {
   "cell_type": "code",
   "execution_count": 12,
   "metadata": {},
   "outputs": [
    {
     "data": {
      "text/plain": [
       "Ttest_indResult(statistic=-0.6337397070250238, pvalue=0.5300471010405257)"
      ]
     },
     "execution_count": 12,
     "metadata": {},
     "output_type": "execute_result"
    }
   ],
   "source": [
    "ttest_ind(df['pre'],df['post'])"
   ]
  },
  {
   "cell_type": "markdown",
   "metadata": {},
   "source": [
    "## 配对样本 t 检验\n",
    "\n",
    "配对样本 t 检验\n",
    "1. 观察变量为连续变量。\n",
    "2. 观察变量为配对设计。（和独立样本 t 检验的区别在于此）\n",
    "3. 观察变量可分为2组。\n",
    "4. 观察变量不存在显著的异常值。\n",
    "5. 两个配对组别间观察变量的差值服从正态(或近似正态)分布。"
   ]
  },
  {
   "cell_type": "code",
   "execution_count": 14,
   "metadata": {},
   "outputs": [
    {
     "data": {
      "text/plain": [
       "Ttest_relResult(statistic=-2.9732484231168796, pvalue=0.01007144862643272)"
      ]
     },
     "execution_count": 14,
     "metadata": {},
     "output_type": "execute_result"
    }
   ],
   "source": [
    "d = {'pre': [88, 82, 84, 93, 75, 78, 84, 87, 95, 91, 83, 89, 77, 68, 91],\n",
    "     'post': [91, 84, 88, 90, 79, 80, 88, 90, 90, 96, 88, 89, 81, 74, 92]}\n",
    "df = pd.DataFrame(data=d)\n",
    "ttest_rel(df['pre'], df['post'])"
   ]
  },
  {
   "cell_type": "markdown",
   "metadata": {},
   "source": [
    "# 两总体均值之差的推断：$\\sigma_1$和$\\sigma_2$未知\n",
    "\n",
    "对两总体标准差$\\sigma_1$和$\\sigma_2$未知的情形， 将使用样本标准差$s_1$和$s_2$来估计未知的总体标准差  \n",
    "\n",
    "使用样本标准差时，区间估计与假设检验的程序将会建立在 $t$ 分布的基础上而非标准正态分布\n",
    "\n",
    "\n",
    "两个总体均值之差的区间估计：$\\sigma_1$和$\\sigma_2$未知：$\\bar x_1 - \\bar x_2 \\pm t_{\\alpha/2}\\sqrt{\\frac{s_1^2}{n_1} + \\frac{s_2^2}{n_2}}$\n",
    "\n",
    "用样本标准差 $s_1$ 和 $s_2$ 来估计 $\\sigma_1$ 和 $\\sigma_2$\n",
    "\n",
    "并用 $t_{\\alpha/2}$ 来代替 $z_{\\alpha/2}$\n",
    "\n",
    "$t$分布\n",
    "\n",
    "自由度：两个独立随机样本的$t$分布：\n",
    "\n",
    "$ df = \\frac {(\\frac {s_1^2}{n_1}+ \\frac {s_2^2}{n_2})^2}{\\frac {1}{n_1-1}(\\frac{s_1^2}{n_1})^2+ \\frac {1}{n_2-1}(\\frac{s_2^2}{n_2})^2}$\n",
    "\n",
    "$\\mu_1 - \\mu_2$ 的假设检验\n",
    "\n",
    "# 独立样本 $t$ 检验：$\\mu_1 - \\mu_2$ 的假设检验的检验统计量：$\\sigma_1$ 和$\\sigma_2$ 未知\n",
    "\n",
    "$ t = \\frac{(\\bar x_1 - \\bar x_2)-D_0}{\\sqrt {\\frac {s_1^2}{n_1}+\\frac{s_2^2}{n_2}}}$"
   ]
  },
  {
   "cell_type": "code",
   "execution_count": 76,
   "metadata": {},
   "outputs": [
    {
     "name": "stdout",
     "output_type": "stream",
     "text": [
      "data1: n=20 mean=547.500 stdv=82.454\n",
      "data2: n=20 mean=533.500 stdv=80.084\n"
     ]
    }
   ],
   "source": [
    "twins = pd.read_csv(DATA / 'Twins.csv')\n",
    "twins.head()\n",
    "\n",
    "data1 = twins['SAT Score No Siblings'].dropna()\n",
    "data2 = twins['SAT Score With Siblings'].dropna()\n",
    "\n",
    "print('data1: n=%d mean=%.3f stdv=%.3f' % (data1.count(), data1.mean(), data1.std()))\n",
    "print('data2: n=%d mean=%.3f stdv=%.3f' % (data2.count(), data2.mean(), data2.std()))"
   ]
  },
  {
   "cell_type": "code",
   "execution_count": 77,
   "metadata": {},
   "outputs": [
    {
     "name": "stdout",
     "output_type": "stream",
     "text": [
      "Statistics=0.545, p=0.589\n",
      "Same distributions (fail to reject H0)\n"
     ]
    }
   ],
   "source": [
    "# Student's t-test\n",
    "stat, p = ttest_ind(data1, data2)\n",
    "print('Statistics=%.3f, p=%.3f' % (stat, p))\n",
    "# interpret\n",
    "alpha = 0.05\n",
    "if p > alpha:\n",
    "    print('Same distributions (fail to reject H0)')\n",
    "else:\n",
    "    print('Different distributions (reject H0)')"
   ]
  },
  {
   "cell_type": "code",
   "execution_count": 73,
   "metadata": {},
   "outputs": [
    {
     "name": "stdout",
     "output_type": "stream",
     "text": [
      "data1: n=30 mean=225896.667 stdv=55207.361\n",
      "data2: n=40 mean=170992.500 stdv=44958.256\n"
     ]
    }
   ],
   "source": [
    "homePrices = pd.read_csv(DATA / 'HomePrices.csv')\n",
    "data1 = homePrices['2006'].dropna()\n",
    "data2 = homePrices['2009'].dropna()\n",
    "print('data1: n=%d mean=%.3f stdv=%.3f' % (data1.count(), data1.mean(), data1.std()))\n",
    "print('data2: n=%d mean=%.3f stdv=%.3f' % (data2.count(), data2.mean(), data2.std()))"
   ]
  },
  {
   "cell_type": "code",
   "execution_count": 1,
   "metadata": {},
   "outputs": [
    {
     "ename": "NameError",
     "evalue": "name 'ttest_ind' is not defined",
     "output_type": "error",
     "traceback": [
      "\u001b[0;31m---------------------------------------------------------------------------\u001b[0m",
      "\u001b[0;31mNameError\u001b[0m                                 Traceback (most recent call last)",
      "Input \u001b[0;32mIn [1]\u001b[0m, in \u001b[0;36m<cell line: 2>\u001b[0;34m()\u001b[0m\n\u001b[1;32m      1\u001b[0m \u001b[38;5;66;03m# Student's t-test with unequal variance\u001b[39;00m\n\u001b[0;32m----> 2\u001b[0m stat, p \u001b[38;5;241m=\u001b[39m \u001b[43mttest_ind\u001b[49m(data1, data2, equal_var \u001b[38;5;241m=\u001b[39m \u001b[38;5;28;01mFalse\u001b[39;00m)\n\u001b[1;32m      3\u001b[0m \u001b[38;5;28mprint\u001b[39m(\u001b[38;5;124m'\u001b[39m\u001b[38;5;124mStatistics=\u001b[39m\u001b[38;5;132;01m%.3f\u001b[39;00m\u001b[38;5;124m, p=\u001b[39m\u001b[38;5;132;01m%.3f\u001b[39;00m\u001b[38;5;124m'\u001b[39m \u001b[38;5;241m%\u001b[39m (stat, p))\n\u001b[1;32m      4\u001b[0m \u001b[38;5;66;03m# interpret\u001b[39;00m\n",
      "\u001b[0;31mNameError\u001b[0m: name 'ttest_ind' is not defined"
     ]
    }
   ],
   "source": [
    "# Student's t-test with unequal variance\n",
    "stat, p = ttest_ind(data1, data2, equal_var = False)\n",
    "print('Statistics=%.3f, p=%.3f' % (stat, p))\n",
    "# interpret\n",
    "alpha = 0.05\n",
    "if p > alpha:\n",
    "    print('Same distributions (fail to reject H0)')\n",
    "else:\n",
    "    print('Different distributions (reject H0)')"
   ]
  },
  {
   "cell_type": "markdown",
   "metadata": {},
   "source": [
    "# 配对样本 $t$ 检验：两总体均值之差的推断：匹配样本\n",
    "\n",
    "在选择用于搜集生产时间数据及检验假设的抽样方法时，考虑两种方案\n",
    "\n",
    "1. 独立样本设计：例子 抽取工人的一个简单随机样本 样本中每个工人使用生产方法1；抽取工人的另一个独立的简单随机样本 样本中每个工人使用生成方法2\n",
    "\n",
    "2. 匹配样本设计：抽取工人的简单随机样本 每个工人先用一种生产方法，然后使用另一种生产方法 \n",
    "\n",
    "在匹配样本设计中，两种生产方法在相似条件下被检验 因此这一设计产生的抽样误差往往要比独立样本设计要小  主要因为在匹配样本设计中 两种生产方法被相同的工人使用 剔除了工人间的差异\n",
    "\n",
    "匹配样本的样本均值 $\\bar d = \\frac {\\sum d_i}{n} $  $d_i$为方法1和方法2之差\n",
    "\n",
    "匹配样本的标准差  $ s_d = \\sqrt {\\frac {\\sum(d_i - \\bar d)^2}{n-1}}$\n",
    "\n",
    "匹配样本假设检验的检验统计量：$ t = \\frac{\\bar d - u_d}{s_d/\\sqrt n}$"
   ]
  },
  {
   "cell_type": "code",
   "execution_count": 99,
   "metadata": {},
   "outputs": [
    {
     "name": "stdout",
     "output_type": "stream",
     "text": [
      "data1: n=6 mean=6.100 stdv=0.654\n",
      "data2: n=6 mean=5.800 stdv=0.460\n"
     ]
    }
   ],
   "source": [
    "matched = pd.read_csv(DATA / 'Matched.csv')\n",
    "\n",
    "data1 = matched['Method 1'].dropna()\n",
    "data2 = matched['Method 2'].dropna()\n",
    "print('data1: n=%d mean=%.3f stdv=%.3f' % (data1.count(), data1.mean(), data1.std()))\n",
    "print('data2: n=%d mean=%.3f stdv=%.3f' % (data2.count(), data2.mean(), data2.std()))"
   ]
  },
  {
   "cell_type": "code",
   "execution_count": 100,
   "metadata": {},
   "outputs": [
    {
     "name": "stdout",
     "output_type": "stream",
     "text": [
      "Statistics=0.919, p=0.380\n",
      "Same distributions (fail to reject H0)\n"
     ]
    }
   ],
   "source": [
    "# 独立样本 t 检验\n",
    "stat, p = ttest_ind(data1, data2)\n",
    "print('Statistics=%.3f, p=%.3f' % (stat, p))\n",
    "# interpret\n",
    "alpha = 0.05\n",
    "if p > alpha:\n",
    "    print('Same distributions (fail to reject H0)')\n",
    "else:\n",
    "    print('Different distributions (reject H0)')"
   ]
  },
  {
   "cell_type": "code",
   "execution_count": 101,
   "metadata": {},
   "outputs": [
    {
     "name": "stdout",
     "output_type": "stream",
     "text": [
      "Statistics=2.196, p=0.080\n",
      "Same distributions (fail to reject H0)\n"
     ]
    }
   ],
   "source": [
    "# 配对样本 t 检验\n",
    "stat, p = ttest_rel(data1, data2)\n",
    "print('Statistics=%.3f, p=%.3f' % (stat, p))\n",
    "# interpret\n",
    "alpha = 0.05\n",
    "if p > alpha:\n",
    "    print('Same distributions (fail to reject H0)')\n",
    "else:\n",
    "    print('Different distributions (reject H0)')"
   ]
  },
  {
   "cell_type": "code",
   "execution_count": 102,
   "metadata": {},
   "outputs": [
    {
     "name": "stdout",
     "output_type": "stream",
     "text": [
      "data1: n=12 mean=325.000 stdv=39.995\n",
      "data2: n=12 mean=286.000 stdv=43.998\n"
     ]
    }
   ],
   "source": [
    "softwareTest = pd.read_csv(DATA / 'SoftwareTest.csv')\n",
    "data1 = softwareTest['Current'].dropna()\n",
    "data2 = softwareTest['New'].dropna()\n",
    "print('data1: n=%d mean=%.3f stdv=%.3f' % (data1.count(), data1.mean(), data1.std()))\n",
    "print('data2: n=%d mean=%.3f stdv=%.3f' % (data2.count(), data2.mean(), data2.std()))"
   ]
  },
  {
   "cell_type": "code",
   "execution_count": 103,
   "metadata": {},
   "outputs": [
    {
     "name": "stdout",
     "output_type": "stream",
     "text": [
      "Statistics=2.451, p=0.032\n",
      "Different distributions (reject H0)\n"
     ]
    }
   ],
   "source": [
    "# compare samples\n",
    "stat, p = ttest_rel(data1, data2)\n",
    "print('Statistics=%.3f, p=%.3f' % (stat, p))\n",
    "# interpret\n",
    "alpha = 0.05\n",
    "if p > alpha:\n",
    "    print('Same distributions (fail to reject H0)')\n",
    "else:\n",
    "    print('Different distributions (reject H0)')"
   ]
  },
  {
   "cell_type": "markdown",
   "metadata": {},
   "source": [
    "# （没有找到好的解决方案）两总体比例之差的推断\n",
    "\n",
    "令$p_1$表示总体$1$的比例，$p_2$表示总体$2$的比例，讨论两总体比例之差$p_1 - p_2$的统计推断\n",
    "\n",
    "为了对这个比例之差做出推断 选择两个独立的随机样本，这两个样本分别总体$1$的$n_1$个单位和总体$2$中$n_2$个单位组成\n",
    "\n",
    "两总体比例之差的点估计量：$\\bar p_1 - \\bar p_2$\n",
    "\n",
    "$\\bar p_1 - \\bar p_2$的标准误差：$\\sigma_{\\bar p_1 - \\bar p_2} = \\sqrt{\\frac {p_1(1-p_1)}{n_1} + \\frac{p_2(1-p_2)}{n_2}}$\n",
    "\n",
    "如果样本容量足够大 使得$n_1p_1$, $n1(1-p_1)$，$n_2p_2$,$n_2(1-p_2)$都大于或等于5，则$\\bar p_1 - \\bar p_2$的抽样分布近似服从于正态分布\n",
    "\n",
    "两总体比例之差的区间估计：$\\bar p_1 - \\bar p_2 \\pm z_{\\alpha/2}\\sqrt{\\frac {\\bar p_1(1-\\bar p_1)}{n_1}+\\frac{\\bar p_2(1-\\bar p_2)}{n_2}}$\n",
    "\n",
    "## $p_1 - p_2$的假设检验\n",
    "\n",
    "当$p_1=p_2=p$时， $\\bar p_1 - \\bar p_2$的标准误差 ：$\\sigma_{\\bar p_1 - \\bar p_2} = \\sqrt{\\frac {p_1(1-p_1)}{n_1} + \\frac{p_2(1-p_2)}{n_2}} = \\sqrt{p(1-p)(\\frac{1}{n_1}+\\frac{1}{n_2}})$\n",
    "\n",
    "当$p_1=p_2=p$时，$p$的合并估计量：$\\bar p =\\frac{ n_1\\bar p_1 + n_2\\bar p_2 }{n_1 + n_2}$\n",
    "\n",
    "$p_1-p_2$的假设检验的检验统计量：$ z = \\frac{\\bar p_1 - \\bar p_2}{\\sqrt{p(1-p)(\\frac{1}{n_1}+\\frac{1}{n_2}})}$"
   ]
  },
  {
   "cell_type": "code",
   "execution_count": 125,
   "metadata": {},
   "outputs": [
    {
     "data": {
      "text/html": [
       "<div>\n",
       "<style scoped>\n",
       "    .dataframe tbody tr th:only-of-type {\n",
       "        vertical-align: middle;\n",
       "    }\n",
       "\n",
       "    .dataframe tbody tr th {\n",
       "        vertical-align: top;\n",
       "    }\n",
       "\n",
       "    .dataframe thead th {\n",
       "        text-align: right;\n",
       "    }\n",
       "</style>\n",
       "<table border=\"1\" class=\"dataframe\">\n",
       "  <thead>\n",
       "    <tr style=\"text-align: right;\">\n",
       "      <th></th>\n",
       "      <th>Office 1</th>\n",
       "      <th>Office 2</th>\n",
       "    </tr>\n",
       "  </thead>\n",
       "  <tbody>\n",
       "    <tr>\n",
       "      <th>0</th>\n",
       "      <td>No</td>\n",
       "      <td>No</td>\n",
       "    </tr>\n",
       "    <tr>\n",
       "      <th>1</th>\n",
       "      <td>No</td>\n",
       "      <td>No</td>\n",
       "    </tr>\n",
       "    <tr>\n",
       "      <th>2</th>\n",
       "      <td>No</td>\n",
       "      <td>No</td>\n",
       "    </tr>\n",
       "    <tr>\n",
       "      <th>3</th>\n",
       "      <td>No</td>\n",
       "      <td>No</td>\n",
       "    </tr>\n",
       "    <tr>\n",
       "      <th>4</th>\n",
       "      <td>No</td>\n",
       "      <td>No</td>\n",
       "    </tr>\n",
       "    <tr>\n",
       "      <th>...</th>\n",
       "      <td>...</td>\n",
       "      <td>...</td>\n",
       "    </tr>\n",
       "    <tr>\n",
       "      <th>295</th>\n",
       "      <td>NaN</td>\n",
       "      <td>No</td>\n",
       "    </tr>\n",
       "    <tr>\n",
       "      <th>296</th>\n",
       "      <td>NaN</td>\n",
       "      <td>No</td>\n",
       "    </tr>\n",
       "    <tr>\n",
       "      <th>297</th>\n",
       "      <td>NaN</td>\n",
       "      <td>Yes</td>\n",
       "    </tr>\n",
       "    <tr>\n",
       "      <th>298</th>\n",
       "      <td>NaN</td>\n",
       "      <td>No</td>\n",
       "    </tr>\n",
       "    <tr>\n",
       "      <th>299</th>\n",
       "      <td>NaN</td>\n",
       "      <td>No</td>\n",
       "    </tr>\n",
       "  </tbody>\n",
       "</table>\n",
       "<p>300 rows × 2 columns</p>\n",
       "</div>"
      ],
      "text/plain": [
       "    Office 1 Office 2\n",
       "0         No       No\n",
       "1         No       No\n",
       "2         No       No\n",
       "3         No       No\n",
       "4         No       No\n",
       "..       ...      ...\n",
       "295      NaN       No\n",
       "296      NaN       No\n",
       "297      NaN      Yes\n",
       "298      NaN       No\n",
       "299      NaN       No\n",
       "\n",
       "[300 rows x 2 columns]"
      ]
     },
     "execution_count": 125,
     "metadata": {},
     "output_type": "execute_result"
    }
   ],
   "source": [
    "taxPrep = pd.read_csv(DATA / 'TaxPrep.csv')\n",
    "data1 = taxPrep['Office 1'].dropna()\n",
    "data2 = taxPrep['Office 2'].dropna()"
   ]
  },
  {
   "cell_type": "code",
   "execution_count": 123,
   "metadata": {},
   "outputs": [
    {
     "data": {
      "text/plain": [
       "No     215\n",
       "Yes     35\n",
       "Name: Office 1, dtype: int64"
      ]
     },
     "execution_count": 123,
     "metadata": {},
     "output_type": "execute_result"
    }
   ],
   "source": [
    "data1.value_counts()"
   ]
  },
  {
   "cell_type": "code",
   "execution_count": 124,
   "metadata": {},
   "outputs": [
    {
     "data": {
      "text/plain": [
       "No     273\n",
       "Yes     27\n",
       "Name: Office 2, dtype: int64"
      ]
     },
     "execution_count": 124,
     "metadata": {},
     "output_type": "execute_result"
    }
   ],
   "source": [
    "data2.value_counts()"
   ]
  },
  {
   "cell_type": "code",
   "execution_count": null,
   "metadata": {},
   "outputs": [],
   "source": []
  }
 ],
 "metadata": {
  "kernelspec": {
   "display_name": "Python 3 (ipykernel)",
   "language": "python",
   "name": "python3"
  },
  "language_info": {
   "codemirror_mode": {
    "name": "ipython",
    "version": 3
   },
   "file_extension": ".py",
   "mimetype": "text/x-python",
   "name": "python",
   "nbconvert_exporter": "python",
   "pygments_lexer": "ipython3",
   "version": "3.9.12"
  },
  "toc": {
   "base_numbering": 1,
   "nav_menu": {},
   "number_sections": true,
   "sideBar": true,
   "skip_h1_title": false,
   "title_cell": "Table of Contents",
   "title_sidebar": "Contents",
   "toc_cell": false,
   "toc_position": {
    "height": "calc(100% - 180px)",
    "left": "10px",
    "top": "150px",
    "width": "256px"
   },
   "toc_section_display": true,
   "toc_window_display": true
  }
 },
 "nbformat": 4,
 "nbformat_minor": 2
}
