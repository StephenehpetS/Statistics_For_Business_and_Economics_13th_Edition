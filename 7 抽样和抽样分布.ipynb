{
 "cells": [
  {
   "cell_type": "markdown",
   "metadata": {},
   "source": [
    "# 抽样和抽样分布\n",
    "\n",
    "抽取样本的总体叫做抽样总体。抽样框是用于抽选样本的个体清单。"
   ]
  },
  {
   "cell_type": "code",
   "execution_count": 1,
   "metadata": {},
   "outputs": [],
   "source": [
    "import pandas as pd\n",
    "import numpy as np\n",
    "import matplotlib.pyplot as plt\n",
    "import seaborn as sns\n",
    "import scipy as sp\n",
    "from scipy import stats\n",
    "\n",
    "from pathlib import Path\n",
    "#设置数据文件夹路径\n",
    "DATA = Path().resolve() / 'data'\n",
    "eai = pd.read_csv(DATA / 'EAI.csv')"
   ]
  },
  {
   "cell_type": "code",
   "execution_count": 59,
   "metadata": {},
   "outputs": [
    {
     "data": {
      "image/png": "[encoded data removed]",
      "text/plain": [
       "<Figure size 432x288 with 1 Axes>"
      ]
     },
     "metadata": {
      "needs_background": "light"
     },
     "output_type": "display_data"
    }
   ],
   "source": [
    "x1 = eai.loc[eai['Training Program'] == 'Yes', 'Annual Salary']\n",
    "x2 = eai.loc[eai['Training Program'] == 'No', 'Annual Salary']\n",
    "\n",
    "bins = np.linspace(eai['Annual Salary'].min(), eai['Annual Salary'].max(), 100)\n",
    "\n",
    "meanIncome = eai['Annual Salary'].mean()\n",
    "x1meanIncome = x1.mean()\n",
    "x2meanIncome = x2.mean()\n",
    "\n",
    "plt.plot([meanIncome, meanIncome], [0, 50], color='r', linestyle='--')\n",
    "plt.plot([x1meanIncome, x1meanIncome], [0, 50], color='g', linestyle='--')\n",
    "plt.plot([x2meanIncome, x2meanIncome], [0, 50], color='b', linestyle='--')\n",
    "\n",
    "kwargs = dict(alpha=0.5, bins = bins)\n",
    "plt.hist(x1, **kwargs, color='g', label='Yes')\n",
    "plt.hist(x2, **kwargs, color='b', label='No')\n",
    "\n",
    "plt.show()"
   ]
  },
  {
   "cell_type": "markdown",
   "metadata": {},
   "source": [
    "# 抽样\n",
    "\n",
    "## 从有限总体抽样\n",
    "\n",
    "- 简单随机样本（有限总体）：从容量为 $N$ 的有限总体中抽取一个容量为 $n$ 的样本，如果容量为 $n$ 的每一个可能的样本都以相等的概率被抽出，则称该样本为简单随机样本\n",
    "- 无放回抽样：一个个体一旦被选入样本，就从总体中剔除，不能再次被选入样本\n",
    "- 有放回抽样：一个个体被选入样本后仍然放回总体中 先前被抽到的个体可能再次被选入样本 从而在样本中多次出现\n",
    "\n",
    "从容量为 $N$ 的有限总体中抽取一个容量为 $n$ 的样本的选法有：\n",
    "\n",
    "$$\\binom {N}{n} = \\frac {N!}{n!(N-n)!}$$\n",
    "\n",
    "\n",
    "## 从无限总体中的抽样\n",
    "\n",
    "从一个无限总体中抽取一个容量为 $n$ 的样本，满足下面的条件，即为随机样本（无限总体）：\n",
    "1. 抽取的每个个体来自同一总体\n",
    "2. 每个个体的抽取是独立的"
   ]
  },
  {
   "cell_type": "code",
   "execution_count": 60,
   "metadata": {},
   "outputs": [
    {
     "data": {
      "text/html": [
       "<div>\n",
       "<style scoped>\n",
       "    .dataframe tbody tr th:only-of-type {\n",
       "        vertical-align: middle;\n",
       "    }\n",
       "\n",
       "    .dataframe tbody tr th {\n",
       "        vertical-align: top;\n",
       "    }\n",
       "\n",
       "    .dataframe thead th {\n",
       "        text-align: right;\n",
       "    }\n",
       "</style>\n",
       "<table border=\"1\" class=\"dataframe\">\n",
       "  <thead>\n",
       "    <tr style=\"text-align: right;\">\n",
       "      <th></th>\n",
       "      <th>Manager</th>\n",
       "      <th>Annual Salary</th>\n",
       "      <th>Training Program</th>\n",
       "    </tr>\n",
       "  </thead>\n",
       "  <tbody>\n",
       "    <tr>\n",
       "      <th>1406</th>\n",
       "      <td>1407</td>\n",
       "      <td>58237.4</td>\n",
       "      <td>Yes</td>\n",
       "    </tr>\n",
       "    <tr>\n",
       "      <th>297</th>\n",
       "      <td>298</td>\n",
       "      <td>53036.3</td>\n",
       "      <td>Yes</td>\n",
       "    </tr>\n",
       "    <tr>\n",
       "      <th>1276</th>\n",
       "      <td>1277</td>\n",
       "      <td>51922.8</td>\n",
       "      <td>No</td>\n",
       "    </tr>\n",
       "    <tr>\n",
       "      <th>2368</th>\n",
       "      <td>2369</td>\n",
       "      <td>48539.7</td>\n",
       "      <td>No</td>\n",
       "    </tr>\n",
       "    <tr>\n",
       "      <th>438</th>\n",
       "      <td>439</td>\n",
       "      <td>54034.7</td>\n",
       "      <td>Yes</td>\n",
       "    </tr>\n",
       "  </tbody>\n",
       "</table>\n",
       "</div>"
      ],
      "text/plain": [
       "      Manager  Annual Salary Training Program\n",
       "1406     1407        58237.4              Yes\n",
       "297       298        53036.3              Yes\n",
       "1276     1277        51922.8               No\n",
       "2368     2369        48539.7               No\n",
       "438       439        54034.7              Yes"
      ]
     },
     "execution_count": 60,
     "metadata": {},
     "output_type": "execute_result"
    }
   ],
   "source": [
    "sample = eai.sample(n=30, random_state=1)\n",
    "sample.head()"
   ]
  },
  {
   "cell_type": "code",
   "execution_count": 61,
   "metadata": {},
   "outputs": [
    {
     "data": {
      "image/png": "[encoded data removed]",
      "text/plain": [
       "<Figure size 432x288 with 1 Axes>"
      ]
     },
     "metadata": {
      "needs_background": "light"
     },
     "output_type": "display_data"
    }
   ],
   "source": [
    "plt.hist(sample['Annual Salary'], bins = 10)\n",
    "plt.show()"
   ]
  },
  {
   "cell_type": "code",
   "execution_count": 62,
   "metadata": {},
   "outputs": [
    {
     "data": {
      "text/plain": [
       "30"
      ]
     },
     "execution_count": 62,
     "metadata": {},
     "output_type": "execute_result"
    }
   ],
   "source": [
    "sample['Annual Salary'].count()"
   ]
  },
  {
   "cell_type": "code",
   "execution_count": 63,
   "metadata": {},
   "outputs": [
    {
     "data": {
      "text/plain": [
       "52040.48333333332"
      ]
     },
     "execution_count": 63,
     "metadata": {},
     "output_type": "execute_result"
    }
   ],
   "source": [
    "sample['Annual Salary'].mean()"
   ]
  },
  {
   "cell_type": "code",
   "execution_count": 64,
   "metadata": {},
   "outputs": [
    {
     "data": {
      "text/plain": [
       "3201.572833950831"
      ]
     },
     "execution_count": 64,
     "metadata": {},
     "output_type": "execute_result"
    }
   ],
   "source": [
    "sample['Annual Salary'].std()"
   ]
  },
  {
   "cell_type": "code",
   "execution_count": 65,
   "metadata": {},
   "outputs": [
    {
     "data": {
      "text/html": [
       "<div>\n",
       "<style scoped>\n",
       "    .dataframe tbody tr th:only-of-type {\n",
       "        vertical-align: middle;\n",
       "    }\n",
       "\n",
       "    .dataframe tbody tr th {\n",
       "        vertical-align: top;\n",
       "    }\n",
       "\n",
       "    .dataframe thead th {\n",
       "        text-align: right;\n",
       "    }\n",
       "</style>\n",
       "<table border=\"1\" class=\"dataframe\">\n",
       "  <thead>\n",
       "    <tr style=\"text-align: right;\">\n",
       "      <th></th>\n",
       "      <th>Manager</th>\n",
       "      <th>Annual Salary</th>\n",
       "    </tr>\n",
       "    <tr>\n",
       "      <th>Training Program</th>\n",
       "      <th></th>\n",
       "      <th></th>\n",
       "    </tr>\n",
       "  </thead>\n",
       "  <tbody>\n",
       "    <tr>\n",
       "      <th>No</th>\n",
       "      <td>11</td>\n",
       "      <td>11</td>\n",
       "    </tr>\n",
       "    <tr>\n",
       "      <th>Yes</th>\n",
       "      <td>19</td>\n",
       "      <td>19</td>\n",
       "    </tr>\n",
       "  </tbody>\n",
       "</table>\n",
       "</div>"
      ],
      "text/plain": [
       "                  Manager  Annual Salary\n",
       "Training Program                        \n",
       "No                     11             11\n",
       "Yes                    19             19"
      ]
     },
     "execution_count": 65,
     "metadata": {},
     "output_type": "execute_result"
    }
   ],
   "source": [
    "sample.groupby(['Training Program']).count()"
   ]
  },
  {
   "cell_type": "code",
   "execution_count": 66,
   "metadata": {},
   "outputs": [
    {
     "data": {
      "text/plain": [
       "Training Program\n",
       "No     51389.136364\n",
       "Yes    52417.578947\n",
       "Name: Annual Salary, dtype: float64"
      ]
     },
     "execution_count": 66,
     "metadata": {},
     "output_type": "execute_result"
    }
   ],
   "source": [
    "sample.groupby(['Training Program'])['Annual Salary'].mean()"
   ]
  },
  {
   "cell_type": "code",
   "execution_count": 67,
   "metadata": {},
   "outputs": [
    {
     "data": {
      "text/plain": [
       "Training Program\n",
       "No     2880.879343\n",
       "Yes    3390.253426\n",
       "Name: Annual Salary, dtype: float64"
      ]
     },
     "execution_count": 67,
     "metadata": {},
     "output_type": "execute_result"
    }
   ],
   "source": [
    "sample.groupby(['Training Program'])['Annual Salary'].std()"
   ]
  },
  {
   "cell_type": "markdown",
   "metadata": {},
   "source": [
    "# 点估计\n",
    "- 样本总计量：一种样本特征，如样本均值 $\\bar x$、样本标准差 $s$、样本比率 $\\bar p$\n",
    "- 样本统计量的值用于估计相应总体参数\n",
    "- 点估计量：提供总体参数点估计的样本统计量 如 $\\bar x$、$s$ 或 $\\bar p$\n",
    "- 点估计值：点估计量的值，在一个特定的实例中用来作为总体参数的估计值\n",
    "- 目标总体：进行统计推断的总体 目标总体应该是与相应的抽样总体尽可能多的相似"
   ]
  },
  {
   "cell_type": "markdown",
   "metadata": {},
   "source": [
    "# 抽样分布简介\n",
    "\n",
    "- 抽样分布：一个样本统计量所可能值构成的概率分布\n",
    "- 在不同的简单随机样本中 $\\bar x$的取值也有各种各样的可能的结果，称 $\\bar x$ 的概率分布为 $\\bar x$ 的抽样分布\n",
    "\n",
    "## $\\bar x$的数学期望\n",
    "$$E(\\bar{x}) = \\mu$$\n",
    "- $E(\\bar{x})$ 为 $\\bar{x}$ 的数学期望\n",
    "- $\\mu$ 为总体均值\n",
    "\n",
    "## $\\bar x$ 的标准差\n",
    "\n",
    "有限总体：\n",
    "\n",
    "$$\\sigma_{\\bar x} = \\frac{\\sigma}{\\sqrt n} \\times \\sqrt{\\frac {N-n}{N-1}}$$\n",
    "\n",
    "其中：\n",
    "- $\\sigma_{\\bar{x}}$ 是 $\\bar{x}$ 的标准差\n",
    "- $\\sigma$ 是总体的标准差\n",
    "- $n$ 样本容量\n",
    "- $N$ 总体容量\n",
    "- $\\sqrt{\\frac {N-n}{N-1}}$ 是有限总体修正系数\n",
    "\n",
    "无限总体条件：\n",
    "1. 总体是无限的\n",
    "2. 总体是有限的，但样本容量不大于总体容量的 5% 即 $\\displaystyle \\frac{n}{N} \\le 0.05$\n",
    "\n",
    "无限总体标准差公式：\n",
    "$$\\sigma_{\\bar x} = \\frac{\\sigma}{\\sqrt n}$$\n",
    "\n",
    "## $\\bar x$ 的抽样分布\n",
    "\n",
    "总体服从正态分布\n",
    "\n",
    "总体不服从正态分布：借助中心极限定理确定 $\\bar{x} 抽样分布的形状$"
   ]
  },
  {
   "cell_type": "markdown",
   "metadata": {},
   "source": [
    "## 描述统计与推断统计\n",
    "\n",
    "在介绍正态分布之前，我们先要理解描述统计和推断统计的区别：\n",
    "\n",
    "### 描述统计\n",
    "\n",
    "研究者从样本中收集数据，有时候只是想了解样本的特征。\n",
    "\n",
    "例如，我想考察100个在校大学生的饮食习惯，就选择了100名学生，询问他们吃什么，然后将数据加以汇总。\n",
    "\n",
    "从这些数据中能够得到的统计量包括样本中100名学生每天消耗的平均卡路里数、最常吃的食品、食品的种类等等。\n",
    "\n",
    "所有这些统计量只是描述样本的特征，因此称为描述统计(descriptive statistics)。\n",
    "\n",
    "描述统计一般只用来描述一个具体的样本。如果我们关心的只是描述一个具体样本，那么样本取值是否服从正态分布都无关紧要。\n",
    "\n",
    "第一部分（除了最后的通过 $z$ 分数推测百分位之外）所涉及的内容，都是描述统计。\n",
    "\n",
    "$z$ 分数推测服从正态分布数据的百分位，就是推断统计最典型的应用场景。\n",
    "\n",
    "### 推断统计\n",
    "\n",
    "然而，很多时候研究者想做的不只是描述一个样本。\n",
    "\n",
    "有时候他们想知道样本中随机出现某种情形的准确概率。\n",
    "\n",
    "例如，样本中的学生平均每日消耗2000卡路里，样本中包括一个每日消耗5 000卡路里学生的机会或概率有多大?\n",
    "\n",
    "正态分布的三个性质在统计学中都很重要，因为有助于正确使用概率统计量( probability statistics)。\n",
    "\n",
    "除此之外，研究者们通常想要根据从样本(sample)中收集的数据来推断总体( population)。\n",
    "\n",
    "推断统计(inferential statistics) 用于决定样本中观测到的一些现象是否代表了从中抽样总体的一种实际现象。\n",
    "\n",
    "例如，首先提出一个假设，认为总体中男女每日消耗卡路里数平均而言无差异。\n",
    "\n",
    "这个无差异假设就是所谓的零假设(null hypothesis)。\n",
    "\n",
    "现在假定我选取了一个男生样本和一个女生样本，比较他们各自平均每日消耗的卡路里数，发现男生的平均每日消耗量比女生多了200卡路里。给定无差异的零假设，随机发现如此大的样本间差异的概率是多大?\n",
    "\n",
    "计算这些概率，就需要用到正态分布。统计学家利用正态分布的性质能够计算出准确的既率统计量。\n",
    "\n",
    "\n",
    "## 均值的抽样分布\n",
    "\n",
    "在正态分布之前，我们先看一下，我们日常会遇到的分布长什么样\n",
    "\n",
    "下面我们使用 Lending Club 公司贷款申请人的年收入数据为例，查看数据分布情况是怎样的。"
   ]
  },
  {
   "cell_type": "code",
   "execution_count": 80,
   "metadata": {},
   "outputs": [
    {
     "data": {
      "image/png": "[encoded data removed]",
      "text/plain": [
       "<Figure size 288x144 with 1 Axes>"
      ]
     },
     "metadata": {
      "needs_background": "light"
     },
     "output_type": "display_data"
    }
   ],
   "source": [
    "LOANS_INCOME_CSV = DATA / 'loans_income.csv'\n",
    "loans_income = pd.read_csv(LOANS_INCOME_CSV).squeeze(\"columns\")\n",
    "\n",
    "g = sns.FacetGrid(sample_data, col='type', col_wrap=1, height=2, aspect=2)\n",
    "g.map(plt.hist, 'income', range=[loans_income.min(), loans_income.max()], bins=40)\n",
    "g.set_axis_labels('Income', 'Count')\n",
    "g.set_titles('{col_name}')\n",
    "\n",
    "plt.tight_layout()\n",
    "plt.show()"
   ]
  },
  {
   "cell_type": "markdown",
   "metadata": {},
   "source": [
    "可以看到，原始数据的分布其实并没有什么“规律”可循，遇到数据的实际分布不服从正态分布的话，我们应该怎么办？\n",
    "\n",
    "我们可以尝试对数据进行抽样，下面会对对数据进行抽样，返回的结果。\n",
    "\n",
    "从一个总体中选取给定容量的随机样本，最终形成关于均值的一个抽样分布，在统计学上被称为**均值的抽样分布**。"
   ]
  },
  {
   "cell_type": "code",
   "execution_count": 77,
   "metadata": {},
   "outputs": [
    {
     "data": {
      "text/html": [
       "<div>\n",
       "<style scoped>\n",
       "    .dataframe tbody tr th:only-of-type {\n",
       "        vertical-align: middle;\n",
       "    }\n",
       "\n",
       "    .dataframe tbody tr th {\n",
       "        vertical-align: top;\n",
       "    }\n",
       "\n",
       "    .dataframe thead th {\n",
       "        text-align: right;\n",
       "    }\n",
       "</style>\n",
       "<table border=\"1\" class=\"dataframe\">\n",
       "  <thead>\n",
       "    <tr style=\"text-align: right;\">\n",
       "      <th></th>\n",
       "      <th>income</th>\n",
       "      <th>type</th>\n",
       "    </tr>\n",
       "  </thead>\n",
       "  <tbody>\n",
       "    <tr>\n",
       "      <th>30776</th>\n",
       "      <td>136750.0</td>\n",
       "      <td>Data</td>\n",
       "    </tr>\n",
       "    <tr>\n",
       "      <th>1494</th>\n",
       "      <td>90000.0</td>\n",
       "      <td>Data</td>\n",
       "    </tr>\n",
       "    <tr>\n",
       "      <th>48228</th>\n",
       "      <td>70000.0</td>\n",
       "      <td>Data</td>\n",
       "    </tr>\n",
       "    <tr>\n",
       "      <th>8931</th>\n",
       "      <td>36000.0</td>\n",
       "      <td>Data</td>\n",
       "    </tr>\n",
       "    <tr>\n",
       "      <th>2925</th>\n",
       "      <td>32000.0</td>\n",
       "      <td>Data</td>\n",
       "    </tr>\n",
       "  </tbody>\n",
       "</table>\n",
       "</div>"
      ],
      "text/plain": [
       "         income  type\n",
       "30776  136750.0  Data\n",
       "1494    90000.0  Data\n",
       "48228   70000.0  Data\n",
       "8931    36000.0  Data\n",
       "2925    32000.0  Data"
      ]
     },
     "execution_count": 77,
     "metadata": {},
     "output_type": "execute_result"
    }
   ],
   "source": [
    "sample_data = pd.DataFrame({\n",
    "    'income': loans_income.sample(1000),\n",
    "    'type': 'Data',\n",
    "})\n",
    "\n",
    "sample_mean_05 = pd.DataFrame({\n",
    "    'income': [loans_income.sample(5).mean() for _ in range(1000)],\n",
    "    'type': 'Mean of 5',\n",
    "})\n",
    "\n",
    "sample_mean_20 = pd.DataFrame({\n",
    "    'income': [loans_income.sample(20).mean() for _ in range(1000)],\n",
    "    'type': 'Mean of 20',\n",
    "})\n",
    "\n",
    "results = pd.concat([sample_data, sample_mean_05, sample_mean_20])\n",
    "results.head()"
   ]
  },
  {
   "cell_type": "code",
   "execution_count": 81,
   "metadata": {},
   "outputs": [
    {
     "data": {
      "image/png": "[encoded data removed]",
      "text/plain": [
       "<Figure size 288x432 with 3 Axes>"
      ]
     },
     "metadata": {
      "needs_background": "light"
     },
     "output_type": "display_data"
    }
   ],
   "source": [
    "g = sns.FacetGrid(results, col='type', col_wrap=1, height=2, aspect=2)\n",
    "g.map(plt.hist, 'income', range=[loans_income.min(), loans_income.max()], bins=40)\n",
    "g.set_axis_labels('Income', 'Count')\n",
    "g.set_titles('{col_name}')\n",
    "\n",
    "plt.tight_layout()\n",
    "plt.show()"
   ]
  },
  {
   "cell_type": "markdown",
   "metadata": {},
   "source": [
    "我们会发现：\n",
    "- 随着抽样的样本个数增加，均值的抽样分布会越集中\n",
    "- 即使样本取值分布不是正态分布，均值的抽样分布也服从正态分布\n",
    "\n",
    "## 中心极限定理\n",
    "\n",
    "上面的这个例子，其实就是著名的**中心极限定理**的具体应用。\n",
    "\n",
    "- 即使样本取值分布不是正态分布，只要样本容量足够大 $(n>30)$，均值的抽样分布也服从正态分布\n",
    "- 即使样本对象少于 30 个，只要样本数量超过 10 个，那么均值的抽样分布也近似正态。\n",
    "\n",
    "如果你觉得这个演示不够生动活泼，可以看这里：[Central Limit Theorem](https://charts.upgrad.com/distributions/index.html#third)，手动设置以下参数：\n",
    "- $\\large \\alpha$ = 1.20，$\\large \\beta$ = 5.00，Samples:15，Draws:100\n",
    "- $\\large \\alpha$ = 5.00，$\\large \\beta$ = 1.20，Samples:15，Draws:100\n",
    "\n",
    "可以发现，无论我们如何改变 $\\large \\alpha$ 和 $\\large \\beta$ ，均值的抽样分布都服从正态分布。\n",
    "\n",
    "下面的代码来自《用Python动手学统计学》"
   ]
  },
  {
   "cell_type": "code",
   "execution_count": null,
   "metadata": {},
   "outputs": [],
   "source": [
    "# 总体服从均值为 4 标准差为 0.8 的正态分布\n",
    "population = stats.norm(loc = 4, scale = 0.8)\n",
    "# 存放均值的容器\n",
    "sample_mean_array = np.zeros(10000)\n",
    "# 抽取 10 个数据并计算均值, 此操作重复 10,000 次\n",
    "np.random.seed(1)\n",
    "for i in range(0, 10000):\n",
    "    sample = population.rvs(size = 10)\n",
    "    sample_mean_array[i] = np.mean(sample)\n",
    "sample_mean_array"
   ]
  },
  {
   "cell_type": "code",
   "execution_count": null,
   "metadata": {},
   "outputs": [],
   "source": [
    "# 样本均值的均值\n",
    "np.mean(sample_mean_array)"
   ]
  },
  {
   "cell_type": "code",
   "execution_count": 7,
   "metadata": {},
   "outputs": [
    {
     "data": {
      "text/plain": [
       "0.2513580850860402"
      ]
     },
     "execution_count": 7,
     "metadata": {},
     "output_type": "execute_result"
    }
   ],
   "source": [
    "# 样本均值的标准差\n",
    "np.std(sample_mean_array, ddof = 1)"
   ]
  },
  {
   "cell_type": "code",
   "execution_count": 10,
   "metadata": {},
   "outputs": [
    {
     "data": {
      "text/plain": [
       "<AxesSubplot:ylabel='Count'>"
      ]
     },
     "execution_count": 10,
     "metadata": {},
     "output_type": "execute_result"
    },
    {
     "data": {
      "image/png": "[encoded data removed]",
      "text/plain": [
       "<Figure size 432x288 with 1 Axes>"
      ]
     },
     "metadata": {
      "needs_background": "light"
     },
     "output_type": "display_data"
    }
   ],
   "source": [
    "# 样本均值的样本分布\n",
    "sns.histplot(sample_mean_array)"
   ]
  },
  {
   "cell_type": "code",
   "execution_count": 11,
   "metadata": {},
   "outputs": [
    {
     "data": {
      "text/plain": [
       "array([    10,    110,    210, ...,  99810,  99910, 100010])"
      ]
     },
     "execution_count": 11,
     "metadata": {},
     "output_type": "execute_result"
    }
   ],
   "source": [
    "# 公差是 100 的样本容量, 范围是 10 到 100,010\n",
    "size_array =  np.arange(\n",
    "    start = 10, stop = 100100, step = 100)\n",
    "size_array"
   ]
  },
  {
   "cell_type": "code",
   "execution_count": 12,
   "metadata": {},
   "outputs": [],
   "source": [
    "# 存放样本均值的容器\n",
    "sample_mean_array_size = np.zeros(len(size_array))"
   ]
  },
  {
   "cell_type": "code",
   "execution_count": 14,
   "metadata": {},
   "outputs": [],
   "source": [
    "# 改变样本容量的同时计算样本均值\n",
    "np.random.seed(1)\n",
    "for i in range(0, len(size_array)):\n",
    "    sample = population.rvs(size = size_array[i])\n",
    "    sample_mean_array_size[i] = np.mean(sample)"
   ]
  },
  {
   "cell_type": "code",
   "execution_count": 15,
   "metadata": {},
   "outputs": [
    {
     "data": {
      "text/plain": [
       "Text(0, 0.5, 'sample mean')"
      ]
     },
     "execution_count": 15,
     "metadata": {},
     "output_type": "execute_result"
    },
    {
     "data": {
      "image/png": "[encoded data removed]",
      "text/plain": [
       "<Figure size 432x288 with 1 Axes>"
      ]
     },
     "metadata": {
      "needs_background": "light"
     },
     "output_type": "display_data"
    }
   ],
   "source": [
    "plt.plot(size_array, sample_mean_array_size)\n",
    "plt.xlabel(\"sample size\")\n",
    "plt.ylabel(\"sample mean\")"
   ]
  },
  {
   "cell_type": "code",
   "execution_count": 19,
   "metadata": {},
   "outputs": [],
   "source": [
    "# 用于计算样本均值的函数\n",
    "def calc_sample_mean(size, n_trial):\n",
    "    sample_mean_array = np.zeros(n_trial)\n",
    "    for i in range(0, n_trial):\n",
    "        sample = population.rvs(size = size)\n",
    "        sample_mean_array[i] = np.mean(sample)\n",
    "    return(sample_mean_array)"
   ]
  },
  {
   "cell_type": "code",
   "execution_count": 20,
   "metadata": {},
   "outputs": [
    {
     "data": {
      "text/plain": [
       "4.004202422791747"
      ]
     },
     "execution_count": 20,
     "metadata": {},
     "output_type": "execute_result"
    }
   ],
   "source": [
    "# 验证函数功能\n",
    "# 抽取 10 个数据并计算均值, 此操作重复 10,000 次, 再求这 10,000 个结果的均值\n",
    "np.random.seed(1)\n",
    "np.mean(calc_sample_mean(size = 10, n_trial = 10000))"
   ]
  },
  {
   "cell_type": "markdown",
   "metadata": {},
   "source": [
    "### 不同样本容量所得的样本均值的分布"
   ]
  },
  {
   "cell_type": "code",
   "execution_count": 21,
   "metadata": {},
   "outputs": [
    {
     "name": "stdout",
     "output_type": "stream",
     "text": [
      "   sample_mean     size\n",
      "0     3.922287  size 10\n",
      "1     3.864329  size 10\n",
      "2     4.069530  size 10\n",
      "3     3.857140  size 10\n",
      "4     4.184654  size 10\n"
     ]
    }
   ],
   "source": [
    "np.random.seed(1)\n",
    "# 样本容量 10\n",
    "size_10 = calc_sample_mean(size = 10, n_trial = 10000)\n",
    "size_10_df = pd.DataFrame({\n",
    "    \"sample_mean\":size_10,\n",
    "    \"size\"       :np.tile(\"size 10\", 10000)\n",
    "})\n",
    "# 样本容量 20\n",
    "size_20 = calc_sample_mean(size = 20, n_trial = 10000)\n",
    "size_20_df = pd.DataFrame({\n",
    "    \"sample_mean\":size_20,\n",
    "    \"size\"       :np.tile(\"size 20\", 10000)\n",
    "})\n",
    "# 样本容量 30\n",
    "size_30 = calc_sample_mean(size = 30, n_trial = 10000)\n",
    "size_30_df = pd.DataFrame({\n",
    "    \"sample_mean\":size_30,\n",
    "    \"size\"       :np.tile(\"size 30\", 10000)\n",
    "})\n",
    "\n",
    "# 拼接表格\n",
    "sim_result = pd.concat(\n",
    "    [size_10_df, size_20_df, size_30_df])\n",
    "\n",
    "# 打印结果\n",
    "print(sim_result.head())"
   ]
  },
  {
   "cell_type": "code",
   "execution_count": 22,
   "metadata": {},
   "outputs": [
    {
     "data": {
      "text/plain": [
       "<AxesSubplot:xlabel='size', ylabel='sample_mean'>"
      ]
     },
     "execution_count": 22,
     "metadata": {},
     "output_type": "execute_result"
    },
    {
     "data": {
      "image/png": "[encoded data removed]",
      "text/plain": [
       "<Figure size 432x288 with 1 Axes>"
      ]
     },
     "metadata": {
      "needs_background": "light"
     },
     "output_type": "display_data"
    }
   ],
   "source": [
    "sns.violinplot(x = \"size\", y = \"sample_mean\", data = sim_result)"
   ]
  },
  {
   "cell_type": "markdown",
   "metadata": {},
   "source": [
    "### 样本容量越大，其无偏方差越接近总体方差"
   ]
  },
  {
   "cell_type": "code",
   "execution_count": 23,
   "metadata": {},
   "outputs": [
    {
     "data": {
      "text/plain": [
       "array([    10,    110,    210, ...,  99810,  99910, 100010])"
      ]
     },
     "execution_count": 23,
     "metadata": {},
     "output_type": "execute_result"
    }
   ],
   "source": [
    "# 公差为 100 的样本容量, 范围是 10 到 100,010\n",
    "size_array =  np.arange(start = 10, stop = 100100, step = 100)\n",
    "size_array"
   ]
  },
  {
   "cell_type": "code",
   "execution_count": 24,
   "metadata": {},
   "outputs": [],
   "source": [
    "# 存放无偏方差的容器\n",
    "unbias_var_array_size = np.zeros(len(size_array))"
   ]
  },
  {
   "cell_type": "code",
   "execution_count": 25,
   "metadata": {},
   "outputs": [],
   "source": [
    "# 在样本容量变化的同时反复计算样本的无偏方差\n",
    "np.random.seed(1)\n",
    "for i in range(0, len(size_array)):\n",
    "    sample = population.rvs(size = size_array[i])\n",
    "    unbias_var_array_size[i] = np.var(sample, ddof = 1)"
   ]
  },
  {
   "cell_type": "code",
   "execution_count": 26,
   "metadata": {},
   "outputs": [
    {
     "data": {
      "text/plain": [
       "Text(0, 0.5, 'unbias var')"
      ]
     },
     "execution_count": 26,
     "metadata": {},
     "output_type": "execute_result"
    },
    {
     "data": {
      "image/png": "[encoded data removed]",
      "text/plain": [
       "<Figure size 432x288 with 1 Axes>"
      ]
     },
     "metadata": {
      "needs_background": "light"
     },
     "output_type": "display_data"
    }
   ],
   "source": [
    "plt.plot(size_array, unbias_var_array_size)\n",
    "plt.xlabel(\"sample size\")\n",
    "plt.ylabel(\"unbias var\")"
   ]
  },
  {
   "cell_type": "markdown",
   "metadata": {},
   "source": [
    "### 中心极限定理"
   ]
  },
  {
   "cell_type": "code",
   "execution_count": 28,
   "metadata": {},
   "outputs": [
    {
     "data": {
      "text/plain": [
       "<AxesSubplot:ylabel='Count'>"
      ]
     },
     "execution_count": 28,
     "metadata": {},
     "output_type": "execute_result"
    },
    {
     "data": {
      "image/png": "[encoded data removed]",
      "text/plain": [
       "<Figure size 432x288 with 1 Axes>"
      ]
     },
     "metadata": {
      "needs_background": "light"
     },
     "output_type": "display_data"
    }
   ],
   "source": [
    "# 样本容量与试验次数\n",
    "n_size  = 10000\n",
    "n_trial = 50000\n",
    "# 正面为 1, 背面为 0\n",
    "coin = np.array([0,1])\n",
    "# 出现正面的次数\n",
    "count_coin = np.zeros(n_trial)\n",
    "# 投 n_size 次硬币, 此实验进行 n_trial 次\n",
    "np.random.seed(1)\n",
    "for i in range(0, n_trial):\n",
    "    count_coin[i] = np.sum(\n",
    "        np.random.choice(coin, size = n_size, replace = True))\n",
    "# 绘出直方图\n",
    "sns.histplot(count_coin)"
   ]
  },
  {
   "cell_type": "markdown",
   "metadata": {},
   "source": [
    "# $\\bar p$ 的抽样分布\n",
    "\n",
    "样本比率 $\\bar p$ 是总体比率 $p$ 的点估计\n",
    "\n",
    "样本比率的计算公式为\n",
    "\n",
    "$$\\bar p = \\frac {x}{n}$$\n",
    "\n",
    "$\\bar p$ 的抽样分布：$\\bar p$ 的抽样分布是样本比率 $\\bar p$ 的所有可能值的概率分布\n",
    "\n",
    "$\\bar p$的数学期望是$\\bar p$的所有可能值的均值，与总体比率$p$相等\n",
    "\n",
    "$$E(\\bar p) = p$$\n",
    "\n",
    "$\\bar p$的标准差\n",
    "\n",
    "有限总体\n",
    "$$\\sigma_{\\bar p} = \\sqrt{\\frac {N-n}{N-1}}\\sqrt{\\frac {p(1-p)}{n}}$$\n",
    "\n",
    "无限总体\n",
    "$$\\sigma_{\\bar p} = \\sqrt{\\frac {p(1-p)}{n}}$$\n",
    "\n",
    "## $\\bar p$ 的抽样分布的形态\n",
    "\n",
    "由于已知在 $np \\geq 5$ 和 $n(1-p) \\geq 5$ 的情况下，正态分布是对二项分布的一个简便易行的近似。\n",
    "\n",
    "当使用正态分布近似二项分布时，正态曲线中取 $\\mu=np$ 和 $\\sigma = \\sqrt{np(1-p)}$\n",
    "\n",
    "因此 $\\bar p$ 的抽样分布可以用正态分布近似。"
   ]
  },
  {
   "cell_type": "markdown",
   "metadata": {},
   "source": [
    "# 点估计的性质\n",
    "\n",
    "$\\theta$：感兴趣的总体参数，如总体均值、总体标准差、总体比率\n",
    "\n",
    "$\\hat{\\theta}$：样本统计量或 $\\theta$ 的点估计量，如样本均值、样本标准差和样本比率\n",
    "\n",
    "## 无偏性\n",
    "\n",
    "如果样本统计量的数学期望值等于所估计的总体参数，则称该样本统计量是相应总体参数的无偏估计量：\n",
    "\n",
    "样本统计量 $\\hat{\\theta}$ 是总体参数 $\\theta$ 的无偏估计量：\n",
    "\n",
    "$$E(\\hat{\\theta}) = \\theta$$\n",
    "\n",
    "其中 $E(\\hat{\\theta})$ 代表样本统计量 $\\hat{\\theta}$ 的数学期望。\n",
    "\n",
    "## 有效性\n",
    "\n",
    "假定一个简单随机样本由 $n$ 个个体组成，给出了总体同一参数的两个不同的无偏点估计量。这时，我们倾向于采用标准误差较小的点估计量，因为它给出的估计值与总体参数更接近。\n",
    "\n",
    "称有较小标准误差的点估计量比其他点估计量更相对有效（relative efficiency）。\n",
    "\n",
    "## 一致性\n",
    "\n",
    "一个好的点估计应该具备的第三条性质是一致性（consistency）。\n",
    "\n",
    "粗略地讲，如果随着样本容量的增大，点估计量的值与总体参数越来越接近，则称该点估计量是一致的。换言之，大样本情形比小样本情形更易于得到一个好的点估计。\n",
    "\n",
    "注意，对样本均值，我们可以证明 $\\bar{x}$ 的标准误差 $\\sigma_{\\bar{x}}=\\frac{\\sigma}{\\sqrt{n}}$。\n",
    "\n",
    "由于 $\\sigma_{\\bar{x}}$ 与样本容量相关，样本容量越大 $\\sigma_{\\bar{x}}$ 值越小，\n",
    "\n",
    "因此我们得出结论，大样本容量下所给出的点估计与总体均值更接近。从这个意义上，我们可以说样本均值是总体均值的一个一致估计量。\n",
    "\n",
    "同理，我们也可以得出结论，样本比率 $\\hat{p}$ 是总体比率 $p$ 的一个一致估计量。"
   ]
  },
  {
   "cell_type": "code",
   "execution_count": null,
   "metadata": {},
   "outputs": [],
   "source": []
  }
 ],
 "metadata": {
  "kernelspec": {
   "display_name": "Python 3 (ipykernel)",
   "language": "python",
   "name": "python3"
  },
  "language_info": {
   "codemirror_mode": {
    "name": "ipython",
    "version": 3
   },
   "file_extension": ".py",
   "mimetype": "text/x-python",
   "name": "python",
   "nbconvert_exporter": "python",
   "pygments_lexer": "ipython3",
   "version": "3.9.12"
  },
  "toc": {
   "base_numbering": 1,
   "nav_menu": {},
   "number_sections": true,
   "sideBar": true,
   "skip_h1_title": false,
   "title_cell": "Table of Contents",
   "title_sidebar": "Contents",
   "toc_cell": false,
   "toc_position": {
    "height": "calc(100% - 180px)",
    "left": "10px",
    "top": "150px",
    "width": "256px"
   },
   "toc_section_display": true,
   "toc_window_display": true
  }
 },
 "nbformat": 4,
 "nbformat_minor": 2
}
